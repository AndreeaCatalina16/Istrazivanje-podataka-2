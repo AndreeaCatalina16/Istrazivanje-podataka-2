{
 "cells": [
  {
   "cell_type": "code",
   "execution_count": 2,
   "id": "bd94ad1b",
   "metadata": {},
   "outputs": [
    {
     "name": "stdout",
     "output_type": "stream",
     "text": [
      "Izdvojene sekvence su sacuvane u fajlu: /home/user/Desktop/Istrazivanje-podataka-2/Podaci/izdvojeno_proteini_ebola.fasta\n"
     ]
    }
   ],
   "source": [
    "from Bio import SeqIO\n",
    "\n",
    "proteins_of_interest = [\"spike glycoprotein\", \"matrix\", \"nucleoprotein\"]\n",
    "\n",
    "\n",
    "input_fasta = \"/home/user/Desktop/Istrazivanje-podataka-2/Podaci/sequences_ebola.fasta\" \n",
    "output_fasta = \"/home/user/Desktop/Istrazivanje-podataka-2/Podaci/izdvojeno_proteini_ebola.fasta\" \n",
    "\n",
    "\n",
    "with open(input_fasta, \"r\") as input_handle, open(output_fasta, \"w\") as output_handle:\n",
    "   \n",
    "    for record in SeqIO.parse(input_handle, \"fasta\"):\n",
    "        \n",
    "        if any(protein in record.description.lower() for protein in proteins_of_interest):\n",
    "            \n",
    "            SeqIO.write(record, output_handle, \"fasta\")\n",
    "\n",
    "print(f\"Izdvojene sekvence su sacuvane u fajlu: {output_fasta}\")\n"
   ]
  },
  {
   "cell_type": "code",
   "execution_count": null,
   "id": "0f6866c8",
   "metadata": {},
   "outputs": [],
   "source": []
  }
 ],
 "metadata": {
  "kernelspec": {
   "display_name": "Python 3 (ipykernel)",
   "language": "python",
   "name": "python3"
  },
  "language_info": {
   "codemirror_mode": {
    "name": "ipython",
    "version": 3
   },
   "file_extension": ".py",
   "mimetype": "text/x-python",
   "name": "python",
   "nbconvert_exporter": "python",
   "pygments_lexer": "ipython3",
   "version": "3.8.10"
  }
 },
 "nbformat": 4,
 "nbformat_minor": 5
}
