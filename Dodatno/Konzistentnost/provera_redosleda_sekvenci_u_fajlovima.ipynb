{
 "cells": [
  {
   "cell_type": "code",
   "execution_count": 2,
   "id": "676eb91b",
   "metadata": {},
   "outputs": [
    {
     "name": "stdout",
     "output_type": "stream",
     "text": [
      "ISUNSTRUCT CSV fajl ima 438778 redova i 5 kolona.\n",
      "IUPRED3 CSV fajl ima 438778 redova i 5 kolona.\n",
      "VSL2B CSV fajl ima 438778 redova i 5 kolona.\n"
     ]
    }
   ],
   "source": [
    "import pandas as pd\n",
    "\n",
    "isunstruct_df = pd.read_csv('/home/user/Desktop/IP2/IsUnstruct_2.02/isunstruct_results.csv')\n",
    "iupred_df = pd.read_csv('iupred_results_marburg.csv')\n",
    "vsl2b_df = pd.read_csv('vsl2b_results_marburg.csv')\n",
    "\n",
    "# Provera broja redova i kolona u svakom fajlu\n",
    "print(f\"ISUNSTRUCT CSV fajl ima {isunstruct_df.shape[0]} redova i {isunstruct_df.shape[1]} kolona.\")\n",
    "print(f\"IUPRED3 CSV fajl ima {iupred_df.shape[0]} redova i {iupred_df.shape[1]} kolona.\")\n",
    "print(f\"VSL2B CSV fajl ima {vsl2b_df.shape[0]} redova i {vsl2b_df.shape[1]} kolona.\")\n"
   ]
  },
  {
   "cell_type": "code",
   "execution_count": 3,
   "id": "87989900",
   "metadata": {},
   "outputs": [
    {
     "name": "stdout",
     "output_type": "stream",
     "text": [
      "Pozicije koje nedostaju u ISUNSTRUCT:\n",
      "Empty DataFrame\n",
      "Columns: [Aminokiselina, Pozicija, _merge]\n",
      "Index: []\n"
     ]
    }
   ],
   "source": [
    "# pronalazimo redove koji postoje u IUPRED3 i VSL2B, ali ne i u ISUNSTRUCT\n",
    "missing_in_isunstruct = pd.merge(iupred_df[['Aminokiselina', 'Pozicija']],\n",
    "                                  isunstruct_df[['Aminokiselina', 'Pozicija']],\n",
    "                                  on=['Aminokiselina', 'Pozicija'], \n",
    "                                  how='left', indicator=True).query('_merge == \"left_only\"')\n",
    "\n",
    "print(\"Pozicije koje nedostaju u ISUNSTRUCT:\")\n",
    "print(missing_in_isunstruct)\n"
   ]
  },
  {
   "cell_type": "markdown",
   "id": "946ffe63",
   "metadata": {},
   "source": [
    "Provera da li imamo iste aminokiseline na istim pozicijama i u istom redosledu u sva tri fajla"
   ]
  },
  {
   "cell_type": "code",
   "execution_count": 5,
   "id": "2d713a36",
   "metadata": {},
   "outputs": [
    {
     "name": "stdout",
     "output_type": "stream",
     "text": [
      "ISUNSTRUCT kolone: Index(['Ime fajla', 'Pozicija', 'Aminokiselina', 'IsUnstruct rezultat',\n",
      "       'Klasifikacija'],\n",
      "      dtype='object')\n",
      "IUPRED kolone: Index(['Ime fajla', 'Pozicija', 'Aminokiselina', 'IUPRED3 rezultat',\n",
      "       'Klasifikacija'],\n",
      "      dtype='object')\n",
      "VSL2B kolone: Index(['Ime fajla', 'Pozicija', 'Aminokiselina', 'VSL2B rezultat',\n",
      "       'Klasifikacija'],\n",
      "      dtype='object')\n",
      "Svi fajlovi imaju iste aminokiseline na istim pozicijama i u istom redosledu!\n"
     ]
    }
   ],
   "source": [
    "# ucitavanje CSV fajlova\n",
    "isunstruct_df = pd.read_csv('/home/user/Desktop/IP2/IsUnstruct_2.02/isunstruct_results.csv')\n",
    "iupred_df = pd.read_csv('iupred_results_marburg.csv')\n",
    "vsl2b_df = pd.read_csv('vsl2b_results_marburg.csv')\n",
    "\n",
    "print(\"ISUNSTRUCT kolone:\", isunstruct_df.columns)\n",
    "print(\"IUPRED kolone:\", iupred_df.columns)\n",
    "print(\"VSL2B kolone:\", vsl2b_df.columns)\n",
    "\n",
    "isunstruct_key = isunstruct_df[['Aminokiselina', 'Pozicija']]\n",
    "iupred_key = iupred_df[['Aminokiselina', 'Pozicija']]\n",
    "vsl2b_key = vsl2b_df[['Aminokiselina', 'Pozicija']]\n",
    "\n",
    "isunstruct_match = isunstruct_key.equals(iupred_key)\n",
    "iupred_match = iupred_key.equals(vsl2b_key)\n",
    "\n",
    "# Rezultati\n",
    "if isunstruct_match and iupred_match:\n",
    "    print(\"Svi fajlovi imaju iste aminokiseline na istim pozicijama i u istom redosledu!\")\n",
    "else:\n",
    "    print(\"Fajlovi se razlikuju u poretku ili vrednostima aminokiselina i pozicija.\")\n",
    "\n",
    "# Detekcija neslaganja (ako se razlikuju)\n",
    "if not isunstruct_match:\n",
    "    print(\"Razlika između ISUNSTRUCT i IUPRED:\")\n",
    "    diff_isunstruct_iupred = isunstruct_key[~isunstruct_key.isin(iupred_key.to_dict(orient=\"list\")).all(axis=1)]\n",
    "    print(diff_isunstruct_iupred)\n",
    "\n",
    "if not iupred_match:\n",
    "    print(\"Razlika između IUPRED i VSL2B:\")\n",
    "    diff_iupred_vsl2b = iupred_key[~iupred_key.isin(vsl2b_key.to_dict(orient=\"list\")).all(axis=1)]\n",
    "    print(diff_iupred_vsl2b)\n"
   ]
  },
  {
   "cell_type": "code",
   "execution_count": null,
   "id": "19db1cb3",
   "metadata": {},
   "outputs": [],
   "source": []
  }
 ],
 "metadata": {
  "kernelspec": {
   "display_name": "Python 3 (ipykernel)",
   "language": "python",
   "name": "python3"
  },
  "language_info": {
   "codemirror_mode": {
    "name": "ipython",
    "version": 3
   },
   "file_extension": ".py",
   "mimetype": "text/x-python",
   "name": "python",
   "nbconvert_exporter": "python",
   "pygments_lexer": "ipython3",
   "version": "3.8.10"
  }
 },
 "nbformat": 4,
 "nbformat_minor": 5
}
