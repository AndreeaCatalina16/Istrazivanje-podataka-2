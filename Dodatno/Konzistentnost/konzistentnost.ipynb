{
 "cells": [
  {
   "cell_type": "code",
   "execution_count": 30,
   "id": "5302f7c6",
   "metadata": {},
   "outputs": [
    {
     "name": "stdout",
     "output_type": "stream",
     "text": [
      "       Ime fajla Aminokiselina  Pozicija ISUNSTRUCT_Klasifikacija  \\\n",
      "0  seq_001.fasta             M         1                neuređena   \n",
      "1  seq_001.fasta             D         2                neuređena   \n",
      "2  seq_001.fasta             L         3                neuređena   \n",
      "3  seq_001.fasta             H         4                neuređena   \n",
      "4  seq_001.fasta             S         5                neuređena   \n",
      "\n",
      "  IUPRED3_Klasifikacija VSL2B_Klasifikacija  \n",
      "0               uređena           neuređena  \n",
      "1               uređena           neuređena  \n",
      "2               uređena           neuređena  \n",
      "3               uređena           neuređena  \n",
      "4               uređena           neuređena  \n"
     ]
    },
    {
     "name": "stderr",
     "output_type": "stream",
     "text": [
      "/tmp/ipykernel_48865/2154740642.py:4: DtypeWarning: Columns (3) have mixed types. Specify dtype option on import or set low_memory=False.\n",
      "  merged_df = pd.read_csv('spojeni_rezultati.csv')\n"
     ]
    }
   ],
   "source": [
    "import pandas as pd\n",
    "from sklearn.metrics import cohen_kappa_score, accuracy_score\n",
    "\n",
    "merged_df = pd.read_csv('spojeni_rezultati.csv')\n",
    "\n",
    "# Prikaz prvih nekoliko redova\n",
    "print(merged_df.head()) \n"
   ]
  },
  {
   "cell_type": "code",
   "execution_count": 31,
   "id": "8b030ae3",
   "metadata": {},
   "outputs": [
    {
     "name": "stdout",
     "output_type": "stream",
     "text": [
      "       Ime fajla Aminokiselina  Pozicija  ISUNSTRUCT_Klasifikacija  \\\n",
      "0  seq_001.fasta             M         1                       0.0   \n",
      "1  seq_001.fasta             D         2                       0.0   \n",
      "2  seq_001.fasta             L         3                       0.0   \n",
      "3  seq_001.fasta             H         4                       0.0   \n",
      "4  seq_001.fasta             S         5                       0.0   \n",
      "\n",
      "   IUPRED3_Klasifikacija  VSL2B_Klasifikacija  \n",
      "0                      1                    0  \n",
      "1                      1                    0  \n",
      "2                      1                    0  \n",
      "3                      1                    0  \n",
      "4                      1                    0  \n"
     ]
    }
   ],
   "source": [
    "# pretvaranje u numericke vrednosti(0 = neuređena, 1 = uređena)\n",
    "classification_map = {'neuređena': 0, 'uređena': 1}\n",
    "\n",
    "# upotreba .replace() za direktnu zamenu tekstualnih vrednosti u numeričke\n",
    "merged_df['ISUNSTRUCT_Klasifikacija'] = merged_df['ISUNSTRUCT_Klasifikacija'].replace(classification_map)\n",
    "merged_df['IUPRED3_Klasifikacija'] = merged_df['IUPRED3_Klasifikacija'].replace(classification_map)\n",
    "merged_df['VSL2B_Klasifikacija'] = merged_df['VSL2B_Klasifikacija'].replace(classification_map)\n",
    "\n",
    "# Prikaz prvih nekoliko redova da proverimo rezultat\n",
    "print(merged_df.head())\n"
   ]
  },
  {
   "cell_type": "code",
   "execution_count": 32,
   "id": "33163949",
   "metadata": {},
   "outputs": [
    {
     "name": "stdout",
     "output_type": "stream",
     "text": [
      "438778\n",
      "0\n",
      "0\n"
     ]
    }
   ],
   "source": [
    "print(merged_df['ISUNSTRUCT_Klasifikacija'].isna().sum())  # Broj NaN vrednosti u ISUNSTRUCT_numeric\n",
    "print(merged_df['IUPRED3_Klasifikacija'].isna().sum())  # Broj NaN vrednosti u IUPRED3_numeric\n",
    "print(merged_df['VSL2B_Klasifikacija'].isna().sum())  # Broj NaN vrednosti u VSL2B_numeric\n"
   ]
  },
  {
   "cell_type": "markdown",
   "id": "6f3b0fe0",
   "metadata": {},
   "source": [
    "Posto moj csv fajl ima NaN vrednosti ja zelim da uklonim redove koji sadrze te NaN vrednosti"
   ]
  },
  {
   "cell_type": "code",
   "execution_count": 33,
   "id": "3151a029",
   "metadata": {},
   "outputs": [
    {
     "name": "stdout",
     "output_type": "stream",
     "text": [
      "Očišćeni DataFrame bez NaN vrednosti:\n",
      "       Ime fajla Aminokiselina  Pozicija  ISUNSTRUCT_Klasifikacija  \\\n",
      "0  seq_001.fasta             M         1                       0.0   \n",
      "1  seq_001.fasta             D         2                       0.0   \n",
      "2  seq_001.fasta             L         3                       0.0   \n",
      "3  seq_001.fasta             H         4                       0.0   \n",
      "4  seq_001.fasta             S         5                       0.0   \n",
      "\n",
      "   IUPRED3_Klasifikacija  VSL2B_Klasifikacija  \n",
      "0                      1                    0  \n",
      "1                      1                    0  \n",
      "2                      1                    0  \n",
      "3                      1                    0  \n",
      "4                      1                    0  \n"
     ]
    }
   ],
   "source": [
    "merged_cleaned_df = merged_df.copy()\n",
    "merged_cleaned_df = merged_df.dropna()\n",
    "\n",
    "merged_cleaned_df.to_csv('spojeni_rezultati_cisti.csv', index=False)\n",
    "\n",
    "print(\"Očišćeni DataFrame bez NaN vrednosti:\")\n",
    "print(merged_cleaned_df.head())"
   ]
  },
  {
   "cell_type": "markdown",
   "id": "88ececba",
   "metadata": {},
   "source": [
    "Provera konzistentnosti klasifikacija"
   ]
  },
  {
   "cell_type": "code",
   "execution_count": 34,
   "id": "d92d0423",
   "metadata": {},
   "outputs": [
    {
     "name": "stdout",
     "output_type": "stream",
     "text": [
      "Procenat konzistentnosti između alata: 83.03%\n"
     ]
    },
    {
     "name": "stderr",
     "output_type": "stream",
     "text": [
      "/tmp/ipykernel_48865/215445941.py:2: SettingWithCopyWarning: \n",
      "A value is trying to be set on a copy of a slice from a DataFrame.\n",
      "Try using .loc[row_indexer,col_indexer] = value instead\n",
      "\n",
      "See the caveats in the documentation: https://pandas.pydata.org/pandas-docs/stable/user_guide/indexing.html#returning-a-view-versus-a-copy\n",
      "  merged_cleaned_df.loc[:, 'Konzistentno'] = (\n"
     ]
    }
   ],
   "source": [
    "# dodajemo novu kolonu koja proverava konzistentnost\n",
    "merged_cleaned_df.loc[:, 'Konzistentno'] = (\n",
    "    (merged_cleaned_df['ISUNSTRUCT_Klasifikacija'] == merged_cleaned_df['IUPRED3_Klasifikacija']) &\n",
    "    (merged_cleaned_df['ISUNSTRUCT_Klasifikacija'] == merged_cleaned_df['VSL2B_Klasifikacija'])\n",
    ")\n",
    "\n",
    "# racunanje procenta konzistentnosti\n",
    "konzistentnost_procenat = merged_cleaned_df['Konzistentno'].mean() * 100\n",
    "print(f\"Procenat konzistentnosti između alata: {konzistentnost_procenat:.2f}%\")\n"
   ]
  },
  {
   "cell_type": "markdown",
   "id": "3247ca38",
   "metadata": {},
   "source": [
    "Ovo znaci da su za 83.03% redova (pozicija u proteinima) svi alati dali istu klasifikaciju, odnosno svi su se slozili da je pozicija uredjena ili neuredjena."
   ]
  },
  {
   "cell_type": "markdown",
   "id": "edca2286",
   "metadata": {},
   "source": [
    "Racunanje Kappa koeficijenta izmedju alata"
   ]
  },
  {
   "cell_type": "code",
   "execution_count": 35,
   "id": "05841f58",
   "metadata": {},
   "outputs": [
    {
     "name": "stdout",
     "output_type": "stream",
     "text": [
      "Cohen's Kappa između ISUNSTRUCT i IUPRED3: 0.70\n",
      "Cohen's Kappa između ISUNSTRUCT i VSL2B: 0.74\n",
      "Cohen's Kappa između IUPRED3 i VSL2B: 0.59\n"
     ]
    }
   ],
   "source": [
    "# Izračunavanje Kappa koeficijenta između ISUNSTRUCT i IUPRED3\n",
    "kappa_isunstruct_iupred3 = cohen_kappa_score(merged_cleaned_df['ISUNSTRUCT_Klasifikacija'], merged_cleaned_df['IUPRED3_Klasifikacija'])\n",
    "print(f\"Cohen's Kappa između ISUNSTRUCT i IUPRED3: {kappa_isunstruct_iupred3:.2f}\")\n",
    "\n",
    "# Izračunavanje Kappa koeficijenta između ISUNSTRUCT i VSL2B\n",
    "kappa_isunstruct_vsl2b = cohen_kappa_score(merged_cleaned_df['ISUNSTRUCT_Klasifikacija'], merged_cleaned_df['VSL2B_Klasifikacija'])\n",
    "print(f\"Cohen's Kappa između ISUNSTRUCT i VSL2B: {kappa_isunstruct_vsl2b:.2f}\")\n",
    "\n",
    "# Izračunavanje Kappa koeficijenta između IUPRED3 i VSL2B\n",
    "kappa_iupred3_vsl2b = cohen_kappa_score(merged_cleaned_df['IUPRED3_Klasifikacija'], merged_cleaned_df['VSL2B_Klasifikacija'])\n",
    "print(f\"Cohen's Kappa između IUPRED3 i VSL2B: {kappa_iupred3_vsl2b:.2f}\")\n"
   ]
  },
  {
   "cell_type": "markdown",
   "id": "8617121c",
   "metadata": {},
   "source": [
    "Cohen's Kappa (cohen_kappa_score) - Ovaj koeficijent meri slaganje između dve klasifikacije, korigujuci slucajno slaganje. Vrednost može biti između -1 i 1:\n",
    "\n",
    "1 znači savrseno slaganje\n",
    "0 znači da je slaganje slucajno\n",
    "Negativne vrednosti znace da je slaganje losije od slucajnog\n",
    "\n",
    "Nasi rezultati - Zakljucak:\n",
    "Alati ISUNSTRUCT i IUPRED3 imaju dobro slaganje, dok ISUNSTRUCT i VSL2B imaju vrlo dobro slaganje.\n",
    "IUPRED3 i VSL2B imaju umereno slaganje, što moze ukazivati da postoji manja konzistentnost između tih alata u poređenju sa prva dva para\n"
   ]
  },
  {
   "cell_type": "code",
   "execution_count": 36,
   "id": "31db2683",
   "metadata": {},
   "outputs": [
    {
     "name": "stdout",
     "output_type": "stream",
     "text": [
      "Tačnost između ISUNSTRUCT i IUPRED3: 0.90\n",
      "Preciznost između ISUNSTRUCT i IUPRED3: 0.91\n",
      "Tačnost između ISUNSTRUCT i VSL2B: 0.90\n",
      "Preciznost između ISUNSTRUCT i VSL2B: 0.97\n",
      "Tačnost između IUPRED3 i VSL2B: 0.85\n",
      "Preciznost između IUPRED3 i VSL2B: 0.98\n"
     ]
    }
   ],
   "source": [
    "from sklearn.metrics import precision_score, accuracy_score\n",
    "\n",
    "# ISUNSTRUCT vs IUPRED3\n",
    "accuracy_isunstruct_iupred3 = accuracy_score(merged_cleaned_df['ISUNSTRUCT_Klasifikacija'], merged_cleaned_df['IUPRED3_Klasifikacija'])\n",
    "precision_isunstruct_iupred3 = precision_score(merged_cleaned_df['ISUNSTRUCT_Klasifikacija'], merged_cleaned_df['IUPRED3_Klasifikacija'])\n",
    "\n",
    "# ISUNSTRUCT vs VSL2B\n",
    "accuracy_isunstruct_vsl2b = accuracy_score(merged_cleaned_df['ISUNSTRUCT_Klasifikacija'], merged_cleaned_df['VSL2B_Klasifikacija'])\n",
    "precision_isunstruct_vsl2b = precision_score(merged_cleaned_df['ISUNSTRUCT_Klasifikacija'], merged_cleaned_df['VSL2B_Klasifikacija'])\n",
    "\n",
    "# IUPRED3 vs VSL2B\n",
    "accuracy_iupred3_vsl2b = accuracy_score(merged_cleaned_df['IUPRED3_Klasifikacija'], merged_cleaned_df['VSL2B_Klasifikacija'])\n",
    "precision_iupred3_vsl2b = precision_score(merged_cleaned_df['IUPRED3_Klasifikacija'], merged_cleaned_df['VSL2B_Klasifikacija'])\n",
    "\n",
    "# Ispis rezultata\n",
    "print(f\"Tačnost između ISUNSTRUCT i IUPRED3: {accuracy_isunstruct_iupred3:.2f}\")\n",
    "print(f\"Preciznost između ISUNSTRUCT i IUPRED3: {precision_isunstruct_iupred3:.2f}\")\n",
    "\n",
    "print(f\"Tačnost između ISUNSTRUCT i VSL2B: {accuracy_isunstruct_vsl2b:.2f}\")\n",
    "print(f\"Preciznost između ISUNSTRUCT i VSL2B: {precision_isunstruct_vsl2b:.2f}\")\n",
    "\n",
    "print(f\"Tačnost između IUPRED3 i VSL2B: {accuracy_iupred3_vsl2b:.2f}\")\n",
    "print(f\"Preciznost između IUPRED3 i VSL2B: {precision_iupred3_vsl2b:.2f}\")\n"
   ]
  },
  {
   "cell_type": "markdown",
   "id": "0130d794",
   "metadata": {},
   "source": [
    "Ovi rezultati ukazuju da svi alati uglavnom daju slične rezultate u pogledu klasifikacije \"uređenih\" i \"neuređenih\" regiona, ali ISUNSTRUCT i VSL2B se izdvajaju po visokoj preciznosti u prepoznavanju \"uređenih\" regiona"
   ]
  },
  {
   "cell_type": "markdown",
   "id": "38d35562",
   "metadata": {},
   "source": [
    "Na osnovu analize konzistentnosti, tacnosti, preciznosti i Kappa koeficijenta mozemo doneti sledece zakljucke:\n",
    "-za formiranje modela uzimamo u obzir alate koji imaju vece vrednosti Kappa koeficijenta a to su ISUNSTRUCT I VSL2B jer su bolje uskladjeni\n",
    "\n",
    "-tacnost između alata je visoka (oko 90%) za vecinu kombinacija, sto znači da su predikcije između alata uglavnom iste\n",
    "\n",
    "-preciznost je takođe visoka, posebno između ISUNSTRUCT i VSL2B (97%) i između IUPRED3 i VSL2B (98%) za \"uređene\" regione. Ovi visoki brojevi ukazuju na to da su alati vrlo precizni u prepoznavanju \"uređenih\" regiona\n",
    "\n",
    "-zbog visoke konzistentnosti (oko 83%) u obzir se mogu uzeti svi alati\n",
    "\n",
    "Dakle, mogu koristiti ujedinjenje predikcije sva 3 alata ili 2 najbolja alata ISUNSTRUCT I VSL2B"
   ]
  },
  {
   "cell_type": "code",
   "execution_count": null,
   "id": "9aaf836e",
   "metadata": {},
   "outputs": [],
   "source": []
  }
 ],
 "metadata": {
  "kernelspec": {
   "display_name": "Python 3 (ipykernel)",
   "language": "python",
   "name": "python3"
  },
  "language_info": {
   "codemirror_mode": {
    "name": "ipython",
    "version": 3
   },
   "file_extension": ".py",
   "mimetype": "text/x-python",
   "name": "python",
   "nbconvert_exporter": "python",
   "pygments_lexer": "ipython3",
   "version": "3.8.10"
  }
 },
 "nbformat": 4,
 "nbformat_minor": 5
}
