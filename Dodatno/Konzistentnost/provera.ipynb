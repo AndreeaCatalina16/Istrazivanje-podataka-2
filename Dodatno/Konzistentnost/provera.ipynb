{
 "cells": [
  {
   "cell_type": "code",
   "execution_count": 5,
   "id": "d74f4729",
   "metadata": {},
   "outputs": [
    {
     "name": "stdout",
     "output_type": "stream",
     "text": [
      "ISUNSTRUCT jedinstvene vrednosti: Aminokiselina      20\n",
      "Pozicija         2331\n",
      "dtype: int64\n",
      "IUPRED3 jedinstvene vrednosti: Aminokiselina      20\n",
      "Pozicija         2331\n",
      "dtype: int64\n",
      "VSL2B jedinstvene vrednosti: Aminokiselina      20\n",
      "Pozicija         2331\n",
      "dtype: int64\n"
     ]
    }
   ],
   "source": [
    "import pandas as pd\n",
    "# Učitavanje podataka\n",
    "isunstruct_df = pd.read_csv('/home/user/Desktop/IP2/IsUnstruct_2.02/isunstruct_results.csv')\n",
    "iupred_df = pd.read_csv('iupred_results_marburg.csv')\n",
    "vsl2b_df = pd.read_csv('vsl2b_results_marburg.csv')\n",
    "\n",
    "# Provera ključnih kolona\n",
    "print(\"ISUNSTRUCT jedinstvene vrednosti:\", isunstruct_df[['Aminokiselina', 'Pozicija']].nunique())\n",
    "print(\"IUPRED3 jedinstvene vrednosti:\", iupred_df[['Aminokiselina', 'Pozicija']].nunique())\n",
    "print(\"VSL2B jedinstvene vrednosti:\", vsl2b_df[['Aminokiselina', 'Pozicija']].nunique())\n"
   ]
  },
  {
   "cell_type": "code",
   "execution_count": 6,
   "id": "c6ee0041",
   "metadata": {},
   "outputs": [
    {
     "name": "stdout",
     "output_type": "stream",
     "text": [
      "ISUNSTRUCT duplikati: 432219\n",
      "IUPRED3 duplikati: 432219\n",
      "VSL2B duplikati: 432219\n"
     ]
    }
   ],
   "source": [
    "print(\"ISUNSTRUCT duplikati:\", isunstruct_df[['Aminokiselina', 'Pozicija']].duplicated().sum())\n",
    "print(\"IUPRED3 duplikati:\", iupred_df[['Aminokiselina', 'Pozicija']].duplicated().sum())\n",
    "print(\"VSL2B duplikati:\", vsl2b_df[['Aminokiselina', 'Pozicija']].duplicated().sum())\n"
   ]
  },
  {
   "cell_type": "code",
   "execution_count": 7,
   "id": "87d6f1c0",
   "metadata": {},
   "outputs": [
    {
     "name": "stdout",
     "output_type": "stream",
     "text": [
      "Pozicije koje nedostaju u ISUNSTRUCT: Empty DataFrame\n",
      "Columns: [Aminokiselina, Pozicija, _merge]\n",
      "Index: []\n",
      "Pozicije koje nedostaju u IUPRED3: Empty DataFrame\n",
      "Columns: [Aminokiselina, Pozicija, _merge]\n",
      "Index: []\n"
     ]
    }
   ],
   "source": [
    "missing_in_isunstruct = iupred_df[['Aminokiselina', 'Pozicija']].merge(isunstruct_df[['Aminokiselina', 'Pozicija']], \n",
    "                                                                     on=['Aminokiselina', 'Pozicija'], \n",
    "                                                                     how='left', indicator=True).query('_merge == \"left_only\"')\n",
    "print(\"Pozicije koje nedostaju u ISUNSTRUCT:\", missing_in_isunstruct)\n",
    "\n",
    "missing_in_iupred = isunstruct_df[['Aminokiselina', 'Pozicija']].merge(iupred_df[['Aminokiselina', 'Pozicija']], \n",
    "                                                                     on=['Aminokiselina', 'Pozicija'], \n",
    "                                                                     how='left', indicator=True).query('_merge == \"left_only\"')\n",
    "print(\"Pozicije koje nedostaju u IUPRED3:\", missing_in_iupred)\n"
   ]
  },
  {
   "cell_type": "code",
   "execution_count": null,
   "id": "af53ed66",
   "metadata": {},
   "outputs": [],
   "source": []
  }
 ],
 "metadata": {
  "kernelspec": {
   "display_name": "Python 3 (ipykernel)",
   "language": "python",
   "name": "python3"
  },
  "language_info": {
   "codemirror_mode": {
    "name": "ipython",
    "version": 3
   },
   "file_extension": ".py",
   "mimetype": "text/x-python",
   "name": "python",
   "nbconvert_exporter": "python",
   "pygments_lexer": "ipython3",
   "version": "3.8.10"
  }
 },
 "nbformat": 4,
 "nbformat_minor": 5
}
