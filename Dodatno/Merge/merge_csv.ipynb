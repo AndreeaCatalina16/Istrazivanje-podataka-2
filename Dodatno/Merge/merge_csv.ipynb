{
 "cells": [
  {
   "cell_type": "code",
   "execution_count": 6,
   "id": "be13e91a",
   "metadata": {},
   "outputs": [
    {
     "name": "stdout",
     "output_type": "stream",
     "text": [
      "Spojeni DataFrame bez duplikata:\n",
      "       Ime fajla Aminokiselina  Pozicija ISUNSTRUCT_Klasifikacija  \\\n",
      "0  seq_001.fasta             M         1                neuređena   \n",
      "1  seq_001.fasta             D         2                neuređena   \n",
      "2  seq_001.fasta             L         3                neuređena   \n",
      "3  seq_001.fasta             H         4                neuređena   \n",
      "4  seq_001.fasta             S         5                neuređena   \n",
      "\n",
      "  IUPRED3_Klasifikacija VSL2B_Klasifikacija  \n",
      "0               uređena           neuređena  \n",
      "1               uređena           neuređena  \n",
      "2               uređena           neuređena  \n",
      "3               uređena           neuređena  \n",
      "4               uređena           neuređena  \n"
     ]
    }
   ],
   "source": [
    "import pandas as pd\n",
    "\n",
    "# ucitavanje kompletnih podataka za manje fajlove\n",
    "iupred_df = pd.read_csv('iupred_results_marburg.csv')\n",
    "vsl2b_df = pd.read_csv('vsl2b_results_marburg.csv')\n",
    "\n",
    "# preimenovanje kolona za manje fajlove\n",
    "iupred_df = iupred_df.rename(columns={'Klasifikacija': 'IUPRED3_Klasifikacija'})\n",
    "vsl2b_df = vsl2b_df.rename(columns={'Klasifikacija': 'VSL2B_Klasifikacija'})\n",
    "\n",
    "# definisanje chunk-a za najveci fajl\n",
    "chunk_size = 10000\n",
    "isunstruct_df = pd.read_csv('/home/user/Desktop/IP2/IsUnstruct_2.02/isunstruct_results.csv', chunksize=chunk_size)\n",
    "\n",
    "# za skladistenje spojenih podataka\n",
    "merged_df = pd.DataFrame()\n",
    "\n",
    "# iteracija kroz chunk-ove iz ISUNSTRUCT\n",
    "for isunstruct_chunk in isunstruct_df:\n",
    "    \n",
    "    isunstruct_chunk = isunstruct_chunk.rename(columns={'Klasifikacija': 'ISUNSTRUCT_Klasifikacija'})\n",
    "\n",
    "    # spajanje sa celim IUPRED3 DataFrame-om\n",
    "    chunk_merged = pd.merge(\n",
    "        isunstruct_chunk[['Ime fajla', 'Aminokiselina', 'Pozicija', 'ISUNSTRUCT_Klasifikacija']],\n",
    "        iupred_df[['Ime fajla', 'Aminokiselina', 'Pozicija', 'IUPRED3_Klasifikacija']],\n",
    "        on=['Ime fajla', 'Aminokiselina', 'Pozicija'],\n",
    "        how='outer'\n",
    "    )\n",
    "\n",
    "    # spajanje sa celim VSL2B DataFrame-om\n",
    "    final_chunk = pd.merge(\n",
    "        chunk_merged,\n",
    "        vsl2b_df[['Ime fajla', 'Aminokiselina', 'Pozicija', 'VSL2B_Klasifikacija']],\n",
    "        on=['Ime fajla', 'Aminokiselina', 'Pozicija'],\n",
    "        how='outer'\n",
    "    )\n",
    "\n",
    "    # dodavanje rezultata u finalni DataFrame\n",
    "    merged_df = pd.concat([merged_df, final_chunk], ignore_index=True)\n",
    "\n",
    "# uklanjanje duplikata\n",
    "merged_df = merged_df.drop_duplicates()\n",
    "\n",
    "# cuvanje spojenog DataFrame-a u CSV fajl\n",
    "merged_df.to_csv('spojeni_rezultati.csv', index=False)\n",
    "\n",
    "# prikaz prvih redova spojenog DataFrame-a za proveru\n",
    "print(\"Spojeni DataFrame bez duplikata:\")\n",
    "print(merged_df.head())\n"
   ]
  },
  {
   "cell_type": "code",
   "execution_count": null,
   "id": "3033a086",
   "metadata": {},
   "outputs": [],
   "source": []
  }
 ],
 "metadata": {
  "kernelspec": {
   "display_name": "Python 3 (ipykernel)",
   "language": "python",
   "name": "python3"
  },
  "language_info": {
   "codemirror_mode": {
    "name": "ipython",
    "version": 3
   },
   "file_extension": ".py",
   "mimetype": "text/x-python",
   "name": "python",
   "nbconvert_exporter": "python",
   "pygments_lexer": "ipython3",
   "version": "3.8.10"
  }
 },
 "nbformat": 4,
 "nbformat_minor": 5
}
