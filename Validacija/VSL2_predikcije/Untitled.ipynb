{
 "cells": [
  {
   "cell_type": "code",
   "execution_count": 6,
   "id": "379e97cf-4b66-4fb4-95b6-732e254b158a",
   "metadata": {},
   "outputs": [
    {
     "name": "stdout",
     "output_type": "stream",
     "text": [
      "   Duzina Pozicija                        Sekvenca VSL2 oznaka\n",
      "0      30     1-30  MGGLSLLQLPRDKFRKSSFFVWVIILFQKA   neuređena\n",
      "1      30     2-31  GGLSLLQLPRDKFRKSSFFVWVIILFQKAF   neuređena\n",
      "2      30     3-32  GLSLLQLPRDKFRKSSFFVWVIILFQKAFS   neuređena\n",
      "3      30     4-33  LSLLQLPRDKFRKSSFFVWVIILFQKAFSM   neuređena\n",
      "4      30     5-34  SLLQLPRDKFRKSSFFVWVIILFQKAFSMP   neuređena\n"
     ]
    }
   ],
   "source": [
    "import subprocess\n",
    "import os\n",
    "import pandas as pd\n",
    "\n",
    "def ucitaj_sekvencu_iz_fajla(fajl_putanja):\n",
    "    with open(fajl_putanja, 'r') as fajl:\n",
    "        linije = fajl.readlines()\n",
    "    return \"\".join(linija.strip() for linija in linije[1:])\n",
    "\n",
    "def pokreni_vsl2_na_fajlu(fajl_putanja):\n",
    "    vsl2_putanja = \"/home/user/Desktop/VSL2/VSL2.jar\"\n",
    "    rezultat = subprocess.run(['java', '-jar', vsl2_putanja, fajl_putanja], capture_output=True, text=True)\n",
    "\n",
    "    if rezultat.stderr:\n",
    "        print(f\"Greška pri pokretanju VSL2: {rezultat.stderr}\")\n",
    "    return parse_vsl2b_output(rezultat.stdout)\n",
    "\n",
    "def parse_vsl2b_output(vsl2b_output):\n",
    "    oznake = []\n",
    "    for line in vsl2b_output.splitlines():\n",
    "        parts = line.strip().split()\n",
    "        if len(parts) >= 3:\n",
    "            try:\n",
    "                score = float(parts[2])\n",
    "                oznake.append(\"uređena\" if score <= 0.5 else \"neuređena\")\n",
    "            except ValueError:\n",
    "                continue\n",
    "    return oznake\n",
    "\n",
    "def generisi_prozore_i_klasifikuj(sekvenca, min_duzina=30, max_duzina=100):\n",
    "    podaci = []\n",
    "    temp_fasta = \"temp_prozor.fasta\"\n",
    "    \n",
    "    for duzina in range(min_duzina, max_duzina + 1):\n",
    "        for i in range(len(sekvenca) - duzina + 1):\n",
    "            podsekvenca = sekvenca[i:i + duzina]\n",
    "            pozicija = f\"{i+1}-{i+duzina}\"\n",
    "            \n",
    "            with open(temp_fasta, 'w') as f:\n",
    "                f.write(f\">prozor_{i}\\n{podsekvenca}\\n\")\n",
    "            \n",
    "            oznake = pokreni_vsl2_na_fajlu(temp_fasta)\n",
    "            oznaka_prozora = \"uređena\" if oznake.count(\"uređena\") > len(oznake) / 2 else \"neuređena\"\n",
    "            \n",
    "            podaci.append((duzina, pozicija, podsekvenca, oznaka_prozora))\n",
    "    \n",
    "    os.remove(temp_fasta)\n",
    "    return podaci\n",
    "\n",
    "# Učitavanje sekvence\n",
    "fajl_putanja = \"Spike glycoprotein/YP_138523.1 | spike glycoprotein.fasta\"\n",
    "sekvenca = ucitaj_sekvencu_iz_fajla(fajl_putanja)\n",
    "\n",
    "# Generisanje prozora i klasifikacija\n",
    "podaci = generisi_prozore_i_klasifikuj(sekvenca)\n",
    "\n",
    "# Čuvanje u DataFrame i CSV\n",
    "kolone = [\"Duzina\", \"Pozicija\", \"Sekvenca\", \"VSL2 oznaka\"]\n",
    "df_sekvence = pd.DataFrame(podaci, columns=kolone)\n",
    "\n",
    "df_sekvence.to_csv(\"Spike glycoprotein/Klasifikovane_sekvence_VSL2_spike.csv\", index=False)\n",
    "print(df_sekvence.head())\n"
   ]
  },
  {
   "cell_type": "code",
   "execution_count": null,
   "id": "4fa54e6c-e51f-450c-ac37-b20f2d07d14c",
   "metadata": {},
   "outputs": [],
   "source": []
  }
 ],
 "metadata": {
  "kernelspec": {
   "display_name": "Python 3 (ipykernel)",
   "language": "python",
   "name": "python3"
  },
  "language_info": {
   "codemirror_mode": {
    "name": "ipython",
    "version": 3
   },
   "file_extension": ".py",
   "mimetype": "text/x-python",
   "name": "python",
   "nbconvert_exporter": "python",
   "pygments_lexer": "ipython3",
   "version": "3.9.5"
  }
 },
 "nbformat": 4,
 "nbformat_minor": 5
}
