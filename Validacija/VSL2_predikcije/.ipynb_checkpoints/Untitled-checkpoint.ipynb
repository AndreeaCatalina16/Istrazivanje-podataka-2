{
 "cells": [
  {
   "cell_type": "code",
   "execution_count": 5,
   "id": "379e97cf-4b66-4fb4-95b6-732e254b158a",
   "metadata": {},
   "outputs": [
    {
     "ename": "KeyboardInterrupt",
     "evalue": "",
     "output_type": "error",
     "traceback": [
      "\u001b[0;31m---------------------------------------------------------------------------\u001b[0m",
      "\u001b[0;31mKeyboardInterrupt\u001b[0m                         Traceback (most recent call last)",
      "Cell \u001b[0;32mIn[5], line 55\u001b[0m\n\u001b[1;32m     52\u001b[0m sekvenca \u001b[38;5;241m=\u001b[39m ucitaj_sekvencu_iz_fajla(fajl_putanja)\n\u001b[1;32m     54\u001b[0m \u001b[38;5;66;03m# Generisanje prozora i klasifikacija\u001b[39;00m\n\u001b[0;32m---> 55\u001b[0m podaci \u001b[38;5;241m=\u001b[39m \u001b[43mgenerisi_prozore_i_klasifikuj\u001b[49m\u001b[43m(\u001b[49m\u001b[43msekvenca\u001b[49m\u001b[43m)\u001b[49m\n\u001b[1;32m     57\u001b[0m \u001b[38;5;66;03m# Čuvanje u DataFrame i CSV\u001b[39;00m\n\u001b[1;32m     58\u001b[0m kolone \u001b[38;5;241m=\u001b[39m [\u001b[38;5;124m\"\u001b[39m\u001b[38;5;124mDuzina\u001b[39m\u001b[38;5;124m\"\u001b[39m, \u001b[38;5;124m\"\u001b[39m\u001b[38;5;124mPozicija\u001b[39m\u001b[38;5;124m\"\u001b[39m, \u001b[38;5;124m\"\u001b[39m\u001b[38;5;124mSekvenca\u001b[39m\u001b[38;5;124m\"\u001b[39m, \u001b[38;5;124m\"\u001b[39m\u001b[38;5;124mVSL2 oznaka\u001b[39m\u001b[38;5;124m\"\u001b[39m]\n",
      "Cell \u001b[0;32mIn[5], line 42\u001b[0m, in \u001b[0;36mgenerisi_prozore_i_klasifikuj\u001b[0;34m(sekvenca, min_duzina, max_duzina)\u001b[0m\n\u001b[1;32m     39\u001b[0m \u001b[38;5;28;01mwith\u001b[39;00m \u001b[38;5;28mopen\u001b[39m(temp_fasta, \u001b[38;5;124m'\u001b[39m\u001b[38;5;124mw\u001b[39m\u001b[38;5;124m'\u001b[39m) \u001b[38;5;28;01mas\u001b[39;00m f:\n\u001b[1;32m     40\u001b[0m     f\u001b[38;5;241m.\u001b[39mwrite(\u001b[38;5;124mf\u001b[39m\u001b[38;5;124m\"\u001b[39m\u001b[38;5;124m>prozor_\u001b[39m\u001b[38;5;132;01m{\u001b[39;00mi\u001b[38;5;132;01m}\u001b[39;00m\u001b[38;5;130;01m\\n\u001b[39;00m\u001b[38;5;132;01m{\u001b[39;00mpodsekvenca\u001b[38;5;132;01m}\u001b[39;00m\u001b[38;5;130;01m\\n\u001b[39;00m\u001b[38;5;124m\"\u001b[39m)\n\u001b[0;32m---> 42\u001b[0m oznake \u001b[38;5;241m=\u001b[39m \u001b[43mpokreni_vsl2_na_fajlu\u001b[49m\u001b[43m(\u001b[49m\u001b[43mtemp_fasta\u001b[49m\u001b[43m)\u001b[49m\n\u001b[1;32m     43\u001b[0m oznaka_prozora \u001b[38;5;241m=\u001b[39m \u001b[38;5;124m\"\u001b[39m\u001b[38;5;124muređena\u001b[39m\u001b[38;5;124m\"\u001b[39m \u001b[38;5;28;01mif\u001b[39;00m oznake\u001b[38;5;241m.\u001b[39mcount(\u001b[38;5;124m\"\u001b[39m\u001b[38;5;124muređena\u001b[39m\u001b[38;5;124m\"\u001b[39m) \u001b[38;5;241m>\u001b[39m \u001b[38;5;28mlen\u001b[39m(oznake) \u001b[38;5;241m/\u001b[39m \u001b[38;5;241m2\u001b[39m \u001b[38;5;28;01melse\u001b[39;00m \u001b[38;5;124m\"\u001b[39m\u001b[38;5;124mneuređena\u001b[39m\u001b[38;5;124m\"\u001b[39m\n\u001b[1;32m     45\u001b[0m podaci\u001b[38;5;241m.\u001b[39mappend((duzina, pozicija, podsekvenca, oznaka_prozora))\n",
      "Cell \u001b[0;32mIn[5], line 12\u001b[0m, in \u001b[0;36mpokreni_vsl2_na_fajlu\u001b[0;34m(fajl_putanja)\u001b[0m\n\u001b[1;32m     10\u001b[0m \u001b[38;5;28;01mdef\u001b[39;00m\u001b[38;5;250m \u001b[39m\u001b[38;5;21mpokreni_vsl2_na_fajlu\u001b[39m(fajl_putanja):\n\u001b[1;32m     11\u001b[0m     vsl2_putanja \u001b[38;5;241m=\u001b[39m \u001b[38;5;124m\"\u001b[39m\u001b[38;5;124m/home/user/Desktop/VSL2/VSL2.jar\u001b[39m\u001b[38;5;124m\"\u001b[39m\n\u001b[0;32m---> 12\u001b[0m     rezultat \u001b[38;5;241m=\u001b[39m \u001b[43msubprocess\u001b[49m\u001b[38;5;241;43m.\u001b[39;49m\u001b[43mrun\u001b[49m\u001b[43m(\u001b[49m\u001b[43m[\u001b[49m\u001b[38;5;124;43m'\u001b[39;49m\u001b[38;5;124;43mjava\u001b[39;49m\u001b[38;5;124;43m'\u001b[39;49m\u001b[43m,\u001b[49m\u001b[43m \u001b[49m\u001b[38;5;124;43m'\u001b[39;49m\u001b[38;5;124;43m-jar\u001b[39;49m\u001b[38;5;124;43m'\u001b[39;49m\u001b[43m,\u001b[49m\u001b[43m \u001b[49m\u001b[43mvsl2_putanja\u001b[49m\u001b[43m,\u001b[49m\u001b[43m \u001b[49m\u001b[43mfajl_putanja\u001b[49m\u001b[43m]\u001b[49m\u001b[43m,\u001b[49m\u001b[43m \u001b[49m\u001b[43mcapture_output\u001b[49m\u001b[38;5;241;43m=\u001b[39;49m\u001b[38;5;28;43;01mTrue\u001b[39;49;00m\u001b[43m,\u001b[49m\u001b[43m \u001b[49m\u001b[43mtext\u001b[49m\u001b[38;5;241;43m=\u001b[39;49m\u001b[38;5;28;43;01mTrue\u001b[39;49;00m\u001b[43m)\u001b[49m\n\u001b[1;32m     14\u001b[0m     \u001b[38;5;28;01mif\u001b[39;00m rezultat\u001b[38;5;241m.\u001b[39mstderr:\n\u001b[1;32m     15\u001b[0m         \u001b[38;5;28mprint\u001b[39m(\u001b[38;5;124mf\u001b[39m\u001b[38;5;124m\"\u001b[39m\u001b[38;5;124mGreška pri pokretanju VSL2: \u001b[39m\u001b[38;5;132;01m{\u001b[39;00mrezultat\u001b[38;5;241m.\u001b[39mstderr\u001b[38;5;132;01m}\u001b[39;00m\u001b[38;5;124m\"\u001b[39m)\n",
      "File \u001b[0;32m/usr/lib/python3.9/subprocess.py:507\u001b[0m, in \u001b[0;36mrun\u001b[0;34m(input, capture_output, timeout, check, *popenargs, **kwargs)\u001b[0m\n\u001b[1;32m    505\u001b[0m \u001b[38;5;28;01mwith\u001b[39;00m Popen(\u001b[38;5;241m*\u001b[39mpopenargs, \u001b[38;5;241m*\u001b[39m\u001b[38;5;241m*\u001b[39mkwargs) \u001b[38;5;28;01mas\u001b[39;00m process:\n\u001b[1;32m    506\u001b[0m     \u001b[38;5;28;01mtry\u001b[39;00m:\n\u001b[0;32m--> 507\u001b[0m         stdout, stderr \u001b[38;5;241m=\u001b[39m \u001b[43mprocess\u001b[49m\u001b[38;5;241;43m.\u001b[39;49m\u001b[43mcommunicate\u001b[49m\u001b[43m(\u001b[49m\u001b[38;5;28;43minput\u001b[39;49m\u001b[43m,\u001b[49m\u001b[43m \u001b[49m\u001b[43mtimeout\u001b[49m\u001b[38;5;241;43m=\u001b[39;49m\u001b[43mtimeout\u001b[49m\u001b[43m)\u001b[49m\n\u001b[1;32m    508\u001b[0m     \u001b[38;5;28;01mexcept\u001b[39;00m TimeoutExpired \u001b[38;5;28;01mas\u001b[39;00m exc:\n\u001b[1;32m    509\u001b[0m         process\u001b[38;5;241m.\u001b[39mkill()\n",
      "File \u001b[0;32m/usr/lib/python3.9/subprocess.py:1134\u001b[0m, in \u001b[0;36mPopen.communicate\u001b[0;34m(self, input, timeout)\u001b[0m\n\u001b[1;32m   1131\u001b[0m     endtime \u001b[38;5;241m=\u001b[39m \u001b[38;5;28;01mNone\u001b[39;00m\n\u001b[1;32m   1133\u001b[0m \u001b[38;5;28;01mtry\u001b[39;00m:\n\u001b[0;32m-> 1134\u001b[0m     stdout, stderr \u001b[38;5;241m=\u001b[39m \u001b[38;5;28;43mself\u001b[39;49m\u001b[38;5;241;43m.\u001b[39;49m\u001b[43m_communicate\u001b[49m\u001b[43m(\u001b[49m\u001b[38;5;28;43minput\u001b[39;49m\u001b[43m,\u001b[49m\u001b[43m \u001b[49m\u001b[43mendtime\u001b[49m\u001b[43m,\u001b[49m\u001b[43m \u001b[49m\u001b[43mtimeout\u001b[49m\u001b[43m)\u001b[49m\n\u001b[1;32m   1135\u001b[0m \u001b[38;5;28;01mexcept\u001b[39;00m \u001b[38;5;167;01mKeyboardInterrupt\u001b[39;00m:\n\u001b[1;32m   1136\u001b[0m     \u001b[38;5;66;03m# https://bugs.python.org/issue25942\u001b[39;00m\n\u001b[1;32m   1137\u001b[0m     \u001b[38;5;66;03m# See the detailed comment in .wait().\u001b[39;00m\n\u001b[1;32m   1138\u001b[0m     \u001b[38;5;28;01mif\u001b[39;00m timeout \u001b[38;5;129;01mis\u001b[39;00m \u001b[38;5;129;01mnot\u001b[39;00m \u001b[38;5;28;01mNone\u001b[39;00m:\n",
      "File \u001b[0;32m/usr/lib/python3.9/subprocess.py:1979\u001b[0m, in \u001b[0;36mPopen._communicate\u001b[0;34m(self, input, endtime, orig_timeout)\u001b[0m\n\u001b[1;32m   1972\u001b[0m     \u001b[38;5;28mself\u001b[39m\u001b[38;5;241m.\u001b[39m_check_timeout(endtime, orig_timeout,\n\u001b[1;32m   1973\u001b[0m                         stdout, stderr,\n\u001b[1;32m   1974\u001b[0m                         skip_check_and_raise\u001b[38;5;241m=\u001b[39m\u001b[38;5;28;01mTrue\u001b[39;00m)\n\u001b[1;32m   1975\u001b[0m     \u001b[38;5;28;01mraise\u001b[39;00m \u001b[38;5;167;01mRuntimeError\u001b[39;00m(  \u001b[38;5;66;03m# Impossible :)\u001b[39;00m\n\u001b[1;32m   1976\u001b[0m         \u001b[38;5;124m'\u001b[39m\u001b[38;5;124m_check_timeout(..., skip_check_and_raise=True) \u001b[39m\u001b[38;5;124m'\u001b[39m\n\u001b[1;32m   1977\u001b[0m         \u001b[38;5;124m'\u001b[39m\u001b[38;5;124mfailed to raise TimeoutExpired.\u001b[39m\u001b[38;5;124m'\u001b[39m)\n\u001b[0;32m-> 1979\u001b[0m ready \u001b[38;5;241m=\u001b[39m \u001b[43mselector\u001b[49m\u001b[38;5;241;43m.\u001b[39;49m\u001b[43mselect\u001b[49m\u001b[43m(\u001b[49m\u001b[43mtimeout\u001b[49m\u001b[43m)\u001b[49m\n\u001b[1;32m   1980\u001b[0m \u001b[38;5;28mself\u001b[39m\u001b[38;5;241m.\u001b[39m_check_timeout(endtime, orig_timeout, stdout, stderr)\n\u001b[1;32m   1982\u001b[0m \u001b[38;5;66;03m# XXX Rewrite these to use non-blocking I/O on the file\u001b[39;00m\n\u001b[1;32m   1983\u001b[0m \u001b[38;5;66;03m# objects; they are no longer using C stdio!\u001b[39;00m\n",
      "File \u001b[0;32m/usr/lib/python3.9/selectors.py:416\u001b[0m, in \u001b[0;36m_PollLikeSelector.select\u001b[0;34m(self, timeout)\u001b[0m\n\u001b[1;32m    414\u001b[0m ready \u001b[38;5;241m=\u001b[39m []\n\u001b[1;32m    415\u001b[0m \u001b[38;5;28;01mtry\u001b[39;00m:\n\u001b[0;32m--> 416\u001b[0m     fd_event_list \u001b[38;5;241m=\u001b[39m \u001b[38;5;28;43mself\u001b[39;49m\u001b[38;5;241;43m.\u001b[39;49m\u001b[43m_selector\u001b[49m\u001b[38;5;241;43m.\u001b[39;49m\u001b[43mpoll\u001b[49m\u001b[43m(\u001b[49m\u001b[43mtimeout\u001b[49m\u001b[43m)\u001b[49m\n\u001b[1;32m    417\u001b[0m \u001b[38;5;28;01mexcept\u001b[39;00m \u001b[38;5;167;01mInterruptedError\u001b[39;00m:\n\u001b[1;32m    418\u001b[0m     \u001b[38;5;28;01mreturn\u001b[39;00m ready\n",
      "\u001b[0;31mKeyboardInterrupt\u001b[0m: "
     ]
    }
   ],
   "source": [
    "import subprocess\n",
    "import os\n",
    "import pandas as pd\n",
    "\n",
    "def ucitaj_sekvencu_iz_fajla(fajl_putanja):\n",
    "    with open(fajl_putanja, 'r') as fajl:\n",
    "        linije = fajl.readlines()\n",
    "    return \"\".join(linija.strip() for linija in linije[1:])\n",
    "\n",
    "def pokreni_vsl2_na_fajlu(fajl_putanja):\n",
    "    vsl2_putanja = \"/home/user/Desktop/VSL2/VSL2.jar\"\n",
    "    rezultat = subprocess.run(['java', '-jar', vsl2_putanja, fajl_putanja], capture_output=True, text=True)\n",
    "\n",
    "    if rezultat.stderr:\n",
    "        print(f\"Greška pri pokretanju VSL2: {rezultat.stderr}\")\n",
    "    return parse_vsl2b_output(rezultat.stdout)\n",
    "\n",
    "def parse_vsl2b_output(vsl2b_output):\n",
    "    oznake = []\n",
    "    for line in vsl2b_output.splitlines():\n",
    "        parts = line.strip().split()\n",
    "        if len(parts) >= 3:\n",
    "            try:\n",
    "                score = float(parts[2])\n",
    "                oznake.append(\"uređena\" if score <= 0.5 else \"neuređena\")\n",
    "            except ValueError:\n",
    "                continue\n",
    "    return oznake\n",
    "\n",
    "def generisi_prozore_i_klasifikuj(sekvenca, min_duzina=30, max_duzina=100):\n",
    "    podaci = []\n",
    "    temp_fasta = \"temp_prozor.fasta\"\n",
    "    \n",
    "    for duzina in range(min_duzina, max_duzina + 1):\n",
    "        for i in range(len(sekvenca) - duzina + 1):\n",
    "            podsekvenca = sekvenca[i:i + duzina]\n",
    "            pozicija = f\"{i+1}-{i+duzina}\"\n",
    "            \n",
    "            with open(temp_fasta, 'w') as f:\n",
    "                f.write(f\">prozor_{i}\\n{podsekvenca}\\n\")\n",
    "            \n",
    "            oznake = pokreni_vsl2_na_fajlu(temp_fasta)\n",
    "            oznaka_prozora = \"uređena\" if oznake.count(\"uređena\") > len(oznake) / 2 else \"neuređena\"\n",
    "            \n",
    "            podaci.append((duzina, pozicija, podsekvenca, oznaka_prozora))\n",
    "    \n",
    "    os.remove(temp_fasta)\n",
    "    return podaci\n",
    "\n",
    "# Učitavanje sekvence\n",
    "fajl_putanja = \"Spike glycoprotein/YP_138523.1 | spike glycoprotein.fasta\"\n",
    "sekvenca = ucitaj_sekvencu_iz_fajla(fajl_putanja)\n",
    "\n",
    "# Generisanje prozora i klasifikacija\n",
    "podaci = generisi_prozore_i_klasifikuj(sekvenca)\n",
    "\n",
    "# Čuvanje u DataFrame i CSV\n",
    "kolone = [\"Duzina\", \"Pozicija\", \"Sekvenca\", \"VSL2 oznaka\"]\n",
    "df_sekvence = pd.DataFrame(podaci, columns=kolone)\n",
    "\n",
    "df_sekvence.to_csv(\"Spike glycoprotein/Klasifikovane_sekvence_VSL2_spike.csv\", index=False)\n",
    "print(df_sekvence.head())\n"
   ]
  },
  {
   "cell_type": "code",
   "execution_count": null,
   "id": "4fa54e6c-e51f-450c-ac37-b20f2d07d14c",
   "metadata": {},
   "outputs": [],
   "source": []
  }
 ],
 "metadata": {
  "kernelspec": {
   "display_name": "Python 3 (ipykernel)",
   "language": "python",
   "name": "python3"
  },
  "language_info": {
   "codemirror_mode": {
    "name": "ipython",
    "version": 3
   },
   "file_extension": ".py",
   "mimetype": "text/x-python",
   "name": "python",
   "nbconvert_exporter": "python",
   "pygments_lexer": "ipython3",
   "version": "3.9.5"
  }
 },
 "nbformat": 4,
 "nbformat_minor": 5
}
