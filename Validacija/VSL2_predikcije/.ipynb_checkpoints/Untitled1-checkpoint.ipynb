{
 "cells": [
  {
   "cell_type": "code",
   "execution_count": 2,
   "id": "beb378bb-fe64-4507-bdad-23852d1a78fd",
   "metadata": {},
   "outputs": [
    {
     "name": "stdout",
     "output_type": "stream",
     "text": [
      "Greška pri pokretanju VSL2: Exception in thread \"main\" java.lang.NullPointerException\n",
      "\tat VSL2.main(VSL2.java:181)\n",
      "\n",
      "Neusklađen broj oznaka i prozora!\n",
      "Greška pri pokretanju VSL2: Exception in thread \"main\" java.lang.NullPointerException\n",
      "\tat VSL2.main(VSL2.java:181)\n",
      "\n",
      "Neusklađen broj oznaka i prozora!\n",
      "Greška pri pokretanju VSL2: Exception in thread \"main\" java.lang.NullPointerException\n",
      "\tat VSL2.main(VSL2.java:181)\n",
      "Greška pri pokretanju VSL2: Exception in thread \"main\" java.lang.NullPointerException\n",
      "\tat VSL2.main(VSL2.java:181)\n",
      "\n",
      "\n",
      "Greška pri pokretanju VSL2: Exception in thread \"main\" java.lang.NullPointerException\n",
      "\tat VSL2.main(VSL2.java:181)\n",
      "\n"
     ]
    },
    {
     "ename": "FileNotFoundError",
     "evalue": "[Errno 2] No such file or directory: 'temp_prozori.fasta'",
     "output_type": "error",
     "traceback": [
      "\u001b[0;31m---------------------------------------------------------------------------\u001b[0m",
      "\u001b[0;31mRemoteTraceback\u001b[0m                           Traceback (most recent call last)",
      "\u001b[0;31mRemoteTraceback\u001b[0m: \n\"\"\"\nTraceback (most recent call last):\n  File \"/usr/lib/python3.9/multiprocessing/pool.py\", line 125, in worker\n    result = (True, func(*args, **kwds))\n  File \"/usr/lib/python3.9/multiprocessing/pool.py\", line 48, in mapstar\n    return list(map(*args))\n  File \"/tmp/ipykernel_90393/3112944185.py\", line 45, in klasifikuj_prozore\n    os.remove(temp_fasta)\nFileNotFoundError: [Errno 2] No such file or directory: 'temp_prozori.fasta'\n\"\"\"",
      "\nThe above exception was the direct cause of the following exception:\n",
      "\u001b[0;31mFileNotFoundError\u001b[0m                         Traceback (most recent call last)",
      "Cell \u001b[0;32mIn[2], line 70\u001b[0m\n\u001b[1;32m     67\u001b[0m fajl_putanja \u001b[38;5;241m=\u001b[39m os\u001b[38;5;241m.\u001b[39mpath\u001b[38;5;241m.\u001b[39mjoin(folder, fajl_ime)\n\u001b[1;32m     69\u001b[0m sekvenca \u001b[38;5;241m=\u001b[39m ucitaj_sekvencu_iz_fajla(fajl_putanja)\n\u001b[0;32m---> 70\u001b[0m podaci \u001b[38;5;241m=\u001b[39m \u001b[43mparalelna_klasifikacija\u001b[49m\u001b[43m(\u001b[49m\u001b[43msekvenca\u001b[49m\u001b[43m,\u001b[49m\u001b[43m \u001b[49m\u001b[43mnum_workers\u001b[49m\u001b[38;5;241;43m=\u001b[39;49m\u001b[38;5;241;43m4\u001b[39;49m\u001b[43m)\u001b[49m\n\u001b[1;32m     72\u001b[0m df_sekvence \u001b[38;5;241m=\u001b[39m pd\u001b[38;5;241m.\u001b[39mDataFrame(podaci, columns\u001b[38;5;241m=\u001b[39m[\u001b[38;5;124m\"\u001b[39m\u001b[38;5;124mDuzina\u001b[39m\u001b[38;5;124m\"\u001b[39m, \u001b[38;5;124m\"\u001b[39m\u001b[38;5;124mPozicija\u001b[39m\u001b[38;5;124m\"\u001b[39m, \u001b[38;5;124m\"\u001b[39m\u001b[38;5;124mSekvenca\u001b[39m\u001b[38;5;124m\"\u001b[39m, \u001b[38;5;124m\"\u001b[39m\u001b[38;5;124mVSL2 oznaka\u001b[39m\u001b[38;5;124m\"\u001b[39m])\n\u001b[1;32m     73\u001b[0m csv_putanja \u001b[38;5;241m=\u001b[39m os\u001b[38;5;241m.\u001b[39mpath\u001b[38;5;241m.\u001b[39mjoin(folder, \u001b[38;5;124m\"\u001b[39m\u001b[38;5;124mKlasifikovane_sekvence_VSL2_matrixprotein.csv\u001b[39m\u001b[38;5;124m\"\u001b[39m)\n",
      "Cell \u001b[0;32mIn[2], line 60\u001b[0m, in \u001b[0;36mparalelna_klasifikacija\u001b[0;34m(sekvenca, min_duzina, max_duzina, num_workers)\u001b[0m\n\u001b[1;32m     57\u001b[0m chunks \u001b[38;5;241m=\u001b[39m [podsekvence[i:i \u001b[38;5;241m+\u001b[39m chunk_size] \u001b[38;5;28;01mfor\u001b[39;00m i \u001b[38;5;129;01min\u001b[39;00m \u001b[38;5;28mrange\u001b[39m(\u001b[38;5;241m0\u001b[39m, \u001b[38;5;28mlen\u001b[39m(podsekvence), chunk_size)]\n\u001b[1;32m     59\u001b[0m \u001b[38;5;28;01mwith\u001b[39;00m Pool(num_workers) \u001b[38;5;28;01mas\u001b[39;00m pool:\n\u001b[0;32m---> 60\u001b[0m     rezultati \u001b[38;5;241m=\u001b[39m \u001b[43mpool\u001b[49m\u001b[38;5;241;43m.\u001b[39;49m\u001b[43mmap\u001b[49m\u001b[43m(\u001b[49m\u001b[43mklasifikuj_prozore\u001b[49m\u001b[43m,\u001b[49m\u001b[43m \u001b[49m\u001b[43mchunks\u001b[49m\u001b[43m)\u001b[49m\n\u001b[1;32m     62\u001b[0m \u001b[38;5;28;01mreturn\u001b[39;00m [item \u001b[38;5;28;01mfor\u001b[39;00m sublist \u001b[38;5;129;01min\u001b[39;00m rezultati \u001b[38;5;28;01mfor\u001b[39;00m item \u001b[38;5;129;01min\u001b[39;00m sublist]\n",
      "File \u001b[0;32m/usr/lib/python3.9/multiprocessing/pool.py:364\u001b[0m, in \u001b[0;36mPool.map\u001b[0;34m(self, func, iterable, chunksize)\u001b[0m\n\u001b[1;32m    359\u001b[0m \u001b[38;5;28;01mdef\u001b[39;00m\u001b[38;5;250m \u001b[39m\u001b[38;5;21mmap\u001b[39m(\u001b[38;5;28mself\u001b[39m, func, iterable, chunksize\u001b[38;5;241m=\u001b[39m\u001b[38;5;28;01mNone\u001b[39;00m):\n\u001b[1;32m    360\u001b[0m \u001b[38;5;250m    \u001b[39m\u001b[38;5;124;03m'''\u001b[39;00m\n\u001b[1;32m    361\u001b[0m \u001b[38;5;124;03m    Apply `func` to each element in `iterable`, collecting the results\u001b[39;00m\n\u001b[1;32m    362\u001b[0m \u001b[38;5;124;03m    in a list that is returned.\u001b[39;00m\n\u001b[1;32m    363\u001b[0m \u001b[38;5;124;03m    '''\u001b[39;00m\n\u001b[0;32m--> 364\u001b[0m     \u001b[38;5;28;01mreturn\u001b[39;00m \u001b[38;5;28;43mself\u001b[39;49m\u001b[38;5;241;43m.\u001b[39;49m\u001b[43m_map_async\u001b[49m\u001b[43m(\u001b[49m\u001b[43mfunc\u001b[49m\u001b[43m,\u001b[49m\u001b[43m \u001b[49m\u001b[43miterable\u001b[49m\u001b[43m,\u001b[49m\u001b[43m \u001b[49m\u001b[43mmapstar\u001b[49m\u001b[43m,\u001b[49m\u001b[43m \u001b[49m\u001b[43mchunksize\u001b[49m\u001b[43m)\u001b[49m\u001b[38;5;241;43m.\u001b[39;49m\u001b[43mget\u001b[49m\u001b[43m(\u001b[49m\u001b[43m)\u001b[49m\n",
      "File \u001b[0;32m/usr/lib/python3.9/multiprocessing/pool.py:771\u001b[0m, in \u001b[0;36mApplyResult.get\u001b[0;34m(self, timeout)\u001b[0m\n\u001b[1;32m    769\u001b[0m     \u001b[38;5;28;01mreturn\u001b[39;00m \u001b[38;5;28mself\u001b[39m\u001b[38;5;241m.\u001b[39m_value\n\u001b[1;32m    770\u001b[0m \u001b[38;5;28;01melse\u001b[39;00m:\n\u001b[0;32m--> 771\u001b[0m     \u001b[38;5;28;01mraise\u001b[39;00m \u001b[38;5;28mself\u001b[39m\u001b[38;5;241m.\u001b[39m_value\n",
      "\u001b[0;31mFileNotFoundError\u001b[0m: [Errno 2] No such file or directory: 'temp_prozori.fasta'"
     ]
    }
   ],
   "source": [
    "import subprocess\n",
    "import os\n",
    "import pandas as pd\n",
    "\n",
    "VSL2_JAR = \"/home/user/Desktop/VSL2/VSL2.jar\"\n",
    "\n",
    "def ucitaj_sekvencu_iz_fajla(fajl_putanja):\n",
    "    with open(fajl_putanja, 'r') as fajl:\n",
    "        return \"\".join(l.strip() for l in fajl.readlines()[1:])\n",
    "\n",
    "def pokreni_vsl2(sekvenca):\n",
    "    \"\"\" Pokreće VSL2 na zadatoj sekvenci koristeći subprocess i vraća oznake. \"\"\"\n",
    "    rezultat = subprocess.run(\n",
    "        ['java', '-jar', VSL2_JAR, f\"-s:{sekvenca}\"],\n",
    "        capture_output=True, text=True\n",
    "    )\n",
    "    if rezultat.stderr:\n",
    "        print(f\"Greška pri pokretanju VSL2: {rezultat.stderr}\")\n",
    "        return None\n",
    "    return [float(line.split()[2]) for line in rezultat.stdout.splitlines() if len(line.split()) >= 3]\n",
    "\n",
    "def generisi_prozore_i_klasifikuj(sekvenca, min_duzina=80, max_duzina=100):\n",
    "    podaci = []\n",
    "    for duzina in range(min_duzina, max_duzina + 1):\n",
    "        for i in range(len(sekvenca) - duzina + 1):\n",
    "            podsekvenca = sekvenca[i:i + duzina]\n",
    "            oznake = pokreni_vsl2(podsekvenca)\n",
    "\n",
    "            if oznake is None:\n",
    "                print(f\"Preskačem prozor {i+1}-{i+duzina}, VSL2 nije dao rezultate.\")\n",
    "                continue\n",
    "\n",
    "            oznaka_prozora = \"uređena\" if sum(1 for s in oznake if s <= 0.5) > len(oznake) / 2 else \"neuređena\"\n",
    "            podaci.append((duzina, f\"{i+1}-{i+duzina}\", podsekvenca, oznaka_prozora))\n",
    "\n",
    "    return podaci\n",
    "\n",
    "# **Postavljanje putanja**\n",
    "folder = \"Membranski protein\"\n",
    "fajl_putanja = os.path.join(folder, \"YP_138522.1_matrix.fasta\")\n",
    "\n",
    "# **Učitavanje sekvence i klasifikacija**\n",
    "sekvenca = ucitaj_sekvencu_iz_fajla(fajl_putanja)\n",
    "podaci = generisi_prozore_i_klasifikuj(sekvenca)\n",
    "\n",
    "# **Čuvanje rezultata u CSV**\n",
    "df = pd.DataFrame(podaci, columns=[\"Duzina\", \"Pozicija\", \"Sekvenca\", \"VSL2 oznaka\"])\n",
    "df.to_csv(os.path.join(folder, \"Klasifikovane_sekvence_VSL2_matrix_protein.csv\"), index=False)\n",
    "\n",
    "print(df.head())\n"
   ]
  },
  {
   "cell_type": "code",
   "execution_count": null,
   "id": "bec60f28-90e8-4faf-973b-aa45a57109e5",
   "metadata": {},
   "outputs": [],
   "source": []
  }
 ],
 "metadata": {
  "kernelspec": {
   "display_name": "Python 3 (ipykernel)",
   "language": "python",
   "name": "python3"
  },
  "language_info": {
   "codemirror_mode": {
    "name": "ipython",
    "version": 3
   },
   "file_extension": ".py",
   "mimetype": "text/x-python",
   "name": "python",
   "nbconvert_exporter": "python",
   "pygments_lexer": "ipython3",
   "version": "3.9.5"
  }
 },
 "nbformat": 4,
 "nbformat_minor": 5
}
