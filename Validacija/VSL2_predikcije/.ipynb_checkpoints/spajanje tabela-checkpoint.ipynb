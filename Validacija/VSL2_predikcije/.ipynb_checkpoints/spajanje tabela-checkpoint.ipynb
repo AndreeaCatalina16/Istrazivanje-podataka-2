{
 "cells": [
  {
   "cell_type": "code",
   "execution_count": 2,
   "id": "38780bdd-40eb-4ff0-a90a-8aa97960de56",
   "metadata": {},
   "outputs": [
    {
     "name": "stdout",
     "output_type": "stream",
     "text": [
      "Finalni DataFrame:\n",
      "   Duzina Pozicija                        Sekvenca KNN Oznaka VSL2 oznaka\n",
      "0      30     1-30  MGGLSLLQLPRDKFRKSSFFVWVIILFQKA    uređena     uređena\n",
      "1      30     2-31  GGLSLLQLPRDKFRKSSFFVWVIILFQKAF    uređena     uređena\n",
      "2      30     3-32  GLSLLQLPRDKFRKSSFFVWVIILFQKAFS    uređena     uređena\n",
      "3      30     4-33  LSLLQLPRDKFRKSSFFVWVIILFQKAFSM    uređena     uređena\n",
      "4      30     5-34  SLLQLPRDKFRKSSFFVWVIILFQKAFSMP    uređena     uređena\n"
     ]
    }
   ],
   "source": [
    "import pandas as pd\n",
    "\n",
    "# Učitajte CSV fajlove\n",
    "df_vsl2 = pd.read_csv(\"/home/pc/Desktop/Istrazivanje-podataka-2/Validacija/VSL2_predikcije/Spike glycoprotein/Klasifikovane_sekvence_VSL2_spike_izdvojen_protein.csv\") \n",
    "df_knn = pd.read_csv(\"/home/pc/Desktop/Istrazivanje-podataka-2/Validacija/VSL2_predikcije/Spike glycoprotein/sekvence_oznake_KNN_YP_138523.1 | spike glycoprotein.csv\")\n",
    "\n",
    "# Pretvori listu sekvenci u VSL2 tabeli u stringove\n",
    "df_vsl2['Sekvenca'] = df_vsl2['Sekvenca'].apply(lambda x: ''.join(eval(x)) if isinstance(x, str) and x.startswith('[') else x)\n",
    "\n",
    "# Pretvori listu sekvenci u KNN tabeli u stringove\n",
    "df_knn['Sekvenca'] = df_knn['Sekvenca'].apply(lambda x: ''.join(eval(x)) if isinstance(x, str) and x.startswith('[') else x)\n",
    "\n",
    "# Spoji tabele po koloni 'Sekvenca', bez duplikata za 'Duzina' i 'Pozicija'\n",
    "finalni_df = pd.merge(df_knn, df_vsl2, on='Sekvenca', how='inner', suffixes=('', '_VSL2'))\n",
    "\n",
    "# Obriši duplikate kolona 'Duzina' i 'Pozicija' \n",
    "finalni_df.drop(['Duzina_VSL2', 'Pozicija_VSL2'], axis=1, inplace=True)\n",
    "\n",
    "# Preimenuje se kolona 'Oznaka' u 'KNN Oznaka'\n",
    "finalni_df.rename(columns={'Oznaka': 'KNN Oznaka'}, inplace=True)\n",
    "\n",
    "# Prikaz finalnog DataFrame-a\n",
    "print(\"Finalni DataFrame:\")\n",
    "print(finalni_df.head())\n",
    "\n",
    "\n",
    "finalni_df.to_csv(\"Spike glycoprotein/VSL2_KNN_predikcije_YP_138523.1_30-100.csv\", index=False)\n"
   ]
  },
  {
   "cell_type": "code",
   "execution_count": null,
   "id": "2a094d1e-0814-4ea2-b83f-ec84a4eac977",
   "metadata": {},
   "outputs": [],
   "source": []
  }
 ],
 "metadata": {
  "kernelspec": {
   "display_name": "Python 3 (ipykernel)",
   "language": "python",
   "name": "python3"
  },
  "language_info": {
   "codemirror_mode": {
    "name": "ipython",
    "version": 3
   },
   "file_extension": ".py",
   "mimetype": "text/x-python",
   "name": "python",
   "nbconvert_exporter": "python",
   "pygments_lexer": "ipython3",
   "version": "3.10.12"
  }
 },
 "nbformat": 4,
 "nbformat_minor": 5
}
