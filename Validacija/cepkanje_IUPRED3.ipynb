{
 "cells": [
  {
   "cell_type": "code",
   "execution_count": 1,
   "id": "d9ff1b96-b433-43f0-93f7-e176dfb797e8",
   "metadata": {},
   "outputs": [
    {
     "name": "stdout",
     "output_type": "stream",
     "text": [
      "Sekvenca proteina ARQ84735.1: ['M', 'G', 'G', 'L', 'S', 'L', 'L', 'Q', 'L', 'P', 'R', 'D', 'K', 'F', 'R', 'K', 'S', 'S', 'F', 'F', 'V', 'W', 'V', 'I', 'I', 'L', 'F', 'Q', 'K', 'A', 'F', 'S', 'M', 'P', 'L', 'G', 'V', 'V', 'T', 'N', 'S', 'T', 'L', 'E', 'V', 'T', 'E', 'I', 'D', 'Q', 'L', 'V', 'C', 'K', 'D', 'H', 'L', 'A', 'S', 'T', 'D', 'Q', 'L', 'K', 'S', 'V', 'G', 'L', 'N', 'L', 'E', 'G', 'S', 'G', 'V', 'S', 'T', 'D', 'I', 'P', 'S', 'A', 'T', 'K', 'R', 'W', 'G', 'F', 'R', 'S', 'G', 'V', 'P', 'P', 'K', 'V', 'V', 'S', 'Y', 'E', 'A', 'G', 'E', 'W', 'A', 'E', 'N', 'C', 'Y', 'N', 'L', 'E', 'I', 'K', 'K', 'P', 'D', 'G', 'S', 'E', 'C', 'L', 'P', 'P', 'P', 'P', 'D', 'G', 'V', 'R', 'G', 'F', 'P', 'R', 'C', 'R', 'Y', 'V', 'H', 'K', 'A', 'Q', 'G', 'T', 'G', 'P', 'C', 'P', 'G', 'D', 'Y', 'A', 'F', 'H', 'K', 'D', 'G', 'A', 'F', 'F', 'L', 'Y', 'D', 'R', 'L', 'A', 'S', 'T', 'V', 'I', 'Y', 'R', 'G', 'V', 'N', 'F', 'A', 'E', 'G', 'V', 'I', 'A', 'F', 'L', 'I', 'L', 'A', 'K', 'P', 'K', 'E', 'T', 'F', 'L', 'Q', 'S', 'P', 'P', 'I', 'R', 'E', 'A', 'V', 'N', 'Y', 'T', 'E', 'N', 'T', 'S', 'S', 'Y', 'Y', 'A', 'T', 'S', 'Y', 'L', 'E', 'Y', 'E', 'I', 'E', 'N', 'F', 'G', 'A', 'Q', 'H', 'S', 'T', 'T', 'L', 'F', 'K', 'I', 'D', 'N', 'N', 'T', 'F', 'V', 'R', 'L', 'D', 'R', 'P', 'H', 'T', 'P', 'Q', 'F', 'L', 'F', 'Q', 'L', 'N', 'D', 'T', 'I', 'H', 'L', 'H', 'Q', 'Q', 'L', 'S', 'N', 'T', 'T', 'G', 'R', 'L', 'I', 'W', 'T', 'L', 'D', 'A', 'N', 'I', 'N', 'A', 'D', 'I', 'G', 'E', 'W', 'A', 'F', 'W', 'E', 'N', 'K', 'K', 'N', 'L', 'S', 'E', 'Q', 'L', 'R', 'G', 'E', 'E', 'L', 'S', 'F', 'E', 'A', 'L', 'S', 'L', 'N', 'E', 'T', 'E', 'D', 'D', 'D', 'A', 'A', 'S', 'S', 'R', 'I', 'T', 'K', 'G', 'R', 'I', 'S', 'D', 'R', 'A', 'T', 'R', 'K', 'Y', 'S', 'D', 'L', 'V', 'P', 'K', 'N', 'S', 'P', 'G', 'M', 'V', 'P', 'L', 'H', 'I', 'P', 'E', 'G', 'E', 'T', 'T', 'L', 'P', 'S', 'Q', 'N', 'S', 'T', 'E', 'G', 'R', 'R', 'V', 'G', 'V', 'N', 'T', 'Q', 'E', 'T', 'I', 'T', 'E', 'T', 'A', 'A', 'T', 'I', 'I', 'G', 'T', 'N', 'G', 'N', 'H', 'M', 'Q', 'I', 'S', 'T', 'I', 'G', 'I', 'R', 'P', 'S', 'S', 'S', 'Q', 'I', 'P', 'S', 'S', 'S', 'P', 'T', 'T', 'A', 'P', 'S', 'P', 'E', 'A', 'Q', 'T', 'P', 'T', 'T', 'H', 'T', 'S', 'G', 'P', 'S', 'V', 'M', 'A', 'T', 'E', 'E', 'P', 'T', 'T', 'P', 'P', 'G', 'S', 'S', 'P', 'G', 'P', 'T', 'T', 'E', 'A', 'P', 'T', 'L', 'T', 'T', 'P', 'E', 'N', 'I', 'T', 'T', 'A', 'V', 'K', 'T', 'V', 'L', 'P', 'Q', 'E', 'S', 'T', 'S', 'N', 'G', 'L', 'I', 'T', 'S', 'T', 'V', 'T', 'G', 'I', 'L', 'G', 'S', 'L', 'G', 'L', 'R', 'K', 'R', 'S', 'R', 'R', 'Q', 'T', 'N', 'T', 'K', 'A', 'T', 'G', 'K', 'C', 'N', 'P', 'N', 'L', 'H', 'Y', 'W', 'T', 'A', 'Q', 'E', 'Q', 'H', 'N', 'A', 'A', 'G', 'I', 'A', 'W', 'I', 'P', 'Y', 'F', 'G', 'P', 'G', 'A', 'E', 'G', 'I', 'Y', 'T', 'E', 'G', 'L', 'M', 'H', 'N', 'Q', 'N', 'A', 'L', 'V', 'C', 'G', 'L', 'R', 'Q', 'L', 'A', 'N', 'E', 'T', 'T', 'Q', 'A', 'L', 'Q', 'L', 'F', 'L', 'R', 'A', 'T', 'T', 'E', 'L', 'R', 'T', 'Y', 'T', 'I', 'L', 'N', 'R', 'K', 'A', 'I', 'D', 'F', 'L', 'L', 'R', 'R', 'W', 'G', 'G', 'T', 'C', 'R', 'I', 'L', 'G', 'P', 'D', 'C', 'C', 'I', 'E', 'P', 'H', 'D', 'W', 'T', 'K', 'N', 'I', 'T', 'D', 'K', 'I', 'N', 'Q', 'I', 'I', 'H', 'D', 'F', 'I', 'D', 'N', 'P', 'L', 'P', 'N', 'Q', 'D', 'N', 'D', 'D', 'N', 'W', 'W', 'T', 'G', 'W', 'R', 'Q', 'W', 'I', 'P', 'A', 'G', 'I', 'G', 'I', 'T', 'G', 'I', 'I', 'I', 'A', 'I', 'I', 'A', 'L', 'L', 'C', 'V', 'C', 'K', 'L', 'L', 'C']\n"
     ]
    }
   ],
   "source": [
    "import pandas as pd\n",
    "\n",
    "df = pd.read_csv(\"Ulazni podaci IUPRED3/YP_138523.1 |spike glycoprotein.csv\")\n",
    "\n",
    "sekvenca = df['Aminokiselina'].tolist()\n",
    "\n",
    "print(\"Sekvenca proteina:\", sekvenca)\n"
   ]
  },
  {
   "cell_type": "code",
   "execution_count": 2,
   "id": "0e14b661-db29-4add-8497-0912637b7caa",
   "metadata": {},
   "outputs": [
    {
     "name": "stdout",
     "output_type": "stream",
     "text": [
      "['uređena', 'uređena', 'uređena', 'uređena', 'uređena', 'uređena', 'uređena', 'uređena', 'uređena', 'uređena', 'uređena', 'uređena', 'uređena', 'uređena', 'uređena', 'uređena', 'uređena', 'uređena', 'uređena', 'uređena', 'uređena', 'uređena', 'uređena', 'uređena', 'uređena', 'uređena', 'uređena', 'uređena', 'uređena', 'uređena', 'uređena', 'uređena', 'uređena', 'uređena', 'uređena', 'uređena', 'uređena', 'uređena', 'uređena', 'uređena', 'uređena', 'uređena', 'uređena', 'uređena', 'uređena', 'uređena', 'uređena', 'uređena', 'uređena', 'uređena', 'uređena', 'uređena', 'uređena', 'uređena', 'uređena', 'uređena', 'uređena', 'uređena', 'uređena', 'uređena', 'uređena', 'uređena', 'uređena', 'uređena', 'uređena', 'uređena', 'uređena', 'uređena', 'uređena', 'uređena', 'uređena', 'uređena', 'uređena', 'uređena', 'uređena', 'uređena', 'uređena', 'uređena', 'uređena', 'uređena', 'uređena', 'uređena', 'uređena', 'uređena', 'uređena', 'uređena', 'uređena', 'uređena', 'uređena', 'uređena', 'uređena', 'uređena', 'uređena', 'uređena', 'uređena', 'uređena', 'uređena', 'uređena', 'uređena', 'uređena', 'uređena', 'uređena', 'uređena', 'uređena', 'uređena', 'uređena', 'uređena', 'uređena', 'uređena', 'uređena', 'uređena', 'uređena', 'uređena', 'uređena', 'uređena', 'uređena', 'uređena', 'uređena', 'uređena', 'uređena', 'neuređena', 'neuređena', 'neuređena', 'neuređena', 'uređena', 'uređena', 'uređena', 'uređena', 'uređena', 'uređena', 'uređena', 'uređena', 'uređena', 'uređena', 'uređena', 'uređena', 'uređena', 'uređena', 'uređena', 'uređena', 'uređena', 'uređena', 'uređena', 'uređena', 'uređena', 'uređena', 'uređena', 'uređena', 'uređena', 'uređena', 'uređena', 'uređena', 'uređena', 'uređena', 'uređena', 'uređena', 'uređena', 'uređena', 'uređena', 'uređena', 'uređena', 'uređena', 'uređena', 'uređena', 'uređena', 'uređena', 'uređena', 'uređena', 'uređena', 'uređena', 'uređena', 'uređena', 'uređena', 'uređena', 'uređena', 'uređena', 'uređena', 'uređena', 'uređena', 'uređena', 'uređena', 'uređena', 'uređena', 'uređena', 'uređena', 'uređena', 'uređena', 'uređena', 'uređena', 'uređena', 'uređena', 'uređena', 'uređena', 'uređena', 'uređena', 'uređena', 'uređena', 'uređena', 'uređena', 'uređena', 'uređena', 'uređena', 'uređena', 'uređena', 'uređena', 'uređena', 'uređena', 'uređena', 'uređena', 'uređena', 'uređena', 'uređena', 'uređena', 'uređena', 'uređena', 'uređena', 'uređena', 'uređena', 'uređena', 'uređena', 'uređena', 'uređena', 'uređena', 'uređena', 'uređena', 'uređena', 'uređena', 'uređena', 'uređena', 'uređena', 'uređena', 'uređena', 'uređena', 'uređena', 'uređena', 'uređena', 'uređena', 'uređena', 'uređena', 'uređena', 'uređena', 'uređena', 'uređena', 'uređena', 'uređena', 'uređena', 'uređena', 'uređena', 'uređena', 'uređena', 'uređena', 'uređena', 'uređena', 'uređena', 'uređena', 'uređena', 'uređena', 'uređena', 'uređena', 'uređena', 'uređena', 'uređena', 'uređena', 'uređena', 'uređena', 'uređena', 'uređena', 'uređena', 'uređena', 'uređena', 'uređena', 'uređena', 'uređena', 'uređena', 'uređena', 'uređena', 'uređena', 'uređena', 'uređena', 'uređena', 'uređena', 'uređena', 'uređena', 'uređena', 'uređena', 'uređena', 'uređena', 'uređena', 'uređena', 'uređena', 'uređena', 'uređena', 'uređena', 'uređena', 'uređena', 'uređena', 'uređena', 'uređena', 'uređena', 'uređena', 'uređena', 'uređena', 'uređena', 'uređena', 'uređena', 'uređena', 'uređena', 'uređena', 'neuređena', 'neuređena', 'neuređena', 'neuređena', 'neuređena', 'neuređena', 'neuređena', 'neuređena', 'neuređena', 'neuređena', 'neuređena', 'neuređena', 'neuređena', 'neuređena', 'neuređena', 'neuređena', 'neuređena', 'neuređena', 'neuređena', 'neuređena', 'neuređena', 'neuređena', 'neuređena', 'neuređena', 'neuređena', 'neuređena', 'neuređena', 'neuređena', 'neuređena', 'neuređena', 'neuređena', 'neuređena', 'neuređena', 'neuređena', 'neuređena', 'neuređena', 'neuređena', 'neuređena', 'neuređena', 'neuređena', 'neuređena', 'neuređena', 'neuređena', 'neuređena', 'neuređena', 'neuređena', 'neuređena', 'neuređena', 'neuređena', 'neuređena', 'neuređena', 'neuređena', 'neuređena', 'neuređena', 'neuređena', 'neuređena', 'neuređena', 'neuređena', 'neuređena', 'neuređena', 'neuređena', 'neuređena', 'neuređena', 'neuređena', 'neuređena', 'neuređena', 'neuređena', 'neuređena', 'neuređena', 'neuređena', 'neuređena', 'neuređena', 'neuređena', 'neuređena', 'neuređena', 'neuređena', 'neuređena', 'neuređena', 'neuređena', 'neuređena', 'neuređena', 'neuređena', 'neuređena', 'neuređena', 'neuređena', 'neuređena', 'neuređena', 'neuređena', 'neuređena', 'neuređena', 'neuređena', 'neuređena', 'neuređena', 'neuređena', 'neuređena', 'neuređena', 'neuređena', 'neuređena', 'neuređena', 'neuređena', 'neuređena', 'neuređena', 'neuređena', 'neuređena', 'neuređena', 'neuređena', 'neuređena', 'neuređena', 'neuređena', 'neuređena', 'neuređena', 'neuređena', 'neuređena', 'neuređena', 'neuređena', 'neuređena', 'neuređena', 'neuređena', 'neuređena', 'neuređena', 'neuređena', 'neuređena', 'neuređena', 'neuređena', 'neuređena', 'neuređena', 'neuređena', 'neuređena', 'neuređena', 'neuređena', 'neuređena', 'neuređena', 'neuređena', 'neuređena', 'neuređena', 'neuređena', 'neuređena', 'neuređena', 'neuređena', 'neuređena', 'neuređena', 'neuređena', 'neuređena', 'neuređena', 'neuređena', 'neuređena', 'neuređena', 'neuređena', 'neuređena', 'neuređena', 'neuređena', 'neuređena', 'neuređena', 'neuređena', 'neuređena', 'neuređena', 'neuređena', 'neuređena', 'neuređena', 'neuređena', 'neuređena', 'neuređena', 'neuređena', 'neuređena', 'neuređena', 'neuređena', 'neuređena', 'neuređena', 'neuređena', 'neuređena', 'neuređena', 'neuređena', 'neuređena', 'neuređena', 'neuređena', 'uređena', 'uređena', 'uređena', 'uređena', 'uređena', 'uređena', 'uređena', 'uređena', 'uređena', 'neuređena', 'neuređena', 'neuređena', 'neuređena', 'neuređena', 'neuređena', 'neuređena', 'neuređena', 'neuređena', 'neuređena', 'neuređena', 'neuređena', 'neuređena', 'neuređena', 'neuređena', 'neuređena', 'neuređena', 'neuređena', 'neuređena', 'neuređena', 'neuređena', 'neuređena', 'neuređena', 'uređena', 'uređena', 'uređena', 'uređena', 'uređena', 'uređena', 'uređena', 'uređena', 'uređena', 'uređena', 'uređena', 'uređena', 'uređena', 'uređena', 'uređena', 'uređena', 'uređena', 'uređena', 'uređena', 'uređena', 'uređena', 'uređena', 'uređena', 'uređena', 'uređena', 'uređena', 'uređena', 'uređena', 'uređena', 'uređena', 'uređena', 'uređena', 'uređena', 'uređena', 'uređena', 'uređena', 'uređena', 'uređena', 'uređena', 'uređena', 'uređena', 'uređena', 'uređena', 'uređena', 'uređena', 'uređena', 'uređena', 'uređena', 'uređena', 'uređena', 'uređena', 'uređena', 'uređena', 'uređena', 'uređena', 'uređena', 'uređena', 'uređena', 'uređena', 'uređena', 'uređena', 'uređena', 'uređena', 'uređena', 'uređena', 'uređena', 'uređena', 'uređena', 'uređena', 'uređena', 'uređena', 'uređena', 'uređena', 'uređena', 'uređena', 'uređena', 'uređena', 'uređena', 'uređena', 'uređena', 'uređena', 'uređena', 'uređena', 'uređena', 'uređena', 'uređena', 'uređena', 'uređena', 'uređena', 'uređena', 'uređena', 'uređena', 'uređena', 'uređena', 'uređena', 'uređena', 'uređena', 'uređena', 'uređena', 'uređena', 'uređena', 'uređena', 'uređena', 'uređena', 'uređena', 'uređena', 'uređena', 'uređena', 'uređena', 'uređena', 'uređena', 'uređena', 'uređena', 'uređena', 'uređena', 'uređena', 'uređena', 'uređena', 'uređena', 'uređena', 'uređena', 'uređena', 'uređena', 'uređena', 'uređena', 'uređena', 'uređena', 'uređena', 'uređena', 'uređena', 'uređena', 'uređena', 'uređena', 'uređena', 'uređena', 'uređena', 'uređena', 'uređena', 'uređena', 'uređena', 'uređena', 'uređena', 'uređena', 'uređena', 'uređena', 'uređena', 'uređena', 'uređena', 'uređena', 'uređena', 'uređena', 'uređena', 'uređena', 'uređena', 'uređena', 'uređena', 'uređena', 'uređena', 'uređena', 'uređena', 'uređena']\n"
     ]
    }
   ],
   "source": [
    "# Izdvajanje svih vrednosti iz kolone 'Klasifikacija'\n",
    "oznake = df['Klasifikacija'].tolist()\n",
    "\n",
    "# Prikazivanje liste\n",
    "print(oznake)\n"
   ]
  },
  {
   "cell_type": "code",
   "execution_count": 9,
   "id": "a681f3ce-7c0f-4527-8f06-b78bf3ee83a0",
   "metadata": {},
   "outputs": [
    {
     "name": "stdout",
     "output_type": "stream",
     "text": [
      "Primer sekvence: [['M', 'G', 'G', 'L', 'S', 'L', 'L', 'Q', 'L', 'P', 'R', 'D', 'K', 'F', 'R', 'K', 'S', 'S', 'F', 'F', 'V', 'W', 'V', 'I', 'I', 'L', 'F', 'Q', 'K', 'A', 'F', 'S', 'M', 'P', 'L', 'G', 'V', 'V', 'T', 'N', 'S', 'T', 'L', 'E', 'V', 'T', 'E', 'I', 'D', 'Q', 'L', 'V', 'C', 'K', 'D', 'H', 'L', 'A', 'S', 'T', 'D', 'Q', 'L', 'K', 'S', 'V', 'G', 'L', 'N', 'L', 'E', 'G', 'S', 'G', 'V', 'S', 'T', 'D', 'I', 'P', 'S', 'A', 'T', 'K', 'R', 'W', 'G', 'F', 'R', 'S', 'G', 'V', 'P', 'P', 'K', 'V', 'V', 'S'], ['G', 'G', 'L', 'S', 'L', 'L', 'Q', 'L', 'P', 'R', 'D', 'K', 'F', 'R', 'K', 'S', 'S', 'F', 'F', 'V', 'W', 'V', 'I', 'I', 'L', 'F', 'Q', 'K', 'A', 'F', 'S', 'M', 'P', 'L', 'G', 'V', 'V', 'T', 'N', 'S', 'T', 'L', 'E', 'V', 'T', 'E', 'I', 'D', 'Q', 'L', 'V', 'C', 'K', 'D', 'H', 'L', 'A', 'S', 'T', 'D', 'Q', 'L', 'K', 'S', 'V', 'G', 'L', 'N', 'L', 'E', 'G', 'S', 'G', 'V', 'S', 'T', 'D', 'I', 'P', 'S', 'A', 'T', 'K', 'R', 'W', 'G', 'F', 'R', 'S', 'G', 'V', 'P', 'P', 'K', 'V', 'V', 'S', 'Y'], ['G', 'L', 'S', 'L', 'L', 'Q', 'L', 'P', 'R', 'D', 'K', 'F', 'R', 'K', 'S', 'S', 'F', 'F', 'V', 'W', 'V', 'I', 'I', 'L', 'F', 'Q', 'K', 'A', 'F', 'S', 'M', 'P', 'L', 'G', 'V', 'V', 'T', 'N', 'S', 'T', 'L', 'E', 'V', 'T', 'E', 'I', 'D', 'Q', 'L', 'V', 'C', 'K', 'D', 'H', 'L', 'A', 'S', 'T', 'D', 'Q', 'L', 'K', 'S', 'V', 'G', 'L', 'N', 'L', 'E', 'G', 'S', 'G', 'V', 'S', 'T', 'D', 'I', 'P', 'S', 'A', 'T', 'K', 'R', 'W', 'G', 'F', 'R', 'S', 'G', 'V', 'P', 'P', 'K', 'V', 'V', 'S', 'Y', 'E'], ['L', 'S', 'L', 'L', 'Q', 'L', 'P', 'R', 'D', 'K', 'F', 'R', 'K', 'S', 'S', 'F', 'F', 'V', 'W', 'V', 'I', 'I', 'L', 'F', 'Q', 'K', 'A', 'F', 'S', 'M', 'P', 'L', 'G', 'V', 'V', 'T', 'N', 'S', 'T', 'L', 'E', 'V', 'T', 'E', 'I', 'D', 'Q', 'L', 'V', 'C', 'K', 'D', 'H', 'L', 'A', 'S', 'T', 'D', 'Q', 'L', 'K', 'S', 'V', 'G', 'L', 'N', 'L', 'E', 'G', 'S', 'G', 'V', 'S', 'T', 'D', 'I', 'P', 'S', 'A', 'T', 'K', 'R', 'W', 'G', 'F', 'R', 'S', 'G', 'V', 'P', 'P', 'K', 'V', 'V', 'S', 'Y', 'E', 'A'], ['S', 'L', 'L', 'Q', 'L', 'P', 'R', 'D', 'K', 'F', 'R', 'K', 'S', 'S', 'F', 'F', 'V', 'W', 'V', 'I', 'I', 'L', 'F', 'Q', 'K', 'A', 'F', 'S', 'M', 'P', 'L', 'G', 'V', 'V', 'T', 'N', 'S', 'T', 'L', 'E', 'V', 'T', 'E', 'I', 'D', 'Q', 'L', 'V', 'C', 'K', 'D', 'H', 'L', 'A', 'S', 'T', 'D', 'Q', 'L', 'K', 'S', 'V', 'G', 'L', 'N', 'L', 'E', 'G', 'S', 'G', 'V', 'S', 'T', 'D', 'I', 'P', 'S', 'A', 'T', 'K', 'R', 'W', 'G', 'F', 'R', 'S', 'G', 'V', 'P', 'P', 'K', 'V', 'V', 'S', 'Y', 'E', 'A', 'G']]\n",
      "Primer oznaka: ['uređena', 'uređena', 'uređena', 'uređena', 'uređena']\n"
     ]
    }
   ],
   "source": [
    "def generisi_prozore(sekvenca, oznake, min_duzina=98, max_duzina=100):\n",
    "    prozori = []\n",
    "    oznake_prozora = []\n",
    "    duzine = []      \n",
    "    pozicije = []   \n",
    "    \n",
    "    for duzina in range(min_duzina, max_duzina + 1):  \n",
    "        for i in range(len(sekvenca) - duzina + 1):\n",
    "            podsekvenca = sekvenca[i:i + duzina]          \n",
    "            oznake_podsekvence = oznake[i:i + duzina]        \n",
    "            \n",
    "            duzine.append(duzina)\n",
    "            pozicije.append(f\"{i+1}-{i+duzina}\")\n",
    "            \n",
    "            if oznake_podsekvence.count(\"uređena\") > len(oznake_podsekvence) / 2:\n",
    "                prozori.append(podsekvenca)\n",
    "                oznake_prozora.append(\"uređena\")\n",
    "            elif oznake_podsekvence.count(\"uređena\") < len(oznake_podsekvence) / 2:\n",
    "                prozori.append(podsekvenca)\n",
    "                oznake_prozora.append(\"neuređena\")\n",
    "            else:\n",
    "                prozori.append(podsekvenca)\n",
    "                oznake_prozora.append(\"neuređena\")\n",
    "          \n",
    "    return duzine, pozicije, prozori, oznake_prozora\n",
    "\n",
    "duzine, pozicije, X_sekvence, y_oznake = generisi_prozore(sekvenca, oznake)\n",
    "\n",
    "print(\"Primer sekvence:\", X_sekvence[:5])\n",
    "print(\"Primer oznaka:\", y_oznake[:5])\n"
   ]
  },
  {
   "cell_type": "markdown",
   "id": "c3982882-53e0-4342-8492-2b693cf0ca54",
   "metadata": {},
   "source": [
    "KREIRANJE FREKVENCIJSKOG VEKTORA"
   ]
  },
  {
   "cell_type": "code",
   "execution_count": 10,
   "id": "51627cb0-f844-44c2-8018-21d9ae95cad7",
   "metadata": {},
   "outputs": [],
   "source": [
    "# Definiši sve aminokiseline\n",
    "amino_acids = \"ACDEFGHIKLMNPQRSTVWY\"\n",
    "aa_to_index = {aa: i for i, aa in enumerate(amino_acids)}"
   ]
  },
  {
   "cell_type": "code",
   "execution_count": 11,
   "id": "c71cf2cc-14f7-4fd3-b980-39515719d10c",
   "metadata": {},
   "outputs": [],
   "source": [
    "def frequency_vector(seq):\n",
    "    vec = np.zeros(len(amino_acids))  # Kreira vektor dužine 20 (jer imamo 20 aminokiselina)\n",
    "    for aa in seq:\n",
    "        if aa in aa_to_index:\n",
    "            vec[aa_to_index[aa]] += 1  \n",
    "    return vec / len(seq) "
   ]
  },
  {
   "cell_type": "code",
   "execution_count": 12,
   "id": "13d8286c-bd79-466d-b9ad-95073964e20b",
   "metadata": {},
   "outputs": [],
   "source": [
    "import numpy as np"
   ]
  },
  {
   "cell_type": "code",
   "execution_count": 13,
   "id": "1d392426-76b4-46ec-9f24-5716dc72709f",
   "metadata": {},
   "outputs": [],
   "source": [
    "X_features = np.array([frequency_vector(seq) for seq in X_sekvence])"
   ]
  },
  {
   "cell_type": "code",
   "execution_count": 14,
   "id": "ab6cee42-18cf-412d-ace7-57c894b528c2",
   "metadata": {},
   "outputs": [
    {
     "name": "stdout",
     "output_type": "stream",
     "text": [
      "Primer vektora: [[0.03061224 0.01020408 0.05102041 0.03061224 0.06122449 0.08163265\n",
      "  0.01020408 0.04081633 0.07142857 0.12244898 0.02040816 0.02040816\n",
      "  0.05102041 0.04081633 0.04081633 0.12244898 0.06122449 0.1122449\n",
      "  0.02040816 0.        ]\n",
      " [0.03061224 0.01020408 0.05102041 0.03061224 0.06122449 0.08163265\n",
      "  0.01020408 0.04081633 0.07142857 0.12244898 0.01020408 0.02040816\n",
      "  0.05102041 0.04081633 0.04081633 0.12244898 0.06122449 0.1122449\n",
      "  0.02040816 0.01020408]\n",
      " [0.03061224 0.01020408 0.05102041 0.04081633 0.06122449 0.07142857\n",
      "  0.01020408 0.04081633 0.07142857 0.12244898 0.01020408 0.02040816\n",
      "  0.05102041 0.04081633 0.04081633 0.12244898 0.06122449 0.1122449\n",
      "  0.02040816 0.01020408]\n",
      " [0.04081633 0.01020408 0.05102041 0.04081633 0.06122449 0.06122449\n",
      "  0.01020408 0.04081633 0.07142857 0.12244898 0.01020408 0.02040816\n",
      "  0.05102041 0.04081633 0.04081633 0.12244898 0.06122449 0.1122449\n",
      "  0.02040816 0.01020408]\n",
      " [0.04081633 0.01020408 0.05102041 0.04081633 0.06122449 0.07142857\n",
      "  0.01020408 0.04081633 0.07142857 0.1122449  0.01020408 0.02040816\n",
      "  0.05102041 0.04081633 0.04081633 0.12244898 0.06122449 0.1122449\n",
      "  0.02040816 0.01020408]]\n",
      "Primer oznaka: [1 1 1 1 1]\n"
     ]
    }
   ],
   "source": [
    "y_binary = np.array([1 if oznake == \"uređena\" else 0 for oznake in y_oznake])\n",
    "\n",
    "print(\"Primer vektora:\", X_features[:5])\n",
    "print(\"Primer oznaka:\", y_binary[:5])"
   ]
  },
  {
   "cell_type": "code",
   "execution_count": 78,
   "id": "8f7bdf22-5bd9-4ea2-8064-95937161684f",
   "metadata": {},
   "outputs": [
    {
     "name": "stdout",
     "output_type": "stream",
     "text": [
      "Test Accuracy: 0.9907\n"
     ]
    }
   ],
   "source": [
    "from sklearn.svm import SVC\n",
    "from sklearn.model_selection import train_test_split\n",
    "from sklearn.metrics import accuracy_score\n",
    "\n",
    "# Podeli podatke na trening i test skupove\n",
    "X_train, X_test, y_train, y_test = train_test_split(X_features, y_binary, test_size=0.3, random_state=42)\n",
    "\n",
    "svm_model = SVC(kernel=\"rbf\", C=1.0, gamma=\"scale\")\n",
    "svm_model.fit(X_train, y_train)\n",
    "\n",
    "# Evaluacija\n",
    "y_pred = svm_model.predict(X_test)\n",
    "accuracy = accuracy_score(y_test, y_pred)\n",
    "\n",
    "print(f\"Test Accuracy: {accuracy:.4f}\")"
   ]
  },
  {
   "cell_type": "code",
   "execution_count": 79,
   "id": "7b5533d2-321e-41d7-8c28-f2dda4f4c34b",
   "metadata": {},
   "outputs": [],
   "source": [
    "aminokiseline = ['A', 'C', 'D', 'E', 'F', 'G', 'H', 'I', 'K', 'L', 'M', 'N', 'P', 'Q', 'R', 'S', 'T', 'V', 'W', 'Y']\n",
    "nazivi_kolona = [f\"molska_frakcija_za_{aa}\" for aa in aminokiseline] + [\"Klasifikacija\"]\n",
    "\n",
    "trening_podaci = pd.DataFrame(X_train, columns=nazivi_kolona[:-1])\n",
    "trening_podaci[\"Klasifikacija\"] = y_train\n",
    "\n",
    "test_podaci = pd.DataFrame(X_test, columns=nazivi_kolona[:-1])\n",
    "test_podaci[\"Klasifikacija\"] = y_test\n",
    "\n",
    "# Spajanje podataka\n",
    "svi_podaci = pd.concat([trening_podaci, test_podaci], ignore_index=True)\n",
    "\n",
    "# Čuvanje u CSV fajlove\n",
    "trening_podaci.to_csv(\"Izlazni podaci IUPRED3 SVM/Nucleoprotein/trening_podaci_YP_138520.1 |nucleoprotein.csv\", index=False)\n",
    "test_podaci.to_csv(\"Izlazni podaci IUPRED3 SVM/Nucleoprotein/test_podaci_YP_138520.1 |nucleoprotein.csv\", index=False)\n",
    "svi_podaci.to_csv(\"Izlazni podaci IUPRED3 SVM/Nucleoprotein/svi_podaci_YP_138520.1 |nucleoprotein.csv\", index=False)\n",
    "\n",
    "\n",
    "df_sekvence = pd.DataFrame({\n",
    "    \"Duzina\": duzine,\n",
    "    \"Pozicija\": pozicije,\n",
    "    \"Sekvenca\": X_sekvence,\n",
    "    \"Oznaka\": y_oznake\n",
    "})\n",
    "\n",
    "df_sekvence.to_csv(\"Izlazni podaci IUPRED3 SVM/Nucleoprotein/sekvence_oznake_YP_138520.1 |nucleoprotein.csv\", index=False)\n",
    "\n"
   ]
  },
  {
   "cell_type": "markdown",
   "id": "0ec90b3d-7f42-40f8-8491-2bd4e2ffaf9d",
   "metadata": {},
   "source": [
    "CEPKANJE KORISCENJEM KNN "
   ]
  },
  {
   "cell_type": "code",
   "execution_count": 15,
   "id": "9f3d976d-9f81-4f88-a897-52f611009a9f",
   "metadata": {},
   "outputs": [
    {
     "name": "stdout",
     "output_type": "stream",
     "text": [
      "Test Accuracy: 1.0000\n"
     ]
    }
   ],
   "source": [
    "from sklearn.neighbors import KNeighborsClassifier\n",
    "from sklearn.model_selection import train_test_split\n",
    "from sklearn.metrics import accuracy_score\n",
    "\n",
    "# Podeli podatke na trening i test skupove\n",
    "X_train, X_test, y_train, y_test = train_test_split(X_features, y_binary, test_size=0.3, random_state=42)\n",
    "\n",
    "# Treniraj KNN model\n",
    "knn_model = KNeighborsClassifier(n_neighbors=5)  # Možeš promeniti broj suseda\n",
    "knn_model.fit(X_train, y_train)\n",
    "\n",
    "# Evaluacija\n",
    "y_pred = knn_model.predict(X_test)\n",
    "accuracy = accuracy_score(y_test, y_pred)\n",
    "\n",
    "print(f\"Test Accuracy: {accuracy:.4f}\")\n"
   ]
  },
  {
   "cell_type": "code",
   "execution_count": 16,
   "id": "21d4323f-8154-41c3-8566-ae63f4c2adcf",
   "metadata": {},
   "outputs": [],
   "source": [
    "# Sačuvaj trening i test podatke\n",
    "\n",
    "aminokiseline = ['A', 'C', 'D', 'E', 'F', 'G', 'H', 'I', 'K', 'L', 'M', 'N', 'P', 'Q', 'R', 'S', 'T', 'V', 'W', 'Y']\n",
    "nazivi_kolona = [f\"molska_frakcija_za_{aa}\" for aa in aminokiseline] + [\"Klasifikacija\"]\n",
    "\n",
    "# Kreiranje DataFrame-ova sa odgovarajućim kolonama\n",
    "trening_podaci = pd.DataFrame(X_train, columns=nazivi_kolona[:-1])\n",
    "trening_podaci[\"Klasifikacija\"] = y_train\n",
    "\n",
    "test_podaci = pd.DataFrame(X_test, columns=nazivi_kolona[:-1])\n",
    "test_podaci[\"Klasifikacija\"] = y_test\n",
    "\n",
    "# Spajanje podataka\n",
    "svi_podaci = pd.concat([trening_podaci, test_podaci], ignore_index=True)\n",
    "\n",
    "# Čuvanje u CSV fajlove\n",
    "trening_podaci.to_csv(\"Izlazni podaci IUPRED3 KNN/Spike glycoprotein/trening_podaci_YP_138523.1 |spike glycoprotein_98-100.csv\", index=False)\n",
    "test_podaci.to_csv(\"Izlazni podaci IUPRED3 KNN/Spike glycoprotein/test_podaci_YP_138523.1 |spike glycoprotein_98-100.csv\", index=False)\n",
    "svi_podaci.to_csv(\"Izlazni podaci IUPRED3 KNN/Spike glycoprotein/svi_podaci_YP_138523.1 |spike glycoprotein_98-100.csv\", index=False)\n",
    "\n",
    "df_sekvence = pd.DataFrame({\n",
    "    \"Duzina\": duzine,\n",
    "    \"Pozicija\": pozicije,\n",
    "    \"Sekvenca\": X_sekvence,\n",
    "    \"Oznaka\": y_oznake\n",
    "})\n",
    "\n",
    "df_sekvence.to_csv(\"Izlazni podaci IUPRED3 KNN/Spike glycoprotein/sekvence_oznake_KNN_YP_138523.1 |spike glycoprotein_98-100.csv\", index=False)\n"
   ]
  },
  {
   "cell_type": "markdown",
   "id": "d91d8bf5-9ccc-47bf-9135-5c5783017d2e",
   "metadata": {},
   "source": [
    "CEPKANJE KORISCENJEM CART"
   ]
  },
  {
   "cell_type": "code",
   "execution_count": 80,
   "id": "91529d0f-0762-41bd-9954-3bcd5a68bea4",
   "metadata": {},
   "outputs": [
    {
     "name": "stdout",
     "output_type": "stream",
     "text": [
      "Test Accuracy: 0.9786\n"
     ]
    }
   ],
   "source": [
    "from sklearn.tree import DecisionTreeClassifier\n",
    "from sklearn.model_selection import train_test_split\n",
    "from sklearn.metrics import accuracy_score\n",
    "\n",
    "X_train, X_test, y_train, y_test = train_test_split(X_features, y_binary, test_size=0.3, random_state=42)\n",
    "\n",
    "dt_model = DecisionTreeClassifier(\n",
    "    criterion='gini',  # Može biti 'entropy' ili 'gini' (default)\n",
    "    max_depth=8, \n",
    "    random_state=42\n",
    ")\n",
    "dt_model.fit(X_train, y_train)\n",
    "\n",
    "# Evaluacija\n",
    "y_pred = dt_model.predict(X_test)\n",
    "accuracy = accuracy_score(y_test, y_pred)\n",
    "\n",
    "print(f\"Test Accuracy: {accuracy:.4f}\")\n"
   ]
  },
  {
   "cell_type": "code",
   "execution_count": 81,
   "id": "11b03bc3-b70b-4fe5-83e5-b368d407366a",
   "metadata": {},
   "outputs": [],
   "source": [
    "aminokiseline = ['A', 'C', 'D', 'E', 'F', 'G', 'H', 'I', 'K', 'L', 'M', 'N', 'P', 'Q', 'R', 'S', 'T', 'V', 'W', 'Y']\n",
    "nazivi_kolona = [f\"molska_frakcija_za_{aa}\" for aa in aminokiseline] + [\"Klasifikacija\"]\n",
    "\n",
    "# Kreiranje DataFrame-ova sa odgovarajućim kolonama\n",
    "trening_podaci = pd.DataFrame(X_train, columns=nazivi_kolona[:-1])\n",
    "trening_podaci[\"Klasifikacija\"] = y_train\n",
    "\n",
    "test_podaci = pd.DataFrame(X_test, columns=nazivi_kolona[:-1])\n",
    "test_podaci[\"Klasifikacija\"] = y_test\n",
    "\n",
    "# Spajanje podataka\n",
    "svi_podaci = pd.concat([trening_podaci, test_podaci], ignore_index=True)\n",
    "\n",
    "# Čuvanje u CSV fajlove\n",
    "trening_podaci.to_csv(\"Izlazni podaci IUPRED3 CART/Nucleoprotein/trening_podaci_YP_138520.1 |nucleoprotein.csv\", index=False)\n",
    "test_podaci.to_csv(\"Izlazni podaci IUPRED3 CART/Nucleoprotein/test_podaci_YP_138520.1 |nucleoprotein.csv\", index=False)\n",
    "svi_podaci.to_csv(\"Izlazni podaci IUPRED3 CART/Nucleoprotein/svi_podaci_YP_138520.1 |nucleoprotein.csv\", index=False)\n",
    "\n",
    "df_sekvence = pd.DataFrame({\n",
    "    \"Duzina\": duzine,\n",
    "    \"Pozicija\": pozicije,\n",
    "    \"Sekvenca\": X_sekvence,\n",
    "    \"Oznaka\": y_oznake\n",
    "})\n",
    "\n",
    "df_sekvence.to_csv(\"Izlazni podaci IUPRED3 CART/Nucleoprotein/sekvence_oznake_CART_YP_138520.1 |nucleoprotein.csv\", index=False)\n",
    "\n"
   ]
  },
  {
   "cell_type": "code",
   "execution_count": null,
   "id": "1522df00-1a9b-4507-9df7-a431bb3dbfc5",
   "metadata": {},
   "outputs": [],
   "source": []
  }
 ],
 "metadata": {
  "kernelspec": {
   "display_name": "Python 3 (ipykernel)",
   "language": "python",
   "name": "python3"
  },
  "language_info": {
   "codemirror_mode": {
    "name": "ipython",
    "version": 3
   },
   "file_extension": ".py",
   "mimetype": "text/x-python",
   "name": "python",
   "nbconvert_exporter": "python",
   "pygments_lexer": "ipython3",
   "version": "3.9.5"
  }
 },
 "nbformat": 4,
 "nbformat_minor": 5
}
