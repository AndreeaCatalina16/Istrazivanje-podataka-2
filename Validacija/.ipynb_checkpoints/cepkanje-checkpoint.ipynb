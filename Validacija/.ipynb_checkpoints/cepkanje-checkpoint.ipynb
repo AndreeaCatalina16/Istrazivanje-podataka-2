{
 "cells": [
  {
   "cell_type": "code",
   "execution_count": 1,
   "id": "d9ff1b96-b433-43f0-93f7-e176dfb797e8",
   "metadata": {},
   "outputs": [
    {
     "name": "stdout",
     "output_type": "stream",
     "text": [
      "Sekvenca proteina ARQ84735.1: ['M', 'I', 'H', 'S', 'V', 'F', 'L', 'L', 'M', 'F', 'L', 'L', 'T', 'P', 'T', 'E', 'S', 'Y', 'V', 'D', 'V', 'G', 'P', 'D', 'S', 'V', 'K', 'S', 'A', 'C', 'I', 'E', 'V', 'D', 'I', 'Q', 'Q', 'T', 'F', 'F', 'D', 'K', 'T', 'W', 'P', 'R', 'P', 'I', 'D', 'V', 'S', 'K', 'A', 'D', 'G', 'I', 'I', 'Y', 'P', 'Q', 'G', 'R', 'T', 'Y', 'S', 'N', 'I', 'T', 'I', 'T', 'Y', 'Q', 'G', 'L', 'F', 'P', 'Y', 'Q', 'G', 'D', 'H', 'G', 'D', 'M', 'Y', 'V', 'Y', 'S', 'A', 'G', 'H', 'A', 'T', 'G', 'T', 'T', 'P', 'Q', 'K', 'L', 'F', 'V', 'A', 'N', 'Y', 'S', 'Q', 'D', 'V', 'K', 'Q', 'F', 'A', 'N', 'G', 'F', 'V', 'V', 'R', 'I', 'G', 'A', 'A', 'A', 'N', 'S', 'T', 'G', 'T', 'V', 'I', 'I', 'S', 'P', 'S', 'T', 'S', 'A', 'T', 'I', 'R', 'K', 'I', 'Y', 'P', 'A', 'F', 'M', 'L', 'G', 'S', 'S', 'V', 'G', 'N', 'F', 'S', 'D', 'G', 'K', 'M', 'G', 'R', 'F', 'F', 'N', 'H', 'T', 'L', 'V', 'L', 'L', 'P', 'D', 'G', 'C', 'G', 'T', 'L', 'L', 'R', 'A', 'F', 'Y', 'C', 'I', 'L', 'E', 'P', 'R', 'S', 'G', 'N', 'H', 'C', 'P', 'A', 'G', 'N', 'S', 'Y', 'T', 'S', 'F', 'A', 'T', 'Y', 'H', 'T', 'P', 'A', 'T', 'D', 'C', 'S', 'D', 'G', 'N', 'Y', 'N', 'R', 'N', 'A', 'S', 'L', 'N', 'S', 'F', 'K', 'E', 'Y', 'F', 'N', 'L', 'R', 'N', 'C', 'T', 'F', 'M', 'Y', 'T', 'Y', 'N', 'I', 'T', 'E', 'D', 'E', 'I', 'L', 'E', 'W', 'F', 'G', 'I', 'T', 'Q', 'T', 'A', 'Q', 'G', 'V', 'H', 'L', 'F', 'S', 'S', 'R', 'Y', 'V', 'D', 'L', 'Y', 'G', 'G', 'N', 'M', 'F', 'Q', 'F', 'A', 'T', 'L', 'P', 'V', 'Y', 'D', 'T', 'I', 'K', 'Y', 'Y', 'S', 'I', 'I', 'P', 'H', 'S', 'I', 'R', 'S', 'I', 'Q', 'S', 'D', 'R', 'K', 'A', 'W', 'A', 'A', 'F', 'Y', 'V', 'Y', 'K', 'L', 'Q', 'P', 'L', 'T', 'F', 'L', 'L', 'D', 'F', 'S', 'V', 'D', 'G', 'Y', 'I', 'R', 'R', 'A', 'I', 'D', 'C', 'G', 'F', 'N', 'D', 'L', 'S', 'Q', 'L', 'H', 'C', 'S', 'Y', 'E', 'S', 'F', 'D', 'V', 'E', 'S', 'G', 'V', 'Y', 'S', 'V', 'S', 'S', 'F', 'E', 'A', 'K', 'P', 'S', 'G', 'S', 'V', 'V', 'E', 'Q', 'A', 'E', 'G', 'V', 'E', 'C', 'D', 'F', 'S', 'P', 'L', 'L', 'S', 'G', 'T', 'P', 'P', 'Q', 'V', 'Y', 'N', 'F', 'K', 'R', 'L', 'V', 'F', 'T', 'N', 'C', 'N', 'Y', 'N', 'L', 'T', 'K', 'L', 'L', 'S', 'L', 'F', 'S', 'V', 'N', 'D', 'F', 'T', 'C', 'S', 'Q', 'I', 'S', 'P', 'A', 'A', 'I', 'A', 'S', 'N', 'C', 'Y', 'S', 'S', 'L', 'I', 'L', 'D', 'Y', 'F', 'S', 'Y', 'P', 'L', 'S', 'M', 'K', 'S', 'D', 'L', 'S', 'V', 'S', 'S', 'A', 'G', 'P', 'I', 'S', 'Q', 'F', 'N', 'Y', 'K', 'Q', 'S', 'F', 'S', 'N', 'P', 'T', 'C', 'L', 'I', 'L', 'A', 'T', 'V', 'P', 'H', 'N', 'L', 'T', 'T', 'I', 'T', 'K', 'P', 'L', 'K', 'Y', 'S', 'Y', 'I', 'N', 'K', 'C', 'S', 'R', 'L', 'L', 'S', 'D', 'D', 'R', 'T', 'E', 'V', 'P', 'Q', 'L', 'V', 'N', 'A', 'N', 'Q', 'Y', 'S', 'P', 'C', 'V', 'S', 'I', 'V', 'P', 'S', 'T', 'V', 'W', 'E', 'D', 'G', 'D', 'Y', 'Y', 'R', 'K', 'Q', 'L', 'S', 'P', 'L', 'E', 'G', 'G', 'G', 'W', 'L', 'V', 'A', 'S', 'G', 'S', 'T', 'V', 'A', 'M', 'T', 'E', 'Q', 'L', 'Q', 'M', 'G', 'F', 'G', 'I', 'T', 'V', 'Q', 'Y', 'G', 'T', 'D', 'T', 'N', 'S', 'V', 'C', 'P', 'K', 'L', 'E', 'F', 'A', 'N', 'D', 'T', 'K', 'I', 'A', 'S', 'Q', 'L', 'G', 'N', 'C', 'V', 'E', 'Y', 'S', 'L', 'Y', 'G', 'V', 'S', 'G', 'R', 'G', 'V', 'F', 'Q', 'N', 'C', 'T', 'A', 'V', 'G', 'V', 'R', 'Q', 'Q', 'R', 'F', 'V', 'Y', 'D', 'A', 'Y', 'Q', 'N', 'L', 'V', 'G', 'Y', 'Y', 'S', 'D', 'D', 'G', 'N', 'Y', 'Y', 'C', 'L', 'R', 'A', 'C', 'V', 'S', 'V', 'P', 'V', 'S', 'V', 'I', 'Y', 'D', 'K', 'E', 'T', 'K', 'T', 'H', 'A', 'T', 'L', 'F', 'G', 'S', 'V', 'A', 'C', 'E', 'H', 'I', 'S', 'S', 'T', 'M', 'S', 'Q', 'Y', 'S', 'R', 'S', 'T', 'R', 'S', 'M', 'L', 'K', 'R', 'R', 'D', 'S', 'T', 'Y', 'G', 'P', 'L', 'Q', 'T', 'P', 'V', 'G', 'C', 'V', 'L', 'G', 'L', 'V', 'N', 'S', 'S', 'L', 'F', 'V', 'E', 'D', 'C', 'K', 'L', 'P', 'L', 'G', 'Q', 'S', 'L', 'C', 'A', 'L', 'P', 'D', 'T', 'P', 'S', 'T', 'L', 'T', 'P', 'R', 'S', 'V', 'R', 'S', 'V', 'P', 'G', 'E', 'M', 'R', 'L', 'A', 'S', 'I', 'A', 'F', 'N', 'H', 'P', 'I', 'Q', 'V', 'D', 'Q', 'L', 'N', 'S', 'S', 'Y', 'F', 'K', 'L', 'S', 'I', 'P', 'T', 'N', 'F', 'S', 'F', 'G', 'V', 'T', 'Q', 'E', 'Y', 'I', 'Q', 'T', 'T', 'I', 'Q', 'K', 'V', 'T', 'V', 'D', 'C', 'K', 'Q', 'Y', 'V', 'C', 'N', 'G', 'F', 'Q', 'K', 'C', 'E', 'Q', 'L', 'L', 'R', 'E', 'Y', 'G', 'Q', 'F', 'C', 'S', 'K', 'I', 'N', 'Q', 'A', 'L', 'H', 'G', 'A', 'N', 'L', 'R', 'Q', 'D', 'D', 'S', 'V', 'R', 'N', 'L', 'F', 'A', 'S', 'V', 'K', 'S', 'S', 'Q', 'S', 'S', 'P', 'I', 'I', 'P', 'G', 'F', 'G', 'G', 'D', 'F', 'N', 'L', 'T', 'L', 'L', 'E', 'P', 'V', 'S', 'I', 'S', 'T', 'G', 'S', 'R', 'S', 'A', 'R', 'S', 'A', 'I', 'E', 'D', 'L', 'L', 'F', 'D', 'K', 'V', 'T', 'I', 'A', 'D', 'P', 'G', 'Y', 'M', 'Q', 'G', 'Y', 'D', 'D', 'C', 'M', 'Q', 'Q', 'G', 'P', 'A', 'S', 'A', 'R', 'D', 'L', 'I', 'C', 'A', 'Q', 'Y', 'V', 'A', 'G', 'Y', 'K', 'V', 'L', 'P', 'P', 'L', 'M', 'D', 'V', 'N', 'M', 'E', 'A', 'A', 'Y', 'T', 'S', 'S', 'L', 'L', 'G', 'S', 'I', 'A', 'G', 'V', 'G', 'W', 'T', 'A', 'G', 'L', 'S', 'S', 'F', 'A', 'A', 'I', 'P', 'F', 'A', 'Q', 'S', 'I', 'F', 'Y', 'R', 'L', 'N', 'G', 'V', 'G', 'I', 'T', 'Q', 'Q', 'V', 'L', 'S', 'E', 'N', 'Q', 'K', 'L', 'I', 'A', 'N', 'K', 'F', 'N', 'Q', 'A', 'L', 'G', 'A', 'M', 'Q', 'T', 'G', 'F', 'T', 'T', 'T', 'N', 'E', 'A', 'F', 'R', 'K', 'V', 'Q', 'D', 'A', 'V', 'N', 'N', 'N', 'A', 'Q', 'A', 'L', 'S', 'K', 'L', 'A', 'S', 'E', 'L', 'S', 'N', 'T', 'F', 'G', 'A', 'I', 'S', 'A', 'S', 'I', 'G', 'D', 'I', 'I', 'Q', 'R', 'L', 'D', 'V', 'L', 'E', 'Q', 'D', 'A', 'Q', 'I', 'D', 'R', 'L', 'I', 'N', 'G', 'R', 'L', 'T', 'T', 'L', 'N', 'A', 'F', 'V', 'A', 'Q', 'Q', 'L', 'V', 'R', 'S', 'E', 'S', 'A', 'A', 'L', 'S', 'A', 'Q', 'L', 'A', 'K', 'D', 'K', 'V', 'N', 'E', 'C', 'V', 'K', 'A', 'Q', 'S', 'K', 'R', 'S', 'G', 'F', 'C', 'G', 'Q', 'G', 'T', 'H', 'I', 'V', 'S', 'F', 'V', 'V', 'N', 'A', 'P', 'N', 'G', 'L', 'Y', 'F', 'M', 'H', 'V', 'G', 'Y', 'Y', 'P', 'S', 'N', 'H', 'I', 'E', 'V', 'V', 'S', 'A', 'Y', 'G', 'L', 'C', 'D', 'A', 'A', 'N', 'P', 'T', 'N', 'C', 'I', 'A', 'P', 'V', 'N', 'G', 'Y', 'F', 'I', 'K', 'T', 'N', 'N', 'T', 'R', 'I', 'V', 'D', 'E', 'W', 'S', 'Y', 'T', 'G', 'S', 'S', 'F', 'Y', 'A', 'P', 'E', 'P', 'I', 'T', 'S', 'L', 'N', 'T', 'K', 'Y', 'V', 'A', 'P', 'Q', 'V', 'T', 'Y', 'Q', 'N', 'I', 'S', 'T', 'N', 'L', 'P', 'P', 'P', 'L', 'L', 'G', 'N', 'S', 'T', 'G', 'I', 'D', 'F', 'Q', 'D', 'E', 'L', 'D', 'E', 'F', 'F', 'K', 'N', 'V', 'S', 'T', 'S', 'I', 'P', 'N', 'F', 'G', 'S', 'L', 'T', 'Q', 'I', 'N', 'T', 'T', 'L', 'L', 'D', 'L', 'T', 'Y', 'E', 'M', 'L', 'S', 'L', 'Q', 'Q', 'V', 'V', 'K', 'A', 'L', 'N', 'E', 'S', 'Y', 'I', 'D', 'L', 'K', 'E', 'L', 'G', 'N', 'Y', 'T', 'Y', 'Y', 'N', 'K', 'W', 'P', 'W', 'Y', 'I', 'W', 'L', 'G', 'F', 'I', 'A', 'G', 'L', 'V', 'A', 'L', 'A', 'L', 'C', 'V', 'F', 'F', 'I', 'L', 'C', 'C', 'T', 'G', 'C', 'G', 'T', 'N', 'C', 'M', 'G', 'K', 'L', 'K', 'C', 'N', 'R', 'C', 'C', 'D', 'R', 'Y', 'E', 'E', 'Y', 'D', 'L', 'E', 'P', 'H', 'K', 'V', 'H', 'V', 'H']\n"
     ]
    }
   ],
   "source": [
    "import pandas as pd\n",
    "\n",
    "# Učitaj CSV fajl\n",
    "df = pd.read_csv(\"Ulazni podaci ISUNSTRUCT/ARQ84735.1 ___spike glycoprotein.csv\")\n",
    "\n",
    "sekvenca = df['Aminokiselina'].tolist()\n",
    "\n",
    "print(\"Sekvenca proteina ARQ84735.1:\", sekvenca)\n"
   ]
  },
  {
   "cell_type": "code",
   "execution_count": 2,
   "id": "0e14b661-db29-4add-8497-0912637b7caa",
   "metadata": {},
   "outputs": [
    {
     "name": "stdout",
     "output_type": "stream",
     "text": [
      "['neuređena', 'neuređena', 'uređena', 'uređena', 'uređena', 'uređena', 'uređena', 'uređena', 'uređena', 'uređena', 'uređena', 'uređena', 'uređena', 'uređena', 'uređena', 'uređena', 'uređena', 'uređena', 'uređena', 'uređena', 'uređena', 'uređena', 'uređena', 'uređena', 'uređena', 'uređena', 'uređena', 'uređena', 'uređena', 'uređena', 'uređena', 'uređena', 'uređena', 'uređena', 'uređena', 'uređena', 'uređena', 'uređena', 'uređena', 'uređena', 'uređena', 'uređena', 'uređena', 'uređena', 'uređena', 'uređena', 'uređena', 'uređena', 'uređena', 'uređena', 'uređena', 'uređena', 'uređena', 'uređena', 'uređena', 'uređena', 'uređena', 'uređena', 'uređena', 'uređena', 'uređena', 'uređena', 'uređena', 'uređena', 'uređena', 'uređena', 'uređena', 'uređena', 'uređena', 'uređena', 'uređena', 'uređena', 'uređena', 'uređena', 'uređena', 'uređena', 'uređena', 'uređena', 'uređena', 'uređena', 'uređena', 'uređena', 'uređena', 'uređena', 'uređena', 'uređena', 'uređena', 'uređena', 'uređena', 'uređena', 'uređena', 'uređena', 'uređena', 'uređena', 'uređena', 'uređena', 'uređena', 'uređena', 'uređena', 'uređena', 'uređena', 'uređena', 'uređena', 'uređena', 'uređena', 'uređena', 'uređena', 'uređena', 'uređena', 'uređena', 'uređena', 'uređena', 'uređena', 'uređena', 'uređena', 'uređena', 'uređena', 'uređena', 'uređena', 'uređena', 'uređena', 'uređena', 'uređena', 'uređena', 'uređena', 'uređena', 'uređena', 'uređena', 'uređena', 'uređena', 'uređena', 'uređena', 'uređena', 'uređena', 'uređena', 'uređena', 'uređena', 'uređena', 'uređena', 'uređena', 'uređena', 'uređena', 'uređena', 'uređena', 'uređena', 'uređena', 'uređena', 'uređena', 'uređena', 'uređena', 'uređena', 'uređena', 'uređena', 'uređena', 'uređena', 'uređena', 'uređena', 'uređena', 'uređena', 'uređena', 'uređena', 'uređena', 'uređena', 'uređena', 'uređena', 'uređena', 'uređena', 'uređena', 'uređena', 'uređena', 'uređena', 'uređena', 'uređena', 'uređena', 'uređena', 'uređena', 'uređena', 'uređena', 'uređena', 'uređena', 'uređena', 'uređena', 'uređena', 'uređena', 'uređena', 'uređena', 'uređena', 'uređena', 'uređena', 'uređena', 'uređena', 'uređena', 'uređena', 'uređena', 'uređena', 'uređena', 'uređena', 'uređena', 'uređena', 'uređena', 'uređena', 'uređena', 'uređena', 'uređena', 'uređena', 'uređena', 'uređena', 'uređena', 'uređena', 'uređena', 'uređena', 'uređena', 'uređena', 'uređena', 'uređena', 'uređena', 'uređena', 'uređena', 'uređena', 'uređena', 'uređena', 'uređena', 'uređena', 'uređena', 'uređena', 'uređena', 'uređena', 'uređena', 'uređena', 'uređena', 'uređena', 'uređena', 'uređena', 'uređena', 'uređena', 'uređena', 'uređena', 'uređena', 'uređena', 'uređena', 'uređena', 'uređena', 'uređena', 'uređena', 'uređena', 'uređena', 'uređena', 'uređena', 'uređena', 'uređena', 'uređena', 'uređena', 'uređena', 'uređena', 'uređena', 'uređena', 'uređena', 'uređena', 'uređena', 'uređena', 'uređena', 'uređena', 'uređena', 'uređena', 'uređena', 'uređena', 'uređena', 'uređena', 'uređena', 'uređena', 'uređena', 'uređena', 'uređena', 'uređena', 'uređena', 'uređena', 'uređena', 'uređena', 'uređena', 'uređena', 'uređena', 'uređena', 'uređena', 'uređena', 'uređena', 'uređena', 'uređena', 'uređena', 'uređena', 'uređena', 'uređena', 'uređena', 'uređena', 'uređena', 'uređena', 'uređena', 'uređena', 'uređena', 'uređena', 'uređena', 'uređena', 'uređena', 'uređena', 'uređena', 'uređena', 'uređena', 'uređena', 'uređena', 'uređena', 'uređena', 'uređena', 'uređena', 'uređena', 'uređena', 'uređena', 'uređena', 'uređena', 'uređena', 'uređena', 'uređena', 'uređena', 'uređena', 'uređena', 'uređena', 'uređena', 'uređena', 'uređena', 'uređena', 'uređena', 'uređena', 'uređena', 'uređena', 'uređena', 'uređena', 'uređena', 'uređena', 'uređena', 'uređena', 'uređena', 'uređena', 'uređena', 'uređena', 'uređena', 'uređena', 'uređena', 'uređena', 'uređena', 'uređena', 'uređena', 'uređena', 'uređena', 'uređena', 'uređena', 'uređena', 'uređena', 'uređena', 'uređena', 'uređena', 'uređena', 'uređena', 'uređena', 'uređena', 'uređena', 'uređena', 'uređena', 'uređena', 'neuređena', 'neuređena', 'neuređena', 'neuređena', 'neuređena', 'neuređena', 'neuređena', 'neuređena', 'neuređena', 'neuređena', 'uređena', 'uređena', 'uređena', 'uređena', 'uređena', 'uređena', 'uređena', 'uređena', 'uređena', 'uređena', 'uređena', 'uređena', 'uređena', 'uređena', 'uređena', 'uređena', 'uređena', 'uređena', 'uređena', 'uređena', 'uređena', 'uređena', 'uređena', 'uređena', 'uređena', 'uređena', 'uređena', 'uređena', 'uređena', 'uređena', 'uređena', 'uređena', 'uređena', 'uređena', 'uređena', 'uređena', 'uređena', 'uređena', 'uređena', 'uređena', 'uređena', 'uređena', 'uređena', 'uređena', 'uređena', 'uređena', 'uređena', 'uređena', 'uređena', 'uređena', 'uređena', 'uređena', 'uređena', 'uređena', 'uređena', 'uređena', 'uređena', 'uređena', 'uređena', 'uređena', 'uređena', 'uređena', 'uređena', 'uređena', 'uređena', 'uređena', 'uređena', 'uređena', 'uređena', 'uređena', 'uređena', 'uređena', 'uređena', 'uređena', 'uređena', 'uređena', 'uređena', 'uređena', 'uređena', 'uređena', 'uređena', 'uređena', 'uređena', 'uređena', 'uređena', 'uređena', 'uređena', 'uređena', 'uređena', 'uređena', 'uređena', 'uređena', 'uređena', 'uređena', 'uređena', 'uređena', 'uređena', 'uređena', 'uređena', 'uređena', 'uređena', 'uređena', 'uređena', 'uređena', 'uređena', 'uređena', 'uređena', 'uređena', 'uređena', 'uređena', 'uređena', 'uređena', 'uređena', 'uređena', 'uređena', 'uređena', 'uređena', 'uređena', 'uređena', 'uređena', 'uređena', 'uređena', 'uređena', 'uređena', 'uređena', 'uređena', 'uređena', 'uređena', 'uređena', 'uređena', 'uređena', 'uređena', 'uređena', 'uređena', 'uređena', 'uređena', 'uređena', 'uređena', 'uređena', 'uređena', 'uređena', 'uređena', 'uređena', 'uređena', 'uređena', 'uređena', 'uređena', 'uređena', 'uređena', 'uređena', 'uređena', 'uređena', 'uređena', 'uređena', 'uređena', 'uređena', 'uređena', 'uređena', 'uređena', 'uređena', 'uređena', 'uređena', 'uređena', 'uređena', 'uređena', 'uređena', 'uređena', 'uređena', 'uređena', 'uređena', 'uređena', 'uređena', 'uređena', 'uređena', 'uređena', 'uređena', 'uređena', 'uređena', 'uređena', 'uređena', 'uređena', 'uređena', 'uređena', 'uređena', 'uređena', 'uređena', 'uređena', 'uređena', 'uređena', 'uređena', 'uređena', 'uređena', 'uređena', 'uređena', 'uređena', 'uređena', 'uređena', 'uređena', 'uređena', 'uređena', 'uređena', 'uređena', 'uređena', 'uređena', 'uređena', 'uređena', 'uređena', 'uređena', 'uređena', 'uređena', 'uređena', 'uređena', 'uređena', 'uređena', 'uređena', 'uređena', 'uređena', 'uređena', 'uređena', 'uređena', 'uređena', 'uređena', 'uređena', 'uređena', 'uređena', 'uređena', 'uređena', 'uređena', 'uređena', 'uređena', 'uređena', 'uređena', 'uređena', 'uređena', 'uređena', 'uređena', 'uređena', 'uređena', 'uređena', 'uređena', 'uređena', 'uređena', 'uređena', 'uređena', 'uređena', 'uređena', 'uređena', 'uređena', 'uređena', 'uređena', 'uređena', 'uređena', 'uređena', 'uređena', 'uređena', 'uređena', 'uređena', 'uređena', 'uređena', 'uređena', 'uređena', 'uređena', 'uređena', 'uređena', 'uređena', 'uređena', 'uređena', 'uređena', 'uređena', 'uređena', 'uređena', 'uređena', 'uređena', 'uređena', 'uređena', 'uređena', 'uređena', 'uređena', 'uređena', 'uređena', 'uređena', 'uređena', 'uređena', 'uređena', 'uređena', 'uređena', 'uređena', 'uređena', 'uređena', 'uređena', 'uređena', 'uređena', 'uređena', 'uređena', 'uređena', 'uređena', 'uređena', 'uređena', 'uređena', 'uređena', 'uređena', 'uređena', 'uređena', 'uređena', 'uređena', 'uređena', 'neuređena', 'neuređena', 'neuređena', 'neuređena', 'neuređena', 'neuređena', 'neuređena', 'neuređena', 'neuređena', 'neuređena', 'neuređena', 'neuređena', 'neuređena', 'neuređena', 'neuređena', 'neuređena', 'neuređena', 'neuređena', 'neuređena', 'neuređena', 'neuređena', 'uređena', 'uređena', 'uređena', 'uređena', 'uređena', 'uređena', 'uređena', 'uređena', 'uređena', 'uređena', 'uređena', 'uređena', 'uređena', 'uređena', 'uređena', 'uređena', 'uređena', 'uređena', 'uređena', 'uređena', 'uređena', 'uređena', 'uređena', 'uređena', 'uređena', 'uređena', 'uređena', 'uređena', 'uređena', 'uređena', 'uređena', 'uređena', 'uređena', 'uređena', 'uređena', 'uređena', 'neuređena', 'neuređena', 'neuređena', 'neuređena', 'neuređena', 'neuređena', 'neuređena', 'neuređena', 'neuređena', 'neuređena', 'neuređena', 'neuređena', 'neuređena', 'neuređena', 'neuređena', 'neuređena', 'neuređena', 'uređena', 'uređena', 'uređena', 'uređena', 'uređena', 'uređena', 'uređena', 'uređena', 'uređena', 'uređena', 'uređena', 'uređena', 'uređena', 'uređena', 'uređena', 'uređena', 'uređena', 'uređena', 'uređena', 'uređena', 'uređena', 'uređena', 'uređena', 'uređena', 'uređena', 'uređena', 'uređena', 'uređena', 'uređena', 'uređena', 'uređena', 'uređena', 'uređena', 'uređena', 'uređena', 'uređena', 'uređena', 'uređena', 'uređena', 'uređena', 'uređena', 'uređena', 'uređena', 'uređena', 'uređena', 'uređena', 'uređena', 'uređena', 'uređena', 'uređena', 'uređena', 'uređena', 'uređena', 'uređena', 'uređena', 'uređena', 'uređena', 'uređena', 'uređena', 'uređena', 'uređena', 'uređena', 'uređena', 'uređena', 'uređena', 'uređena', 'uređena', 'uređena', 'uređena', 'uređena', 'uređena', 'uređena', 'uređena', 'uređena', 'uređena', 'uređena', 'uređena', 'uređena', 'uređena', 'uređena', 'uređena', 'uređena', 'uređena', 'uređena', 'uređena', 'uređena', 'uređena', 'neuređena', 'neuređena', 'uređena', 'uređena', 'uređena', 'uređena', 'uređena', 'neuređena', 'neuređena', 'neuređena', 'neuređena', 'neuređena', 'neuređena', 'neuređena', 'neuređena', 'neuređena', 'neuređena', 'uređena', 'uređena', 'uređena', 'uređena', 'uređena', 'uređena', 'uređena', 'uređena', 'uređena', 'uređena', 'uređena', 'uređena', 'uređena', 'uređena', 'uređena', 'uređena', 'uređena', 'uređena', 'uređena', 'uređena', 'uređena', 'neuređena', 'neuređena', 'neuređena', 'neuređena', 'uređena', 'uređena', 'uređena', 'uređena', 'uređena', 'uređena', 'uređena', 'uređena', 'uređena', 'uređena', 'uređena', 'uređena', 'uređena', 'uređena', 'uređena', 'uređena', 'uređena', 'uređena', 'uređena', 'uređena', 'uređena', 'uređena', 'uređena', 'uređena', 'uređena', 'uređena', 'uređena', 'uređena', 'uređena', 'uređena', 'uređena', 'uređena', 'uređena', 'uređena', 'uređena', 'uređena', 'uređena', 'uređena', 'uređena', 'uređena', 'uređena', 'uređena', 'uređena', 'uređena', 'uređena', 'uređena', 'uređena', 'uređena', 'uređena', 'uređena', 'uređena', 'uređena', 'uređena', 'uređena', 'uređena', 'uređena', 'uređena', 'uređena', 'uređena', 'uređena', 'uređena', 'uređena', 'uređena', 'uređena', 'uređena', 'uređena', 'uređena', 'uređena', 'uređena', 'uređena', 'uređena', 'uređena', 'uređena', 'uređena', 'uređena', 'uređena', 'uređena', 'uređena', 'uređena', 'uređena', 'uređena', 'uređena', 'uređena', 'uređena', 'uređena', 'uređena', 'uređena', 'uređena', 'uređena', 'uređena', 'uređena', 'uređena', 'uređena', 'uređena', 'uređena', 'uređena', 'uređena', 'uređena', 'uređena', 'uređena', 'uređena', 'uređena', 'uređena', 'uređena', 'uređena', 'uređena', 'uređena', 'uređena', 'uređena', 'uređena', 'uređena', 'uređena', 'uređena', 'uređena', 'uređena', 'uređena', 'uređena', 'uređena', 'uređena', 'uređena', 'uređena', 'uređena', 'uređena', 'uređena', 'uređena', 'uređena', 'uređena', 'uređena', 'uređena', 'uređena', 'uređena', 'uređena', 'uređena', 'uređena', 'uređena', 'uređena', 'uređena', 'uređena', 'uređena', 'uređena', 'uređena', 'uređena', 'uređena', 'uređena', 'uređena', 'uređena', 'uređena', 'uređena', 'uređena', 'uređena', 'uređena', 'uređena', 'uređena', 'uređena', 'uređena', 'uređena', 'uređena', 'uređena', 'uređena', 'uređena', 'uređena', 'uređena', 'uređena', 'uređena', 'uređena', 'uređena', 'uređena', 'uređena', 'uređena', 'uređena', 'uređena', 'uređena', 'uređena', 'uređena', 'uređena', 'uređena', 'uređena', 'uređena', 'uređena', 'uređena', 'uređena', 'uređena', 'uređena', 'uređena', 'uređena', 'uređena', 'uređena', 'uređena', 'uređena', 'uređena', 'uređena', 'uređena', 'uređena', 'uređena', 'uređena', 'uređena', 'uređena', 'uređena', 'uređena', 'uređena', 'uređena', 'uređena', 'uređena', 'uređena', 'uređena', 'uređena', 'uređena', 'uređena', 'uređena', 'uređena', 'uređena', 'uređena', 'uređena', 'uređena', 'uređena', 'uređena', 'uređena', 'uređena', 'uređena', 'uređena', 'uređena', 'uređena', 'uređena', 'uređena', 'uređena', 'uređena', 'uređena', 'uređena', 'uređena', 'uređena', 'uređena', 'uređena', 'uređena', 'uređena', 'uređena', 'uređena', 'uređena', 'uređena', 'uređena', 'uređena', 'uređena', 'uređena', 'uređena', 'uređena', 'uređena', 'uređena', 'uređena', 'uređena', 'uređena', 'uređena', 'uređena', 'uređena', 'uređena', 'uređena', 'uređena', 'uređena', 'uređena', 'uređena', 'uređena', 'uređena', 'uređena', 'uređena', 'uređena', 'uređena', 'uređena', 'uređena', 'uređena', 'uređena', 'uređena', 'uređena', 'uređena', 'uređena', 'uređena', 'uređena', 'uređena', 'uređena', 'uređena', 'uređena', 'uređena', 'uređena', 'uređena', 'uređena', 'uređena', 'uređena', 'uređena', 'uređena', 'uređena', 'uređena', 'uređena', 'uređena', 'uređena', 'uređena', 'uređena', 'uređena', 'uređena', 'uređena', 'uređena', 'uređena', 'uređena', 'uređena', 'uređena', 'uređena', 'uređena', 'uređena', 'uređena', 'uređena', 'uređena', 'uređena', 'uređena', 'uređena', 'uređena', 'uređena', 'uređena', 'uređena', 'uređena', 'uređena', 'uređena', 'uređena', 'uređena', 'uređena', 'uređena', 'uređena', 'uređena', 'uređena', 'uređena', 'uređena', 'uređena', 'uređena', 'uređena', 'uređena', 'uređena', 'uređena', 'uređena', 'uređena', 'uređena', 'uređena', 'uređena', 'uređena', 'uređena', 'uređena', 'uređena', 'uređena', 'uređena', 'uređena', 'uređena', 'uređena', 'uređena', 'uređena', 'uređena', 'uređena', 'uređena', 'uređena', 'uređena', 'uređena', 'uređena', 'uređena', 'uređena', 'uređena', 'uređena', 'uređena', 'uređena', 'uređena', 'uređena', 'uređena', 'uređena', 'uređena', 'uređena', 'uređena', 'uređena', 'uređena', 'uređena', 'uređena', 'uređena', 'uređena', 'uređena', 'uređena', 'uređena', 'uređena', 'uređena', 'uređena', 'uređena', 'uređena', 'uređena', 'uređena', 'uređena', 'uređena', 'uređena', 'uređena', 'uređena', 'uređena', 'uređena', 'uređena', 'uređena', 'uređena', 'uređena', 'uređena', 'uređena', 'uređena', 'uređena', 'uređena', 'uređena', 'uređena', 'uređena', 'uređena', 'uređena', 'uređena', 'uređena', 'uređena', 'uređena', 'uređena', 'uređena', 'uređena', 'uređena', 'uređena', 'uređena', 'uređena', 'uređena', 'uređena', 'uređena', 'uređena', 'uređena', 'uređena', 'uređena', 'uređena', 'uređena', 'uređena', 'uređena', 'uređena', 'uređena', 'uređena', 'uređena', 'uređena', 'uređena', 'uređena', 'uređena', 'uređena', 'uređena', 'uređena', 'uređena', 'uređena', 'uređena', 'uređena', 'uređena', 'uređena', 'uređena', 'uređena', 'uređena', 'uređena', 'uređena', 'uređena', 'uređena', 'uređena', 'uređena', 'uređena', 'uređena', 'uređena', 'uređena', 'uređena', 'uređena', 'uređena', 'neuređena', 'neuređena', 'neuređena', 'neuređena', 'neuređena', 'neuređena', 'neuređena', 'neuređena']\n"
     ]
    }
   ],
   "source": [
    "# Izdvajanje svih vrednosti iz kolone 'Klasifikacija'\n",
    "oznake = df['Klasifikacija'].tolist()\n",
    "\n",
    "# Prikazivanje liste\n",
    "print(oznake)\n"
   ]
  },
  {
   "cell_type": "code",
   "execution_count": 3,
   "id": "a681f3ce-7c0f-4527-8f06-b78bf3ee83a0",
   "metadata": {},
   "outputs": [
    {
     "name": "stdout",
     "output_type": "stream",
     "text": [
      "Primer sekvence: [['M', 'I', 'H', 'S', 'V'], ['I', 'H', 'S', 'V', 'F'], ['H', 'S', 'V', 'F', 'L'], ['S', 'V', 'F', 'L', 'L'], ['V', 'F', 'L', 'L', 'M']]\n",
      "Primer oznaka: ['uređena', 'uređena', 'uređena', 'uređena', 'uređena']\n"
     ]
    }
   ],
   "source": [
    "def generisi_prozore(sekvenca, oznake, min_duzina=5, max_duzina=100):\n",
    "    prozori = []\n",
    "    oznake_prozora = []\n",
    "    duzine = []      # lista za dužinu podsekvence\n",
    "    pozicije = []   # lista za pozicije u originalnoj sekvenci (\"početak-kraj\")\n",
    "    \n",
    "    for duzina in range(min_duzina, max_duzina + 1):  # Za svaki prozor dužine od 5 do 100\n",
    "        for i in range(len(sekvenca) - duzina + 1):\n",
    "            podsekvenca = sekvenca[i:i + duzina]          # Izdvajanje podsekvence\n",
    "            oznake_podsekvence = oznake[i:i + duzina]        # Pripadajuće oznake\n",
    "            \n",
    "            # Pamćenje dužine i pozicije (pozicije se čuvaju 1-indeksirano)\n",
    "            duzine.append(duzina)\n",
    "            pozicije.append(f\"{i+1}-{i+duzina}\")\n",
    "            \n",
    "            # Dodeljivanje oznake na osnovu većinske vrednosti\n",
    "            if oznake_podsekvence.count(\"uređena\") > len(oznake_podsekvence) / 2:\n",
    "                prozori.append(podsekvenca)\n",
    "                oznake_prozora.append(\"uređena\")\n",
    "            elif oznake_podsekvence.count(\"uređena\") < len(oznake_podsekvence) / 2:\n",
    "                prozori.append(podsekvenca)\n",
    "                oznake_prozora.append(\"neuređena\")\n",
    "            else:\n",
    "                prozori.append(podsekvenca)\n",
    "                oznake_prozora.append(\"uređena/neuređena\")\n",
    "          \n",
    "    return duzine, pozicije, prozori, oznake_prozora\n",
    "\n",
    "\n",
    "# Generiši prozore\n",
    "duzine, pozicije, X_sekvence, y_oznake = generisi_prozore(sekvenca, oznake)\n",
    "\n",
    "print(\"Primer sekvence:\", X_sekvence[:5])\n",
    "print(\"Primer oznaka:\", y_oznake[:5])\n"
   ]
  },
  {
   "cell_type": "code",
   "execution_count": null,
   "id": "cd84b7ed-643a-4474-ade5-0c4653475473",
   "metadata": {},
   "outputs": [],
   "source": []
  },
  {
   "cell_type": "markdown",
   "id": "c3982882-53e0-4342-8492-2b693cf0ca54",
   "metadata": {},
   "source": [
    "KREIRANJE FREKVENCIJSKOG VEKTORA"
   ]
  },
  {
   "cell_type": "code",
   "execution_count": 4,
   "id": "51627cb0-f844-44c2-8018-21d9ae95cad7",
   "metadata": {},
   "outputs": [],
   "source": [
    "# Definiši sve aminokiseline\n",
    "amino_acids = \"ACDEFGHIKLMNPQRSTVWY\"\n",
    "aa_to_index = {aa: i for i, aa in enumerate(amino_acids)}"
   ]
  },
  {
   "cell_type": "code",
   "execution_count": 5,
   "id": "c71cf2cc-14f7-4fd3-b980-39515719d10c",
   "metadata": {},
   "outputs": [],
   "source": [
    "def frequency_vector(seq):\n",
    "    vec = np.zeros(len(amino_acids))  # Kreira vektor dužine 20 (jer imamo 20 aminokiselina)\n",
    "    for aa in seq:\n",
    "        if aa in aa_to_index:\n",
    "            vec[aa_to_index[aa]] += 1  # Povećava brojanje aminokiseline u vektoru\n",
    "    return vec / len(seq)  # Normalizuje frekvencije (deli sa dužinom sekvence)"
   ]
  },
  {
   "cell_type": "code",
   "execution_count": 6,
   "id": "13d8286c-bd79-466d-b9ad-95073964e20b",
   "metadata": {},
   "outputs": [],
   "source": [
    "import numpy as np"
   ]
  },
  {
   "cell_type": "code",
   "execution_count": 7,
   "id": "1d392426-76b4-46ec-9f24-5716dc72709f",
   "metadata": {},
   "outputs": [],
   "source": [
    "X_features = np.array([frequency_vector(seq) for seq in X_sekvence])"
   ]
  },
  {
   "cell_type": "code",
   "execution_count": 8,
   "id": "ab6cee42-18cf-412d-ace7-57c894b528c2",
   "metadata": {},
   "outputs": [
    {
     "name": "stdout",
     "output_type": "stream",
     "text": [
      "Primer vektora: [[0.  0.  0.  0.  0.  0.  0.2 0.2 0.  0.  0.2 0.  0.  0.  0.  0.2 0.  0.2\n",
      "  0.  0. ]\n",
      " [0.  0.  0.  0.  0.2 0.  0.2 0.2 0.  0.  0.  0.  0.  0.  0.  0.2 0.  0.2\n",
      "  0.  0. ]\n",
      " [0.  0.  0.  0.  0.2 0.  0.2 0.  0.  0.2 0.  0.  0.  0.  0.  0.2 0.  0.2\n",
      "  0.  0. ]\n",
      " [0.  0.  0.  0.  0.2 0.  0.  0.  0.  0.4 0.  0.  0.  0.  0.  0.2 0.  0.2\n",
      "  0.  0. ]\n",
      " [0.  0.  0.  0.  0.2 0.  0.  0.  0.  0.4 0.2 0.  0.  0.  0.  0.  0.  0.2\n",
      "  0.  0. ]]\n",
      "Primer oznaka: [1 1 1 1 1]\n"
     ]
    }
   ],
   "source": [
    "y_binary = np.array([1 if oznake == \"uređena\" else 0 for oznake in y_oznake])\n",
    "\n",
    "print(\"Primer vektora:\", X_features[:5])\n",
    "print(\"Primer oznaka:\", y_binary[:5])"
   ]
  },
  {
   "cell_type": "code",
   "execution_count": 9,
   "id": "8f7bdf22-5bd9-4ea2-8064-95937161684f",
   "metadata": {},
   "outputs": [
    {
     "name": "stdout",
     "output_type": "stream",
     "text": [
      "Test Accuracy: 0.9975\n"
     ]
    }
   ],
   "source": [
    "from sklearn.svm import SVC\n",
    "from sklearn.model_selection import train_test_split\n",
    "from sklearn.metrics import accuracy_score\n",
    "\n",
    "# Podeli podatke na trening i test skupove\n",
    "X_train, X_test, y_train, y_test = train_test_split(X_features, y_binary, test_size=0.3, random_state=42)\n",
    "\n",
    "# Treniraj SVM model\n",
    "svm_model = SVC(kernel=\"rbf\", C=1.0, gamma=\"scale\")\n",
    "svm_model.fit(X_train, y_train)\n",
    "\n",
    "# Evaluacija\n",
    "y_pred = svm_model.predict(X_test)\n",
    "accuracy = accuracy_score(y_test, y_pred)\n",
    "\n",
    "print(f\"Test Accuracy: {accuracy:.4f}\")"
   ]
  },
  {
   "cell_type": "markdown",
   "id": "ee7cbdc5-8ece-41c8-83c2-5151ef8d36c0",
   "metadata": {},
   "source": [
    "TEST PRIMER"
   ]
  },
  {
   "cell_type": "code",
   "execution_count": 10,
   "id": "549685c0-c7f0-4d14-9ada-6006642b1dbd",
   "metadata": {},
   "outputs": [
    {
     "name": "stdout",
     "output_type": "stream",
     "text": [
      "Podsekvenca: ['V', 'F', 'L', 'L', 'M', 'F']\n",
      "Predvidjena oznaka: uređena\n"
     ]
    }
   ],
   "source": [
    "# Izdvoji podsekvencu od 5. do 10. pozicije\n",
    "podsekvenca = sekvenca[4:10]\n",
    "\n",
    "# Pretvori podsekvencu u vektor frekvencija\n",
    "podsekvenca_vektor = frequency_vector(podsekvenca).reshape(1, -1)\n",
    "\n",
    "# Predvidi oznaku za ovu podsekvencu\n",
    "predvidjena_oznaka = svm_model.predict(podsekvenca_vektor)\n",
    "\n",
    "# Prikaži rezultat\n",
    "print(f\"Podsekvenca: {podsekvenca}\")\n",
    "print(f\"Predvidjena oznaka: {'uređena' if predvidjena_oznaka == 1 else 'neuređena'}\")"
   ]
  },
  {
   "cell_type": "code",
   "execution_count": 11,
   "id": "7b5533d2-321e-41d7-8c28-f2dda4f4c34b",
   "metadata": {},
   "outputs": [],
   "source": [
    "# Sačuvaj trening i test podatke\n",
    "\n",
    "aminokiseline = ['A', 'C', 'D', 'E', 'F', 'G', 'H', 'I', 'K', 'L', 'M', 'N', 'P', 'Q', 'R', 'S', 'T', 'V', 'W', 'Y']\n",
    "nazivi_kolona = [f\"molska_frakcija_za_{aa}\" for aa in aminokiseline] + [\"Klasifikacija\"]\n",
    "\n",
    "# Kreiranje DataFrame-ova sa odgovarajućim kolonama\n",
    "trening_podaci = pd.DataFrame(X_train, columns=nazivi_kolona[:-1])\n",
    "trening_podaci[\"Klasifikacija\"] = y_train\n",
    "\n",
    "test_podaci = pd.DataFrame(X_test, columns=nazivi_kolona[:-1])\n",
    "test_podaci[\"Klasifikacija\"] = y_test\n",
    "\n",
    "# Spajanje podataka\n",
    "svi_podaci = pd.concat([trening_podaci, test_podaci], ignore_index=True)\n",
    "\n",
    "# Čuvanje u CSV fajlove\n",
    "trening_podaci.to_csv(\"Izlazni podaci ISUNSTRUCT/trening_podaci.csv\", index=False)\n",
    "test_podaci.to_csv(\"Izlazni podaci ISUNSTRUCT/test_podaci.csv\", index=False)\n",
    "svi_podaci.to_csv(\"Izlazni podaci ISUNSTRUCT/svi_podaci.csv\", index=False)\n",
    "\n",
    "# Sačuvaj sekvence sa oznakama, dužinama i pozicijama\n",
    "df_sekvence = pd.DataFrame({\n",
    "    \"Duzina\": duzine,\n",
    "    \"Pozicija\": pozicije,\n",
    "    \"Sekvenca\": X_sekvence,\n",
    "    \"Oznaka\": y_oznake\n",
    "})\n",
    "\n",
    "df_sekvence.to_csv(\"Izlazni podaci ISUNSTRUCT/sekvence_oznake.csv\", index=False)\n",
    "\n",
    "# Sačuvaj predikcije modela\n",
    "df_predikcija = pd.DataFrame({\n",
    "    \"Sekvenca\": [podsekvenca],\n",
    "    \"Predvidjena oznaka\": ['uređena' if predvidjena_oznaka == 1 else 'neuređena']\n",
    "})\n",
    "df_predikcija.to_csv(\"Izlazni podaci ISUNSTRUCT/predvidjanje_modela.csv\", index=False)"
   ]
  },
  {
   "cell_type": "code",
   "execution_count": null,
   "id": "0bdd6dbd-e6d3-4182-a9a9-e79f08c15066",
   "metadata": {},
   "outputs": [],
   "source": []
  },
  {
   "cell_type": "code",
   "execution_count": null,
   "id": "b2e3d681-0bc1-419a-a456-e9e9aedba3a0",
   "metadata": {},
   "outputs": [],
   "source": []
  },
  {
   "cell_type": "code",
   "execution_count": null,
   "id": "2eca8127-38a5-4739-a28c-a42443eeff49",
   "metadata": {},
   "outputs": [],
   "source": []
  }
 ],
 "metadata": {
  "kernelspec": {
   "display_name": "Python 3 (ipykernel)",
   "language": "python",
   "name": "python3"
  },
  "language_info": {
   "codemirror_mode": {
    "name": "ipython",
    "version": 3
   },
   "file_extension": ".py",
   "mimetype": "text/x-python",
   "name": "python",
   "nbconvert_exporter": "python",
   "pygments_lexer": "ipython3",
   "version": "3.9.5"
  }
 },
 "nbformat": 4,
 "nbformat_minor": 5
}
