{
 "cells": [
  {
   "cell_type": "code",
   "execution_count": 1,
   "id": "d9ff1b96-b433-43f0-93f7-e176dfb797e8",
   "metadata": {},
   "outputs": [
    {
     "name": "stdout",
     "output_type": "stream",
     "text": [
      "Sekvenca proteina ARQ84735.1: ['M', 'I', 'H', 'S', 'V', 'F', 'L', 'L', 'M', 'F', 'L', 'L', 'T', 'P', 'T', 'E', 'S', 'Y', 'V', 'D', 'V', 'G', 'P', 'D', 'S', 'V', 'K', 'S', 'A', 'C', 'I', 'E', 'V', 'D', 'I', 'Q', 'Q', 'T', 'F', 'F', 'D', 'K', 'T', 'W', 'P', 'R', 'P', 'I', 'D', 'V', 'S', 'K', 'A', 'D', 'G', 'I', 'I', 'Y', 'P', 'Q', 'G', 'R', 'T', 'Y', 'S', 'N', 'I', 'T', 'I', 'T', 'Y', 'Q', 'G', 'L', 'F', 'P', 'Y', 'Q', 'G', 'D', 'H', 'G', 'D', 'M', 'Y', 'V', 'Y', 'S', 'A', 'G', 'H', 'A', 'T', 'G', 'T', 'T', 'P', 'Q', 'K', 'L', 'F', 'V', 'A', 'N', 'Y', 'S', 'Q', 'D', 'V', 'K', 'Q', 'F', 'A', 'N', 'G', 'F', 'V', 'V', 'R', 'I', 'G', 'A', 'A', 'A', 'N', 'S', 'T', 'G', 'T', 'V', 'I', 'I', 'S', 'P', 'S', 'T', 'S', 'A', 'T', 'I', 'R', 'K', 'I', 'Y', 'P', 'A', 'F', 'M', 'L', 'G', 'S', 'S', 'V', 'G', 'N', 'F', 'S', 'D', 'G', 'K', 'M', 'G', 'R', 'F', 'F', 'N', 'H', 'T', 'L', 'V', 'L', 'L', 'P', 'D', 'G', 'C', 'G', 'T', 'L', 'L', 'R', 'A', 'F', 'Y', 'C', 'I', 'L', 'E', 'P', 'R', 'S', 'G', 'N', 'H', 'C', 'P', 'A', 'G', 'N', 'S', 'Y', 'T', 'S', 'F', 'A', 'T', 'Y', 'H', 'T', 'P', 'A', 'T', 'D', 'C', 'S', 'D', 'G', 'N', 'Y', 'N', 'R', 'N', 'A', 'S', 'L', 'N', 'S', 'F', 'K', 'E', 'Y', 'F', 'N', 'L', 'R', 'N', 'C', 'T', 'F', 'M', 'Y', 'T', 'Y', 'N', 'I', 'T', 'E', 'D', 'E', 'I', 'L', 'E', 'W', 'F', 'G', 'I', 'T', 'Q', 'T', 'A', 'Q', 'G', 'V', 'H', 'L', 'F', 'S', 'S', 'R', 'Y', 'V', 'D', 'L', 'Y', 'G', 'G', 'N', 'M', 'F', 'Q', 'F', 'A', 'T', 'L', 'P', 'V', 'Y', 'D', 'T', 'I', 'K', 'Y', 'Y', 'S', 'I', 'I', 'P', 'H', 'S', 'I', 'R', 'S', 'I', 'Q', 'S', 'D', 'R', 'K', 'A', 'W', 'A', 'A', 'F', 'Y', 'V', 'Y', 'K', 'L', 'Q', 'P', 'L', 'T', 'F', 'L', 'L', 'D', 'F', 'S', 'V', 'D', 'G', 'Y', 'I', 'R', 'R', 'A', 'I', 'D', 'C', 'G', 'F', 'N', 'D', 'L', 'S', 'Q', 'L', 'H', 'C', 'S', 'Y', 'E', 'S', 'F', 'D', 'V', 'E', 'S', 'G', 'V', 'Y', 'S', 'V', 'S', 'S', 'F', 'E', 'A', 'K', 'P', 'S', 'G', 'S', 'V', 'V', 'E', 'Q', 'A', 'E', 'G', 'V', 'E', 'C', 'D', 'F', 'S', 'P', 'L', 'L', 'S', 'G', 'T', 'P', 'P', 'Q', 'V', 'Y', 'N', 'F', 'K', 'R', 'L', 'V', 'F', 'T', 'N', 'C', 'N', 'Y', 'N', 'L', 'T', 'K', 'L', 'L', 'S', 'L', 'F', 'S', 'V', 'N', 'D', 'F', 'T', 'C', 'S', 'Q', 'I', 'S', 'P', 'A', 'A', 'I', 'A', 'S', 'N', 'C', 'Y', 'S', 'S', 'L', 'I', 'L', 'D', 'Y', 'F', 'S', 'Y', 'P', 'L', 'S', 'M', 'K', 'S', 'D', 'L', 'S', 'V', 'S', 'S', 'A', 'G', 'P', 'I', 'S', 'Q', 'F', 'N', 'Y', 'K', 'Q', 'S', 'F', 'S', 'N', 'P', 'T', 'C', 'L', 'I', 'L', 'A', 'T', 'V', 'P', 'H', 'N', 'L', 'T', 'T', 'I', 'T', 'K', 'P', 'L', 'K', 'Y', 'S', 'Y', 'I', 'N', 'K', 'C', 'S', 'R', 'L', 'L', 'S', 'D', 'D', 'R', 'T', 'E', 'V', 'P', 'Q', 'L', 'V', 'N', 'A', 'N', 'Q', 'Y', 'S', 'P', 'C', 'V', 'S', 'I', 'V', 'P', 'S', 'T', 'V', 'W', 'E', 'D', 'G', 'D', 'Y', 'Y', 'R', 'K', 'Q', 'L', 'S', 'P', 'L', 'E', 'G', 'G', 'G', 'W', 'L', 'V', 'A', 'S', 'G', 'S', 'T', 'V', 'A', 'M', 'T', 'E', 'Q', 'L', 'Q', 'M', 'G', 'F', 'G', 'I', 'T', 'V', 'Q', 'Y', 'G', 'T', 'D', 'T', 'N', 'S', 'V', 'C', 'P', 'K', 'L', 'E', 'F', 'A', 'N', 'D', 'T', 'K', 'I', 'A', 'S', 'Q', 'L', 'G', 'N', 'C', 'V', 'E', 'Y', 'S', 'L', 'Y', 'G', 'V', 'S', 'G', 'R', 'G', 'V', 'F', 'Q', 'N', 'C', 'T', 'A', 'V', 'G', 'V', 'R', 'Q', 'Q', 'R', 'F', 'V', 'Y', 'D', 'A', 'Y', 'Q', 'N', 'L', 'V', 'G', 'Y', 'Y', 'S', 'D', 'D', 'G', 'N', 'Y', 'Y', 'C', 'L', 'R', 'A', 'C', 'V', 'S', 'V', 'P', 'V', 'S', 'V', 'I', 'Y', 'D', 'K', 'E', 'T', 'K', 'T', 'H', 'A', 'T', 'L', 'F', 'G', 'S', 'V', 'A', 'C', 'E', 'H', 'I', 'S', 'S', 'T', 'M', 'S', 'Q', 'Y', 'S', 'R', 'S', 'T', 'R', 'S', 'M', 'L', 'K', 'R', 'R', 'D', 'S', 'T', 'Y', 'G', 'P', 'L', 'Q', 'T', 'P', 'V', 'G', 'C', 'V', 'L', 'G', 'L', 'V', 'N', 'S', 'S', 'L', 'F', 'V', 'E', 'D', 'C', 'K', 'L', 'P', 'L', 'G', 'Q', 'S', 'L', 'C', 'A', 'L', 'P', 'D', 'T', 'P', 'S', 'T', 'L', 'T', 'P', 'R', 'S', 'V', 'R', 'S', 'V', 'P', 'G', 'E', 'M', 'R', 'L', 'A', 'S', 'I', 'A', 'F', 'N', 'H', 'P', 'I', 'Q', 'V', 'D', 'Q', 'L', 'N', 'S', 'S', 'Y', 'F', 'K', 'L', 'S', 'I', 'P', 'T', 'N', 'F', 'S', 'F', 'G', 'V', 'T', 'Q', 'E', 'Y', 'I', 'Q', 'T', 'T', 'I', 'Q', 'K', 'V', 'T', 'V', 'D', 'C', 'K', 'Q', 'Y', 'V', 'C', 'N', 'G', 'F', 'Q', 'K', 'C', 'E', 'Q', 'L', 'L', 'R', 'E', 'Y', 'G', 'Q', 'F', 'C', 'S', 'K', 'I', 'N', 'Q', 'A', 'L', 'H', 'G', 'A', 'N', 'L', 'R', 'Q', 'D', 'D', 'S', 'V', 'R', 'N', 'L', 'F', 'A', 'S', 'V', 'K', 'S', 'S', 'Q', 'S', 'S', 'P', 'I', 'I', 'P', 'G', 'F', 'G', 'G', 'D', 'F', 'N', 'L', 'T', 'L', 'L', 'E', 'P', 'V', 'S', 'I', 'S', 'T', 'G', 'S', 'R', 'S', 'A', 'R', 'S', 'A', 'I', 'E', 'D', 'L', 'L', 'F', 'D', 'K', 'V', 'T', 'I', 'A', 'D', 'P', 'G', 'Y', 'M', 'Q', 'G', 'Y', 'D', 'D', 'C', 'M', 'Q', 'Q', 'G', 'P', 'A', 'S', 'A', 'R', 'D', 'L', 'I', 'C', 'A', 'Q', 'Y', 'V', 'A', 'G', 'Y', 'K', 'V', 'L', 'P', 'P', 'L', 'M', 'D', 'V', 'N', 'M', 'E', 'A', 'A', 'Y', 'T', 'S', 'S', 'L', 'L', 'G', 'S', 'I', 'A', 'G', 'V', 'G', 'W', 'T', 'A', 'G', 'L', 'S', 'S', 'F', 'A', 'A', 'I', 'P', 'F', 'A', 'Q', 'S', 'I', 'F', 'Y', 'R', 'L', 'N', 'G', 'V', 'G', 'I', 'T', 'Q', 'Q', 'V', 'L', 'S', 'E', 'N', 'Q', 'K', 'L', 'I', 'A', 'N', 'K', 'F', 'N', 'Q', 'A', 'L', 'G', 'A', 'M', 'Q', 'T', 'G', 'F', 'T', 'T', 'T', 'N', 'E', 'A', 'F', 'R', 'K', 'V', 'Q', 'D', 'A', 'V', 'N', 'N', 'N', 'A', 'Q', 'A', 'L', 'S', 'K', 'L', 'A', 'S', 'E', 'L', 'S', 'N', 'T', 'F', 'G', 'A', 'I', 'S', 'A', 'S', 'I', 'G', 'D', 'I', 'I', 'Q', 'R', 'L', 'D', 'V', 'L', 'E', 'Q', 'D', 'A', 'Q', 'I', 'D', 'R', 'L', 'I', 'N', 'G', 'R', 'L', 'T', 'T', 'L', 'N', 'A', 'F', 'V', 'A', 'Q', 'Q', 'L', 'V', 'R', 'S', 'E', 'S', 'A', 'A', 'L', 'S', 'A', 'Q', 'L', 'A', 'K', 'D', 'K', 'V', 'N', 'E', 'C', 'V', 'K', 'A', 'Q', 'S', 'K', 'R', 'S', 'G', 'F', 'C', 'G', 'Q', 'G', 'T', 'H', 'I', 'V', 'S', 'F', 'V', 'V', 'N', 'A', 'P', 'N', 'G', 'L', 'Y', 'F', 'M', 'H', 'V', 'G', 'Y', 'Y', 'P', 'S', 'N', 'H', 'I', 'E', 'V', 'V', 'S', 'A', 'Y', 'G', 'L', 'C', 'D', 'A', 'A', 'N', 'P', 'T', 'N', 'C', 'I', 'A', 'P', 'V', 'N', 'G', 'Y', 'F', 'I', 'K', 'T', 'N', 'N', 'T', 'R', 'I', 'V', 'D', 'E', 'W', 'S', 'Y', 'T', 'G', 'S', 'S', 'F', 'Y', 'A', 'P', 'E', 'P', 'I', 'T', 'S', 'L', 'N', 'T', 'K', 'Y', 'V', 'A', 'P', 'Q', 'V', 'T', 'Y', 'Q', 'N', 'I', 'S', 'T', 'N', 'L', 'P', 'P', 'P', 'L', 'L', 'G', 'N', 'S', 'T', 'G', 'I', 'D', 'F', 'Q', 'D', 'E', 'L', 'D', 'E', 'F', 'F', 'K', 'N', 'V', 'S', 'T', 'S', 'I', 'P', 'N', 'F', 'G', 'S', 'L', 'T', 'Q', 'I', 'N', 'T', 'T', 'L', 'L', 'D', 'L', 'T', 'Y', 'E', 'M', 'L', 'S', 'L', 'Q', 'Q', 'V', 'V', 'K', 'A', 'L', 'N', 'E', 'S', 'Y', 'I', 'D', 'L', 'K', 'E', 'L', 'G', 'N', 'Y', 'T', 'Y', 'Y', 'N', 'K', 'W', 'P', 'W', 'Y', 'I', 'W', 'L', 'G', 'F', 'I', 'A', 'G', 'L', 'V', 'A', 'L', 'A', 'L', 'C', 'V', 'F', 'F', 'I', 'L', 'C', 'C', 'T', 'G', 'C', 'G', 'T', 'N', 'C', 'M', 'G', 'K', 'L', 'K', 'C', 'N', 'R', 'C', 'C', 'D', 'R', 'Y', 'E', 'E', 'Y', 'D', 'L', 'E', 'P', 'H', 'K', 'V', 'H', 'V', 'H']\n"
     ]
    }
   ],
   "source": [
    "import pandas as pd\n",
    "\n",
    "# Učitaj CSV fajl\n",
    "df = pd.read_csv(\"Ulazni podaci IUPRED3/protein_ARQ84735.1 .csv\")\n",
    "\n",
    "sekvenca = df['Aminokiselina'].tolist()\n",
    "\n",
    "print(\"Sekvenca proteina ARQ84735.1:\", sekvenca)\n"
   ]
  },
  {
   "cell_type": "code",
   "execution_count": 2,
   "id": "0e14b661-db29-4add-8497-0912637b7caa",
   "metadata": {},
   "outputs": [
    {
     "name": "stdout",
     "output_type": "stream",
     "text": [
      "['uređena', 'uređena', 'uređena', 'uređena', 'uređena', 'uređena', 'uređena', 'uređena', 'uređena', 'uređena', 'uređena', 'uređena', 'uređena', 'uređena', 'uređena', 'uređena', 'uređena', 'uređena', 'uređena', 'uređena', 'uređena', 'uređena', 'uređena', 'uređena', 'uređena', 'uređena', 'uređena', 'uređena', 'uređena', 'uređena', 'uređena', 'uređena', 'uređena', 'uređena', 'uređena', 'uređena', 'uređena', 'uređena', 'uređena', 'uređena', 'uređena', 'uređena', 'uređena', 'uređena', 'uređena', 'uređena', 'uređena', 'uređena', 'uređena', 'uređena', 'uređena', 'uređena', 'uređena', 'uređena', 'uređena', 'uređena', 'uređena', 'uređena', 'uređena', 'uređena', 'uređena', 'uređena', 'uređena', 'uređena', 'uređena', 'uređena', 'uređena', 'uređena', 'uređena', 'uređena', 'uređena', 'uređena', 'uređena', 'uređena', 'uređena', 'uređena', 'uređena', 'uređena', 'uređena', 'uređena', 'uređena', 'uređena', 'uređena', 'uređena', 'uređena', 'uređena', 'uređena', 'uređena', 'uređena', 'uređena', 'uređena', 'uređena', 'uređena', 'uređena', 'uređena', 'uređena', 'uređena', 'uređena', 'uređena', 'uređena', 'uređena', 'uređena', 'uređena', 'uređena', 'uređena', 'uređena', 'uređena', 'uređena', 'uređena', 'uređena', 'uređena', 'uređena', 'uređena', 'uređena', 'uređena', 'uređena', 'uređena', 'uređena', 'uređena', 'uređena', 'uređena', 'uređena', 'uređena', 'uređena', 'uređena', 'uređena', 'uređena', 'uređena', 'uređena', 'uređena', 'uređena', 'uređena', 'uređena', 'uređena', 'uređena', 'uređena', 'uređena', 'uređena', 'uređena', 'uređena', 'uređena', 'uređena', 'uređena', 'uređena', 'uređena', 'uređena', 'uređena', 'uređena', 'uređena', 'uređena', 'uređena', 'uređena', 'uređena', 'uređena', 'uređena', 'uređena', 'uređena', 'uređena', 'uređena', 'uređena', 'uređena', 'uređena', 'uređena', 'uređena', 'uređena', 'uređena', 'uređena', 'uređena', 'uređena', 'uređena', 'uređena', 'uređena', 'uređena', 'uređena', 'uređena', 'uređena', 'uređena', 'uređena', 'uređena', 'uređena', 'uređena', 'uređena', 'uređena', 'uređena', 'uređena', 'uređena', 'uređena', 'uređena', 'uređena', 'uređena', 'uređena', 'uređena', 'uređena', 'uređena', 'uređena', 'uređena', 'uređena', 'uređena', 'uređena', 'uređena', 'uređena', 'uređena', 'uređena', 'uređena', 'uređena', 'uređena', 'uređena', 'uređena', 'uređena', 'uređena', 'uređena', 'uređena', 'uređena', 'uređena', 'uređena', 'uređena', 'uređena', 'uređena', 'uređena', 'uređena', 'uređena', 'uređena', 'uređena', 'uređena', 'uređena', 'uređena', 'uređena', 'uređena', 'uređena', 'uređena', 'uređena', 'uređena', 'uređena', 'uređena', 'uređena', 'uređena', 'uređena', 'uređena', 'uređena', 'uređena', 'uređena', 'uređena', 'uređena', 'uređena', 'uređena', 'uređena', 'uređena', 'uređena', 'uređena', 'uređena', 'uređena', 'uređena', 'uređena', 'uređena', 'uređena', 'uređena', 'uređena', 'uređena', 'uređena', 'uređena', 'uređena', 'uređena', 'uređena', 'uređena', 'uređena', 'uređena', 'uređena', 'uređena', 'uređena', 'uređena', 'uređena', 'uređena', 'uređena', 'uređena', 'uređena', 'uređena', 'uređena', 'uređena', 'uređena', 'uređena', 'uređena', 'uređena', 'uređena', 'uređena', 'uređena', 'uređena', 'uređena', 'uređena', 'uređena', 'uređena', 'uređena', 'uređena', 'uređena', 'uređena', 'uređena', 'uređena', 'uređena', 'uređena', 'uređena', 'uređena', 'uređena', 'uređena', 'uređena', 'uređena', 'uređena', 'uređena', 'uređena', 'uređena', 'uređena', 'uređena', 'uređena', 'uređena', 'uređena', 'uređena', 'uređena', 'uređena', 'uređena', 'uređena', 'uređena', 'uređena', 'uređena', 'uređena', 'uređena', 'uređena', 'uređena', 'uređena', 'uređena', 'uređena', 'uređena', 'uređena', 'uređena', 'uređena', 'uređena', 'uređena', 'uređena', 'uređena', 'uređena', 'uređena', 'uređena', 'uređena', 'uređena', 'uređena', 'uređena', 'uređena', 'uređena', 'uređena', 'uređena', 'uređena', 'uređena', 'uređena', 'uređena', 'uređena', 'uređena', 'uređena', 'uređena', 'uređena', 'uređena', 'uređena', 'uređena', 'uređena', 'uređena', 'uređena', 'uređena', 'uređena', 'uređena', 'uređena', 'uređena', 'uređena', 'uređena', 'uređena', 'uređena', 'uređena', 'uređena', 'uređena', 'uređena', 'uređena', 'uređena', 'uređena', 'uređena', 'uređena', 'uređena', 'uređena', 'uređena', 'uređena', 'uređena', 'uređena', 'uređena', 'uređena', 'uređena', 'uređena', 'uređena', 'uređena', 'uređena', 'uređena', 'uređena', 'uređena', 'uređena', 'uređena', 'uređena', 'uređena', 'uređena', 'uređena', 'uređena', 'uređena', 'uređena', 'uređena', 'uređena', 'uređena', 'uređena', 'uređena', 'uređena', 'uređena', 'uređena', 'uređena', 'uređena', 'uređena', 'uređena', 'uređena', 'uređena', 'uređena', 'uređena', 'uređena', 'uređena', 'uređena', 'uređena', 'uređena', 'uređena', 'uređena', 'uređena', 'uređena', 'uređena', 'uređena', 'uređena', 'uređena', 'uređena', 'uređena', 'uređena', 'uređena', 'uređena', 'uređena', 'uređena', 'uređena', 'uređena', 'uređena', 'uređena', 'uređena', 'uređena', 'uređena', 'uređena', 'uređena', 'uređena', 'uređena', 'uređena', 'uređena', 'uređena', 'uređena', 'uređena', 'uređena', 'uređena', 'uređena', 'uređena', 'uređena', 'uređena', 'uređena', 'uređena', 'uređena', 'uređena', 'uređena', 'uređena', 'uređena', 'uređena', 'uređena', 'uređena', 'uređena', 'uređena', 'uređena', 'uređena', 'uređena', 'uređena', 'uređena', 'uređena', 'uređena', 'uređena', 'uređena', 'uređena', 'uređena', 'uređena', 'uređena', 'uređena', 'uređena', 'uređena', 'uređena', 'uređena', 'uređena', 'uređena', 'uređena', 'uređena', 'uređena', 'uređena', 'uređena', 'uređena', 'uređena', 'uređena', 'uređena', 'uređena', 'uređena', 'uređena', 'uređena', 'uređena', 'uređena', 'uređena', 'uređena', 'uređena', 'uređena', 'uređena', 'uređena', 'uređena', 'uređena', 'uređena', 'uređena', 'uređena', 'uređena', 'uređena', 'uređena', 'uređena', 'uređena', 'uređena', 'uređena', 'uređena', 'uređena', 'uređena', 'uređena', 'uređena', 'uređena', 'uređena', 'uređena', 'uređena', 'uređena', 'uređena', 'uređena', 'uređena', 'uređena', 'uređena', 'uređena', 'uređena', 'uređena', 'uređena', 'uređena', 'uređena', 'uređena', 'uređena', 'uređena', 'uređena', 'uređena', 'uređena', 'uređena', 'uređena', 'uređena', 'uređena', 'uređena', 'uređena', 'uređena', 'uređena', 'uređena', 'uređena', 'uređena', 'uređena', 'uređena', 'uređena', 'uređena', 'uređena', 'uređena', 'uređena', 'uređena', 'uređena', 'uređena', 'uređena', 'uređena', 'uređena', 'uređena', 'uređena', 'uređena', 'uređena', 'uređena', 'uređena', 'uređena', 'uređena', 'uređena', 'uređena', 'uređena', 'uređena', 'uređena', 'uređena', 'uređena', 'uređena', 'uređena', 'uređena', 'uređena', 'uređena', 'uređena', 'uređena', 'uređena', 'uređena', 'uređena', 'uređena', 'uređena', 'uređena', 'uređena', 'uređena', 'uređena', 'uređena', 'uređena', 'uređena', 'uređena', 'uređena', 'uređena', 'uređena', 'uređena', 'uređena', 'uređena', 'uređena', 'uređena', 'uređena', 'uređena', 'uređena', 'uređena', 'uređena', 'uređena', 'uređena', 'uređena', 'uređena', 'uređena', 'uređena', 'uređena', 'uređena', 'uređena', 'uređena', 'uređena', 'uređena', 'uređena', 'uređena', 'uređena', 'uređena', 'uređena', 'uređena', 'uređena', 'uređena', 'uređena', 'uređena', 'uređena', 'uređena', 'uređena', 'uređena', 'uređena', 'uređena', 'uređena', 'uređena', 'uređena', 'uređena', 'uređena', 'uređena', 'uređena', 'uređena', 'uređena', 'uređena', 'uređena', 'uređena', 'uređena', 'uređena', 'uređena', 'uređena', 'uređena', 'uređena', 'uređena', 'uređena', 'uređena', 'uređena', 'uređena', 'uređena', 'uređena', 'uređena', 'uređena', 'uređena', 'uređena', 'uređena', 'uređena', 'uređena', 'uređena', 'uređena', 'uređena', 'uređena', 'uređena', 'uređena', 'uređena', 'uređena', 'uređena', 'uređena', 'uređena', 'uređena', 'uređena', 'uređena', 'uređena', 'uređena', 'uređena', 'uređena', 'uređena', 'uređena', 'uređena', 'uređena', 'uređena', 'uređena', 'uređena', 'uređena', 'uređena', 'uređena', 'uređena', 'uređena', 'uređena', 'uređena', 'uređena', 'uređena', 'uređena', 'uređena', 'uređena', 'uređena', 'uređena', 'uređena', 'uređena', 'uređena', 'uređena', 'uređena', 'uređena', 'uređena', 'uređena', 'uređena', 'uređena', 'uređena', 'uređena', 'uređena', 'uređena', 'uređena', 'uređena', 'uređena', 'uređena', 'uređena', 'uređena', 'neuređena', 'neuređena', 'neuređena', 'neuređena', 'uređena', 'uređena', 'uređena', 'uređena', 'uređena', 'uređena', 'uređena', 'uređena', 'uređena', 'uređena', 'uređena', 'uređena', 'uređena', 'uređena', 'uređena', 'uređena', 'uređena', 'uređena', 'uređena', 'uređena', 'uređena', 'uređena', 'uređena', 'uređena', 'uređena', 'uređena', 'uređena', 'uređena', 'uređena', 'uređena', 'uređena', 'uređena', 'uređena', 'uređena', 'uređena', 'uređena', 'uređena', 'uređena', 'uređena', 'uređena', 'uređena', 'uređena', 'uređena', 'uređena', 'uređena', 'uređena', 'uređena', 'uređena', 'uređena', 'uređena', 'uređena', 'uređena', 'uređena', 'uređena', 'uređena', 'uređena', 'uređena', 'uređena', 'uređena', 'uređena', 'uređena', 'uređena', 'uređena', 'uređena', 'uređena', 'uređena', 'uređena', 'uređena', 'uređena', 'uređena', 'uređena', 'uređena', 'uređena', 'uređena', 'uređena', 'uređena', 'uređena', 'uređena', 'uređena', 'uređena', 'uređena', 'uređena', 'uređena', 'uređena', 'uređena', 'uređena', 'uređena', 'uređena', 'uređena', 'uređena', 'uređena', 'uređena', 'uređena', 'uređena', 'uređena', 'uređena', 'uređena', 'uređena', 'uređena', 'uređena', 'uređena', 'uređena', 'uređena', 'uređena', 'uređena', 'uređena', 'uređena', 'uređena', 'uređena', 'uređena', 'uređena', 'uređena', 'uređena', 'uređena', 'uređena', 'uređena', 'uređena', 'uređena', 'uređena', 'uređena', 'uređena', 'uređena', 'uređena', 'uređena', 'uređena', 'uređena', 'uređena', 'uređena', 'uređena', 'uređena', 'uređena', 'uređena', 'uređena', 'uređena', 'uređena', 'uređena', 'uređena', 'uređena', 'uređena', 'uređena', 'uređena', 'uređena', 'uređena', 'uređena', 'uređena', 'uređena', 'uređena', 'uređena', 'uređena', 'uređena', 'uređena', 'uređena', 'uređena', 'uređena', 'uređena', 'uređena', 'uređena', 'uređena', 'uređena', 'uređena', 'uređena', 'uređena', 'uređena', 'uređena', 'uređena', 'uređena', 'uređena', 'uređena', 'uređena', 'uređena', 'uređena', 'uređena', 'uređena', 'uređena', 'uređena', 'uređena', 'uređena', 'uređena', 'uređena', 'uređena', 'uređena', 'uređena', 'uređena', 'uređena', 'uređena', 'uređena', 'uređena', 'uređena', 'uređena', 'uređena', 'uređena', 'uređena', 'uređena', 'uređena', 'uređena', 'uređena', 'uređena', 'uređena', 'uređena', 'uređena', 'uređena', 'uređena', 'uređena', 'uređena', 'uređena', 'uređena', 'uređena', 'uređena', 'uređena', 'uređena', 'uređena', 'uređena', 'uređena', 'uređena', 'uređena', 'uređena', 'uređena', 'uređena', 'uređena', 'uređena', 'uređena', 'uređena', 'uređena', 'uređena', 'uređena', 'uređena', 'uređena', 'uređena', 'uređena', 'uređena', 'uređena', 'uređena', 'uređena', 'uređena', 'uređena', 'uređena', 'uređena', 'uređena', 'uređena', 'uređena', 'uređena', 'uređena', 'uređena', 'uređena', 'uređena', 'uređena', 'uređena', 'uređena', 'uređena', 'uređena', 'uređena', 'uređena', 'uređena', 'uređena', 'uređena', 'uređena', 'uređena', 'uređena', 'uređena', 'uređena', 'uređena', 'uređena', 'uređena', 'uređena', 'uređena', 'uređena', 'uređena', 'uređena', 'uređena', 'uređena', 'uređena', 'uređena', 'uređena', 'uređena', 'uređena', 'uređena', 'uređena', 'uređena', 'uređena', 'uređena', 'uređena', 'uređena', 'uređena', 'uređena', 'uređena', 'uređena', 'uređena', 'uređena', 'uređena', 'uređena', 'uređena', 'uređena', 'uređena', 'uređena', 'uređena', 'uređena', 'uređena', 'uređena', 'uređena', 'uređena', 'uređena', 'uređena', 'uređena', 'uređena', 'uređena', 'uređena', 'uređena', 'uređena', 'uređena', 'uređena', 'uređena', 'uređena', 'uređena', 'uređena', 'uređena', 'uređena', 'uređena', 'uređena', 'uređena', 'uređena', 'uređena', 'uređena', 'uređena', 'uređena', 'uređena', 'uređena', 'uređena', 'uređena', 'uređena', 'uređena', 'uređena', 'uređena', 'uređena', 'uređena', 'uređena', 'uređena', 'uređena', 'uređena', 'uređena', 'uređena', 'uređena', 'uređena', 'uređena', 'uređena', 'uređena', 'uređena', 'uređena', 'uređena', 'uređena', 'uređena', 'uređena', 'uređena', 'uređena', 'uređena', 'uređena', 'uređena', 'uređena', 'uređena', 'uređena', 'uređena', 'uređena', 'uređena', 'uređena', 'uređena', 'uređena', 'uređena', 'uređena', 'uređena', 'uređena', 'uređena', 'uređena', 'uređena', 'uređena', 'uređena', 'uređena', 'uređena', 'uređena', 'uređena', 'uređena', 'uređena', 'uređena', 'uređena', 'uređena', 'uređena', 'uređena', 'uređena', 'uređena', 'uređena', 'uređena', 'uređena', 'uređena', 'uređena', 'uređena', 'uređena', 'uređena', 'uređena', 'uređena', 'uređena', 'uređena', 'uređena', 'uređena', 'uređena', 'uređena', 'uređena', 'uređena', 'uređena', 'uređena', 'uređena', 'uređena', 'uređena', 'uređena', 'uređena', 'uređena', 'uređena', 'uređena', 'uređena', 'uređena', 'uređena', 'uređena', 'uređena', 'uređena', 'uređena', 'uređena', 'uređena', 'uređena', 'uređena', 'uređena', 'uređena', 'uređena', 'uređena', 'uređena', 'uređena', 'uređena', 'uređena', 'uređena', 'uređena', 'uređena', 'uređena', 'uređena', 'uređena', 'uređena', 'uređena', 'uređena', 'uređena', 'uređena', 'uređena', 'uređena', 'uređena', 'uređena', 'uređena', 'uređena', 'uređena', 'uređena', 'uređena', 'uređena', 'uređena', 'uređena', 'uređena', 'uređena', 'uređena', 'uređena', 'uređena', 'uređena', 'uređena', 'uređena', 'uređena', 'uređena', 'uređena', 'uređena', 'uređena', 'uređena', 'uređena', 'uređena', 'uređena', 'uređena', 'uređena', 'uređena', 'uređena', 'uređena', 'uređena', 'uređena', 'uređena', 'uređena', 'uređena', 'uređena', 'uređena', 'uređena', 'uređena', 'uređena', 'uređena', 'uređena', 'uređena', 'uređena', 'uređena', 'uređena', 'uređena', 'uređena', 'uređena', 'uređena', 'uređena', 'uređena', 'uređena', 'uređena', 'uređena', 'uređena', 'uređena', 'uređena', 'uređena', 'uređena', 'uređena', 'uređena', 'uređena', 'uređena', 'uređena', 'uređena', 'uređena', 'uređena', 'uređena', 'uređena', 'uređena', 'uređena', 'uređena', 'uređena', 'uređena', 'uređena', 'uređena', 'uređena', 'uređena', 'uređena', 'uređena', 'uređena', 'uređena', 'uređena', 'uređena', 'uređena', 'uređena', 'uređena', 'uređena', 'uređena', 'uređena', 'uređena', 'uređena', 'uređena', 'uređena', 'uređena', 'uređena', 'uređena', 'uređena', 'uređena', 'uređena', 'uređena', 'uređena', 'uređena', 'uređena', 'uređena', 'uređena', 'uređena', 'uređena', 'uređena', 'uređena', 'uređena', 'uređena', 'uređena', 'uređena', 'uređena', 'uređena', 'uređena', 'uređena', 'uređena', 'uređena', 'uređena', 'uređena', 'uređena', 'uređena', 'uređena', 'uređena', 'uređena', 'uređena', 'uređena', 'uređena', 'uređena', 'uređena', 'uređena', 'uređena', 'uređena', 'uređena', 'uređena', 'uređena', 'uređena', 'uređena', 'uređena', 'uređena', 'uređena', 'uređena', 'uređena', 'uređena', 'uređena', 'uređena', 'uređena', 'uređena', 'uređena', 'uređena', 'uređena']\n"
     ]
    }
   ],
   "source": [
    "# Izdvajanje svih vrednosti iz kolone 'Klasifikacija'\n",
    "oznake = df['Klasifikacija'].tolist()\n",
    "\n",
    "# Prikazivanje liste\n",
    "print(oznake)\n"
   ]
  },
  {
   "cell_type": "code",
   "execution_count": 3,
   "id": "a681f3ce-7c0f-4527-8f06-b78bf3ee83a0",
   "metadata": {},
   "outputs": [
    {
     "name": "stdout",
     "output_type": "stream",
     "text": [
      "Primer sekvence: [['M', 'I', 'H', 'S', 'V'], ['I', 'H', 'S', 'V', 'F'], ['H', 'S', 'V', 'F', 'L'], ['S', 'V', 'F', 'L', 'L'], ['V', 'F', 'L', 'L', 'M']]\n",
      "Primer oznaka: ['uređena', 'uređena', 'uređena', 'uređena', 'uređena']\n"
     ]
    }
   ],
   "source": [
    "def generisi_prozore(sekvenca, oznake, min_duzina=5, max_duzina=100):\n",
    "    prozori = []\n",
    "    oznake_prozora = []\n",
    "    duzine = []      # lista za dužinu podsekvence\n",
    "    pozicije = []   # lista za pozicije u originalnoj sekvenci (\"početak-kraj\")\n",
    "    \n",
    "    for duzina in range(min_duzina, max_duzina + 1):  # Za svaki prozor dužine od 5 do 100\n",
    "        for i in range(len(sekvenca) - duzina + 1):\n",
    "            podsekvenca = sekvenca[i:i + duzina]          # Izdvajanje podsekvence\n",
    "            oznake_podsekvence = oznake[i:i + duzina]        # Pripadajuće oznake\n",
    "            \n",
    "            # Pamćenje dužine i pozicije (pozicije se čuvaju 1-indeksirano)\n",
    "            duzine.append(duzina)\n",
    "            pozicije.append(f\"{i+1}-{i+duzina}\")\n",
    "            \n",
    "            # Dodeljivanje oznake na osnovu većinske vrednosti\n",
    "            if oznake_podsekvence.count(\"uređena\") > len(oznake_podsekvence) / 2:\n",
    "                prozori.append(podsekvenca)\n",
    "                oznake_prozora.append(\"uređena\")\n",
    "            elif oznake_podsekvence.count(\"uređena\") < len(oznake_podsekvence) / 2:\n",
    "                prozori.append(podsekvenca)\n",
    "                oznake_prozora.append(\"neuređena\")\n",
    "            else:\n",
    "                prozori.append(podsekvenca)\n",
    "                oznake_prozora.append(\"uređena/neuređena\")\n",
    "          \n",
    "    return duzine, pozicije, prozori, oznake_prozora\n",
    "\n",
    "\n",
    "# Generiši prozore\n",
    "duzine, pozicije, X_sekvence, y_oznake = generisi_prozore(sekvenca, oznake)\n",
    "\n",
    "print(\"Primer sekvence:\", X_sekvence[:5])\n",
    "print(\"Primer oznaka:\", y_oznake[:5])\n"
   ]
  },
  {
   "cell_type": "markdown",
   "id": "c3982882-53e0-4342-8492-2b693cf0ca54",
   "metadata": {},
   "source": [
    "KREIRANJE FREKVENCIJSKOG VEKTORA"
   ]
  },
  {
   "cell_type": "code",
   "execution_count": 4,
   "id": "51627cb0-f844-44c2-8018-21d9ae95cad7",
   "metadata": {},
   "outputs": [],
   "source": [
    "# Definiši sve aminokiseline\n",
    "amino_acids = \"ACDEFGHIKLMNPQRSTVWY\"\n",
    "aa_to_index = {aa: i for i, aa in enumerate(amino_acids)}"
   ]
  },
  {
   "cell_type": "code",
   "execution_count": 5,
   "id": "c71cf2cc-14f7-4fd3-b980-39515719d10c",
   "metadata": {},
   "outputs": [],
   "source": [
    "def frequency_vector(seq):\n",
    "    vec = np.zeros(len(amino_acids))  # Kreira vektor dužine 20 (jer imamo 20 aminokiselina)\n",
    "    for aa in seq:\n",
    "        if aa in aa_to_index:\n",
    "            vec[aa_to_index[aa]] += 1  # Povećava brojanje aminokiseline u vektoru\n",
    "    return vec / len(seq)  # Normalizuje frekvencije (deli sa dužinom sekvence)"
   ]
  },
  {
   "cell_type": "code",
   "execution_count": 6,
   "id": "13d8286c-bd79-466d-b9ad-95073964e20b",
   "metadata": {},
   "outputs": [],
   "source": [
    "import numpy as np"
   ]
  },
  {
   "cell_type": "code",
   "execution_count": 7,
   "id": "1d392426-76b4-46ec-9f24-5716dc72709f",
   "metadata": {},
   "outputs": [],
   "source": [
    "X_features = np.array([frequency_vector(seq) for seq in X_sekvence])"
   ]
  },
  {
   "cell_type": "code",
   "execution_count": 8,
   "id": "ab6cee42-18cf-412d-ace7-57c894b528c2",
   "metadata": {},
   "outputs": [
    {
     "name": "stdout",
     "output_type": "stream",
     "text": [
      "Primer vektora: [[0.  0.  0.  0.  0.  0.  0.2 0.2 0.  0.  0.2 0.  0.  0.  0.  0.2 0.  0.2\n",
      "  0.  0. ]\n",
      " [0.  0.  0.  0.  0.2 0.  0.2 0.2 0.  0.  0.  0.  0.  0.  0.  0.2 0.  0.2\n",
      "  0.  0. ]\n",
      " [0.  0.  0.  0.  0.2 0.  0.2 0.  0.  0.2 0.  0.  0.  0.  0.  0.2 0.  0.2\n",
      "  0.  0. ]\n",
      " [0.  0.  0.  0.  0.2 0.  0.  0.  0.  0.4 0.  0.  0.  0.  0.  0.2 0.  0.2\n",
      "  0.  0. ]\n",
      " [0.  0.  0.  0.  0.2 0.  0.  0.  0.  0.4 0.2 0.  0.  0.  0.  0.  0.  0.2\n",
      "  0.  0. ]]\n",
      "Primer oznaka: [1 1 1 1 1]\n"
     ]
    }
   ],
   "source": [
    "y_binary = np.array([1 if oznake == \"uređena\" else 0 for oznake in y_oznake])\n",
    "\n",
    "print(\"Primer vektora:\", X_features[:5])\n",
    "print(\"Primer oznaka:\", y_binary[:5])"
   ]
  },
  {
   "cell_type": "code",
   "execution_count": 9,
   "id": "8f7bdf22-5bd9-4ea2-8064-95937161684f",
   "metadata": {},
   "outputs": [
    {
     "name": "stdout",
     "output_type": "stream",
     "text": [
      "Test Accuracy: 0.9999\n"
     ]
    }
   ],
   "source": [
    "from sklearn.svm import SVC\n",
    "from sklearn.model_selection import train_test_split\n",
    "from sklearn.metrics import accuracy_score\n",
    "\n",
    "# Podeli podatke na trening i test skupove\n",
    "X_train, X_test, y_train, y_test = train_test_split(X_features, y_binary, test_size=0.3, random_state=42)\n",
    "\n",
    "# Treniraj SVM model\n",
    "svm_model = SVC(kernel=\"rbf\", C=1.0, gamma=\"scale\")\n",
    "svm_model.fit(X_train, y_train)\n",
    "\n",
    "# Evaluacija\n",
    "y_pred = svm_model.predict(X_test)\n",
    "accuracy = accuracy_score(y_test, y_pred)\n",
    "\n",
    "print(f\"Test Accuracy: {accuracy:.4f}\")"
   ]
  },
  {
   "cell_type": "code",
   "execution_count": 11,
   "id": "7b5533d2-321e-41d7-8c28-f2dda4f4c34b",
   "metadata": {},
   "outputs": [],
   "source": [
    "# Sačuvaj trening i test podatke\n",
    "\n",
    "aminokiseline = ['A', 'C', 'D', 'E', 'F', 'G', 'H', 'I', 'K', 'L', 'M', 'N', 'P', 'Q', 'R', 'S', 'T', 'V', 'W', 'Y']\n",
    "nazivi_kolona = [f\"molska_frakcija_za_{aa}\" for aa in aminokiseline] + [\"Klasifikacija\"]\n",
    "\n",
    "# Kreiranje DataFrame-ova sa odgovarajućim kolonama\n",
    "trening_podaci = pd.DataFrame(X_train, columns=nazivi_kolona[:-1])\n",
    "trening_podaci[\"Klasifikacija\"] = y_train\n",
    "\n",
    "test_podaci = pd.DataFrame(X_test, columns=nazivi_kolona[:-1])\n",
    "test_podaci[\"Klasifikacija\"] = y_test\n",
    "\n",
    "# Spajanje podataka\n",
    "svi_podaci = pd.concat([trening_podaci, test_podaci], ignore_index=True)\n",
    "\n",
    "# Čuvanje u CSV fajlove\n",
    "trening_podaci.to_csv(\"Izlazni podaci IUPRED3 SVM/trening_podaci_ARQ84735.1.csv\", index=False)\n",
    "test_podaci.to_csv(\"Izlazni podaci IUPRED3 SVM/test_podaci_ARQ84735.1.csV\", index=False)\n",
    "svi_podaci.to_csv(\"Izlazni podaci IUPRED3 SVM/svi_podaci_ARQ84735.1.csv\", index=False)\n",
    "\n",
    "# Sačuvaj sekvence sa oznakama, dužinama i pozicijama\n",
    "df_sekvence = pd.DataFrame({\n",
    "    \"Duzina\": duzine,\n",
    "    \"Pozicija\": pozicije,\n",
    "    \"Sekvenca\": X_sekvence,\n",
    "    \"Oznaka\": y_oznake\n",
    "})\n",
    "\n",
    "df_sekvence.to_csv(\"Izlazni podaci IUPRED3 SVM/sekvence_oznake_ARQ84735.1.csv\", index=False)\n",
    "\n",
    "# Sačuvaj predikcije modela\n",
    "#df_predikcija = pd.DataFrame({\n",
    "#    \"Sekvenca\": [podsekvenca],\n",
    "#    \"Predvidjena oznaka\": ['uređena' if predvidjena_oznaka == 1 else 'neuređena']\n",
    "#})\n",
    "#df_predikcija.to_csv(\"Izlazni podaci IUPRED3/predvidjanje_modela_ARQ84735.1.csv\", index=False)"
   ]
  },
  {
   "cell_type": "markdown",
   "id": "0ec90b3d-7f42-40f8-8491-2bd4e2ffaf9d",
   "metadata": {},
   "source": [
    "CEPKANJE KORISCENJEM KNN "
   ]
  },
  {
   "cell_type": "code",
   "execution_count": 12,
   "id": "9f3d976d-9f81-4f88-a897-52f611009a9f",
   "metadata": {},
   "outputs": [
    {
     "name": "stdout",
     "output_type": "stream",
     "text": [
      "Test Accuracy: 0.9999\n"
     ]
    }
   ],
   "source": [
    "from sklearn.neighbors import KNeighborsClassifier\n",
    "from sklearn.model_selection import train_test_split\n",
    "from sklearn.metrics import accuracy_score\n",
    "\n",
    "# Podeli podatke na trening i test skupove\n",
    "X_train, X_test, y_train, y_test = train_test_split(X_features, y_binary, test_size=0.3, random_state=42)\n",
    "\n",
    "# Treniraj KNN model\n",
    "knn_model = KNeighborsClassifier(n_neighbors=5)  # Možeš promeniti broj suseda\n",
    "knn_model.fit(X_train, y_train)\n",
    "\n",
    "# Evaluacija\n",
    "y_pred = knn_model.predict(X_test)\n",
    "accuracy = accuracy_score(y_test, y_pred)\n",
    "\n",
    "print(f\"Test Accuracy: {accuracy:.4f}\")\n"
   ]
  },
  {
   "cell_type": "code",
   "execution_count": 14,
   "id": "21d4323f-8154-41c3-8566-ae63f4c2adcf",
   "metadata": {},
   "outputs": [],
   "source": [
    "# Sačuvaj trening i test podatke\n",
    "\n",
    "aminokiseline = ['A', 'C', 'D', 'E', 'F', 'G', 'H', 'I', 'K', 'L', 'M', 'N', 'P', 'Q', 'R', 'S', 'T', 'V', 'W', 'Y']\n",
    "nazivi_kolona = [f\"molska_frakcija_za_{aa}\" for aa in aminokiseline] + [\"Klasifikacija\"]\n",
    "\n",
    "# Kreiranje DataFrame-ova sa odgovarajućim kolonama\n",
    "trening_podaci = pd.DataFrame(X_train, columns=nazivi_kolona[:-1])\n",
    "trening_podaci[\"Klasifikacija\"] = y_train\n",
    "\n",
    "test_podaci = pd.DataFrame(X_test, columns=nazivi_kolona[:-1])\n",
    "test_podaci[\"Klasifikacija\"] = y_test\n",
    "\n",
    "# Spajanje podataka\n",
    "svi_podaci = pd.concat([trening_podaci, test_podaci], ignore_index=True)\n",
    "\n",
    "# Čuvanje u CSV fajlove\n",
    "trening_podaci.to_csv(\"Izlazni podaci IUPRED3 KNN/trening_podaci_ARQ84735.1.csv\", index=False)\n",
    "test_podaci.to_csv(\"Izlazni podaci IUPRED3 KNN/test_podaci_ARQ84735.1.csV\", index=False)\n",
    "svi_podaci.to_csv(\"Izlazni podaci IUPRED3 KNN/svi_podaci_ARQ84735.1.csv\", index=False)\n",
    "\n",
    "# Sačuvaj sekvence sa oznakama, dužinama i pozicijama\n",
    "df_sekvence = pd.DataFrame({\n",
    "    \"Duzina\": duzine,\n",
    "    \"Pozicija\": pozicije,\n",
    "    \"Sekvenca\": X_sekvence,\n",
    "    \"Oznaka\": y_oznake\n",
    "})\n",
    "\n",
    "df_sekvence.to_csv(\"Izlazni podaci IUPRED3 KNN/sekvence_oznake_KNN_ARQ84735.1.csv\", index=False)\n",
    "\n",
    "# Sačuvaj predikcije modela\n",
    "#df_predikcija = pd.DataFrame({\n",
    "#    \"Sekvenca\": [podsekvenca],\n",
    "#    \"Predvidjena oznaka\": ['uređena' if predvidjena_oznaka == 1 else 'neuređena']\n",
    "#})\n",
    "#df_predikcija.to_csv(\"Izlazni podaci IUPRED3/predvidjanje_modela_ARQ84735.1.csv\", index=False)"
   ]
  },
  {
   "cell_type": "markdown",
   "id": "d91d8bf5-9ccc-47bf-9135-5c5783017d2e",
   "metadata": {},
   "source": [
    "CEPKANJE KORISCENJEM CART"
   ]
  },
  {
   "cell_type": "code",
   "execution_count": 15,
   "id": "91529d0f-0762-41bd-9954-3bcd5a68bea4",
   "metadata": {},
   "outputs": [
    {
     "name": "stdout",
     "output_type": "stream",
     "text": [
      "Test Accuracy: 0.9999\n"
     ]
    }
   ],
   "source": [
    "from sklearn.tree import DecisionTreeClassifier\n",
    "from sklearn.model_selection import train_test_split\n",
    "from sklearn.metrics import accuracy_score\n",
    "\n",
    "# Podeli podatke na trening i test skupove\n",
    "X_train, X_test, y_train, y_test = train_test_split(X_features, y_binary, test_size=0.3, random_state=42)\n",
    "\n",
    "# Treniraj Decision Tree model sa dodatnim parametrima\n",
    "dt_model = DecisionTreeClassifier(\n",
    "    criterion='gini',  # Može biti 'entropy' ili 'gini' (default)\n",
    "    max_depth=8, \n",
    "    random_state=42\n",
    ")\n",
    "dt_model.fit(X_train, y_train)\n",
    "\n",
    "# Evaluacija\n",
    "y_pred = dt_model.predict(X_test)\n",
    "accuracy = accuracy_score(y_test, y_pred)\n",
    "\n",
    "print(f\"Test Accuracy: {accuracy:.4f}\")\n"
   ]
  },
  {
   "cell_type": "code",
   "execution_count": 16,
   "id": "11b03bc3-b70b-4fe5-83e5-b368d407366a",
   "metadata": {},
   "outputs": [
    {
     "ename": "OSError",
     "evalue": "Cannot save file into a non-existent directory: 'Izlazni podaci IUPRED3'",
     "output_type": "error",
     "traceback": [
      "\u001b[0;31m---------------------------------------------------------------------------\u001b[0m",
      "\u001b[0;31mOSError\u001b[0m                                   Traceback (most recent call last)",
      "Cell \u001b[0;32mIn[16], line 29\u001b[0m\n\u001b[1;32m     21\u001b[0m \u001b[38;5;66;03m# Sačuvaj sekvence sa oznakama, dužinama i pozicijama\u001b[39;00m\n\u001b[1;32m     22\u001b[0m df_sekvence \u001b[38;5;241m=\u001b[39m pd\u001b[38;5;241m.\u001b[39mDataFrame({\n\u001b[1;32m     23\u001b[0m     \u001b[38;5;124m\"\u001b[39m\u001b[38;5;124mDuzina\u001b[39m\u001b[38;5;124m\"\u001b[39m: duzine,\n\u001b[1;32m     24\u001b[0m     \u001b[38;5;124m\"\u001b[39m\u001b[38;5;124mPozicija\u001b[39m\u001b[38;5;124m\"\u001b[39m: pozicije,\n\u001b[1;32m     25\u001b[0m     \u001b[38;5;124m\"\u001b[39m\u001b[38;5;124mSekvenca\u001b[39m\u001b[38;5;124m\"\u001b[39m: X_sekvence,\n\u001b[1;32m     26\u001b[0m     \u001b[38;5;124m\"\u001b[39m\u001b[38;5;124mOznaka\u001b[39m\u001b[38;5;124m\"\u001b[39m: y_oznake\n\u001b[1;32m     27\u001b[0m })\n\u001b[0;32m---> 29\u001b[0m \u001b[43mdf_sekvence\u001b[49m\u001b[38;5;241;43m.\u001b[39;49m\u001b[43mto_csv\u001b[49m\u001b[43m(\u001b[49m\u001b[38;5;124;43m\"\u001b[39;49m\u001b[38;5;124;43mIzlazni podaci IUPRED3/sekvence_oznake_CART_ARQ84735.1.csv\u001b[39;49m\u001b[38;5;124;43m\"\u001b[39;49m\u001b[43m,\u001b[49m\u001b[43m \u001b[49m\u001b[43mindex\u001b[49m\u001b[38;5;241;43m=\u001b[39;49m\u001b[38;5;28;43;01mFalse\u001b[39;49;00m\u001b[43m)\u001b[49m\n\u001b[1;32m     31\u001b[0m \u001b[38;5;66;03m# Sačuvaj predikcije modela\u001b[39;00m\n\u001b[1;32m     32\u001b[0m \u001b[38;5;66;03m#df_predikcija = pd.DataFrame({\u001b[39;00m\n\u001b[1;32m     33\u001b[0m \u001b[38;5;66;03m#    \"Sekvenca\": [podsekvenca],\u001b[39;00m\n\u001b[1;32m     34\u001b[0m \u001b[38;5;66;03m#    \"Predvidjena oznaka\": ['uređena' if predvidjena_oznaka == 1 else 'neuređena']\u001b[39;00m\n\u001b[1;32m     35\u001b[0m \u001b[38;5;66;03m#})\u001b[39;00m\n\u001b[1;32m     36\u001b[0m \u001b[38;5;66;03m#df_predikcija.to_csv(\"Izlazni podaci IUPRED3/predvidjanje_modela_ARQ84735.1.csv\", index=False)\u001b[39;00m\n",
      "File \u001b[0;32m~/.local/lib/python3.9/site-packages/pandas/util/_decorators.py:333\u001b[0m, in \u001b[0;36mdeprecate_nonkeyword_arguments.<locals>.decorate.<locals>.wrapper\u001b[0;34m(*args, **kwargs)\u001b[0m\n\u001b[1;32m    327\u001b[0m \u001b[38;5;28;01mif\u001b[39;00m \u001b[38;5;28mlen\u001b[39m(args) \u001b[38;5;241m>\u001b[39m num_allow_args:\n\u001b[1;32m    328\u001b[0m     warnings\u001b[38;5;241m.\u001b[39mwarn(\n\u001b[1;32m    329\u001b[0m         msg\u001b[38;5;241m.\u001b[39mformat(arguments\u001b[38;5;241m=\u001b[39m_format_argument_list(allow_args)),\n\u001b[1;32m    330\u001b[0m         \u001b[38;5;167;01mFutureWarning\u001b[39;00m,\n\u001b[1;32m    331\u001b[0m         stacklevel\u001b[38;5;241m=\u001b[39mfind_stack_level(),\n\u001b[1;32m    332\u001b[0m     )\n\u001b[0;32m--> 333\u001b[0m \u001b[38;5;28;01mreturn\u001b[39;00m \u001b[43mfunc\u001b[49m\u001b[43m(\u001b[49m\u001b[38;5;241;43m*\u001b[39;49m\u001b[43margs\u001b[49m\u001b[43m,\u001b[49m\u001b[43m \u001b[49m\u001b[38;5;241;43m*\u001b[39;49m\u001b[38;5;241;43m*\u001b[39;49m\u001b[43mkwargs\u001b[49m\u001b[43m)\u001b[49m\n",
      "File \u001b[0;32m~/.local/lib/python3.9/site-packages/pandas/core/generic.py:3967\u001b[0m, in \u001b[0;36mNDFrame.to_csv\u001b[0;34m(self, path_or_buf, sep, na_rep, float_format, columns, header, index, index_label, mode, encoding, compression, quoting, quotechar, lineterminator, chunksize, date_format, doublequote, escapechar, decimal, errors, storage_options)\u001b[0m\n\u001b[1;32m   3956\u001b[0m df \u001b[38;5;241m=\u001b[39m \u001b[38;5;28mself\u001b[39m \u001b[38;5;28;01mif\u001b[39;00m \u001b[38;5;28misinstance\u001b[39m(\u001b[38;5;28mself\u001b[39m, ABCDataFrame) \u001b[38;5;28;01melse\u001b[39;00m \u001b[38;5;28mself\u001b[39m\u001b[38;5;241m.\u001b[39mto_frame()\n\u001b[1;32m   3958\u001b[0m formatter \u001b[38;5;241m=\u001b[39m DataFrameFormatter(\n\u001b[1;32m   3959\u001b[0m     frame\u001b[38;5;241m=\u001b[39mdf,\n\u001b[1;32m   3960\u001b[0m     header\u001b[38;5;241m=\u001b[39mheader,\n\u001b[0;32m   (...)\u001b[0m\n\u001b[1;32m   3964\u001b[0m     decimal\u001b[38;5;241m=\u001b[39mdecimal,\n\u001b[1;32m   3965\u001b[0m )\n\u001b[0;32m-> 3967\u001b[0m \u001b[38;5;28;01mreturn\u001b[39;00m \u001b[43mDataFrameRenderer\u001b[49m\u001b[43m(\u001b[49m\u001b[43mformatter\u001b[49m\u001b[43m)\u001b[49m\u001b[38;5;241;43m.\u001b[39;49m\u001b[43mto_csv\u001b[49m\u001b[43m(\u001b[49m\n\u001b[1;32m   3968\u001b[0m \u001b[43m    \u001b[49m\u001b[43mpath_or_buf\u001b[49m\u001b[43m,\u001b[49m\n\u001b[1;32m   3969\u001b[0m \u001b[43m    \u001b[49m\u001b[43mlineterminator\u001b[49m\u001b[38;5;241;43m=\u001b[39;49m\u001b[43mlineterminator\u001b[49m\u001b[43m,\u001b[49m\n\u001b[1;32m   3970\u001b[0m \u001b[43m    \u001b[49m\u001b[43msep\u001b[49m\u001b[38;5;241;43m=\u001b[39;49m\u001b[43msep\u001b[49m\u001b[43m,\u001b[49m\n\u001b[1;32m   3971\u001b[0m \u001b[43m    \u001b[49m\u001b[43mencoding\u001b[49m\u001b[38;5;241;43m=\u001b[39;49m\u001b[43mencoding\u001b[49m\u001b[43m,\u001b[49m\n\u001b[1;32m   3972\u001b[0m \u001b[43m    \u001b[49m\u001b[43merrors\u001b[49m\u001b[38;5;241;43m=\u001b[39;49m\u001b[43merrors\u001b[49m\u001b[43m,\u001b[49m\n\u001b[1;32m   3973\u001b[0m \u001b[43m    \u001b[49m\u001b[43mcompression\u001b[49m\u001b[38;5;241;43m=\u001b[39;49m\u001b[43mcompression\u001b[49m\u001b[43m,\u001b[49m\n\u001b[1;32m   3974\u001b[0m \u001b[43m    \u001b[49m\u001b[43mquoting\u001b[49m\u001b[38;5;241;43m=\u001b[39;49m\u001b[43mquoting\u001b[49m\u001b[43m,\u001b[49m\n\u001b[1;32m   3975\u001b[0m \u001b[43m    \u001b[49m\u001b[43mcolumns\u001b[49m\u001b[38;5;241;43m=\u001b[39;49m\u001b[43mcolumns\u001b[49m\u001b[43m,\u001b[49m\n\u001b[1;32m   3976\u001b[0m \u001b[43m    \u001b[49m\u001b[43mindex_label\u001b[49m\u001b[38;5;241;43m=\u001b[39;49m\u001b[43mindex_label\u001b[49m\u001b[43m,\u001b[49m\n\u001b[1;32m   3977\u001b[0m \u001b[43m    \u001b[49m\u001b[43mmode\u001b[49m\u001b[38;5;241;43m=\u001b[39;49m\u001b[43mmode\u001b[49m\u001b[43m,\u001b[49m\n\u001b[1;32m   3978\u001b[0m \u001b[43m    \u001b[49m\u001b[43mchunksize\u001b[49m\u001b[38;5;241;43m=\u001b[39;49m\u001b[43mchunksize\u001b[49m\u001b[43m,\u001b[49m\n\u001b[1;32m   3979\u001b[0m \u001b[43m    \u001b[49m\u001b[43mquotechar\u001b[49m\u001b[38;5;241;43m=\u001b[39;49m\u001b[43mquotechar\u001b[49m\u001b[43m,\u001b[49m\n\u001b[1;32m   3980\u001b[0m \u001b[43m    \u001b[49m\u001b[43mdate_format\u001b[49m\u001b[38;5;241;43m=\u001b[39;49m\u001b[43mdate_format\u001b[49m\u001b[43m,\u001b[49m\n\u001b[1;32m   3981\u001b[0m \u001b[43m    \u001b[49m\u001b[43mdoublequote\u001b[49m\u001b[38;5;241;43m=\u001b[39;49m\u001b[43mdoublequote\u001b[49m\u001b[43m,\u001b[49m\n\u001b[1;32m   3982\u001b[0m \u001b[43m    \u001b[49m\u001b[43mescapechar\u001b[49m\u001b[38;5;241;43m=\u001b[39;49m\u001b[43mescapechar\u001b[49m\u001b[43m,\u001b[49m\n\u001b[1;32m   3983\u001b[0m \u001b[43m    \u001b[49m\u001b[43mstorage_options\u001b[49m\u001b[38;5;241;43m=\u001b[39;49m\u001b[43mstorage_options\u001b[49m\u001b[43m,\u001b[49m\n\u001b[1;32m   3984\u001b[0m \u001b[43m\u001b[49m\u001b[43m)\u001b[49m\n",
      "File \u001b[0;32m~/.local/lib/python3.9/site-packages/pandas/io/formats/format.py:1014\u001b[0m, in \u001b[0;36mDataFrameRenderer.to_csv\u001b[0;34m(self, path_or_buf, encoding, sep, columns, index_label, mode, compression, quoting, quotechar, lineterminator, chunksize, date_format, doublequote, escapechar, errors, storage_options)\u001b[0m\n\u001b[1;32m    993\u001b[0m     created_buffer \u001b[38;5;241m=\u001b[39m \u001b[38;5;28;01mFalse\u001b[39;00m\n\u001b[1;32m    995\u001b[0m csv_formatter \u001b[38;5;241m=\u001b[39m CSVFormatter(\n\u001b[1;32m    996\u001b[0m     path_or_buf\u001b[38;5;241m=\u001b[39mpath_or_buf,\n\u001b[1;32m    997\u001b[0m     lineterminator\u001b[38;5;241m=\u001b[39mlineterminator,\n\u001b[0;32m   (...)\u001b[0m\n\u001b[1;32m   1012\u001b[0m     formatter\u001b[38;5;241m=\u001b[39m\u001b[38;5;28mself\u001b[39m\u001b[38;5;241m.\u001b[39mfmt,\n\u001b[1;32m   1013\u001b[0m )\n\u001b[0;32m-> 1014\u001b[0m \u001b[43mcsv_formatter\u001b[49m\u001b[38;5;241;43m.\u001b[39;49m\u001b[43msave\u001b[49m\u001b[43m(\u001b[49m\u001b[43m)\u001b[49m\n\u001b[1;32m   1016\u001b[0m \u001b[38;5;28;01mif\u001b[39;00m created_buffer:\n\u001b[1;32m   1017\u001b[0m     \u001b[38;5;28;01massert\u001b[39;00m \u001b[38;5;28misinstance\u001b[39m(path_or_buf, StringIO)\n",
      "File \u001b[0;32m~/.local/lib/python3.9/site-packages/pandas/io/formats/csvs.py:251\u001b[0m, in \u001b[0;36mCSVFormatter.save\u001b[0;34m(self)\u001b[0m\n\u001b[1;32m    247\u001b[0m \u001b[38;5;250m\u001b[39m\u001b[38;5;124;03m\"\"\"\u001b[39;00m\n\u001b[1;32m    248\u001b[0m \u001b[38;5;124;03mCreate the writer & save.\u001b[39;00m\n\u001b[1;32m    249\u001b[0m \u001b[38;5;124;03m\"\"\"\u001b[39;00m\n\u001b[1;32m    250\u001b[0m \u001b[38;5;66;03m# apply compression and byte/text conversion\u001b[39;00m\n\u001b[0;32m--> 251\u001b[0m \u001b[38;5;28;01mwith\u001b[39;00m \u001b[43mget_handle\u001b[49m\u001b[43m(\u001b[49m\n\u001b[1;32m    252\u001b[0m \u001b[43m    \u001b[49m\u001b[38;5;28;43mself\u001b[39;49m\u001b[38;5;241;43m.\u001b[39;49m\u001b[43mfilepath_or_buffer\u001b[49m\u001b[43m,\u001b[49m\n\u001b[1;32m    253\u001b[0m \u001b[43m    \u001b[49m\u001b[38;5;28;43mself\u001b[39;49m\u001b[38;5;241;43m.\u001b[39;49m\u001b[43mmode\u001b[49m\u001b[43m,\u001b[49m\n\u001b[1;32m    254\u001b[0m \u001b[43m    \u001b[49m\u001b[43mencoding\u001b[49m\u001b[38;5;241;43m=\u001b[39;49m\u001b[38;5;28;43mself\u001b[39;49m\u001b[38;5;241;43m.\u001b[39;49m\u001b[43mencoding\u001b[49m\u001b[43m,\u001b[49m\n\u001b[1;32m    255\u001b[0m \u001b[43m    \u001b[49m\u001b[43merrors\u001b[49m\u001b[38;5;241;43m=\u001b[39;49m\u001b[38;5;28;43mself\u001b[39;49m\u001b[38;5;241;43m.\u001b[39;49m\u001b[43merrors\u001b[49m\u001b[43m,\u001b[49m\n\u001b[1;32m    256\u001b[0m \u001b[43m    \u001b[49m\u001b[43mcompression\u001b[49m\u001b[38;5;241;43m=\u001b[39;49m\u001b[38;5;28;43mself\u001b[39;49m\u001b[38;5;241;43m.\u001b[39;49m\u001b[43mcompression\u001b[49m\u001b[43m,\u001b[49m\n\u001b[1;32m    257\u001b[0m \u001b[43m    \u001b[49m\u001b[43mstorage_options\u001b[49m\u001b[38;5;241;43m=\u001b[39;49m\u001b[38;5;28;43mself\u001b[39;49m\u001b[38;5;241;43m.\u001b[39;49m\u001b[43mstorage_options\u001b[49m\u001b[43m,\u001b[49m\n\u001b[1;32m    258\u001b[0m \u001b[43m\u001b[49m\u001b[43m)\u001b[49m \u001b[38;5;28;01mas\u001b[39;00m handles:\n\u001b[1;32m    259\u001b[0m     \u001b[38;5;66;03m# Note: self.encoding is irrelevant here\u001b[39;00m\n\u001b[1;32m    260\u001b[0m     \u001b[38;5;28mself\u001b[39m\u001b[38;5;241m.\u001b[39mwriter \u001b[38;5;241m=\u001b[39m csvlib\u001b[38;5;241m.\u001b[39mwriter(\n\u001b[1;32m    261\u001b[0m         handles\u001b[38;5;241m.\u001b[39mhandle,\n\u001b[1;32m    262\u001b[0m         lineterminator\u001b[38;5;241m=\u001b[39m\u001b[38;5;28mself\u001b[39m\u001b[38;5;241m.\u001b[39mlineterminator,\n\u001b[0;32m   (...)\u001b[0m\n\u001b[1;32m    267\u001b[0m         quotechar\u001b[38;5;241m=\u001b[39m\u001b[38;5;28mself\u001b[39m\u001b[38;5;241m.\u001b[39mquotechar,\n\u001b[1;32m    268\u001b[0m     )\n\u001b[1;32m    270\u001b[0m     \u001b[38;5;28mself\u001b[39m\u001b[38;5;241m.\u001b[39m_save()\n",
      "File \u001b[0;32m~/.local/lib/python3.9/site-packages/pandas/io/common.py:749\u001b[0m, in \u001b[0;36mget_handle\u001b[0;34m(path_or_buf, mode, encoding, compression, memory_map, is_text, errors, storage_options)\u001b[0m\n\u001b[1;32m    747\u001b[0m \u001b[38;5;66;03m# Only for write methods\u001b[39;00m\n\u001b[1;32m    748\u001b[0m \u001b[38;5;28;01mif\u001b[39;00m \u001b[38;5;124m\"\u001b[39m\u001b[38;5;124mr\u001b[39m\u001b[38;5;124m\"\u001b[39m \u001b[38;5;129;01mnot\u001b[39;00m \u001b[38;5;129;01min\u001b[39;00m mode \u001b[38;5;129;01mand\u001b[39;00m is_path:\n\u001b[0;32m--> 749\u001b[0m     \u001b[43mcheck_parent_directory\u001b[49m\u001b[43m(\u001b[49m\u001b[38;5;28;43mstr\u001b[39;49m\u001b[43m(\u001b[49m\u001b[43mhandle\u001b[49m\u001b[43m)\u001b[49m\u001b[43m)\u001b[49m\n\u001b[1;32m    751\u001b[0m \u001b[38;5;28;01mif\u001b[39;00m compression:\n\u001b[1;32m    752\u001b[0m     \u001b[38;5;28;01mif\u001b[39;00m compression \u001b[38;5;241m!=\u001b[39m \u001b[38;5;124m\"\u001b[39m\u001b[38;5;124mzstd\u001b[39m\u001b[38;5;124m\"\u001b[39m:\n\u001b[1;32m    753\u001b[0m         \u001b[38;5;66;03m# compression libraries do not like an explicit text-mode\u001b[39;00m\n",
      "File \u001b[0;32m~/.local/lib/python3.9/site-packages/pandas/io/common.py:616\u001b[0m, in \u001b[0;36mcheck_parent_directory\u001b[0;34m(path)\u001b[0m\n\u001b[1;32m    614\u001b[0m parent \u001b[38;5;241m=\u001b[39m Path(path)\u001b[38;5;241m.\u001b[39mparent\n\u001b[1;32m    615\u001b[0m \u001b[38;5;28;01mif\u001b[39;00m \u001b[38;5;129;01mnot\u001b[39;00m parent\u001b[38;5;241m.\u001b[39mis_dir():\n\u001b[0;32m--> 616\u001b[0m     \u001b[38;5;28;01mraise\u001b[39;00m \u001b[38;5;167;01mOSError\u001b[39;00m(\u001b[38;5;124mrf\u001b[39m\u001b[38;5;124m\"\u001b[39m\u001b[38;5;124mCannot save file into a non-existent directory: \u001b[39m\u001b[38;5;124m'\u001b[39m\u001b[38;5;132;01m{\u001b[39;00mparent\u001b[38;5;132;01m}\u001b[39;00m\u001b[38;5;124m'\u001b[39m\u001b[38;5;124m\"\u001b[39m)\n",
      "\u001b[0;31mOSError\u001b[0m: Cannot save file into a non-existent directory: 'Izlazni podaci IUPRED3'"
     ]
    }
   ],
   "source": [
    "# Sačuvaj trening i test podatke\n",
    "\n",
    "aminokiseline = ['A', 'C', 'D', 'E', 'F', 'G', 'H', 'I', 'K', 'L', 'M', 'N', 'P', 'Q', 'R', 'S', 'T', 'V', 'W', 'Y']\n",
    "nazivi_kolona = [f\"molska_frakcija_za_{aa}\" for aa in aminokiseline] + [\"Klasifikacija\"]\n",
    "\n",
    "# Kreiranje DataFrame-ova sa odgovarajućim kolonama\n",
    "trening_podaci = pd.DataFrame(X_train, columns=nazivi_kolona[:-1])\n",
    "trening_podaci[\"Klasifikacija\"] = y_train\n",
    "\n",
    "test_podaci = pd.DataFrame(X_test, columns=nazivi_kolona[:-1])\n",
    "test_podaci[\"Klasifikacija\"] = y_test\n",
    "\n",
    "# Spajanje podataka\n",
    "svi_podaci = pd.concat([trening_podaci, test_podaci], ignore_index=True)\n",
    "\n",
    "# Čuvanje u CSV fajlove\n",
    "trening_podaci.to_csv(\"Izlazni podaci IUPRED3 CART/trening_podaci_ARQ84735.1.csv\", index=False)\n",
    "test_podaci.to_csv(\"Izlazni podaci IUPRED3 CART/test_podaci_ARQ84735.1.csV\", index=False)\n",
    "svi_podaci.to_csv(\"Izlazni podaci IUPRED3 CART/svi_podaci_ARQ84735.1.csv\", index=False)\n",
    "\n",
    "# Sačuvaj sekvence sa oznakama, dužinama i pozicijama\n",
    "df_sekvence = pd.DataFrame({\n",
    "    \"Duzina\": duzine,\n",
    "    \"Pozicija\": pozicije,\n",
    "    \"Sekvenca\": X_sekvence,\n",
    "    \"Oznaka\": y_oznake\n",
    "})\n",
    "\n",
    "df_sekvence.to_csv(\"Izlazni podaci IUPRED3 CART/sekvence_oznake_CART_ARQ84735.1.csv\", index=False)\n",
    "\n",
    "# Sačuvaj predikcije modela\n",
    "#df_predikcija = pd.DataFrame({\n",
    "#    \"Sekvenca\": [podsekvenca],\n",
    "#    \"Predvidjena oznaka\": ['uređena' if predvidjena_oznaka == 1 else 'neuređena']\n",
    "#})\n",
    "#df_predikcija.to_csv(\"Izlazni podaci IUPRED3/predvidjanje_modela_ARQ84735.1.csv\", index=False)"
   ]
  },
  {
   "cell_type": "code",
   "execution_count": null,
   "id": "1522df00-1a9b-4507-9df7-a431bb3dbfc5",
   "metadata": {},
   "outputs": [],
   "source": []
  }
 ],
 "metadata": {
  "kernelspec": {
   "display_name": "Python 3 (ipykernel)",
   "language": "python",
   "name": "python3"
  },
  "language_info": {
   "codemirror_mode": {
    "name": "ipython",
    "version": 3
   },
   "file_extension": ".py",
   "mimetype": "text/x-python",
   "name": "python",
   "nbconvert_exporter": "python",
   "pygments_lexer": "ipython3",
   "version": "3.9.5"
  }
 },
 "nbformat": 4,
 "nbformat_minor": 5
}
