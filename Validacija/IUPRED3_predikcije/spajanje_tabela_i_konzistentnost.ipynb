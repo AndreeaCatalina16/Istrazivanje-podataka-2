{
 "cells": [
  {
   "cell_type": "code",
   "execution_count": 12,
   "id": "baef0d25-4e24-4da5-a591-338e4047f9f9",
   "metadata": {},
   "outputs": [
    {
     "name": "stdout",
     "output_type": "stream",
     "text": [
      "   Duzina Pozicija Sekvenca SVM Oznaka IUPRED3 oznaka\n",
      "0       5      1-5    MGGLS    uređena      neuređena\n",
      "1       5      2-6    GGLSL    uređena      neuređena\n",
      "2       5      3-7    GLSLL    uređena      neuređena\n",
      "3       5      4-8    LSLLQ    uređena      neuređena\n",
      "4       5      5-9    SLLQL    uređena      neuređena\n"
     ]
    }
   ],
   "source": [
    "import pandas as pd\n",
    "\n",
    "# Učitajte CSV fajlove\n",
    "df_svm = pd.read_csv(\"/home/pc/Desktop/Istrazivanje-podataka-2/Validacija/Izlazni podaci IUPRED3/sekvence_oznake_YP_138523.1.csv\")  # CSV sa predikcijama iz SVM modela\n",
    "df_iupred3 = pd.read_csv(\"Klasifikovane_sekvence_IUPRED3_YP_138523.1.csv\")  # CSV sa predikacijama iz IUPred3\n",
    "\n",
    "# Pretvori listu sekvenci u SVM tabeli u stringove\n",
    "df_svm['Sekvenca'] = df_svm['Sekvenca'].apply(lambda x: ''.join(eval(x)) if isinstance(x, str) and x.startswith('[') else x)\n",
    "\n",
    "# Spoji tabele po koloni 'Sekvenca', bez duplikata za 'Duzina' i 'Pozicija'\n",
    "finalni_df = pd.merge(df_svm, df_iupred3, on='Sekvenca', how='inner', suffixes=('', '_IUPRED3'))\n",
    "\n",
    "# Obriši duplikate kolona 'Duzina' i 'Pozicija' (ako su iste u obe tabele)\n",
    "finalni_df.drop(['Duzina_IUPRED3', 'Pozicija_IUPRED3'], axis=1, inplace=True)\n",
    "finalni_df.rename(columns={'Oznaka': 'SVM Oznaka'}, inplace=True)\n",
    "finalni_df.to_csv(\"IUPRED3_SVM_predikcije.csv\", index=False)\n",
    "\n",
    "# Prikaz rezultata\n",
    "print(finalni_df.head())\n"
   ]
  },
  {
   "cell_type": "code",
   "execution_count": null,
   "id": "5c28c7c1-b283-4273-b7d9-399e6db3b8d8",
   "metadata": {},
   "outputs": [],
   "source": []
  }
 ],
 "metadata": {
  "kernelspec": {
   "display_name": "Python 3 (ipykernel)",
   "language": "python",
   "name": "python3"
  },
  "language_info": {
   "codemirror_mode": {
    "name": "ipython",
    "version": 3
   },
   "file_extension": ".py",
   "mimetype": "text/x-python",
   "name": "python",
   "nbconvert_exporter": "python",
   "pygments_lexer": "ipython3",
   "version": "3.9.5"
  }
 },
 "nbformat": 4,
 "nbformat_minor": 5
}
