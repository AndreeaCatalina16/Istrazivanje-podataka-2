{
 "cells": [
  {
   "cell_type": "code",
   "execution_count": 3,
   "id": "3617be62-aedf-4686-966f-5961c3d13f64",
   "metadata": {},
   "outputs": [
    {
     "name": "stdout",
     "output_type": "stream",
     "text": [
      "Finalni DataFrame:\n",
      "   Duzina Pozicija                        Sekvenca KNN Oznaka IUPRED3 oznaka\n",
      "0      30     1-30  MRRVTVPTAPPAYADIGYPMSMLPIKSSRA    uređena        uređena\n",
      "1      30     2-31  RRVTVPTAPPAYADIGYPMSMLPIKSSRAV    uređena        uređena\n",
      "2      30     3-32  RVTVPTAPPAYADIGYPMSMLPIKSSRAVS    uređena        uređena\n",
      "3      30     4-33  VTVPTAPPAYADIGYPMSMLPIKSSRAVSG    uređena        uređena\n",
      "4      30     5-34  TVPTAPPAYADIGYPMSMLPIKSSRAVSGI    uređena        uređena\n"
     ]
    }
   ],
   "source": [
    "import pandas as pd\n",
    "\n",
    "df_iupred3 = pd.read_csv(\"Membranski protein/Klasifikovane_sekvence_IUPRED3_30-100.csv\") \n",
    "df_knn = pd.read_csv(\"Membranski protein/sekvence_oznake_KNN_YP_138522.1 |matrix protein30-100.csv\")\n",
    "\n",
    "df_iupred3['Sekvenca'] = df_iupred3['Sekvenca'].apply(lambda x: ''.join(eval(x)) if isinstance(x, str) and x.startswith('[') else x)\n",
    "\n",
    "df_knn['Sekvenca'] = df_knn['Sekvenca'].apply(lambda x: ''.join(eval(x)) if isinstance(x, str) and x.startswith('[') else x)\n",
    "\n",
    "finalni_df = pd.merge(df_knn, df_iupred3, on='Sekvenca', how='inner', suffixes=('', '_IUPRED3'))\n",
    "\n",
    "finalni_df.drop(['Duzina_IUPRED3', 'Pozicija_IUPRED3'], axis=1, inplace=True)\n",
    "\n",
    "finalni_df.rename(columns={'Oznaka': 'KNN Oznaka'}, inplace=True)\n",
    "\n",
    "print(\"Finalni DataFrame:\")\n",
    "print(finalni_df.head())\n",
    "\n",
    "finalni_df.to_csv(\"Membranski protein/IUPRED3_KNN_predikcije_YP_138522.1 |matrix protein30-100.csv\", index=False)\n"
   ]
  },
  {
   "cell_type": "code",
   "execution_count": null,
   "id": "641377ff-0c7b-4d58-a6c9-fe4af6f53c89",
   "metadata": {},
   "outputs": [],
   "source": []
  }
 ],
 "metadata": {
  "kernelspec": {
   "display_name": "Python 3 (ipykernel)",
   "language": "python",
   "name": "python3"
  },
  "language_info": {
   "codemirror_mode": {
    "name": "ipython",
    "version": 3
   },
   "file_extension": ".py",
   "mimetype": "text/x-python",
   "name": "python",
   "nbconvert_exporter": "python",
   "pygments_lexer": "ipython3",
   "version": "3.9.5"
  }
 },
 "nbformat": 4,
 "nbformat_minor": 5
}
