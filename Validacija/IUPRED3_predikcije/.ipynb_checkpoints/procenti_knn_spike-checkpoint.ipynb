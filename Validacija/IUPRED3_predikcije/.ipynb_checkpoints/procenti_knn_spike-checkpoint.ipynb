{
 "cells": [
  {
   "cell_type": "code",
   "execution_count": null,
   "id": "cd811243-d21d-4cc6-8352-3239158987fe",
   "metadata": {},
   "outputs": [],
   "source": [
    "import pandas as pd\n",
    "import matplotlib.pyplot as plt\n",
    "import seaborn as sns\n",
    "\n",
    "# Učitaj ulazni CSV fajl\n",
    "df = pd.read_csv(\"Spike glycoprotein/VSL2_KNN_predikcije_YP_138523.1_98-100.csv\")\n",
    "\n",
    "# Broj svih instanci\n",
    "total = len(df)\n",
    "\n",
    "# Broj instanci po kategorijama\n",
    "counts = {\n",
    "    \"uređena uređena\": len(df[(df[\"IUPRED3 oznaka\"] == \"uređena\") & (df[\"KNN Oznaka\"] == \"uređena\")]),\n",
    "    \"uređena neuređena\": len(df[(df[\"IUPRED3 oznaka\"] == \"uređena\") & (df[\"KNN Oznaka\"] == \"neuređena\")]),\n",
    "    \"neuređena uređena\": len(df[(df[\"IUPRED3 oznaka\"] == \"neuređena\") & (df[\"KNN Oznaka\"] == \"uređena\")]),\n",
    "    \"neuređena neuređena\": len(df[(df[\"IUPRED3 oznaka\"] == \"neuređena\") & (df[\"KNN Oznaka\"] == \"neuređena\")])\n",
    "}\n",
    "\n",
    "# Izračunaj procente i zaokruži na 4 decimale\n",
    "procenti = {varijanta: round((broj / total) * 100, 4) for varijanta, broj in counts.items()}\n",
    "\n",
    "# Kreiraj izlazni DataFrame\n",
    "df_izlaz = pd.DataFrame({\n",
    "    \"Varijante\": list(procenti.keys()),\n",
    "    \"Procenat\": list(procenti.values())\n",
    "})\n",
    "\n",
    "# Snimi izlazni CSV fajl\n",
    "df_izlaz.to_csv(\"Spike glycoprotein/procenti_za_KNN.csv\", index=False)\n",
    "\n",
    "print(\"Izlazni CSV fajl je uspešno kreiran\")\n",
    "\n",
    "# Podesi stil grafika\n",
    "sns.set_style(\"whitegrid\")\n",
    "\n",
    "# Kreiraj stubičasti grafikon\n",
    "plt.figure(figsize=(8, 5))\n",
    "ax = sns.barplot(x=\"Varijante\", y=\"Procenat\", data=df_izlaz, palette=\"viridis\")\n",
    "\n",
    "# Dodaj oznake na vrh stubaca\n",
    "for p in ax.patches:\n",
    "    ax.annotate(f\"{p.get_height():.2f}%\", \n",
    "                (p.get_x() + p.get_width() / 2, p.get_height()), \n",
    "                ha='center', va='bottom', fontsize=12, fontweight=\"bold\")\n",
    "\n",
    "# Dodaj naslove i oznake\n",
    "plt.xlabel(\"Kombinacija oznaka\", fontsize=12)\n",
    "plt.ylabel(\"Procenat (%)\", fontsize=12)\n",
    "plt.title(\"Poređenje predikcija dobijenih alatom IUPRED3 i predikcija dobijenih modelom KNN\", fontsize=14, fontweight=\"bold\")\n",
    "plt.xticks(rotation=45)\n",
    "\n",
    "# Prikaži grafikon\n",
    "plt.show()\n"
   ]
  }
 ],
 "metadata": {
  "kernelspec": {
   "display_name": "Python 3 (ipykernel)",
   "language": "python",
   "name": "python3"
  },
  "language_info": {
   "codemirror_mode": {
    "name": "ipython",
    "version": 3
   },
   "file_extension": ".py",
   "mimetype": "text/x-python",
   "name": "python",
   "nbconvert_exporter": "python",
   "pygments_lexer": "ipython3",
   "version": "3.10.12"
  }
 },
 "nbformat": 4,
 "nbformat_minor": 5
}
