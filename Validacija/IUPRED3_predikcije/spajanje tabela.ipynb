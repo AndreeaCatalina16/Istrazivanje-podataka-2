{
 "cells": [
  {
   "cell_type": "code",
   "execution_count": 2,
   "id": "3617be62-aedf-4686-966f-5961c3d13f64",
   "metadata": {},
   "outputs": [
    {
     "name": "stdout",
     "output_type": "stream",
     "text": [
      "Finalni DataFrame:\n",
      "   Duzina Pozicija                                           Sekvenca  \\\n",
      "0      98     1-98  MGGLSLLQLPRDKFRKSSFFVWVIILFQKAFSMPLGVVTNSTLEVT...   \n",
      "1      98     2-99  GGLSLLQLPRDKFRKSSFFVWVIILFQKAFSMPLGVVTNSTLEVTE...   \n",
      "2      98    3-100  GLSLLQLPRDKFRKSSFFVWVIILFQKAFSMPLGVVTNSTLEVTEI...   \n",
      "3      98    4-101  LSLLQLPRDKFRKSSFFVWVIILFQKAFSMPLGVVTNSTLEVTEID...   \n",
      "4      98    5-102  SLLQLPRDKFRKSSFFVWVIILFQKAFSMPLGVVTNSTLEVTEIDQ...   \n",
      "\n",
      "  KNN Oznaka IUPRED3 oznaka  \n",
      "0    uređena        uređena  \n",
      "1    uređena        uređena  \n",
      "2    uređena        uređena  \n",
      "3    uređena        uređena  \n",
      "4    uređena        uređena  \n"
     ]
    }
   ],
   "source": [
    "import pandas as pd\n",
    "\n",
    "# Učitajte CSV fajlove\n",
    "df_knn = pd.read_csv(\"/home/pc/Desktop/Istrazivanje-podataka-2/Validacija/IUPRED3_predikcije/Spike glycoprotein/sekvence_oznake_KNN_YP_138523.1 |spike glycoprotein_98-100.csv\")  # CSV sa predikcijama iz KNN modela\n",
    "df_iupred3 = pd.read_csv(\"/home/pc/Desktop/Istrazivanje-podataka-2/Validacija/IUPRED3_predikcije/Spike glycoprotein/Klasifikovane_sekvence_IUPRED3_98-100.csv\")\n",
    "\n",
    "# Pretvori listu sekvenci u iupred3 tabeli u stringove\n",
    "df_iupred3['Sekvenca'] = df_iupred3['Sekvenca'].apply(lambda x: ''.join(eval(x)) if isinstance(x, str) and x.startswith('[') else x)\n",
    "\n",
    "# Pretvori listu sekvenci u KNN tabeli u stringove\n",
    "df_knn['Sekvenca'] = df_knn['Sekvenca'].apply(lambda x: ''.join(eval(x)) if isinstance(x, str) and x.startswith('[') else x)\n",
    "\n",
    "# Spoji tabele po koloni 'Sekvenca', bez duplikata za 'Duzina' i 'Pozicija'\n",
    "finalni_df = pd.merge(df_knn, df_iupred3, on='Sekvenca', how='inner', suffixes=('', '_IUPRED3'))\n",
    "\n",
    "# Obriši duplikate kolona 'Duzina' i 'Pozicija' \n",
    "finalni_df.drop(['Duzina_IUPRED3', 'Pozicija_IUPRED3'], axis=1, inplace=True)\n",
    "\n",
    "# Preimenuje se kolona 'Oznaka' u 'KNN Oznaka'\n",
    "finalni_df.rename(columns={'Oznaka': 'KNN Oznaka'}, inplace=True)\n",
    "\n",
    "# Prikaz finalnog DataFrame-a\n",
    "print(\"Finalni DataFrame:\")\n",
    "print(finalni_df.head())\n",
    "\n",
    "\n",
    "finalni_df.to_csv(\"Spike glycoprotein/IUPRED3_KNN_predikcije_YP_138523.1_98-100.csv\", index=False)\n"
   ]
  },
  {
   "cell_type": "code",
   "execution_count": null,
   "id": "641377ff-0c7b-4d58-a6c9-fe4af6f53c89",
   "metadata": {},
   "outputs": [],
   "source": []
  }
 ],
 "metadata": {
  "kernelspec": {
   "display_name": "Python 3 (ipykernel)",
   "language": "python",
   "name": "python3"
  },
  "language_info": {
   "codemirror_mode": {
    "name": "ipython",
    "version": 3
   },
   "file_extension": ".py",
   "mimetype": "text/x-python",
   "name": "python",
   "nbconvert_exporter": "python",
   "pygments_lexer": "ipython3",
   "version": "3.10.12"
  }
 },
 "nbformat": 4,
 "nbformat_minor": 5
}
