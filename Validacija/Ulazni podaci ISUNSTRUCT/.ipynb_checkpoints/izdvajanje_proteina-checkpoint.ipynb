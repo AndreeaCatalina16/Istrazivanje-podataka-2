{
 "cells": [
  {
   "cell_type": "code",
   "execution_count": 1,
   "id": "4c453bfd-8491-4b56-b35a-38fc7f03aa7b",
   "metadata": {},
   "outputs": [
    {
     "name": "stdout",
     "output_type": "stream",
     "text": [
      "Datoteka ARQ84735.1 ___spike glycoprotein.csv je uspešno kreirana sa filtriranim podacima.\n"
     ]
    }
   ],
   "source": [
    "import pandas as pd\n",
    "\n",
    "def filtriraj_spike_glycoprotein(ulazna_putanja, izlazna_putanja):\n",
    "    # Učitaj CSV datoteku u pandas DataFrame\n",
    "    df = pd.read_csv(ulazna_putanja)\n",
    "    \n",
    "    # Filtriraj samo one redove gde je 'Naziv proteina' odgovarajuci\n",
    "    df_filtrirani = df[df['Naziv proteina'] == 'YP_138523.1 ___spike glycoprotein']\n",
    "    \n",
    "    # Snimi filtrirani DataFrame u novu CSV datoteku\n",
    "    df_filtrirani.to_csv(izlazna_putanja, index=False)\n",
    "\n",
    "# Primer korišćenja funkcije\n",
    "if __name__ == \"__main__\":\n",
    "    ulazni_fajl = \"proteini_spike_glykoprotein.csv\"\n",
    "    izlazni_fajl = \"YP_138523.1 ___spike glycoprotein.csv\"\n",
    "    \n",
    "    filtriraj_spike_glycoprotein(ulazni_fajl, izlazni_fajl)\n",
    "    print(f\"Datoteka {izlazni_fajl} je uspešno kreirana sa filtriranim podacima.\")\n"
   ]
  },
  {
   "cell_type": "code",
   "execution_count": null,
   "id": "2671ccf8-bc12-464f-b1d1-38edd23489db",
   "metadata": {},
   "outputs": [],
   "source": []
  }
 ],
 "metadata": {
  "kernelspec": {
   "display_name": "Python 3 (ipykernel)",
   "language": "python",
   "name": "python3"
  },
  "language_info": {
   "codemirror_mode": {
    "name": "ipython",
    "version": 3
   },
   "file_extension": ".py",
   "mimetype": "text/x-python",
   "name": "python",
   "nbconvert_exporter": "python",
   "pygments_lexer": "ipython3",
   "version": "3.9.5"
  }
 },
 "nbformat": 4,
 "nbformat_minor": 5
}
