{
 "cells": [
  {
   "cell_type": "code",
   "execution_count": 2,
   "id": "076f7baa-311a-4d13-af0b-51ca325960af",
   "metadata": {},
   "outputs": [
    {
     "name": "stdout",
     "output_type": "stream",
     "text": [
      "                    Naziv proteina  Pozicija Aminokiselina  IUPRED3 rezultat  \\\n",
      "0  YP_138523.1 |spike glycoprotein         1             M            0.1296   \n",
      "1  YP_138523.1 |spike glycoprotein         2             G            0.1320   \n",
      "2  YP_138523.1 |spike glycoprotein         3             G            0.1413   \n",
      "3  YP_138523.1 |spike glycoprotein         4             L            0.1513   \n",
      "4  YP_138523.1 |spike glycoprotein         5             S            0.1575   \n",
      "\n",
      "  Klasifikacija  Virus  \n",
      "0       uređena  Ebola  \n",
      "1       uređena  Ebola  \n",
      "2       uređena  Ebola  \n",
      "3       uređena  Ebola  \n",
      "4       uređena  Ebola  \n"
     ]
    }
   ],
   "source": [
    "import pandas as pd\n",
    "\n",
    "# Definisanje naziva kolona\n",
    "column_names = ['Naziv proteina', 'Pozicija', 'Aminokiselina', 'IUPRED3 rezultat', 'Klasifikacija', 'Virus']\n",
    "\n",
    "# Učitavanje podataka iz txt fajla (pretpostavljamo da je razdvojeno tabulatorom)\n",
    "df = pd.read_csv('YP_138523.1.txt', sep='\\t', header=None, names=column_names)\n",
    "\n",
    "# Čuvanje podataka u CSV fajl\n",
    "df.to_csv('protein_YP_138523.1.csv', index=False)\n",
    "\n",
    "# Ispis prvih nekoliko redova da proverimo da li je sve ispravno\n",
    "print(df.head())\n"
   ]
  },
  {
   "cell_type": "code",
   "execution_count": null,
   "id": "43b1400c-d07d-41c8-8a10-d2872d1cb1f2",
   "metadata": {},
   "outputs": [],
   "source": []
  }
 ],
 "metadata": {
  "kernelspec": {
   "display_name": "Python 3 (ipykernel)",
   "language": "python",
   "name": "python3"
  },
  "language_info": {
   "codemirror_mode": {
    "name": "ipython",
    "version": 3
   },
   "file_extension": ".py",
   "mimetype": "text/x-python",
   "name": "python",
   "nbconvert_exporter": "python",
   "pygments_lexer": "ipython3",
   "version": "3.10.12"
  }
 },
 "nbformat": 4,
 "nbformat_minor": 5
}
