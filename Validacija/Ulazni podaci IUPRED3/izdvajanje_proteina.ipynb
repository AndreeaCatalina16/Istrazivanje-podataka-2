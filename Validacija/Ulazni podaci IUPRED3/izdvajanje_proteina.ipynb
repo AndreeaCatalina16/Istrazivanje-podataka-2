{
 "cells": [
  {
   "cell_type": "code",
   "execution_count": 1,
   "id": "4785ff7d-8604-4b86-9287-34fb4a297ca0",
   "metadata": {},
   "outputs": [
    {
     "name": "stdout",
     "output_type": "stream",
     "text": [
      "Datoteka YP_138523.1 |spike glycoprotein.csv je uspešno kreirana sa filtriranim podacima.\n"
     ]
    }
   ],
   "source": [
    "import pandas as pd\n",
    "\n",
    "def filtriraj(ulazna_putanja, izlazna_putanja):\n",
    "    # Učitaj CSV datoteku u pandas DataFrame\n",
    "    df = pd.read_csv(ulazna_putanja)\n",
    "    \n",
    "    # Filtriraj samo one redove gde je 'Naziv proteina' odgovarajuci\n",
    "    df_filtrirani = df[df['Naziv proteina'] == 'YP_138523.1 |spike glycoprotein']\n",
    "    \n",
    "    # Snimi filtrirani DataFrame u novu CSV datoteku\n",
    "    df_filtrirani.to_csv(izlazna_putanja, index=False)\n",
    "\n",
    "if __name__ == \"__main__\":\n",
    "    ulazni_fajl = \"/home/pc/Desktop/Istrazivanje-podataka-2/Molske frakcije i frakcijske razlike/Filtriranje i molske frakcije IUPRED3/proteini_spike_glykoprotein.csv\"\n",
    "    izlazni_fajl = \"YP_138523.1 |spike glycoprotein.csv\"\n",
    "    \n",
    "    filtriraj(ulazni_fajl, izlazni_fajl)\n",
    "    print(f\"Datoteka {izlazni_fajl} je uspešno kreirana sa filtriranim podacima.\")\n"
   ]
  },
  {
   "cell_type": "code",
   "execution_count": null,
   "id": "ada07135-002e-4fcb-81f2-b414125d5803",
   "metadata": {},
   "outputs": [],
   "source": []
  }
 ],
 "metadata": {
  "kernelspec": {
   "display_name": "Python 3 (ipykernel)",
   "language": "python",
   "name": "python3"
  },
  "language_info": {
   "codemirror_mode": {
    "name": "ipython",
    "version": 3
   },
   "file_extension": ".py",
   "mimetype": "text/x-python",
   "name": "python",
   "nbconvert_exporter": "python",
   "pygments_lexer": "ipython3",
   "version": "3.10.12"
  }
 },
 "nbformat": 4,
 "nbformat_minor": 5
}
