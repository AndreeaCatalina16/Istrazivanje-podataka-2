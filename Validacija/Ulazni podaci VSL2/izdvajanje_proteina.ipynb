{
 "cells": [
  {
   "cell_type": "code",
   "execution_count": 6,
   "id": "f72c5b03-f14b-4124-848c-d99c3203abfa",
   "metadata": {},
   "outputs": [
    {
     "name": "stdout",
     "output_type": "stream",
     "text": [
      "Datoteka YP_138522.1 |matrix protein.csv je uspešno kreirana sa filtriranim podacima.\n"
     ]
    }
   ],
   "source": [
    "import pandas as pd\n",
    "\n",
    "def filtriraj(ulazna_putanja, izlazna_putanja):\n",
    "    # Učitaj CSV datoteku u pandas DataFrame\n",
    "    df = pd.read_csv(ulazna_putanja)\n",
    "    \n",
    "    # Filtriraj samo one redove gde je 'Naziv proteina' odgovarajuci\n",
    "    df_filtrirani = df[df['Naziv proteina'] == 'YP_138522.1 |matrix protein']\n",
    "    \n",
    "    # Snimi filtrirani DataFrame u novu CSV datoteku\n",
    "    df_filtrirani.to_csv(izlazna_putanja, index=False)\n",
    "\n",
    "if __name__ == \"__main__\":\n",
    "    ulazni_fajl = \"/home/pc/Desktop/Istrazivanje-podataka-2/Molske frakcije i frakcijske razlike/Filtriranje i molske frakcije VSL2/proteini_matrix_membrane.csv\"\n",
    "    izlazni_fajl = \"YP_138522.1 |matrix protein.csv\"\n",
    "    \n",
    "    filtriraj(ulazni_fajl, izlazni_fajl)\n",
    "    print(f\"Datoteka {izlazni_fajl} je uspešno kreirana sa filtriranim podacima.\")\n"
   ]
  },
  {
   "cell_type": "code",
   "execution_count": null,
   "id": "63ba48a8-6084-41a2-a7e0-91dd363e768a",
   "metadata": {},
   "outputs": [],
   "source": []
  }
 ],
 "metadata": {
  "kernelspec": {
   "display_name": "Python 3 (ipykernel)",
   "language": "python",
   "name": "python3"
  },
  "language_info": {
   "codemirror_mode": {
    "name": "ipython",
    "version": 3
   },
   "file_extension": ".py",
   "mimetype": "text/x-python",
   "name": "python",
   "nbconvert_exporter": "python",
   "pygments_lexer": "ipython3",
   "version": "3.10.12"
  }
 },
 "nbformat": 4,
 "nbformat_minor": 5
}
