{
 "cells": [
  {
   "cell_type": "code",
   "execution_count": 5,
   "id": "bb5a93d5-e408-4a17-b55b-c45d76234882",
   "metadata": {},
   "outputs": [
    {
     "name": "stdout",
     "output_type": "stream",
     "text": [
      "Datoteka protein_YP_138523.1.csv je uspešno kreirana sa filtriranim podacima.\n"
     ]
    }
   ],
   "source": [
    "import pandas as pd\n",
    "\n",
    "def filtriraj_spike_glycoprotein(ulazna_putanja, izlazna_putanja):\n",
    "    # Učitaj CSV datoteku u pandas DataFrame\n",
    "    df = pd.read_csv(ulazna_putanja)\n",
    "    \n",
    "    # Filtriraj samo one redove gde je 'Naziv proteina' odgovarajuci\n",
    "    df_filtrirani = df[df['Naziv proteina'] == 'YP_138523.1 |spike glycoprotein']\n",
    "    \n",
    "    # Snimi filtrirani DataFrame u novu CSV datoteku\n",
    "    df_filtrirani.to_csv(izlazna_putanja, index=False)\n",
    "\n",
    "# Primer korišćenja funkcije\n",
    "if __name__ == \"__main__\":\n",
    "    ulazni_fajl = \"proteini_spike_glykoprotein.csv\"\n",
    "    izlazni_fajl = \"protein_YP_138523.1.csv\"\n",
    "    \n",
    "    filtriraj_spike_glycoprotein(ulazni_fajl, izlazni_fajl)\n",
    "    print(f\"Datoteka {izlazni_fajl} je uspešno kreirana sa filtriranim podacima.\")\n"
   ]
  },
  {
   "cell_type": "code",
   "execution_count": null,
   "id": "f85eedbe-3c2a-4872-ad3f-962f97a7a469",
   "metadata": {},
   "outputs": [],
   "source": []
  }
 ],
 "metadata": {
  "kernelspec": {
   "display_name": "Python 3 (ipykernel)",
   "language": "python",
   "name": "python3"
  },
  "language_info": {
   "codemirror_mode": {
    "name": "ipython",
    "version": 3
   },
   "file_extension": ".py",
   "mimetype": "text/x-python",
   "name": "python",
   "nbconvert_exporter": "python",
   "pygments_lexer": "ipython3",
   "version": "3.10.12"
  }
 },
 "nbformat": 4,
 "nbformat_minor": 5
}
