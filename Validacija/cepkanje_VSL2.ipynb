{
 "cells": [
  {
   "cell_type": "code",
   "execution_count": 18,
   "id": "a41d96ea-2939-4a94-9a4b-342709440907",
   "metadata": {},
   "outputs": [
    {
     "name": "stdout",
     "output_type": "stream",
     "text": [
      "Sekvenca proteina:  ['M', 'G', 'G', 'L', 'S', 'L', 'L', 'Q', 'L', 'P', 'R', 'D', 'K', 'F', 'R', 'K', 'S', 'S', 'F', 'F', 'V', 'W', 'V', 'I', 'I', 'L', 'F', 'Q', 'K', 'A', 'F', 'S', 'M', 'P', 'L', 'G', 'V', 'V', 'T', 'N', 'S', 'T', 'L', 'E', 'V', 'T', 'E', 'I', 'D', 'Q', 'L', 'V', 'C', 'K', 'D', 'H', 'L', 'A', 'S', 'T', 'D', 'Q', 'L', 'K', 'S', 'V', 'G', 'L', 'N', 'L', 'E', 'G', 'S', 'G', 'V', 'S', 'T', 'D', 'I', 'P', 'S', 'A', 'T', 'K', 'R', 'W', 'G', 'F', 'R', 'S', 'G', 'V', 'P', 'P', 'K', 'V', 'V', 'S', 'Y', 'E', 'A', 'G', 'E', 'W', 'A', 'E', 'N', 'C', 'Y', 'N', 'L', 'E', 'I', 'K', 'K', 'P', 'D', 'G', 'S', 'E', 'C', 'L', 'P', 'P', 'P', 'P', 'D', 'G', 'V', 'R', 'G', 'F', 'P', 'R', 'C', 'R', 'Y', 'V', 'H', 'K', 'A', 'Q', 'G', 'T', 'G', 'P', 'C', 'P', 'G', 'D', 'Y', 'A', 'F', 'H', 'K', 'D', 'G', 'A', 'F', 'F', 'L', 'Y', 'D', 'R', 'L', 'A', 'S', 'T', 'V', 'I', 'Y', 'R', 'G', 'V', 'N', 'F', 'A', 'E', 'G', 'V', 'I', 'A', 'F', 'L', 'I', 'L', 'A', 'K', 'P', 'K', 'E', 'T', 'F', 'L', 'Q', 'S', 'P', 'P', 'I', 'R', 'E', 'A', 'V', 'N', 'Y', 'T', 'E', 'N', 'T', 'S', 'S', 'Y', 'Y', 'A', 'T', 'S', 'Y', 'L', 'E', 'Y', 'E', 'I', 'E', 'N', 'F', 'G', 'A', 'Q', 'H', 'S', 'T', 'T', 'L', 'F', 'K', 'I', 'D', 'N', 'N', 'T', 'F', 'V', 'R', 'L', 'D', 'R', 'P', 'H', 'T', 'P', 'Q', 'F', 'L', 'F', 'Q', 'L', 'N', 'D', 'T', 'I', 'H', 'L', 'H', 'Q', 'Q', 'L', 'S', 'N', 'T', 'T', 'G', 'R', 'L', 'I', 'W', 'T', 'L', 'D', 'A', 'N', 'I', 'N', 'A', 'D', 'I', 'G', 'E', 'W', 'A', 'F', 'W', 'E', 'N', 'K', 'K', 'N', 'L', 'S', 'E', 'Q', 'L', 'R', 'G', 'E', 'E', 'L', 'S', 'F', 'E', 'A', 'L', 'S', 'L', 'N', 'E', 'T', 'E', 'D', 'D', 'D', 'A', 'A', 'S', 'S', 'R', 'I', 'T', 'K', 'G', 'R', 'I', 'S', 'D', 'R', 'A', 'T', 'R', 'K', 'Y', 'S', 'D', 'L', 'V', 'P', 'K', 'N', 'S', 'P', 'G', 'M', 'V', 'P', 'L', 'H', 'I', 'P', 'E', 'G', 'E', 'T', 'T', 'L', 'P', 'S', 'Q', 'N', 'S', 'T', 'E', 'G', 'R', 'R', 'V', 'G', 'V', 'N', 'T', 'Q', 'E', 'T', 'I', 'T', 'E', 'T', 'A', 'A', 'T', 'I', 'I', 'G', 'T', 'N', 'G', 'N', 'H', 'M', 'Q', 'I', 'S', 'T', 'I', 'G', 'I', 'R', 'P', 'S', 'S', 'S', 'Q', 'I', 'P', 'S', 'S', 'S', 'P', 'T', 'T', 'A', 'P', 'S', 'P', 'E', 'A', 'Q', 'T', 'P', 'T', 'T', 'H', 'T', 'S', 'G', 'P', 'S', 'V', 'M', 'A', 'T', 'E', 'E', 'P', 'T', 'T', 'P', 'P', 'G', 'S', 'S', 'P', 'G', 'P', 'T', 'T', 'E', 'A', 'P', 'T', 'L', 'T', 'T', 'P', 'E', 'N', 'I', 'T', 'T', 'A', 'V', 'K', 'T', 'V', 'L', 'P', 'Q', 'E', 'S', 'T', 'S', 'N', 'G', 'L', 'I', 'T', 'S', 'T', 'V', 'T', 'G', 'I', 'L', 'G', 'S', 'L', 'G', 'L', 'R', 'K', 'R', 'S', 'R', 'R', 'Q', 'T', 'N', 'T', 'K', 'A', 'T', 'G', 'K', 'C', 'N', 'P', 'N', 'L', 'H', 'Y', 'W', 'T', 'A', 'Q', 'E', 'Q', 'H', 'N', 'A', 'A', 'G', 'I', 'A', 'W', 'I', 'P', 'Y', 'F', 'G', 'P', 'G', 'A', 'E', 'G', 'I', 'Y', 'T', 'E', 'G', 'L', 'M', 'H', 'N', 'Q', 'N', 'A', 'L', 'V', 'C', 'G', 'L', 'R', 'Q', 'L', 'A', 'N', 'E', 'T', 'T', 'Q', 'A', 'L', 'Q', 'L', 'F', 'L', 'R', 'A', 'T', 'T', 'E', 'L', 'R', 'T', 'Y', 'T', 'I', 'L', 'N', 'R', 'K', 'A', 'I', 'D', 'F', 'L', 'L', 'R', 'R', 'W', 'G', 'G', 'T', 'C', 'R', 'I', 'L', 'G', 'P', 'D', 'C', 'C', 'I', 'E', 'P', 'H', 'D', 'W', 'T', 'K', 'N', 'I', 'T', 'D', 'K', 'I', 'N', 'Q', 'I', 'I', 'H', 'D', 'F', 'I', 'D', 'N', 'P', 'L', 'P', 'N', 'Q', 'D', 'N', 'D', 'D', 'N', 'W', 'W', 'T', 'G', 'W', 'R', 'Q', 'W', 'I', 'P', 'A', 'G', 'I', 'G', 'I', 'T', 'G', 'I', 'I', 'I', 'A', 'I', 'I', 'A', 'L', 'L', 'C', 'V', 'C', 'K', 'L', 'L', 'C']\n"
     ]
    }
   ],
   "source": [
    "import pandas as pd\n",
    "\n",
    "# Učitaj CSV fajl\n",
    "df = pd.read_csv(\"Ulazni podaci VSL2/YP_138523.1 | spike glycoprotein.csv\")\n",
    "\n",
    "sekvenca = df['Aminokiselina'].tolist()\n",
    "\n",
    "print(\"Sekvenca proteina: \", sekvenca)"
   ]
  },
  {
   "cell_type": "code",
   "execution_count": 19,
   "id": "91c93f06-7708-4bbb-a775-0a3f10605f25",
   "metadata": {},
   "outputs": [
    {
     "name": "stdout",
     "output_type": "stream",
     "text": [
      "['neuređena', 'neuređena', 'neuređena', 'neuređena', 'neuređena', 'uređena', 'uređena', 'uređena', 'uređena', 'uređena', 'uređena', 'uređena', 'uređena', 'uređena', 'uređena', 'uređena', 'uređena', 'uređena', 'uređena', 'uređena', 'uređena', 'uređena', 'uređena', 'uređena', 'uređena', 'uređena', 'uređena', 'uređena', 'uređena', 'uređena', 'uređena', 'uređena', 'uređena', 'uređena', 'uređena', 'uređena', 'uređena', 'uređena', 'uređena', 'uređena', 'uređena', 'uređena', 'uređena', 'uređena', 'uređena', 'uređena', 'uređena', 'uređena', 'uređena', 'uređena', 'uređena', 'uređena', 'uređena', 'uređena', 'uređena', 'uređena', 'uređena', 'uređena', 'uređena', 'uređena', 'uređena', 'uređena', 'uređena', 'uređena', 'uređena', 'uređena', 'uređena', 'uređena', 'uređena', 'neuređena', 'neuređena', 'neuređena', 'neuređena', 'neuređena', 'neuređena', 'neuređena', 'neuređena', 'neuređena', 'neuređena', 'uređena', 'uređena', 'uređena', 'uređena', 'uređena', 'uređena', 'uređena', 'uređena', 'uređena', 'uređena', 'uređena', 'uređena', 'uređena', 'uređena', 'uređena', 'uređena', 'uređena', 'uređena', 'uređena', 'uređena', 'uređena', 'uređena', 'uređena', 'uređena', 'uređena', 'uređena', 'uređena', 'uređena', 'uređena', 'uređena', 'uređena', 'uređena', 'uređena', 'uređena', 'neuređena', 'neuređena', 'neuređena', 'neuređena', 'neuređena', 'neuređena', 'neuređena', 'neuređena', 'neuređena', 'neuređena', 'neuređena', 'neuređena', 'neuređena', 'neuređena', 'neuređena', 'neuređena', 'neuređena', 'neuređena', 'uređena', 'uređena', 'uređena', 'uređena', 'uređena', 'uređena', 'uređena', 'uređena', 'uređena', 'uređena', 'uređena', 'uređena', 'uređena', 'uređena', 'uređena', 'uređena', 'uređena', 'uređena', 'uređena', 'uređena', 'uređena', 'uređena', 'uređena', 'uređena', 'uređena', 'uređena', 'uređena', 'uređena', 'uređena', 'uređena', 'uređena', 'uređena', 'uređena', 'uređena', 'uređena', 'uređena', 'uređena', 'uređena', 'uređena', 'uređena', 'uređena', 'uređena', 'uređena', 'uređena', 'uređena', 'uređena', 'uređena', 'uređena', 'uređena', 'uređena', 'uređena', 'uređena', 'uređena', 'uređena', 'uređena', 'uređena', 'uređena', 'uređena', 'uređena', 'uređena', 'uređena', 'uređena', 'uređena', 'uređena', 'uređena', 'uređena', 'uređena', 'uređena', 'uređena', 'uređena', 'uređena', 'uređena', 'uređena', 'uređena', 'neuređena', 'neuređena', 'neuređena', 'neuređena', 'neuređena', 'neuređena', 'uređena', 'uređena', 'uređena', 'uređena', 'uređena', 'uređena', 'uređena', 'uređena', 'uređena', 'uređena', 'uređena', 'uređena', 'uređena', 'uređena', 'uređena', 'uređena', 'uređena', 'uređena', 'uređena', 'uređena', 'uređena', 'uređena', 'uređena', 'uređena', 'uređena', 'uređena', 'uređena', 'uređena', 'uređena', 'uređena', 'uređena', 'uređena', 'uređena', 'uređena', 'uređena', 'uređena', 'uređena', 'uređena', 'uređena', 'uređena', 'uređena', 'uređena', 'uređena', 'uređena', 'uređena', 'uređena', 'uređena', 'uređena', 'uređena', 'uređena', 'uređena', 'uređena', 'uređena', 'uređena', 'uređena', 'uređena', 'uređena', 'uređena', 'uređena', 'uređena', 'uređena', 'uređena', 'uređena', 'uređena', 'uređena', 'uređena', 'uređena', 'uređena', 'uređena', 'uređena', 'uređena', 'uređena', 'uređena', 'uređena', 'uređena', 'uređena', 'uređena', 'uređena', 'uređena', 'uređena', 'uređena', 'uređena', 'uređena', 'uređena', 'uređena', 'neuređena', 'neuređena', 'neuređena', 'neuređena', 'neuređena', 'neuređena', 'neuređena', 'neuređena', 'neuređena', 'neuređena', 'neuređena', 'neuređena', 'neuređena', 'neuređena', 'neuređena', 'neuređena', 'neuređena', 'neuređena', 'neuređena', 'neuređena', 'neuređena', 'neuređena', 'neuređena', 'neuređena', 'neuređena', 'neuređena', 'neuređena', 'neuređena', 'neuređena', 'neuređena', 'neuređena', 'neuređena', 'neuređena', 'neuređena', 'neuređena', 'neuređena', 'neuređena', 'neuređena', 'neuređena', 'neuređena', 'neuređena', 'neuređena', 'neuređena', 'neuređena', 'neuređena', 'neuređena', 'neuređena', 'neuređena', 'neuređena', 'neuređena', 'neuređena', 'neuređena', 'neuređena', 'neuređena', 'neuređena', 'neuređena', 'neuređena', 'neuređena', 'neuređena', 'neuređena', 'neuređena', 'neuređena', 'neuređena', 'neuređena', 'neuređena', 'neuređena', 'neuređena', 'neuređena', 'neuređena', 'neuređena', 'neuređena', 'neuređena', 'neuređena', 'neuređena', 'neuređena', 'neuređena', 'neuređena', 'neuređena', 'neuređena', 'neuređena', 'neuređena', 'neuređena', 'neuređena', 'neuređena', 'neuređena', 'neuređena', 'neuređena', 'neuređena', 'neuređena', 'neuređena', 'neuređena', 'neuređena', 'neuređena', 'neuređena', 'neuređena', 'neuređena', 'neuređena', 'neuređena', 'neuređena', 'neuređena', 'neuređena', 'neuređena', 'neuređena', 'neuređena', 'neuređena', 'neuređena', 'neuređena', 'neuređena', 'neuređena', 'neuređena', 'neuređena', 'neuređena', 'neuređena', 'neuređena', 'neuređena', 'neuređena', 'neuređena', 'neuređena', 'neuređena', 'neuređena', 'neuređena', 'neuređena', 'neuređena', 'neuređena', 'neuređena', 'neuređena', 'neuređena', 'neuređena', 'neuređena', 'neuređena', 'neuređena', 'neuređena', 'neuređena', 'neuređena', 'neuređena', 'neuređena', 'neuređena', 'neuređena', 'neuređena', 'neuređena', 'neuređena', 'neuređena', 'neuređena', 'neuređena', 'neuređena', 'neuređena', 'neuređena', 'neuređena', 'neuređena', 'neuređena', 'neuređena', 'neuređena', 'neuređena', 'neuređena', 'neuređena', 'neuređena', 'neuređena', 'neuređena', 'neuređena', 'neuređena', 'neuređena', 'neuređena', 'neuređena', 'neuređena', 'neuređena', 'neuređena', 'neuređena', 'neuređena', 'neuređena', 'neuređena', 'neuređena', 'neuređena', 'neuređena', 'neuređena', 'neuređena', 'neuređena', 'neuređena', 'neuređena', 'neuređena', 'neuređena', 'neuređena', 'neuređena', 'neuređena', 'neuređena', 'neuređena', 'neuređena', 'neuređena', 'neuređena', 'neuređena', 'neuređena', 'neuređena', 'uređena', 'neuređena', 'neuređena', 'neuređena', 'neuređena', 'neuređena', 'neuređena', 'neuređena', 'neuređena', 'neuređena', 'neuređena', 'neuređena', 'neuređena', 'neuređena', 'neuređena', 'neuređena', 'neuređena', 'neuređena', 'neuređena', 'neuređena', 'neuređena', 'neuređena', 'neuređena', 'uređena', 'uređena', 'uređena', 'uređena', 'uređena', 'uređena', 'uređena', 'uređena', 'uređena', 'uređena', 'uređena', 'uređena', 'uređena', 'uređena', 'uređena', 'uređena', 'uređena', 'uređena', 'uređena', 'uređena', 'uređena', 'uređena', 'uređena', 'uređena', 'uređena', 'uređena', 'uređena', 'uređena', 'uređena', 'uređena', 'uređena', 'uređena', 'uređena', 'uređena', 'uređena', 'uređena', 'uređena', 'uređena', 'uređena', 'uređena', 'uređena', 'uređena', 'uređena', 'uređena', 'uređena', 'uređena', 'uređena', 'uređena', 'uređena', 'uređena', 'uređena', 'uređena', 'uređena', 'uređena', 'uređena', 'uređena', 'uređena', 'uređena', 'uređena', 'uređena', 'uređena', 'uređena', 'uređena', 'uređena', 'uređena', 'uređena', 'uređena', 'uređena', 'uređena', 'uređena', 'uređena', 'uređena', 'uređena', 'uređena', 'uređena', 'uređena', 'uređena', 'uređena', 'uređena', 'uređena', 'uređena', 'uređena', 'uređena', 'uređena', 'uređena', 'uređena', 'uređena', 'uređena', 'uređena', 'uređena', 'uređena', 'uređena', 'uređena', 'uređena', 'uređena', 'uređena', 'uređena', 'uređena', 'uređena', 'uređena', 'uređena', 'uređena', 'uređena', 'uređena', 'uređena', 'uređena', 'uređena', 'uređena', 'uređena', 'uređena', 'uređena', 'uređena', 'uređena', 'uređena', 'uređena', 'uređena', 'uređena', 'uređena', 'uređena', 'uređena', 'uređena', 'uređena', 'uređena', 'uređena', 'neuređena', 'neuređena', 'neuređena', 'neuređena', 'neuređena', 'neuređena', 'uređena', 'uređena', 'uređena', 'uređena', 'uređena', 'uređena', 'uređena', 'uređena', 'uređena', 'uređena', 'uređena', 'uređena', 'uređena', 'uređena', 'uređena', 'uređena', 'uređena', 'uređena', 'uređena', 'uređena', 'uređena', 'uređena', 'uređena', 'uređena', 'uređena', 'uređena', 'uređena', 'uređena', 'uređena', 'uređena', 'uređena', 'uređena', 'uređena', 'uređena', 'uređena', 'uređena']\n"
     ]
    }
   ],
   "source": [
    "# Izdvajanje svih vrednosti iz kolone 'Klasifikacija'\n",
    "oznake = df['Klasifikacija'].tolist()\n",
    "\n",
    "# Prikazivanje liste\n",
    "print(oznake)"
   ]
  },
  {
   "cell_type": "code",
   "execution_count": 20,
   "id": "27fff59c-f5b9-4d1e-b230-f1e0912f64cb",
   "metadata": {},
   "outputs": [
    {
     "name": "stdout",
     "output_type": "stream",
     "text": [
      "Primer sekvence: [['M', 'G', 'G', 'L', 'S', 'L', 'L', 'Q', 'L', 'P', 'R', 'D', 'K', 'F', 'R', 'K', 'S', 'S', 'F', 'F', 'V', 'W', 'V', 'I', 'I', 'L', 'F', 'Q', 'K', 'A'], ['G', 'G', 'L', 'S', 'L', 'L', 'Q', 'L', 'P', 'R', 'D', 'K', 'F', 'R', 'K', 'S', 'S', 'F', 'F', 'V', 'W', 'V', 'I', 'I', 'L', 'F', 'Q', 'K', 'A', 'F'], ['G', 'L', 'S', 'L', 'L', 'Q', 'L', 'P', 'R', 'D', 'K', 'F', 'R', 'K', 'S', 'S', 'F', 'F', 'V', 'W', 'V', 'I', 'I', 'L', 'F', 'Q', 'K', 'A', 'F', 'S'], ['L', 'S', 'L', 'L', 'Q', 'L', 'P', 'R', 'D', 'K', 'F', 'R', 'K', 'S', 'S', 'F', 'F', 'V', 'W', 'V', 'I', 'I', 'L', 'F', 'Q', 'K', 'A', 'F', 'S', 'M'], ['S', 'L', 'L', 'Q', 'L', 'P', 'R', 'D', 'K', 'F', 'R', 'K', 'S', 'S', 'F', 'F', 'V', 'W', 'V', 'I', 'I', 'L', 'F', 'Q', 'K', 'A', 'F', 'S', 'M', 'P']]\n",
      "Primer oznaka: ['uređena', 'uređena', 'uređena', 'uređena', 'uređena']\n"
     ]
    }
   ],
   "source": [
    "def generisi_prozore(sekvenca, oznake, min_duzina=30, max_duzina=100):\n",
    "    prozori = []\n",
    "    oznake_prozora = []\n",
    "    duzine = []      # lista za dužinu podsekvence\n",
    "    pozicije = []   # lista za pozicije u originalnoj sekvenci (\"početak-kraj\")\n",
    "    \n",
    "    for duzina in range(min_duzina, max_duzina + 1):  # Za svaki prozor dužine od 5 do 100\n",
    "        for i in range(len(sekvenca) - duzina + 1):\n",
    "            podsekvenca = sekvenca[i:i + duzina]          # Izdvajanje podsekvence\n",
    "            oznake_podsekvence = oznake[i:i + duzina]        # Pripadajuće oznake\n",
    "            \n",
    "            # Pamćenje dužine i pozicije (pozicije se čuvaju 1-indeksirano)\n",
    "            duzine.append(duzina)\n",
    "            pozicije.append(f\"{i+1}-{i+duzina}\")\n",
    "            \n",
    "            # Dodeljivanje oznake na osnovu većinske vrednosti\n",
    "            if oznake_podsekvence.count(\"uređena\") > len(oznake_podsekvence) / 2:\n",
    "                prozori.append(podsekvenca)\n",
    "                oznake_prozora.append(\"uređena\")\n",
    "            elif oznake_podsekvence.count(\"uređena\") < len(oznake_podsekvence) / 2:\n",
    "                prozori.append(podsekvenca)\n",
    "                oznake_prozora.append(\"neuređena\")\n",
    "            else:\n",
    "                prozori.append(podsekvenca)\n",
    "                oznake_prozora.append(\"uređena/neuređena\")\n",
    "          \n",
    "    return duzine, pozicije, prozori, oznake_prozora\n",
    "\n",
    "\n",
    "# Generiši prozore\n",
    "duzine, pozicije, X_sekvence, y_oznake = generisi_prozore(sekvenca, oznake)\n",
    "\n",
    "print(\"Primer sekvence:\", X_sekvence[:5])\n",
    "print(\"Primer oznaka:\", y_oznake[:5])\n"
   ]
  },
  {
   "cell_type": "code",
   "execution_count": 21,
   "id": "5dbc60fe-5143-4827-8ac9-7d9d79d7eede",
   "metadata": {},
   "outputs": [],
   "source": [
    "# Definiši sve aminokiseline\n",
    "amino_acids = \"ACDEFGHIKLMNPQRSTVWY\"\n",
    "aa_to_index = {aa: i for i, aa in enumerate(amino_acids)}"
   ]
  },
  {
   "cell_type": "code",
   "execution_count": 22,
   "id": "98deb1bd-0a01-4115-80db-d1a8f4c2b3ad",
   "metadata": {},
   "outputs": [],
   "source": [
    "def frequency_vector(seq):\n",
    "    vec = np.zeros(len(amino_acids))  # Kreira vektor dužine 20 (jer imamo 20 aminokiselina)\n",
    "    for aa in seq:\n",
    "        if aa in aa_to_index:\n",
    "            vec[aa_to_index[aa]] += 1  # Povećava brojanje aminokiseline u vektoru\n",
    "    return vec / len(seq)  # Normalizuje frekvencije (deli sa dužinom sekvence)"
   ]
  },
  {
   "cell_type": "code",
   "execution_count": 23,
   "id": "72e5c0a8-38b6-47bb-b69c-09f94009b6ea",
   "metadata": {},
   "outputs": [
    {
     "name": "stdout",
     "output_type": "stream",
     "text": [
      "Primer vektora: [[0.03333333 0.         0.03333333 0.         0.13333333 0.06666667\n",
      "  0.         0.06666667 0.1        0.16666667 0.03333333 0.\n",
      "  0.03333333 0.06666667 0.06666667 0.1        0.         0.06666667\n",
      "  0.03333333 0.        ]\n",
      " [0.03333333 0.         0.03333333 0.         0.16666667 0.06666667\n",
      "  0.         0.06666667 0.1        0.16666667 0.         0.\n",
      "  0.03333333 0.06666667 0.06666667 0.1        0.         0.06666667\n",
      "  0.03333333 0.        ]\n",
      " [0.03333333 0.         0.03333333 0.         0.16666667 0.03333333\n",
      "  0.         0.06666667 0.1        0.16666667 0.         0.\n",
      "  0.03333333 0.06666667 0.06666667 0.13333333 0.         0.06666667\n",
      "  0.03333333 0.        ]\n",
      " [0.03333333 0.         0.03333333 0.         0.16666667 0.\n",
      "  0.         0.06666667 0.1        0.16666667 0.03333333 0.\n",
      "  0.03333333 0.06666667 0.06666667 0.13333333 0.         0.06666667\n",
      "  0.03333333 0.        ]\n",
      " [0.03333333 0.         0.03333333 0.         0.16666667 0.\n",
      "  0.         0.06666667 0.1        0.13333333 0.03333333 0.\n",
      "  0.06666667 0.06666667 0.06666667 0.13333333 0.         0.06666667\n",
      "  0.03333333 0.        ]]\n",
      "Primer oznaka: [1 1 1 1 1]\n"
     ]
    }
   ],
   "source": [
    "import numpy as np\n",
    "X_features = np.array([frequency_vector(seq) for seq in X_sekvence])\n",
    "y_binary = np.array([1 if oznake == \"uređena\" else 0 for oznake in y_oznake])\n",
    "\n",
    "print(\"Primer vektora:\", X_features[:5])\n",
    "print(\"Primer oznaka:\", y_binary[:5])"
   ]
  },
  {
   "cell_type": "code",
   "execution_count": 48,
   "id": "6eaba1aa-070c-4314-9296-2f52656a77f4",
   "metadata": {},
   "outputs": [
    {
     "name": "stdout",
     "output_type": "stream",
     "text": [
      "Test Accuracy: 0.9889\n"
     ]
    }
   ],
   "source": [
    "from sklearn.svm import SVC\n",
    "from sklearn.model_selection import train_test_split\n",
    "from sklearn.metrics import accuracy_score\n",
    "\n",
    "# Podeli podatke na trening i test skupove\n",
    "X_train, X_test, y_train, y_test = train_test_split(X_features, y_binary, test_size=0.3, random_state=42)\n",
    "\n",
    "# Treniraj SVM model\n",
    "svm_model = SVC(kernel=\"rbf\", C=1.0, gamma=\"scale\")\n",
    "svm_model.fit(X_train, y_train)\n",
    "\n",
    "# Evaluacija\n",
    "y_pred = svm_model.predict(X_test)\n",
    "accuracy = accuracy_score(y_test, y_pred)\n",
    "\n",
    "print(f\"Test Accuracy: {accuracy:.4f}\")"
   ]
  },
  {
   "cell_type": "code",
   "execution_count": 49,
   "id": "03059cbc-d7d8-4231-a151-953a586f4082",
   "metadata": {},
   "outputs": [],
   "source": [
    "# Sačuvaj trening i test podatke\n",
    "\n",
    "aminokiseline = ['A', 'C', 'D', 'E', 'F', 'G', 'H', 'I', 'K', 'L', 'M', 'N', 'P', 'Q', 'R', 'S', 'T', 'V', 'W', 'Y']\n",
    "nazivi_kolona = [f\"molska_frakcija_za_{aa}\" for aa in aminokiseline] + [\"Klasifikacija\"]\n",
    "\n",
    "# Kreiranje DataFrame-ova sa odgovarajućim kolonama\n",
    "trening_podaci = pd.DataFrame(X_train, columns=nazivi_kolona[:-1])\n",
    "trening_podaci[\"Klasifikacija\"] = y_train\n",
    "\n",
    "test_podaci = pd.DataFrame(X_test, columns=nazivi_kolona[:-1])\n",
    "test_podaci[\"Klasifikacija\"] = y_test\n",
    "\n",
    "# Spajanje podataka\n",
    "svi_podaci = pd.concat([trening_podaci, test_podaci], ignore_index=True)\n",
    "\n",
    "# Čuvanje u CSV fajlove\n",
    "trening_podaci.to_csv(\"Izlazni podaci VSL2 SVM/Nucleoprotein/trening_podaci_YP_138520.1 |nucleoprotein.csv\", index=False)\n",
    "test_podaci.to_csv(\"Izlazni podaci VSL2 SVM/Nucleoprotein/test_podaci_YP_138520.1 |nucleoprotein.csv\", index=False)\n",
    "svi_podaci.to_csv(\"Izlazni podaci VSL2 SVM/Nucleoprotein/svi_podaci_YP_138520.1 |nucleoprotein.csv\", index=False)\n",
    "\n",
    "# Sačuvaj sekvence sa oznakama, dužinama i pozicijama\n",
    "df_sekvence = pd.DataFrame({\n",
    "    \"Duzina\": duzine,\n",
    "    \"Pozicija\": pozicije,\n",
    "    \"Sekvenca\": X_sekvence,\n",
    "    \"Oznaka\": y_oznake\n",
    "})\n",
    "\n",
    "df_sekvence.to_csv(\"Izlazni podaci VSL2 SVM/Nucleoprotein/sekvence_oznake_YP_138520.1 |nucleoprotein.csv\", index=False)\n"
   ]
  },
  {
   "cell_type": "code",
   "execution_count": 24,
   "id": "2474f32e-ec35-4eb0-be30-c2075c0131c8",
   "metadata": {},
   "outputs": [
    {
     "name": "stdout",
     "output_type": "stream",
     "text": [
      "Test Accuracy: 0.9980\n"
     ]
    }
   ],
   "source": [
    "from sklearn.neighbors import KNeighborsClassifier\n",
    "from sklearn.model_selection import train_test_split\n",
    "from sklearn.metrics import accuracy_score\n",
    "\n",
    "# Podeli podatke na trening i test skupove\n",
    "X_train, X_test, y_train, y_test = train_test_split(X_features, y_binary, test_size=0.3, random_state=42)\n",
    "\n",
    "# Treniraj KNN model\n",
    "knn_model = KNeighborsClassifier(n_neighbors=5)  \n",
    "knn_model.fit(X_train, y_train)\n",
    "\n",
    "# Evaluacija\n",
    "y_pred = knn_model.predict(X_test)\n",
    "accuracy = accuracy_score(y_test, y_pred)\n",
    "\n",
    "print(f\"Test Accuracy: {accuracy:.4f}\")\n"
   ]
  },
  {
   "cell_type": "code",
   "execution_count": 26,
   "id": "9fc8f2bf-417c-47a4-97db-85f2680dfaef",
   "metadata": {},
   "outputs": [],
   "source": [
    "# Sačuvaj trening i test podatke\n",
    "\n",
    "aminokiseline = ['A', 'C', 'D', 'E', 'F', 'G', 'H', 'I', 'K', 'L', 'M', 'N', 'P', 'Q', 'R', 'S', 'T', 'V', 'W', 'Y']\n",
    "nazivi_kolona = [f\"molska_frakcija_za_{aa}\" for aa in aminokiseline] + [\"Klasifikacija\"]\n",
    "\n",
    "# Kreiranje DataFrame-ova sa odgovarajućim kolonama\n",
    "trening_podaci = pd.DataFrame(X_train, columns=nazivi_kolona[:-1])\n",
    "trening_podaci[\"Klasifikacija\"] = y_train\n",
    "\n",
    "test_podaci = pd.DataFrame(X_test, columns=nazivi_kolona[:-1])\n",
    "test_podaci[\"Klasifikacija\"] = y_test\n",
    "\n",
    "# Spajanje podataka\n",
    "svi_podaci = pd.concat([trening_podaci, test_podaci], ignore_index=True)\n",
    "\n",
    "# Čuvanje u CSV fajlove\n",
    "trening_podaci.to_csv(\"Izlazni podaci VSL2 KNN/Spike glycoprotein/trening_podaci_YP_138523.1 | spike glycoprotein.csv\", index=False)\n",
    "test_podaci.to_csv(\"Izlazni podaci VSL2 KNN/Spike glycoprotein/test_podaci_YP_138523.1 | spike glycoprotein.csv\", index=False)\n",
    "svi_podaci.to_csv(\"Izlazni podaci VSL2 KNN/Spike glycoprotein/svi_podaci_YP_138523.1 | spike glycoprotein.csv\", index=False)\n",
    "\n",
    "# Sačuvaj sekvence sa oznakama, dužinama i pozicijama\n",
    "df_sekvence = pd.DataFrame({\n",
    "    \"Duzina\": duzine,\n",
    "    \"Pozicija\": pozicije,\n",
    "    \"Sekvenca\": X_sekvence,\n",
    "    \"Oznaka\": y_oznake\n",
    "})\n",
    "\n",
    "df_sekvence.to_csv(\"Izlazni podaci VSL2 KNN/Spike glycoprotein/sekvence_oznake_KNN_YP_138523.1 | spike glycoprotein.csv\", index=False)\n"
   ]
  },
  {
   "cell_type": "code",
   "execution_count": 52,
   "id": "29112863-17a6-4128-b179-3ffc8e37673c",
   "metadata": {},
   "outputs": [
    {
     "name": "stdout",
     "output_type": "stream",
     "text": [
      "Test Accuracy: 0.9727\n"
     ]
    }
   ],
   "source": [
    "from sklearn.tree import DecisionTreeClassifier\n",
    "from sklearn.model_selection import train_test_split\n",
    "from sklearn.metrics import accuracy_score\n",
    "\n",
    "# Podeli podatke na trening i test skupove\n",
    "X_train, X_test, y_train, y_test = train_test_split(X_features, y_binary, test_size=0.3, random_state=42)\n",
    "\n",
    "# Treniraj Decision Tree model sa dodatnim parametrima\n",
    "dt_model = DecisionTreeClassifier(\n",
    "    criterion='gini',  # Može biti 'entropy' ili 'gini' (default)\n",
    "    max_depth=8, \n",
    "    random_state=42\n",
    ")\n",
    "dt_model.fit(X_train, y_train)\n",
    "\n",
    "# Evaluacija\n",
    "y_pred = dt_model.predict(X_test)\n",
    "accuracy = accuracy_score(y_test, y_pred)\n",
    "\n",
    "print(f\"Test Accuracy: {accuracy:.4f}\")\n"
   ]
  },
  {
   "cell_type": "code",
   "execution_count": 53,
   "id": "d4e9073f-6b5a-406a-ae50-2d4c8f8c7ad0",
   "metadata": {},
   "outputs": [],
   "source": [
    "# Sačuvaj trening i test podatke\n",
    "\n",
    "aminokiseline = ['A', 'C', 'D', 'E', 'F', 'G', 'H', 'I', 'K', 'L', 'M', 'N', 'P', 'Q', 'R', 'S', 'T', 'V', 'W', 'Y']\n",
    "nazivi_kolona = [f\"molska_frakcija_za_{aa}\" for aa in aminokiseline] + [\"Klasifikacija\"]\n",
    "\n",
    "# Kreiranje DataFrame-ova sa odgovarajućim kolonama\n",
    "trening_podaci = pd.DataFrame(X_train, columns=nazivi_kolona[:-1])\n",
    "trening_podaci[\"Klasifikacija\"] = y_train\n",
    "\n",
    "test_podaci = pd.DataFrame(X_test, columns=nazivi_kolona[:-1])\n",
    "test_podaci[\"Klasifikacija\"] = y_test\n",
    "\n",
    "# Spajanje podataka\n",
    "svi_podaci = pd.concat([trening_podaci, test_podaci], ignore_index=True)\n",
    "\n",
    "# Čuvanje u CSV fajlove\n",
    "trening_podaci.to_csv(\"Izlazni podaci VSL2 CART/Nucleoprotein/trening_podaci_YP_138520.1 |nucleoprotein.csv\", index=False)\n",
    "test_podaci.to_csv(\"Izlazni podaci VSL2 CART/Nucleoprotein/test_podaci_YP_138520.1 |nucleoprotein.csv\", index=False)\n",
    "svi_podaci.to_csv(\"Izlazni podaci VSL2 CART/Nucleoprotein/svi_podaci_YP_138520.1 |nucleoprotein.csv\", index=False)\n",
    "\n",
    "# Sačuvaj sekvence sa oznakama, dužinama i pozicijama\n",
    "df_sekvence = pd.DataFrame({\n",
    "    \"Duzina\": duzine,\n",
    "    \"Pozicija\": pozicije,\n",
    "    \"Sekvenca\": X_sekvence,\n",
    "    \"Oznaka\": y_oznake\n",
    "})\n",
    "\n",
    "df_sekvence.to_csv(\"Izlazni podaci VSL2 CART/Nucleoprotein/sekvence_oznake_CART_YP_138520.1 |nucleoprotein.csv\", index=False)\n"
   ]
  },
  {
   "cell_type": "code",
   "execution_count": null,
   "id": "8a3a432e-20e9-4a16-bdcb-3ba4a5dbe561",
   "metadata": {},
   "outputs": [],
   "source": []
  }
 ],
 "metadata": {
  "kernelspec": {
   "display_name": "Python 3 (ipykernel)",
   "language": "python",
   "name": "python3"
  },
  "language_info": {
   "codemirror_mode": {
    "name": "ipython",
    "version": 3
   },
   "file_extension": ".py",
   "mimetype": "text/x-python",
   "name": "python",
   "nbconvert_exporter": "python",
   "pygments_lexer": "ipython3",
   "version": "3.10.12"
  }
 },
 "nbformat": 4,
 "nbformat_minor": 5
}
