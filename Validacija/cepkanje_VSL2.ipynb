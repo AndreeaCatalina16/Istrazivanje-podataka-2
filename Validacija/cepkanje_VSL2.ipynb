{
 "cells": [
  {
   "cell_type": "code",
   "execution_count": 77,
   "id": "a41d96ea-2939-4a94-9a4b-342709440907",
   "metadata": {},
   "outputs": [
    {
     "name": "stdout",
     "output_type": "stream",
     "text": [
      "Sekvenca proteina:  ['M', 'D', 'K', 'R', 'V', 'R', 'G', 'S', 'W', 'A', 'L', 'G', 'G', 'Q', 'S', 'E', 'V', 'D', 'L', 'D', 'Y', 'H', 'K', 'I', 'L', 'T', 'A', 'G', 'L', 'S', 'V', 'Q', 'Q', 'G', 'I', 'V', 'R', 'Q', 'R', 'V', 'I', 'P', 'V', 'Y', 'V', 'V', 'S', 'D', 'L', 'E', 'G', 'I', 'C', 'Q', 'H', 'I', 'I', 'Q', 'A', 'F', 'E', 'A', 'G', 'V', 'D', 'F', 'Q', 'D', 'N', 'A', 'D', 'S', 'F', 'L', 'L', 'L', 'L', 'C', 'L', 'H', 'H', 'A', 'Y', 'Q', 'G', 'D', 'H', 'R', 'L', 'F', 'L', 'K', 'S', 'D', 'A', 'V', 'Q', 'Y', 'L', 'E', 'G', 'H', 'G', 'F', 'R', 'F', 'E', 'V', 'R', 'E', 'K', 'E', 'N', 'V', 'H', 'R', 'L', 'D', 'E', 'L', 'L', 'P', 'N', 'V', 'T', 'G', 'G', 'K', 'N', 'L', 'R', 'R', 'T', 'L', 'A', 'A', 'M', 'P', 'E', 'E', 'E', 'T', 'T', 'E', 'A', 'N', 'A', 'G', 'Q', 'F', 'L', 'S', 'F', 'A', 'S', 'L', 'F', 'L', 'P', 'K', 'L', 'V', 'V', 'G', 'E', 'K', 'A', 'C', 'L', 'E', 'K', 'V', 'Q', 'R', 'Q', 'I', 'Q', 'V', 'H', 'A', 'E', 'Q', 'G', 'L', 'I', 'Q', 'Y', 'P', 'T', 'S', 'W', 'Q', 'S', 'V', 'G', 'H', 'M', 'M', 'V', 'I', 'F', 'R', 'L', 'M', 'R', 'T', 'N', 'F', 'L', 'I', 'K', 'F', 'L', 'L', 'I', 'H', 'Q', 'G', 'M', 'H', 'M', 'V', 'A', 'G', 'H', 'D', 'A', 'N', 'D', 'T', 'V', 'I', 'S', 'N', 'S', 'V', 'A', 'Q', 'A', 'R', 'F', 'S', 'G', 'L', 'L', 'I', 'V', 'K', 'T', 'V', 'L', 'D', 'H', 'I', 'L', 'Q', 'K', 'T', 'D', 'L', 'G', 'V', 'R', 'L', 'H', 'P', 'L', 'A', 'R', 'T', 'A', 'K', 'V', 'K', 'N', 'E', 'V', 'S', 'S', 'F', 'K', 'A', 'A', 'L', 'G', 'S', 'L', 'A', 'K', 'H', 'G', 'E', 'Y', 'A', 'P', 'F', 'A', 'R', 'L', 'L', 'N', 'L', 'S', 'G', 'V', 'N', 'N', 'L', 'E', 'H', 'G', 'L', 'Y', 'P', 'Q', 'L', 'S', 'A', 'I', 'A', 'L', 'G', 'V', 'A', 'T', 'A', 'H', 'G', 'S', 'T', 'L', 'A', 'G', 'V', 'N', 'V', 'G', 'E', 'Q', 'Y', 'Q', 'Q', 'L', 'R', 'E', 'A', 'A', 'T', 'E', 'A', 'E', 'K', 'Q', 'L', 'Q', 'Q', 'Y', 'A', 'E', 'T', 'R', 'E', 'L', 'D', 'N', 'L', 'G', 'L', 'D', 'E', 'Q', 'E', 'K', 'K', 'I', 'L', 'M', 'S', 'F', 'H', 'Q', 'K', 'K', 'N', 'E', 'I', 'S', 'F', 'Q', 'Q', 'T', 'N', 'A', 'M', 'V', 'T', 'L', 'R', 'K', 'E', 'R', 'L', 'A', 'K', 'L', 'T', 'E', 'A', 'I', 'T', 'T', 'A', 'S', 'K', 'I', 'K', 'V', 'G', 'D', 'R', 'Y', 'P', 'D', 'D', 'N', 'D', 'I', 'P', 'F', 'P', 'G', 'P', 'I', 'Y', 'D', 'E', 'T', 'H', 'P', 'N', 'P', 'S', 'D', 'D', 'N', 'P', 'D', 'D', 'S', 'R', 'D', 'T', 'T', 'I', 'P', 'G', 'G', 'V', 'V', 'D', 'P', 'Y', 'D', 'D', 'E', 'S', 'N', 'N', 'Y', 'P', 'D', 'Y', 'E', 'D', 'S', 'A', 'E', 'G', 'T', 'T', 'G', 'D', 'L', 'D', 'L', 'F', 'N', 'L', 'D', 'D', 'D', 'D', 'D', 'D', 'S', 'Q', 'P', 'G', 'P', 'P', 'D', 'R', 'G', 'Q', 'S', 'K', 'E', 'R', 'A', 'A', 'R', 'T', 'H', 'G', 'L', 'Q', 'D', 'P', 'T', 'L', 'D', 'G', 'A', 'K', 'K', 'V', 'P', 'E', 'L', 'T', 'P', 'G', 'S', 'H', 'Q', 'P', 'G', 'N', 'L', 'H', 'I', 'T', 'K', 'P', 'G', 'S', 'N', 'T', 'N', 'Q', 'P', 'Q', 'G', 'N', 'M', 'S', 'S', 'T', 'L', 'Q', 'S', 'M', 'T', 'P', 'I', 'Q', 'E', 'E', 'S', 'E', 'P', 'D', 'D', 'Q', 'K', 'D', 'D', 'D', 'D', 'E', 'S', 'L', 'T', 'S', 'L', 'D', 'S', 'E', 'G', 'D', 'E', 'D', 'V', 'E', 'S', 'V', 'S', 'G', 'E', 'N', 'N', 'P', 'T', 'V', 'A', 'P', 'P', 'A', 'P', 'V', 'Y', 'K', 'D', 'T', 'G', 'V', 'D', 'T', 'N', 'Q', 'Q', 'N', 'G', 'P', 'S', 'N', 'A', 'V', 'D', 'G', 'Q', 'G', 'S', 'E', 'S', 'E', 'A', 'L', 'P', 'I', 'N', 'P', 'E', 'K', 'G', 'S', 'A', 'L', 'E', 'E', 'T', 'Y', 'Y', 'H', 'L', 'L', 'K', 'T', 'Q', 'G', 'P', 'F', 'E', 'A', 'I', 'N', 'Y', 'Y', 'H', 'L', 'M', 'S', 'D', 'E', 'P', 'I', 'A', 'F', 'S', 'T', 'E', 'S', 'G', 'K', 'E', 'Y', 'I', 'F', 'P', 'D', 'S', 'L', 'E', 'E', 'A', 'Y', 'P', 'P', 'W', 'L', 'S', 'E', 'K', 'E', 'A', 'L', 'E', 'K', 'E', 'N', 'R', 'Y', 'L', 'V', 'I', 'D', 'G', 'Q', 'Q', 'F', 'L', 'W', 'P', 'V', 'M', 'S', 'L', 'Q', 'D', 'K', 'F', 'L', 'A', 'V', 'L', 'Q', 'H', 'D']\n"
     ]
    }
   ],
   "source": [
    "import pandas as pd\n",
    "\n",
    "# Učitaj CSV fajl\n",
    "df = pd.read_csv(\"Ulazni podaci VSL2/YP_138520.1 |nucleoprotein.csv\")\n",
    "\n",
    "sekvenca = df['Aminokiselina'].tolist()\n",
    "\n",
    "print(\"Sekvenca proteina: \", sekvenca)"
   ]
  },
  {
   "cell_type": "code",
   "execution_count": 78,
   "id": "91c93f06-7708-4bbb-a775-0a3f10605f25",
   "metadata": {},
   "outputs": [
    {
     "name": "stdout",
     "output_type": "stream",
     "text": [
      "['neuređena', 'neuređena', 'neuređena', 'neuređena', 'neuređena', 'neuređena', 'uređena', 'uređena', 'uređena', 'uređena', 'uređena', 'uređena', 'uređena', 'uređena', 'uređena', 'uređena', 'uređena', 'uređena', 'uređena', 'uređena', 'uređena', 'uređena', 'uređena', 'uređena', 'uređena', 'uređena', 'uređena', 'uređena', 'uređena', 'uređena', 'uređena', 'uređena', 'uređena', 'uređena', 'uređena', 'uređena', 'uređena', 'uređena', 'uređena', 'uređena', 'uređena', 'uređena', 'uređena', 'uređena', 'uređena', 'uređena', 'uređena', 'uređena', 'uređena', 'uređena', 'uređena', 'uređena', 'uređena', 'uređena', 'uređena', 'uređena', 'uređena', 'uređena', 'uređena', 'uređena', 'uređena', 'uređena', 'uređena', 'uređena', 'uređena', 'uređena', 'uređena', 'uređena', 'uređena', 'uređena', 'uređena', 'uređena', 'uređena', 'uređena', 'uređena', 'uređena', 'uređena', 'uređena', 'uređena', 'uređena', 'uređena', 'uređena', 'uređena', 'uređena', 'uređena', 'uređena', 'uređena', 'uređena', 'uređena', 'uređena', 'uređena', 'uređena', 'uređena', 'uređena', 'uređena', 'uređena', 'uređena', 'uređena', 'uređena', 'uređena', 'uređena', 'uređena', 'uređena', 'uređena', 'uređena', 'uređena', 'uređena', 'neuređena', 'neuređena', 'neuređena', 'neuređena', 'neuređena', 'neuređena', 'uređena', 'uređena', 'uređena', 'uređena', 'uređena', 'uređena', 'uređena', 'uređena', 'uređena', 'uređena', 'uređena', 'neuređena', 'neuređena', 'neuređena', 'neuređena', 'neuređena', 'neuređena', 'neuređena', 'neuređena', 'uređena', 'neuređena', 'neuređena', 'neuređena', 'neuređena', 'neuređena', 'neuređena', 'neuređena', 'neuređena', 'neuređena', 'neuređena', 'neuređena', 'neuređena', 'neuređena', 'uređena', 'uređena', 'uređena', 'uređena', 'uređena', 'uređena', 'uređena', 'uređena', 'uređena', 'uređena', 'uređena', 'uređena', 'uređena', 'uređena', 'uređena', 'uređena', 'uređena', 'uređena', 'uređena', 'uređena', 'uređena', 'uređena', 'uređena', 'uređena', 'uređena', 'uređena', 'uređena', 'uređena', 'uređena', 'uređena', 'uređena', 'uređena', 'uređena', 'uređena', 'uređena', 'uređena', 'uređena', 'uređena', 'uređena', 'uređena', 'uređena', 'uređena', 'uređena', 'uređena', 'uređena', 'uređena', 'uređena', 'uređena', 'uređena', 'uređena', 'uređena', 'uređena', 'uređena', 'uređena', 'uređena', 'uređena', 'uređena', 'uređena', 'uređena', 'uređena', 'uređena', 'uređena', 'uređena', 'uređena', 'uređena', 'uređena', 'uređena', 'uređena', 'uređena', 'uređena', 'uređena', 'uređena', 'uređena', 'uređena', 'uređena', 'uređena', 'uređena', 'uređena', 'neuređena', 'neuređena', 'neuređena', 'neuređena', 'neuređena', 'neuređena', 'uređena', 'uređena', 'uređena', 'uređena', 'uređena', 'uređena', 'uređena', 'uređena', 'uređena', 'uređena', 'uređena', 'uređena', 'uređena', 'uređena', 'uređena', 'uređena', 'uređena', 'uređena', 'uređena', 'uređena', 'uređena', 'uređena', 'uređena', 'uređena', 'uređena', 'uređena', 'uređena', 'uređena', 'uređena', 'uređena', 'uređena', 'uređena', 'uređena', 'uređena', 'uređena', 'uređena', 'uređena', 'uređena', 'uređena', 'uređena', 'uređena', 'neuređena', 'neuređena', 'neuređena', 'neuređena', 'neuređena', 'neuređena', 'uređena', 'uređena', 'uređena', 'uređena', 'uređena', 'uređena', 'uređena', 'uređena', 'uređena', 'uređena', 'uređena', 'uređena', 'uređena', 'uređena', 'uređena', 'uređena', 'uređena', 'uređena', 'uređena', 'uređena', 'uređena', 'uređena', 'uređena', 'uređena', 'uređena', 'uređena', 'uređena', 'uređena', 'uređena', 'uređena', 'uređena', 'uređena', 'uređena', 'uređena', 'uređena', 'uređena', 'uređena', 'uređena', 'uređena', 'uređena', 'uređena', 'uređena', 'uređena', 'uređena', 'uređena', 'uređena', 'uređena', 'uređena', 'uređena', 'uređena', 'uređena', 'uređena', 'uređena', 'uređena', 'uređena', 'uređena', 'uređena', 'uređena', 'uređena', 'uređena', 'uređena', 'uređena', 'uređena', 'neuređena', 'neuređena', 'neuređena', 'neuređena', 'neuređena', 'neuređena', 'neuređena', 'neuređena', 'neuređena', 'neuređena', 'neuređena', 'neuređena', 'neuređena', 'neuređena', 'neuređena', 'neuređena', 'neuređena', 'neuređena', 'neuređena', 'neuređena', 'neuređena', 'neuređena', 'neuređena', 'neuređena', 'neuređena', 'neuređena', 'neuređena', 'neuređena', 'neuređena', 'neuređena', 'neuređena', 'neuređena', 'neuređena', 'neuređena', 'neuređena', 'neuređena', 'neuređena', 'neuređena', 'neuređena', 'neuređena', 'neuređena', 'neuređena', 'neuređena', 'neuređena', 'neuređena', 'neuređena', 'neuređena', 'neuređena', 'neuređena', 'uređena', 'uređena', 'uređena', 'uređena', 'uređena', 'uređena', 'uređena', 'uređena', 'uređena', 'uređena', 'uređena', 'uređena', 'uređena', 'uređena', 'uređena', 'uređena', 'uređena', 'uređena', 'uređena', 'uređena', 'uređena', 'uređena', 'uređena', 'uređena', 'uređena', 'neuređena', 'neuređena', 'neuređena', 'neuređena', 'neuređena', 'neuređena', 'neuređena', 'neuređena', 'neuređena', 'neuređena', 'neuređena', 'neuređena', 'neuređena', 'neuređena', 'neuređena', 'neuređena', 'neuređena', 'neuređena', 'neuređena', 'neuređena', 'neuređena', 'neuređena', 'neuređena', 'neuređena', 'neuređena', 'neuređena', 'neuređena', 'neuređena', 'neuređena', 'neuređena', 'neuređena', 'neuređena', 'neuređena', 'neuređena', 'neuređena', 'neuređena', 'neuređena', 'neuređena', 'neuređena', 'neuređena', 'neuređena', 'neuređena', 'neuređena', 'neuređena', 'neuređena', 'neuređena', 'neuređena', 'neuređena', 'neuređena', 'neuređena', 'neuređena', 'neuređena', 'neuređena', 'neuređena', 'neuređena', 'neuređena', 'neuređena', 'neuređena', 'neuređena', 'neuređena', 'neuređena', 'neuređena', 'neuređena', 'neuređena', 'neuređena', 'neuređena', 'neuređena', 'neuređena', 'neuređena', 'neuređena', 'neuređena', 'neuređena', 'neuređena', 'neuređena', 'neuređena', 'neuređena', 'neuređena', 'neuređena', 'neuređena', 'neuređena', 'neuređena', 'neuređena', 'neuređena', 'neuređena', 'neuređena', 'neuređena', 'neuređena', 'neuređena', 'neuređena', 'neuređena', 'neuređena', 'neuređena', 'neuređena', 'neuređena', 'neuređena', 'neuređena', 'neuređena', 'neuređena', 'neuređena', 'neuređena', 'neuređena', 'neuređena', 'neuređena', 'neuređena', 'neuređena', 'neuređena', 'neuređena', 'neuređena', 'neuređena', 'neuređena', 'neuređena', 'neuređena', 'neuređena', 'neuređena', 'neuređena', 'neuređena', 'neuređena', 'neuređena', 'neuređena', 'neuređena', 'neuređena', 'neuređena', 'neuređena', 'neuređena', 'neuređena', 'neuređena', 'neuređena', 'neuređena', 'neuređena', 'neuređena', 'neuređena', 'neuređena', 'neuređena', 'neuređena', 'neuređena', 'neuređena', 'neuređena', 'neuređena', 'neuređena', 'neuređena', 'neuređena', 'neuređena', 'neuređena', 'neuređena', 'neuređena', 'neuređena', 'neuređena', 'neuređena', 'neuređena', 'neuređena', 'neuređena', 'neuređena', 'neuređena', 'neuređena', 'neuređena', 'neuređena', 'neuređena', 'neuređena', 'neuređena', 'neuređena', 'neuređena', 'neuređena', 'neuređena', 'neuređena', 'neuređena', 'neuređena', 'neuređena', 'neuređena', 'neuređena', 'neuređena', 'neuređena', 'neuređena', 'neuređena', 'neuređena', 'neuređena', 'neuređena', 'neuređena', 'neuređena', 'neuređena', 'neuređena', 'neuređena', 'neuređena', 'neuređena', 'neuređena', 'neuređena', 'neuređena', 'neuređena', 'neuređena', 'neuređena', 'neuređena', 'neuređena', 'neuređena', 'neuređena', 'neuređena', 'neuređena', 'neuređena', 'neuređena', 'neuređena', 'neuređena', 'neuređena', 'neuređena', 'neuređena', 'neuređena', 'neuređena', 'neuređena', 'neuređena', 'neuređena', 'neuređena', 'neuređena', 'neuređena', 'neuređena', 'neuređena', 'neuređena', 'neuređena', 'neuređena', 'neuređena', 'neuređena', 'neuređena', 'neuređena', 'neuređena', 'neuređena', 'neuređena', 'neuređena', 'neuređena', 'neuređena', 'neuređena', 'neuređena', 'neuređena', 'neuređena', 'neuređena', 'neuređena', 'neuređena', 'neuređena', 'neuređena', 'uređena', 'uređena', 'uređena', 'uređena', 'uređena', 'uređena', 'uređena', 'uređena', 'uređena', 'uređena', 'uređena', 'uređena', 'uređena', 'uređena', 'uređena', 'uređena', 'uređena', 'uređena', 'uređena', 'uređena', 'uređena', 'uređena', 'uređena', 'uređena', 'uređena', 'uređena', 'uređena', 'uređena', 'uređena', 'uređena', 'uređena', 'uređena', 'uređena', 'neuređena', 'neuređena', 'neuređena', 'neuređena', 'uređena', 'uređena', 'uređena', 'uređena', 'uređena', 'uređena', 'uređena', 'uređena', 'uređena', 'uređena', 'uređena', 'uređena', 'uređena', 'uređena', 'uređena', 'uređena', 'neuređena', 'neuređena', 'neuređena', 'neuređena', 'neuređena', 'neuređena', 'uređena', 'uređena', 'uređena', 'uređena', 'uređena', 'uređena', 'uređena', 'uređena', 'uređena', 'uređena', 'uređena', 'uređena', 'uređena', 'uređena', 'uređena', 'uređena', 'uređena', 'uređena', 'uređena', 'uređena', 'uređena', 'uređena', 'uređena', 'uređena', 'uređena', 'uređena', 'neuređena', 'neuređena', 'neuređena', 'neuređena', 'neuređena']\n"
     ]
    }
   ],
   "source": [
    "# Izdvajanje svih vrednosti iz kolone 'Klasifikacija'\n",
    "oznake = df['Klasifikacija'].tolist()\n",
    "\n",
    "# Prikazivanje liste\n",
    "print(oznake)"
   ]
  },
  {
   "cell_type": "code",
   "execution_count": 79,
   "id": "27fff59c-f5b9-4d1e-b230-f1e0912f64cb",
   "metadata": {},
   "outputs": [
    {
     "name": "stdout",
     "output_type": "stream",
     "text": [
      "Primer sekvence: [['M', 'D', 'K', 'R', 'V'], ['D', 'K', 'R', 'V', 'R'], ['K', 'R', 'V', 'R', 'G'], ['R', 'V', 'R', 'G', 'S'], ['V', 'R', 'G', 'S', 'W']]\n",
      "Primer oznaka: ['neuređena', 'neuređena', 'neuređena', 'neuređena', 'uređena']\n"
     ]
    }
   ],
   "source": [
    "def generisi_prozore(sekvenca, oznake, min_duzina=5, max_duzina=100):\n",
    "    prozori = []\n",
    "    oznake_prozora = []\n",
    "    duzine = []      # lista za dužinu podsekvence\n",
    "    pozicije = []   # lista za pozicije u originalnoj sekvenci (\"početak-kraj\")\n",
    "    \n",
    "    for duzina in range(min_duzina, max_duzina + 1):  # Za svaki prozor dužine od 5 do 100\n",
    "        for i in range(len(sekvenca) - duzina + 1):\n",
    "            podsekvenca = sekvenca[i:i + duzina]          # Izdvajanje podsekvence\n",
    "            oznake_podsekvence = oznake[i:i + duzina]        # Pripadajuće oznake\n",
    "            \n",
    "            # Pamćenje dužine i pozicije (pozicije se čuvaju 1-indeksirano)\n",
    "            duzine.append(duzina)\n",
    "            pozicije.append(f\"{i+1}-{i+duzina}\")\n",
    "            \n",
    "            # Dodeljivanje oznake na osnovu većinske vrednosti\n",
    "            if oznake_podsekvence.count(\"uređena\") > len(oznake_podsekvence) / 2:\n",
    "                prozori.append(podsekvenca)\n",
    "                oznake_prozora.append(\"uređena\")\n",
    "            elif oznake_podsekvence.count(\"uređena\") < len(oznake_podsekvence) / 2:\n",
    "                prozori.append(podsekvenca)\n",
    "                oznake_prozora.append(\"neuređena\")\n",
    "            else:\n",
    "                prozori.append(podsekvenca)\n",
    "                oznake_prozora.append(\"uređena/neuređena\")\n",
    "          \n",
    "    return duzine, pozicije, prozori, oznake_prozora\n",
    "\n",
    "\n",
    "# Generiši prozore\n",
    "duzine, pozicije, X_sekvence, y_oznake = generisi_prozore(sekvenca, oznake)\n",
    "\n",
    "print(\"Primer sekvence:\", X_sekvence[:5])\n",
    "print(\"Primer oznaka:\", y_oznake[:5])\n"
   ]
  },
  {
   "cell_type": "code",
   "execution_count": 80,
   "id": "5dbc60fe-5143-4827-8ac9-7d9d79d7eede",
   "metadata": {},
   "outputs": [],
   "source": [
    "# Definiši sve aminokiseline\n",
    "amino_acids = \"ACDEFGHIKLMNPQRSTVWY\"\n",
    "aa_to_index = {aa: i for i, aa in enumerate(amino_acids)}"
   ]
  },
  {
   "cell_type": "code",
   "execution_count": 81,
   "id": "98deb1bd-0a01-4115-80db-d1a8f4c2b3ad",
   "metadata": {},
   "outputs": [],
   "source": [
    "def frequency_vector(seq):\n",
    "    vec = np.zeros(len(amino_acids))  # Kreira vektor dužine 20 (jer imamo 20 aminokiselina)\n",
    "    for aa in seq:\n",
    "        if aa in aa_to_index:\n",
    "            vec[aa_to_index[aa]] += 1  # Povećava brojanje aminokiseline u vektoru\n",
    "    return vec / len(seq)  # Normalizuje frekvencije (deli sa dužinom sekvence)"
   ]
  },
  {
   "cell_type": "code",
   "execution_count": 82,
   "id": "72e5c0a8-38b6-47bb-b69c-09f94009b6ea",
   "metadata": {},
   "outputs": [
    {
     "name": "stdout",
     "output_type": "stream",
     "text": [
      "Primer vektora: [[0.  0.  0.2 0.  0.  0.  0.  0.  0.2 0.  0.2 0.  0.  0.  0.2 0.  0.  0.2\n",
      "  0.  0. ]\n",
      " [0.  0.  0.2 0.  0.  0.  0.  0.  0.2 0.  0.  0.  0.  0.  0.4 0.  0.  0.2\n",
      "  0.  0. ]\n",
      " [0.  0.  0.  0.  0.  0.2 0.  0.  0.2 0.  0.  0.  0.  0.  0.4 0.  0.  0.2\n",
      "  0.  0. ]\n",
      " [0.  0.  0.  0.  0.  0.2 0.  0.  0.  0.  0.  0.  0.  0.  0.4 0.2 0.  0.2\n",
      "  0.  0. ]\n",
      " [0.  0.  0.  0.  0.  0.2 0.  0.  0.  0.  0.  0.  0.  0.  0.2 0.2 0.  0.2\n",
      "  0.2 0. ]]\n",
      "Primer oznaka: [0 0 0 0 1]\n"
     ]
    }
   ],
   "source": [
    "import numpy as np\n",
    "X_features = np.array([frequency_vector(seq) for seq in X_sekvence])\n",
    "y_binary = np.array([1 if oznake == \"uređena\" else 0 for oznake in y_oznake])\n",
    "\n",
    "print(\"Primer vektora:\", X_features[:5])\n",
    "print(\"Primer oznaka:\", y_binary[:5])"
   ]
  },
  {
   "cell_type": "code",
   "execution_count": 83,
   "id": "6eaba1aa-070c-4314-9296-2f52656a77f4",
   "metadata": {},
   "outputs": [
    {
     "name": "stdout",
     "output_type": "stream",
     "text": [
      "Test Accuracy: 0.9889\n"
     ]
    }
   ],
   "source": [
    "from sklearn.svm import SVC\n",
    "from sklearn.model_selection import train_test_split\n",
    "from sklearn.metrics import accuracy_score\n",
    "\n",
    "# Podeli podatke na trening i test skupove\n",
    "X_train, X_test, y_train, y_test = train_test_split(X_features, y_binary, test_size=0.3, random_state=42)\n",
    "\n",
    "# Treniraj SVM model\n",
    "svm_model = SVC(kernel=\"rbf\", C=1.0, gamma=\"scale\")\n",
    "svm_model.fit(X_train, y_train)\n",
    "\n",
    "# Evaluacija\n",
    "y_pred = svm_model.predict(X_test)\n",
    "accuracy = accuracy_score(y_test, y_pred)\n",
    "\n",
    "print(f\"Test Accuracy: {accuracy:.4f}\")"
   ]
  },
  {
   "cell_type": "code",
   "execution_count": 84,
   "id": "03059cbc-d7d8-4231-a151-953a586f4082",
   "metadata": {},
   "outputs": [],
   "source": [
    "# Sačuvaj trening i test podatke\n",
    "\n",
    "aminokiseline = ['A', 'C', 'D', 'E', 'F', 'G', 'H', 'I', 'K', 'L', 'M', 'N', 'P', 'Q', 'R', 'S', 'T', 'V', 'W', 'Y']\n",
    "nazivi_kolona = [f\"molska_frakcija_za_{aa}\" for aa in aminokiseline] + [\"Klasifikacija\"]\n",
    "\n",
    "# Kreiranje DataFrame-ova sa odgovarajućim kolonama\n",
    "trening_podaci = pd.DataFrame(X_train, columns=nazivi_kolona[:-1])\n",
    "trening_podaci[\"Klasifikacija\"] = y_train\n",
    "\n",
    "test_podaci = pd.DataFrame(X_test, columns=nazivi_kolona[:-1])\n",
    "test_podaci[\"Klasifikacija\"] = y_test\n",
    "\n",
    "# Spajanje podataka\n",
    "svi_podaci = pd.concat([trening_podaci, test_podaci], ignore_index=True)\n",
    "\n",
    "# Čuvanje u CSV fajlove\n",
    "trening_podaci.to_csv(\"Izlazni podaci VSL2 SVM/Nucleoprotein/trening_podaci_YP_138520.1 |nucleoprotein.csv\", index=False)\n",
    "test_podaci.to_csv(\"Izlazni podaci VSL2 SVM/Nucleoprotein/test_podaci_YP_138520.1 |nucleoprotein.csv\", index=False)\n",
    "svi_podaci.to_csv(\"Izlazni podaci VSL2 SVM/Nucleoprotein/svi_podaci_YP_138520.1 |nucleoprotein.csv\", index=False)\n",
    "\n",
    "# Sačuvaj sekvence sa oznakama, dužinama i pozicijama\n",
    "df_sekvence = pd.DataFrame({\n",
    "    \"Duzina\": duzine,\n",
    "    \"Pozicija\": pozicije,\n",
    "    \"Sekvenca\": X_sekvence,\n",
    "    \"Oznaka\": y_oznake\n",
    "})\n",
    "\n",
    "df_sekvence.to_csv(\"Izlazni podaci VSL2 SVM/Nucleoprotein/sekvence_oznake_YP_138520.1 |nucleoprotein.csv\", index=False)\n"
   ]
  },
  {
   "cell_type": "code",
   "execution_count": 85,
   "id": "2474f32e-ec35-4eb0-be30-c2075c0131c8",
   "metadata": {},
   "outputs": [
    {
     "name": "stdout",
     "output_type": "stream",
     "text": [
      "Test Accuracy: 0.9952\n"
     ]
    }
   ],
   "source": [
    "from sklearn.neighbors import KNeighborsClassifier\n",
    "from sklearn.model_selection import train_test_split\n",
    "from sklearn.metrics import accuracy_score\n",
    "\n",
    "# Podeli podatke na trening i test skupove\n",
    "X_train, X_test, y_train, y_test = train_test_split(X_features, y_binary, test_size=0.3, random_state=42)\n",
    "\n",
    "# Treniraj KNN model\n",
    "knn_model = KNeighborsClassifier(n_neighbors=5)  \n",
    "knn_model.fit(X_train, y_train)\n",
    "\n",
    "# Evaluacija\n",
    "y_pred = knn_model.predict(X_test)\n",
    "accuracy = accuracy_score(y_test, y_pred)\n",
    "\n",
    "print(f\"Test Accuracy: {accuracy:.4f}\")\n"
   ]
  },
  {
   "cell_type": "code",
   "execution_count": 86,
   "id": "9fc8f2bf-417c-47a4-97db-85f2680dfaef",
   "metadata": {},
   "outputs": [],
   "source": [
    "# Sačuvaj trening i test podatke\n",
    "\n",
    "aminokiseline = ['A', 'C', 'D', 'E', 'F', 'G', 'H', 'I', 'K', 'L', 'M', 'N', 'P', 'Q', 'R', 'S', 'T', 'V', 'W', 'Y']\n",
    "nazivi_kolona = [f\"molska_frakcija_za_{aa}\" for aa in aminokiseline] + [\"Klasifikacija\"]\n",
    "\n",
    "# Kreiranje DataFrame-ova sa odgovarajućim kolonama\n",
    "trening_podaci = pd.DataFrame(X_train, columns=nazivi_kolona[:-1])\n",
    "trening_podaci[\"Klasifikacija\"] = y_train\n",
    "\n",
    "test_podaci = pd.DataFrame(X_test, columns=nazivi_kolona[:-1])\n",
    "test_podaci[\"Klasifikacija\"] = y_test\n",
    "\n",
    "# Spajanje podataka\n",
    "svi_podaci = pd.concat([trening_podaci, test_podaci], ignore_index=True)\n",
    "\n",
    "# Čuvanje u CSV fajlove\n",
    "trening_podaci.to_csv(\"Izlazni podaci VSL2 KNN/Nucleoprotein/trening_podaci_YP_138520.1 |nucleoprotein.csv\", index=False)\n",
    "test_podaci.to_csv(\"Izlazni podaci VSL2 KNN/Nucleoprotein/test_podaci_YP_138520.1 |nucleoprotein.csv\", index=False)\n",
    "svi_podaci.to_csv(\"Izlazni podaci VSL2 KNN/Nucleoprotein/svi_podaci_YP_138520.1 |nucleoprotein.csv\", index=False)\n",
    "\n",
    "# Sačuvaj sekvence sa oznakama, dužinama i pozicijama\n",
    "df_sekvence = pd.DataFrame({\n",
    "    \"Duzina\": duzine,\n",
    "    \"Pozicija\": pozicije,\n",
    "    \"Sekvenca\": X_sekvence,\n",
    "    \"Oznaka\": y_oznake\n",
    "})\n",
    "\n",
    "df_sekvence.to_csv(\"Izlazni podaci VSL2 KNN/Nucleoprotein/sekvence_oznake_KNN_YP_138520.1 |nucleoprotein.csv.csv\", index=False)\n"
   ]
  },
  {
   "cell_type": "code",
   "execution_count": 87,
   "id": "29112863-17a6-4128-b179-3ffc8e37673c",
   "metadata": {},
   "outputs": [
    {
     "name": "stdout",
     "output_type": "stream",
     "text": [
      "Test Accuracy: 0.9727\n"
     ]
    }
   ],
   "source": [
    "from sklearn.tree import DecisionTreeClassifier\n",
    "from sklearn.model_selection import train_test_split\n",
    "from sklearn.metrics import accuracy_score\n",
    "\n",
    "# Podeli podatke na trening i test skupove\n",
    "X_train, X_test, y_train, y_test = train_test_split(X_features, y_binary, test_size=0.3, random_state=42)\n",
    "\n",
    "# Treniraj Decision Tree model sa dodatnim parametrima\n",
    "dt_model = DecisionTreeClassifier(\n",
    "    criterion='gini',  # Može biti 'entropy' ili 'gini' (default)\n",
    "    max_depth=8, \n",
    "    random_state=42\n",
    ")\n",
    "dt_model.fit(X_train, y_train)\n",
    "\n",
    "# Evaluacija\n",
    "y_pred = dt_model.predict(X_test)\n",
    "accuracy = accuracy_score(y_test, y_pred)\n",
    "\n",
    "print(f\"Test Accuracy: {accuracy:.4f}\")\n"
   ]
  },
  {
   "cell_type": "code",
   "execution_count": 88,
   "id": "d4e9073f-6b5a-406a-ae50-2d4c8f8c7ad0",
   "metadata": {},
   "outputs": [],
   "source": [
    "# Sačuvaj trening i test podatke\n",
    "\n",
    "aminokiseline = ['A', 'C', 'D', 'E', 'F', 'G', 'H', 'I', 'K', 'L', 'M', 'N', 'P', 'Q', 'R', 'S', 'T', 'V', 'W', 'Y']\n",
    "nazivi_kolona = [f\"molska_frakcija_za_{aa}\" for aa in aminokiseline] + [\"Klasifikacija\"]\n",
    "\n",
    "# Kreiranje DataFrame-ova sa odgovarajućim kolonama\n",
    "trening_podaci = pd.DataFrame(X_train, columns=nazivi_kolona[:-1])\n",
    "trening_podaci[\"Klasifikacija\"] = y_train\n",
    "\n",
    "test_podaci = pd.DataFrame(X_test, columns=nazivi_kolona[:-1])\n",
    "test_podaci[\"Klasifikacija\"] = y_test\n",
    "\n",
    "# Spajanje podataka\n",
    "svi_podaci = pd.concat([trening_podaci, test_podaci], ignore_index=True)\n",
    "\n",
    "# Čuvanje u CSV fajlove\n",
    "trening_podaci.to_csv(\"Izlazni podaci VSL2 CART/Nucleoprotein/trening_podaci_YP_138520.1 |nucleoprotein.csv\", index=False)\n",
    "test_podaci.to_csv(\"Izlazni podaci VSL2 CART/Nucleoprotein/test_podaci_YP_138520.1 |nucleoprotein.csv\", index=False)\n",
    "svi_podaci.to_csv(\"Izlazni podaci VSL2 CART/Nucleoprotein/svi_podaci_YP_138520.1 |nucleoprotein.csv\", index=False)\n",
    "\n",
    "# Sačuvaj sekvence sa oznakama, dužinama i pozicijama\n",
    "df_sekvence = pd.DataFrame({\n",
    "    \"Duzina\": duzine,\n",
    "    \"Pozicija\": pozicije,\n",
    "    \"Sekvenca\": X_sekvence,\n",
    "    \"Oznaka\": y_oznake\n",
    "})\n",
    "\n",
    "df_sekvence.to_csv(\"Izlazni podaci VSL2 CART/Nucleoprotein/sekvence_oznake_CART_YP_138520.1 |nucleoprotein.csv.csv\", index=False)\n"
   ]
  },
  {
   "cell_type": "code",
   "execution_count": null,
   "id": "8a3a432e-20e9-4a16-bdcb-3ba4a5dbe561",
   "metadata": {},
   "outputs": [],
   "source": []
  }
 ],
 "metadata": {
  "kernelspec": {
   "display_name": "Python 3 (ipykernel)",
   "language": "python",
   "name": "python3"
  },
  "language_info": {
   "codemirror_mode": {
    "name": "ipython",
    "version": 3
   },
   "file_extension": ".py",
   "mimetype": "text/x-python",
   "name": "python",
   "nbconvert_exporter": "python",
   "pygments_lexer": "ipython3",
   "version": "3.10.12"
  }
 },
 "nbformat": 4,
 "nbformat_minor": 5
}
