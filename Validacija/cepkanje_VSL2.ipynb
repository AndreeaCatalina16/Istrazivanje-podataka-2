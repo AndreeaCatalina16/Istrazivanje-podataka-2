{
 "cells": [
  {
   "cell_type": "code",
   "execution_count": 1,
   "id": "a41d96ea-2939-4a94-9a4b-342709440907",
   "metadata": {},
   "outputs": [
    {
     "name": "stdout",
     "output_type": "stream",
     "text": [
      "Sekvenca proteina:  ['M', 'R', 'R', 'V', 'T', 'V', 'P', 'T', 'A', 'P', 'P', 'A', 'Y', 'A', 'D', 'I', 'G', 'Y', 'P', 'M', 'S', 'M', 'L', 'P', 'I', 'K', 'S', 'S', 'R', 'A', 'V', 'S', 'G', 'I', 'Q', 'Q', 'K', 'Q', 'E', 'V', 'L', 'P', 'G', 'M', 'D', 'T', 'P', 'S', 'N', 'S', 'M', 'R', 'P', 'V', 'A', 'D', 'D', 'N', 'I', 'D', 'H', 'T', 'S', 'H', 'T', 'P', 'N', 'G', 'V', 'A', 'S', 'A', 'F', 'I', 'L', 'E', 'A', 'T', 'V', 'N', 'V', 'I', 'S', 'G', 'P', 'K', 'V', 'L', 'M', 'K', 'Q', 'I', 'P', 'I', 'W', 'L', 'P', 'L', 'G', 'I', 'A', 'D', 'Q', 'K', 'T', 'Y', 'S', 'F', 'D', 'S', 'T', 'T', 'A', 'A', 'I', 'M', 'L', 'A', 'S', 'Y', 'T', 'I', 'T', 'H', 'F', 'G', 'K', 'A', 'N', 'N', 'P', 'L', 'V', 'R', 'V', 'N', 'R', 'L', 'G', 'Q', 'G', 'I', 'P', 'D', 'H', 'P', 'L', 'R', 'L', 'L', 'R', 'M', 'G', 'N', 'Q', 'A', 'F', 'L', 'Q', 'E', 'F', 'V', 'L', 'P', 'P', 'V', 'Q', 'L', 'P', 'Q', 'Y', 'F', 'T', 'F', 'D', 'L', 'T', 'A', 'L', 'K', 'L', 'V', 'T', 'Q', 'P', 'L', 'P', 'A', 'A', 'T', 'W', 'T', 'D', 'E', 'T', 'P', 'S', 'N', 'L', 'S', 'G', 'A', 'L', 'R', 'P', 'G', 'L', 'S', 'F', 'H', 'P', 'K', 'L', 'R', 'P', 'V', 'L', 'L', 'P', 'G', 'K', 'T', 'G', 'K', 'K', 'G', 'H', 'V', 'S', 'D', 'L', 'T', 'A', 'P', 'D', 'K', 'I', 'Q', 'T', 'I', 'V', 'N', 'L', 'M', 'Q', 'D', 'F', 'K', 'I', 'V', 'P', 'I', 'D', 'P', 'A', 'K', 'S', 'I', 'I', 'G', 'I', 'E', 'V', 'P', 'E', 'L', 'L', 'V', 'H', 'K', 'L', 'T', 'G', 'K', 'K', 'M', 'S', 'Q', 'K', 'N', 'G', 'Q', 'P', 'I', 'I', 'P', 'V', 'L', 'L', 'P', 'K', 'Y', 'I', 'G', 'L', 'D', 'P', 'I', 'S', 'P', 'G', 'D', 'L', 'T', 'M', 'V', 'I', 'T', 'P', 'D', 'Y', 'D', 'D', 'C', 'H', 'S', 'P', 'A', 'S', 'C', 'S', 'Y', 'L', 'S', 'E', 'K']\n"
     ]
    }
   ],
   "source": [
    "import pandas as pd\n",
    "\n",
    "# Učitaj CSV fajl\n",
    "df = pd.read_csv(\"Ulazni podaci VSL2/YP_138522.1 |matrix protein.csv\")\n",
    "\n",
    "sekvenca = df['Aminokiselina'].tolist()\n",
    "\n",
    "print(\"Sekvenca proteina: \", sekvenca)"
   ]
  },
  {
   "cell_type": "code",
   "execution_count": 2,
   "id": "91c93f06-7708-4bbb-a775-0a3f10605f25",
   "metadata": {},
   "outputs": [
    {
     "name": "stdout",
     "output_type": "stream",
     "text": [
      "['neuređena', 'neuređena', 'neuređena', 'neuređena', 'neuređena', 'neuređena', 'neuređena', 'neuređena', 'neuređena', 'neuređena', 'neuređena', 'neuređena', 'neuređena', 'neuređena', 'neuređena', 'neuređena', 'neuređena', 'neuređena', 'neuređena', 'neuređena', 'neuređena', 'neuređena', 'neuređena', 'neuređena', 'neuređena', 'neuređena', 'neuređena', 'neuređena', 'neuređena', 'neuređena', 'neuređena', 'neuređena', 'neuređena', 'neuređena', 'neuređena', 'neuređena', 'neuređena', 'neuređena', 'neuređena', 'neuređena', 'neuređena', 'neuređena', 'neuređena', 'neuređena', 'neuređena', 'neuređena', 'neuređena', 'neuređena', 'neuređena', 'neuređena', 'neuređena', 'neuređena', 'neuređena', 'neuređena', 'neuređena', 'neuređena', 'neuređena', 'neuređena', 'neuređena', 'neuređena', 'neuređena', 'neuređena', 'neuređena', 'neuređena', 'neuređena', 'neuređena', 'uređena', 'uređena', 'uređena', 'uređena', 'uređena', 'uređena', 'uređena', 'uređena', 'uređena', 'uređena', 'uređena', 'uređena', 'uređena', 'uređena', 'uređena', 'uređena', 'uređena', 'uređena', 'uređena', 'uređena', 'uređena', 'uređena', 'uređena', 'uređena', 'uređena', 'uređena', 'uređena', 'uređena', 'uređena', 'uređena', 'uređena', 'uređena', 'uređena', 'uređena', 'uređena', 'uređena', 'uređena', 'uređena', 'uređena', 'uređena', 'uređena', 'uređena', 'uređena', 'uređena', 'uređena', 'uređena', 'uređena', 'uređena', 'uređena', 'uređena', 'uređena', 'uređena', 'uređena', 'uređena', 'uređena', 'uređena', 'uređena', 'uređena', 'uređena', 'uređena', 'uređena', 'uređena', 'uređena', 'uređena', 'uređena', 'uređena', 'uređena', 'uređena', 'uređena', 'uređena', 'uređena', 'uređena', 'uređena', 'uređena', 'uređena', 'uređena', 'uređena', 'uređena', 'uređena', 'uređena', 'uređena', 'uređena', 'uređena', 'uređena', 'uređena', 'uređena', 'uređena', 'uređena', 'uređena', 'uređena', 'uređena', 'uređena', 'uređena', 'uređena', 'uređena', 'uređena', 'uređena', 'uređena', 'uređena', 'uređena', 'uređena', 'uređena', 'uređena', 'uređena', 'uređena', 'uređena', 'uređena', 'uređena', 'uređena', 'uređena', 'uređena', 'uređena', 'uređena', 'uređena', 'uređena', 'uređena', 'uređena', 'uređena', 'uređena', 'uređena', 'uređena', 'uređena', 'uređena', 'uređena', 'uređena', 'neuređena', 'neuređena', 'neuređena', 'neuređena', 'neuređena', 'neuređena', 'neuređena', 'neuređena', 'neuređena', 'neuređena', 'neuređena', 'neuređena', 'neuređena', 'neuređena', 'neuređena', 'neuređena', 'neuređena', 'neuređena', 'neuređena', 'neuređena', 'neuređena', 'neuređena', 'neuređena', 'neuređena', 'neuređena', 'neuređena', 'neuređena', 'neuređena', 'neuređena', 'neuređena', 'neuređena', 'neuređena', 'neuređena', 'neuređena', 'neuređena', 'neuređena', 'neuređena', 'neuređena', 'neuređena', 'uređena', 'uređena', 'uređena', 'uređena', 'uređena', 'uređena', 'uređena', 'uređena', 'uređena', 'uređena', 'uređena', 'uređena', 'uređena', 'uređena', 'uređena', 'uređena', 'uređena', 'uređena', 'uređena', 'uređena', 'uređena', 'uređena', 'uređena', 'uređena', 'uređena', 'uređena', 'uređena', 'uređena', 'uređena', 'uređena', 'uređena', 'uređena', 'uređena', 'uređena', 'uređena', 'uređena', 'uređena', 'uređena', 'uređena', 'uređena', 'uređena', 'uređena', 'neuređena', 'neuređena', 'neuređena', 'neuređena', 'neuređena', 'neuređena', 'neuređena', 'neuređena', 'neuređena', 'uređena', 'uređena', 'uređena', 'uređena', 'uređena', 'uređena', 'uređena', 'uređena', 'uređena', 'uređena', 'uređena', 'uređena', 'uređena', 'uređena', 'uređena', 'uređena', 'uređena', 'uređena', 'uređena', 'uređena', 'uređena', 'uređena', 'uređena', 'uređena', 'uređena', 'uređena', 'uređena', 'uređena', 'uređena', 'uređena', 'uređena', 'neuređena', 'neuređena', 'neuređena', 'neuređena', 'neuređena', 'neuređena', 'neuređena', 'neuređena', 'neuređena', 'neuređena', 'neuređena', 'neuređena', 'neuređena', 'neuređena']\n"
     ]
    }
   ],
   "source": [
    "# Izdvajanje svih vrednosti iz kolone 'Klasifikacija'\n",
    "oznake = df['Klasifikacija'].tolist()\n",
    "\n",
    "# Prikazivanje liste\n",
    "print(oznake)"
   ]
  },
  {
   "cell_type": "code",
   "execution_count": 3,
   "id": "27fff59c-f5b9-4d1e-b230-f1e0912f64cb",
   "metadata": {},
   "outputs": [
    {
     "name": "stdout",
     "output_type": "stream",
     "text": [
      "Primer sekvence: [['M', 'R', 'R', 'V', 'T'], ['R', 'R', 'V', 'T', 'V'], ['R', 'V', 'T', 'V', 'P'], ['V', 'T', 'V', 'P', 'T'], ['T', 'V', 'P', 'T', 'A']]\n",
      "Primer oznaka: ['neuređena', 'neuređena', 'neuređena', 'neuređena', 'neuređena']\n"
     ]
    }
   ],
   "source": [
    "def generisi_prozore(sekvenca, oznake, min_duzina=5, max_duzina=100):\n",
    "    prozori = []\n",
    "    oznake_prozora = []\n",
    "    duzine = []      # lista za dužinu podsekvence\n",
    "    pozicije = []   # lista za pozicije u originalnoj sekvenci (\"početak-kraj\")\n",
    "    \n",
    "    for duzina in range(min_duzina, max_duzina + 1):  # Za svaki prozor dužine od 5 do 100\n",
    "        for i in range(len(sekvenca) - duzina + 1):\n",
    "            podsekvenca = sekvenca[i:i + duzina]          # Izdvajanje podsekvence\n",
    "            oznake_podsekvence = oznake[i:i + duzina]        # Pripadajuće oznake\n",
    "            \n",
    "            # Pamćenje dužine i pozicije (pozicije se čuvaju 1-indeksirano)\n",
    "            duzine.append(duzina)\n",
    "            pozicije.append(f\"{i+1}-{i+duzina}\")\n",
    "            \n",
    "            # Dodeljivanje oznake na osnovu većinske vrednosti\n",
    "            if oznake_podsekvence.count(\"uređena\") > len(oznake_podsekvence) / 2:\n",
    "                prozori.append(podsekvenca)\n",
    "                oznake_prozora.append(\"uređena\")\n",
    "            elif oznake_podsekvence.count(\"uređena\") < len(oznake_podsekvence) / 2:\n",
    "                prozori.append(podsekvenca)\n",
    "                oznake_prozora.append(\"neuređena\")\n",
    "            else:\n",
    "                prozori.append(podsekvenca)\n",
    "                oznake_prozora.append(\"uređena/neuređena\")\n",
    "          \n",
    "    return duzine, pozicije, prozori, oznake_prozora\n",
    "\n",
    "\n",
    "# Generiši prozore\n",
    "duzine, pozicije, X_sekvence, y_oznake = generisi_prozore(sekvenca, oznake)\n",
    "\n",
    "print(\"Primer sekvence:\", X_sekvence[:5])\n",
    "print(\"Primer oznaka:\", y_oznake[:5])\n"
   ]
  },
  {
   "cell_type": "code",
   "execution_count": 4,
   "id": "5dbc60fe-5143-4827-8ac9-7d9d79d7eede",
   "metadata": {},
   "outputs": [],
   "source": [
    "# Definiši sve aminokiseline\n",
    "amino_acids = \"ACDEFGHIKLMNPQRSTVWY\"\n",
    "aa_to_index = {aa: i for i, aa in enumerate(amino_acids)}"
   ]
  },
  {
   "cell_type": "code",
   "execution_count": 5,
   "id": "98deb1bd-0a01-4115-80db-d1a8f4c2b3ad",
   "metadata": {},
   "outputs": [],
   "source": [
    "def frequency_vector(seq):\n",
    "    vec = np.zeros(len(amino_acids))  # Kreira vektor dužine 20 (jer imamo 20 aminokiselina)\n",
    "    for aa in seq:\n",
    "        if aa in aa_to_index:\n",
    "            vec[aa_to_index[aa]] += 1  # Povećava brojanje aminokiseline u vektoru\n",
    "    return vec / len(seq)  # Normalizuje frekvencije (deli sa dužinom sekvence)"
   ]
  },
  {
   "cell_type": "code",
   "execution_count": 6,
   "id": "72e5c0a8-38b6-47bb-b69c-09f94009b6ea",
   "metadata": {},
   "outputs": [
    {
     "name": "stdout",
     "output_type": "stream",
     "text": [
      "Primer vektora: [[0.  0.  0.  0.  0.  0.  0.  0.  0.  0.  0.2 0.  0.  0.  0.4 0.  0.2 0.2\n",
      "  0.  0. ]\n",
      " [0.  0.  0.  0.  0.  0.  0.  0.  0.  0.  0.  0.  0.  0.  0.4 0.  0.2 0.4\n",
      "  0.  0. ]\n",
      " [0.  0.  0.  0.  0.  0.  0.  0.  0.  0.  0.  0.  0.2 0.  0.2 0.  0.2 0.4\n",
      "  0.  0. ]\n",
      " [0.  0.  0.  0.  0.  0.  0.  0.  0.  0.  0.  0.  0.2 0.  0.  0.  0.4 0.4\n",
      "  0.  0. ]\n",
      " [0.2 0.  0.  0.  0.  0.  0.  0.  0.  0.  0.  0.  0.2 0.  0.  0.  0.4 0.2\n",
      "  0.  0. ]]\n",
      "Primer oznaka: [0 0 0 0 0]\n"
     ]
    }
   ],
   "source": [
    "import numpy as np\n",
    "X_features = np.array([frequency_vector(seq) for seq in X_sekvence])\n",
    "y_binary = np.array([1 if oznake == \"uređena\" else 0 for oznake in y_oznake])\n",
    "\n",
    "print(\"Primer vektora:\", X_features[:5])\n",
    "print(\"Primer oznaka:\", y_binary[:5])"
   ]
  },
  {
   "cell_type": "code",
   "execution_count": 48,
   "id": "6eaba1aa-070c-4314-9296-2f52656a77f4",
   "metadata": {},
   "outputs": [
    {
     "name": "stdout",
     "output_type": "stream",
     "text": [
      "Test Accuracy: 0.9889\n"
     ]
    }
   ],
   "source": [
    "from sklearn.svm import SVC\n",
    "from sklearn.model_selection import train_test_split\n",
    "from sklearn.metrics import accuracy_score\n",
    "\n",
    "# Podeli podatke na trening i test skupove\n",
    "X_train, X_test, y_train, y_test = train_test_split(X_features, y_binary, test_size=0.3, random_state=42)\n",
    "\n",
    "# Treniraj SVM model\n",
    "svm_model = SVC(kernel=\"rbf\", C=1.0, gamma=\"scale\")\n",
    "svm_model.fit(X_train, y_train)\n",
    "\n",
    "# Evaluacija\n",
    "y_pred = svm_model.predict(X_test)\n",
    "accuracy = accuracy_score(y_test, y_pred)\n",
    "\n",
    "print(f\"Test Accuracy: {accuracy:.4f}\")"
   ]
  },
  {
   "cell_type": "code",
   "execution_count": 49,
   "id": "03059cbc-d7d8-4231-a151-953a586f4082",
   "metadata": {},
   "outputs": [],
   "source": [
    "# Sačuvaj trening i test podatke\n",
    "\n",
    "aminokiseline = ['A', 'C', 'D', 'E', 'F', 'G', 'H', 'I', 'K', 'L', 'M', 'N', 'P', 'Q', 'R', 'S', 'T', 'V', 'W', 'Y']\n",
    "nazivi_kolona = [f\"molska_frakcija_za_{aa}\" for aa in aminokiseline] + [\"Klasifikacija\"]\n",
    "\n",
    "# Kreiranje DataFrame-ova sa odgovarajućim kolonama\n",
    "trening_podaci = pd.DataFrame(X_train, columns=nazivi_kolona[:-1])\n",
    "trening_podaci[\"Klasifikacija\"] = y_train\n",
    "\n",
    "test_podaci = pd.DataFrame(X_test, columns=nazivi_kolona[:-1])\n",
    "test_podaci[\"Klasifikacija\"] = y_test\n",
    "\n",
    "# Spajanje podataka\n",
    "svi_podaci = pd.concat([trening_podaci, test_podaci], ignore_index=True)\n",
    "\n",
    "# Čuvanje u CSV fajlove\n",
    "trening_podaci.to_csv(\"Izlazni podaci VSL2 SVM/Nucleoprotein/trening_podaci_YP_138520.1 |nucleoprotein.csv\", index=False)\n",
    "test_podaci.to_csv(\"Izlazni podaci VSL2 SVM/Nucleoprotein/test_podaci_YP_138520.1 |nucleoprotein.csv\", index=False)\n",
    "svi_podaci.to_csv(\"Izlazni podaci VSL2 SVM/Nucleoprotein/svi_podaci_YP_138520.1 |nucleoprotein.csv\", index=False)\n",
    "\n",
    "# Sačuvaj sekvence sa oznakama, dužinama i pozicijama\n",
    "df_sekvence = pd.DataFrame({\n",
    "    \"Duzina\": duzine,\n",
    "    \"Pozicija\": pozicije,\n",
    "    \"Sekvenca\": X_sekvence,\n",
    "    \"Oznaka\": y_oznake\n",
    "})\n",
    "\n",
    "df_sekvence.to_csv(\"Izlazni podaci VSL2 SVM/Nucleoprotein/sekvence_oznake_YP_138520.1 |nucleoprotein.csv\", index=False)\n"
   ]
  },
  {
   "cell_type": "code",
   "execution_count": 7,
   "id": "2474f32e-ec35-4eb0-be30-c2075c0131c8",
   "metadata": {},
   "outputs": [
    {
     "name": "stdout",
     "output_type": "stream",
     "text": [
      "Test Accuracy: 0.9923\n"
     ]
    }
   ],
   "source": [
    "from sklearn.neighbors import KNeighborsClassifier\n",
    "from sklearn.model_selection import train_test_split\n",
    "from sklearn.metrics import accuracy_score\n",
    "\n",
    "# Podeli podatke na trening i test skupove\n",
    "X_train, X_test, y_train, y_test = train_test_split(X_features, y_binary, test_size=0.3, random_state=42)\n",
    "\n",
    "# Treniraj KNN model\n",
    "knn_model = KNeighborsClassifier(n_neighbors=5)  \n",
    "knn_model.fit(X_train, y_train)\n",
    "\n",
    "# Evaluacija\n",
    "y_pred = knn_model.predict(X_test)\n",
    "accuracy = accuracy_score(y_test, y_pred)\n",
    "\n",
    "print(f\"Test Accuracy: {accuracy:.4f}\")\n"
   ]
  },
  {
   "cell_type": "code",
   "execution_count": 8,
   "id": "9fc8f2bf-417c-47a4-97db-85f2680dfaef",
   "metadata": {},
   "outputs": [],
   "source": [
    "# Sačuvaj trening i test podatke\n",
    "\n",
    "aminokiseline = ['A', 'C', 'D', 'E', 'F', 'G', 'H', 'I', 'K', 'L', 'M', 'N', 'P', 'Q', 'R', 'S', 'T', 'V', 'W', 'Y']\n",
    "nazivi_kolona = [f\"molska_frakcija_za_{aa}\" for aa in aminokiseline] + [\"Klasifikacija\"]\n",
    "\n",
    "# Kreiranje DataFrame-ova sa odgovarajućim kolonama\n",
    "trening_podaci = pd.DataFrame(X_train, columns=nazivi_kolona[:-1])\n",
    "trening_podaci[\"Klasifikacija\"] = y_train\n",
    "\n",
    "test_podaci = pd.DataFrame(X_test, columns=nazivi_kolona[:-1])\n",
    "test_podaci[\"Klasifikacija\"] = y_test\n",
    "\n",
    "# Spajanje podataka\n",
    "svi_podaci = pd.concat([trening_podaci, test_podaci], ignore_index=True)\n",
    "\n",
    "# Čuvanje u CSV fajlove\n",
    "trening_podaci.to_csv(\"Izlazni podaci VSL2 KNN/Membranski protein/trening_podaci_YP_138522.1 |matrix protein.csv\", index=False)\n",
    "test_podaci.to_csv(\"Izlazni podaci VSL2 KNN/Membranski protein/test_podaci_YP_138522.1 |matrix protein.csv\", index=False)\n",
    "svi_podaci.to_csv(\"Izlazni podaci VSL2 KNN/Membranski protein/svi_podaci_YP_138522.1 |matrix protein.csv\", index=False)\n",
    "\n",
    "# Sačuvaj sekvence sa oznakama, dužinama i pozicijama\n",
    "df_sekvence = pd.DataFrame({\n",
    "    \"Duzina\": duzine,\n",
    "    \"Pozicija\": pozicije,\n",
    "    \"Sekvenca\": X_sekvence,\n",
    "    \"Oznaka\": y_oznake\n",
    "})\n",
    "\n",
    "df_sekvence.to_csv(\"Izlazni podaci VSL2 KNN/Membranski protein/sekvence_oznake_KNN_YP_138522.1 |matrix protein.csv\", index=False)\n"
   ]
  },
  {
   "cell_type": "code",
   "execution_count": 52,
   "id": "29112863-17a6-4128-b179-3ffc8e37673c",
   "metadata": {},
   "outputs": [
    {
     "name": "stdout",
     "output_type": "stream",
     "text": [
      "Test Accuracy: 0.9727\n"
     ]
    }
   ],
   "source": [
    "from sklearn.tree import DecisionTreeClassifier\n",
    "from sklearn.model_selection import train_test_split\n",
    "from sklearn.metrics import accuracy_score\n",
    "\n",
    "# Podeli podatke na trening i test skupove\n",
    "X_train, X_test, y_train, y_test = train_test_split(X_features, y_binary, test_size=0.3, random_state=42)\n",
    "\n",
    "# Treniraj Decision Tree model sa dodatnim parametrima\n",
    "dt_model = DecisionTreeClassifier(\n",
    "    criterion='gini',  # Može biti 'entropy' ili 'gini' (default)\n",
    "    max_depth=8, \n",
    "    random_state=42\n",
    ")\n",
    "dt_model.fit(X_train, y_train)\n",
    "\n",
    "# Evaluacija\n",
    "y_pred = dt_model.predict(X_test)\n",
    "accuracy = accuracy_score(y_test, y_pred)\n",
    "\n",
    "print(f\"Test Accuracy: {accuracy:.4f}\")\n"
   ]
  },
  {
   "cell_type": "code",
   "execution_count": 53,
   "id": "d4e9073f-6b5a-406a-ae50-2d4c8f8c7ad0",
   "metadata": {},
   "outputs": [],
   "source": [
    "# Sačuvaj trening i test podatke\n",
    "\n",
    "aminokiseline = ['A', 'C', 'D', 'E', 'F', 'G', 'H', 'I', 'K', 'L', 'M', 'N', 'P', 'Q', 'R', 'S', 'T', 'V', 'W', 'Y']\n",
    "nazivi_kolona = [f\"molska_frakcija_za_{aa}\" for aa in aminokiseline] + [\"Klasifikacija\"]\n",
    "\n",
    "# Kreiranje DataFrame-ova sa odgovarajućim kolonama\n",
    "trening_podaci = pd.DataFrame(X_train, columns=nazivi_kolona[:-1])\n",
    "trening_podaci[\"Klasifikacija\"] = y_train\n",
    "\n",
    "test_podaci = pd.DataFrame(X_test, columns=nazivi_kolona[:-1])\n",
    "test_podaci[\"Klasifikacija\"] = y_test\n",
    "\n",
    "# Spajanje podataka\n",
    "svi_podaci = pd.concat([trening_podaci, test_podaci], ignore_index=True)\n",
    "\n",
    "# Čuvanje u CSV fajlove\n",
    "trening_podaci.to_csv(\"Izlazni podaci VSL2 CART/Nucleoprotein/trening_podaci_YP_138520.1 |nucleoprotein.csv\", index=False)\n",
    "test_podaci.to_csv(\"Izlazni podaci VSL2 CART/Nucleoprotein/test_podaci_YP_138520.1 |nucleoprotein.csv\", index=False)\n",
    "svi_podaci.to_csv(\"Izlazni podaci VSL2 CART/Nucleoprotein/svi_podaci_YP_138520.1 |nucleoprotein.csv\", index=False)\n",
    "\n",
    "# Sačuvaj sekvence sa oznakama, dužinama i pozicijama\n",
    "df_sekvence = pd.DataFrame({\n",
    "    \"Duzina\": duzine,\n",
    "    \"Pozicija\": pozicije,\n",
    "    \"Sekvenca\": X_sekvence,\n",
    "    \"Oznaka\": y_oznake\n",
    "})\n",
    "\n",
    "df_sekvence.to_csv(\"Izlazni podaci VSL2 CART/Nucleoprotein/sekvence_oznake_CART_YP_138520.1 |nucleoprotein.csv\", index=False)\n"
   ]
  },
  {
   "cell_type": "code",
   "execution_count": null,
   "id": "8a3a432e-20e9-4a16-bdcb-3ba4a5dbe561",
   "metadata": {},
   "outputs": [],
   "source": []
  }
 ],
 "metadata": {
  "kernelspec": {
   "display_name": "Python 3 (ipykernel)",
   "language": "python",
   "name": "python3"
  },
  "language_info": {
   "codemirror_mode": {
    "name": "ipython",
    "version": 3
   },
   "file_extension": ".py",
   "mimetype": "text/x-python",
   "name": "python",
   "nbconvert_exporter": "python",
   "pygments_lexer": "ipython3",
   "version": "3.10.12"
  }
 },
 "nbformat": 4,
 "nbformat_minor": 5
}
