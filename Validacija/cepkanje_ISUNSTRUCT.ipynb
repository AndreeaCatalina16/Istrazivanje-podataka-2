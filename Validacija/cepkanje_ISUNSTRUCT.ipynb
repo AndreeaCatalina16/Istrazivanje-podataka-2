{
 "cells": [
  {
   "cell_type": "code",
   "execution_count": 57,
   "id": "1ff2b748-fdad-4986-bedd-757e992d680f",
   "metadata": {},
   "outputs": [
    {
     "name": "stdout",
     "output_type": "stream",
     "text": [
      "Sekvenca proteina:  ['M', 'G', 'G', 'L', 'S', 'L', 'L', 'Q', 'L', 'P', 'R', 'D', 'K', 'F', 'R', 'K', 'S', 'S', 'F', 'F', 'V', 'W', 'V', 'I', 'I', 'L', 'F', 'Q', 'K', 'A', 'F', 'S', 'M', 'P', 'L', 'G', 'V', 'V', 'T', 'N', 'S', 'T', 'L', 'E', 'V', 'T', 'E', 'I', 'D', 'Q', 'L', 'V', 'C', 'K', 'D', 'H', 'L', 'A', 'S', 'T', 'D', 'Q', 'L', 'K', 'S', 'V', 'G', 'L', 'N', 'L', 'E', 'G', 'S', 'G', 'V', 'S', 'T', 'D', 'I', 'P', 'S', 'A', 'T', 'K', 'R', 'W', 'G', 'F', 'R', 'S', 'G', 'V', 'P', 'P', 'K', 'V', 'V', 'S', 'Y', 'E', 'A', 'G', 'E', 'W', 'A', 'E', 'N', 'C', 'Y', 'N', 'L', 'E', 'I', 'K', 'K', 'P', 'D', 'G', 'S', 'E', 'C', 'L', 'P', 'P', 'P', 'P', 'D', 'G', 'V', 'R', 'G', 'F', 'P', 'R', 'C', 'R', 'Y', 'V', 'H', 'K', 'A', 'Q', 'G', 'T', 'G', 'P', 'C', 'P', 'G', 'D', 'Y', 'A', 'F', 'H', 'K', 'D', 'G', 'A', 'F', 'F', 'L', 'Y', 'D', 'R', 'L', 'A', 'S', 'T', 'V', 'I', 'Y', 'R', 'G', 'V', 'N', 'F', 'A', 'E', 'G', 'V', 'I', 'A', 'F', 'L', 'I', 'L', 'A', 'K', 'P', 'K', 'E', 'T', 'F', 'L', 'Q', 'S', 'P', 'P', 'I', 'R', 'E', 'A', 'V', 'N', 'Y', 'T', 'E', 'N', 'T', 'S', 'S', 'Y', 'Y', 'A', 'T', 'S', 'Y', 'L', 'E', 'Y', 'E', 'I', 'E', 'N', 'F', 'G', 'A', 'Q', 'H', 'S', 'T', 'T', 'L', 'F', 'K', 'I', 'D', 'N', 'N', 'T', 'F', 'V', 'R', 'L', 'D', 'R', 'P', 'H', 'T', 'P', 'Q', 'F', 'L', 'F', 'Q', 'L', 'N', 'D', 'T', 'I', 'H', 'L', 'H', 'Q', 'Q', 'L', 'S', 'N', 'T', 'T', 'G', 'R', 'L', 'I', 'W', 'T', 'L', 'D', 'A', 'N', 'I', 'N', 'A', 'D', 'I', 'G', 'E', 'W', 'A', 'F', 'W', 'E', 'N', 'K', 'K', 'N', 'L', 'S', 'E', 'Q', 'L', 'R', 'G', 'E', 'E', 'L', 'S', 'F', 'E', 'A', 'L', 'S', 'L', 'N', 'E', 'T', 'E', 'D', 'D', 'D', 'A', 'A', 'S', 'S', 'R', 'I', 'T', 'K', 'G', 'R', 'I', 'S', 'D', 'R', 'A', 'T', 'R', 'K', 'Y', 'S', 'D', 'L', 'V', 'P', 'K', 'N', 'S', 'P', 'G', 'M', 'V', 'P', 'L', 'H', 'I', 'P', 'E', 'G', 'E', 'T', 'T', 'L', 'P', 'S', 'Q', 'N', 'S', 'T', 'E', 'G', 'R', 'R', 'V', 'G', 'V', 'N', 'T', 'Q', 'E', 'T', 'I', 'T', 'E', 'T', 'A', 'A', 'T', 'I', 'I', 'G', 'T', 'N', 'G', 'N', 'H', 'M', 'Q', 'I', 'S', 'T', 'I', 'G', 'I', 'R', 'P', 'S', 'S', 'S', 'Q', 'I', 'P', 'S', 'S', 'S', 'P', 'T', 'T', 'A', 'P', 'S', 'P', 'E', 'A', 'Q', 'T', 'P', 'T', 'T', 'H', 'T', 'S', 'G', 'P', 'S', 'V', 'M', 'A', 'T', 'E', 'E', 'P', 'T', 'T', 'P', 'P', 'G', 'S', 'S', 'P', 'G', 'P', 'T', 'T', 'E', 'A', 'P', 'T', 'L', 'T', 'T', 'P', 'E', 'N', 'I', 'T', 'T', 'A', 'V', 'K', 'T', 'V', 'L', 'P', 'Q', 'E', 'S', 'T', 'S', 'N', 'G', 'L', 'I', 'T', 'S', 'T', 'V', 'T', 'G', 'I', 'L', 'G', 'S', 'L', 'G', 'L', 'R', 'K', 'R', 'S', 'R', 'R', 'Q', 'T', 'N', 'T', 'K', 'A', 'T', 'G', 'K', 'C', 'N', 'P', 'N', 'L', 'H', 'Y', 'W', 'T', 'A', 'Q', 'E', 'Q', 'H', 'N', 'A', 'A', 'G', 'I', 'A', 'W', 'I', 'P', 'Y', 'F', 'G', 'P', 'G', 'A', 'E', 'G', 'I', 'Y', 'T', 'E', 'G', 'L', 'M', 'H', 'N', 'Q', 'N', 'A', 'L', 'V', 'C', 'G', 'L', 'R', 'Q', 'L', 'A', 'N', 'E', 'T', 'T', 'Q', 'A', 'L', 'Q', 'L', 'F', 'L', 'R', 'A', 'T', 'T', 'E', 'L', 'R', 'T', 'Y', 'T', 'I', 'L', 'N', 'R', 'K', 'A', 'I', 'D', 'F', 'L', 'L', 'R', 'R', 'W', 'G', 'G', 'T', 'C', 'R', 'I', 'L', 'G', 'P', 'D', 'C', 'C', 'I', 'E', 'P', 'H', 'D', 'W', 'T', 'K', 'N', 'I', 'T', 'D', 'K', 'I', 'N', 'Q', 'I', 'I', 'H', 'D', 'F', 'I', 'D', 'N', 'P', 'L', 'P', 'N', 'Q', 'D', 'N', 'D', 'D', 'N', 'W', 'W', 'T', 'G', 'W', 'R', 'Q', 'W', 'I', 'P', 'A', 'G', 'I', 'G', 'I', 'T', 'G', 'I', 'I', 'I', 'A', 'I', 'I', 'A', 'L', 'L', 'C', 'V', 'C', 'K', 'L', 'L', 'C']\n"
     ]
    }
   ],
   "source": [
    "import pandas as pd\n",
    "\n",
    "df = pd.read_csv(\"Ulazni podaci ISUNSTRUCT/YP_138523.1 ___spike glycoprotein.csv\")\n",
    "\n",
    "sekvenca = df['Aminokiselina'].tolist()\n",
    "\n",
    "print(\"Sekvenca proteina: \", sekvenca)"
   ]
  },
  {
   "cell_type": "code",
   "execution_count": 58,
   "id": "2516a94b-ec1a-4816-a49f-fa402bc02fe0",
   "metadata": {},
   "outputs": [
    {
     "name": "stdout",
     "output_type": "stream",
     "text": [
      "['neuređena', 'neuređena', 'neuređena', 'neuređena', 'neuređena', 'neuređena', 'neuređena', 'neuređena', 'neuređena', 'neuređena', 'neuređena', 'neuređena', 'uređena', 'uređena', 'uređena', 'uređena', 'uređena', 'uređena', 'uređena', 'uređena', 'uređena', 'uređena', 'uređena', 'uređena', 'uređena', 'uređena', 'uređena', 'uređena', 'uređena', 'uređena', 'uređena', 'uređena', 'uređena', 'uređena', 'uređena', 'uređena', 'uređena', 'uređena', 'uređena', 'uređena', 'uređena', 'uređena', 'uređena', 'uređena', 'uređena', 'uređena', 'uređena', 'uređena', 'uređena', 'uređena', 'uređena', 'uređena', 'uređena', 'uređena', 'uređena', 'uređena', 'uređena', 'uređena', 'uređena', 'uređena', 'uređena', 'uređena', 'uređena', 'uređena', 'uređena', 'uređena', 'uređena', 'uređena', 'uređena', 'uređena', 'uređena', 'uređena', 'uređena', 'uređena', 'uređena', 'uređena', 'uređena', 'uređena', 'uređena', 'uređena', 'uređena', 'uređena', 'uređena', 'uređena', 'uređena', 'uređena', 'uređena', 'uređena', 'uređena', 'uređena', 'uređena', 'uređena', 'uređena', 'uređena', 'uređena', 'uređena', 'uređena', 'uređena', 'uređena', 'uređena', 'uređena', 'uređena', 'uređena', 'uređena', 'uređena', 'uređena', 'uređena', 'uređena', 'uređena', 'uređena', 'uređena', 'uređena', 'uređena', 'uređena', 'neuređena', 'neuređena', 'neuređena', 'neuređena', 'neuređena', 'neuređena', 'neuređena', 'neuređena', 'neuređena', 'neuređena', 'neuređena', 'neuređena', 'neuređena', 'uređena', 'uređena', 'uređena', 'uređena', 'uređena', 'uređena', 'uređena', 'uređena', 'uređena', 'uređena', 'uređena', 'uređena', 'uređena', 'uređena', 'uređena', 'uređena', 'uređena', 'uređena', 'uređena', 'uređena', 'uređena', 'uređena', 'uređena', 'uređena', 'uređena', 'uređena', 'uređena', 'uređena', 'uređena', 'uređena', 'uređena', 'uređena', 'uređena', 'uređena', 'uređena', 'uređena', 'uređena', 'uređena', 'uređena', 'uređena', 'uređena', 'uređena', 'uređena', 'uređena', 'uređena', 'uređena', 'uređena', 'uređena', 'uređena', 'uređena', 'uređena', 'uređena', 'uređena', 'uređena', 'uređena', 'uređena', 'uređena', 'uređena', 'uređena', 'uređena', 'uređena', 'uređena', 'uređena', 'uređena', 'uređena', 'uređena', 'uređena', 'uređena', 'uređena', 'uređena', 'uređena', 'uređena', 'uređena', 'uređena', 'uređena', 'uređena', 'uređena', 'uređena', 'uređena', 'uređena', 'uređena', 'uređena', 'uređena', 'uređena', 'uređena', 'uređena', 'uređena', 'uređena', 'uređena', 'uređena', 'uređena', 'uređena', 'uređena', 'uređena', 'uređena', 'uređena', 'uređena', 'uređena', 'uređena', 'uređena', 'uređena', 'uređena', 'uređena', 'uređena', 'uređena', 'uređena', 'uređena', 'uređena', 'uređena', 'uređena', 'uređena', 'uređena', 'uređena', 'uređena', 'uređena', 'uređena', 'uređena', 'uređena', 'uređena', 'uređena', 'uređena', 'uređena', 'uređena', 'uređena', 'uređena', 'uređena', 'uređena', 'uređena', 'uređena', 'uređena', 'uređena', 'uređena', 'uređena', 'uređena', 'uređena', 'uređena', 'uređena', 'uređena', 'uređena', 'uređena', 'uređena', 'uređena', 'uređena', 'uređena', 'uređena', 'uređena', 'uređena', 'uređena', 'uređena', 'uređena', 'uređena', 'uređena', 'uređena', 'uređena', 'uređena', 'uređena', 'uređena', 'uređena', 'uređena', 'uređena', 'uređena', 'uređena', 'uređena', 'uređena', 'uređena', 'uređena', 'uređena', 'neuređena', 'neuređena', 'neuređena', 'neuređena', 'neuređena', 'neuređena', 'neuređena', 'neuređena', 'neuređena', 'neuređena', 'neuređena', 'neuređena', 'neuređena', 'neuređena', 'neuređena', 'neuređena', 'neuređena', 'neuređena', 'neuređena', 'neuređena', 'neuređena', 'neuređena', 'neuređena', 'neuređena', 'neuređena', 'neuređena', 'neuređena', 'neuređena', 'neuređena', 'neuređena', 'neuređena', 'neuređena', 'neuređena', 'neuređena', 'neuređena', 'neuređena', 'neuređena', 'neuređena', 'neuređena', 'neuređena', 'neuređena', 'neuređena', 'neuređena', 'neuređena', 'neuređena', 'neuređena', 'neuređena', 'neuređena', 'neuređena', 'neuređena', 'neuređena', 'neuređena', 'neuređena', 'neuređena', 'neuređena', 'neuređena', 'neuređena', 'neuređena', 'neuređena', 'neuređena', 'neuređena', 'neuređena', 'neuređena', 'neuređena', 'neuređena', 'neuređena', 'neuređena', 'neuređena', 'neuređena', 'neuređena', 'neuređena', 'neuređena', 'neuređena', 'neuređena', 'neuređena', 'neuređena', 'neuređena', 'neuređena', 'neuređena', 'neuređena', 'neuređena', 'neuređena', 'neuređena', 'neuređena', 'neuređena', 'neuređena', 'uređena', 'uređena', 'uređena', 'uređena', 'uređena', 'uređena', 'uređena', 'uređena', 'uređena', 'uređena', 'uređena', 'uređena', 'uređena', 'uređena', 'uređena', 'uređena', 'uređena', 'uređena', 'neuređena', 'neuređena', 'neuređena', 'neuređena', 'neuređena', 'neuređena', 'neuređena', 'neuređena', 'neuređena', 'neuređena', 'neuređena', 'neuređena', 'neuređena', 'neuređena', 'neuređena', 'neuređena', 'neuređena', 'neuređena', 'neuređena', 'neuređena', 'neuređena', 'neuređena', 'neuređena', 'neuređena', 'neuređena', 'neuređena', 'neuređena', 'neuređena', 'neuređena', 'neuređena', 'neuređena', 'neuređena', 'neuređena', 'neuređena', 'neuređena', 'neuređena', 'neuređena', 'neuređena', 'neuređena', 'neuređena', 'neuređena', 'neuređena', 'neuređena', 'neuređena', 'neuređena', 'neuređena', 'neuređena', 'neuređena', 'neuređena', 'neuređena', 'neuređena', 'neuređena', 'neuređena', 'neuređena', 'neuređena', 'neuređena', 'neuređena', 'neuređena', 'neuređena', 'neuređena', 'neuređena', 'neuređena', 'neuređena', 'neuređena', 'neuređena', 'neuređena', 'neuređena', 'neuređena', 'neuređena', 'neuređena', 'neuređena', 'neuređena', 'neuređena', 'neuređena', 'neuređena', 'neuređena', 'neuređena', 'neuređena', 'neuređena', 'neuređena', 'neuređena', 'uređena', 'uređena', 'uređena', 'uređena', 'uređena', 'uređena', 'uređena', 'uređena', 'uređena', 'uređena', 'uređena', 'uređena', 'uređena', 'uređena', 'uređena', 'uređena', 'neuređena', 'neuređena', 'neuređena', 'neuređena', 'neuređena', 'neuređena', 'neuređena', 'neuređena', 'neuređena', 'neuređena', 'neuređena', 'neuređena', 'neuređena', 'uređena', 'uređena', 'uređena', 'uređena', 'uređena', 'uređena', 'uređena', 'uređena', 'uređena', 'uređena', 'uređena', 'uređena', 'uređena', 'uređena', 'uređena', 'uređena', 'uređena', 'uređena', 'uređena', 'uređena', 'uređena', 'uređena', 'uređena', 'uređena', 'uređena', 'uređena', 'uređena', 'uređena', 'uređena', 'uređena', 'uređena', 'uređena', 'uređena', 'uređena', 'uređena', 'uređena', 'uređena', 'uređena', 'uređena', 'uređena', 'uređena', 'uređena', 'uređena', 'uređena', 'uređena', 'uređena', 'uređena', 'uređena', 'uređena', 'uređena', 'uređena', 'uređena', 'uređena', 'uređena', 'uređena', 'uređena', 'uređena', 'uređena', 'uređena', 'uređena', 'uređena', 'uređena', 'uređena', 'uređena', 'uređena', 'uređena', 'uređena', 'uređena', 'uređena', 'uređena', 'uređena', 'uređena', 'uređena', 'uređena', 'uređena', 'uređena', 'uređena', 'uređena', 'uređena', 'uređena', 'uređena', 'uređena', 'uređena', 'uređena', 'uređena', 'uređena', 'uređena', 'uređena', 'uređena', 'uređena', 'uređena', 'uređena', 'uređena', 'uređena', 'uređena', 'uređena', 'uređena', 'uređena', 'uređena', 'uređena', 'uređena', 'uređena', 'uređena', 'uređena', 'uređena', 'uređena', 'uređena', 'uređena', 'uređena', 'uređena', 'uređena', 'uređena', 'uređena', 'uređena', 'uređena', 'uređena', 'uređena', 'uređena', 'uređena', 'uređena', 'uređena', 'uređena', 'uređena', 'uređena', 'uređena', 'uređena', 'uređena', 'uređena', 'uređena', 'uređena', 'uređena', 'uređena', 'uređena', 'uređena', 'uređena', 'uređena', 'uređena', 'uređena', 'uređena', 'uređena', 'uređena', 'uređena', 'uređena', 'uređena', 'uređena', 'uređena', 'uređena', 'uređena', 'uređena', 'uređena', 'uređena', 'uređena', 'uređena', 'uređena', 'uređena', 'uređena', 'uređena', 'uređena', 'uređena', 'uređena', 'uređena', 'uređena', 'uređena', 'uređena', 'uređena', 'uređena', 'uređena', 'neuređena']\n"
     ]
    }
   ],
   "source": [
    "# Izdvajanje svih vrednosti iz kolone 'Klasifikacija'\n",
    "oznake = df['Klasifikacija'].tolist()\n",
    "\n",
    "print(oznake)"
   ]
  },
  {
   "cell_type": "code",
   "execution_count": 59,
   "id": "9920e198-a895-4f3f-a734-541a9bb6eceb",
   "metadata": {},
   "outputs": [
    {
     "name": "stdout",
     "output_type": "stream",
     "text": [
      "Primer sekvence: [['M', 'G', 'G', 'L', 'S'], ['G', 'G', 'L', 'S', 'L'], ['G', 'L', 'S', 'L', 'L'], ['L', 'S', 'L', 'L', 'Q'], ['S', 'L', 'L', 'Q', 'L']]\n",
      "Primer oznaka: ['neuređena', 'neuređena', 'neuređena', 'neuređena', 'neuređena']\n"
     ]
    }
   ],
   "source": [
    "def generisi_prozore(sekvenca, oznake, min_duzina=5, max_duzina=100):\n",
    "    prozori = []\n",
    "    oznake_prozora = []\n",
    "    duzine = []      \n",
    "    pozicije = []   \n",
    "    \n",
    "    for duzina in range(min_duzina, max_duzina + 1):  \n",
    "        for i in range(len(sekvenca) - duzina + 1):\n",
    "            podsekvenca = sekvenca[i:i + duzina]         \n",
    "            oznake_podsekvence = oznake[i:i + duzina]        \n",
    "\n",
    "            duzine.append(duzina)\n",
    "            pozicije.append(f\"{i+1}-{i+duzina}\")\n",
    "            \n",
    "            if oznake_podsekvence.count(\"uređena\") > len(oznake_podsekvence) / 2:\n",
    "                prozori.append(podsekvenca)\n",
    "                oznake_prozora.append(\"uređena\")\n",
    "            elif oznake_podsekvence.count(\"uređena\") < len(oznake_podsekvence) / 2:\n",
    "                prozori.append(podsekvenca)\n",
    "                oznake_prozora.append(\"neuređena\")\n",
    "            else:\n",
    "                prozori.append(podsekvenca)\n",
    "                oznake_prozora.append(\"neuređena\")\n",
    "          \n",
    "    return duzine, pozicije, prozori, oznake_prozora\n",
    "\n",
    "\n",
    "duzine, pozicije, X_sekvence, y_oznake = generisi_prozore(sekvenca, oznake)\n",
    "\n",
    "print(\"Primer sekvence:\", X_sekvence[:5])\n",
    "print(\"Primer oznaka:\", y_oznake[:5])\n"
   ]
  },
  {
   "cell_type": "code",
   "execution_count": 60,
   "id": "ff2eabe3-a8af-4d34-9efc-9accf7960686",
   "metadata": {},
   "outputs": [],
   "source": [
    "amino_acids = \"ACDEFGHIKLMNPQRSTVWY\"\n",
    "aa_to_index = {aa: i for i, aa in enumerate(amino_acids)}"
   ]
  },
  {
   "cell_type": "code",
   "execution_count": 61,
   "id": "9f8ac3b2-c0a9-4c05-877f-5ab607b08996",
   "metadata": {},
   "outputs": [],
   "source": [
    "def frequency_vector(seq):\n",
    "    vec = np.zeros(len(amino_acids))  \n",
    "    for aa in seq:\n",
    "        if aa in aa_to_index:\n",
    "            vec[aa_to_index[aa]] += 1  \n",
    "    return vec / len(seq) "
   ]
  },
  {
   "cell_type": "code",
   "execution_count": 62,
   "id": "5861e5b7-6565-41a7-ae16-219e8adb396f",
   "metadata": {},
   "outputs": [
    {
     "name": "stdout",
     "output_type": "stream",
     "text": [
      "Primer vektora: [[0.  0.  0.  0.  0.  0.4 0.  0.  0.  0.2 0.2 0.  0.  0.  0.  0.2 0.  0.\n",
      "  0.  0. ]\n",
      " [0.  0.  0.  0.  0.  0.4 0.  0.  0.  0.4 0.  0.  0.  0.  0.  0.2 0.  0.\n",
      "  0.  0. ]\n",
      " [0.  0.  0.  0.  0.  0.2 0.  0.  0.  0.6 0.  0.  0.  0.  0.  0.2 0.  0.\n",
      "  0.  0. ]\n",
      " [0.  0.  0.  0.  0.  0.  0.  0.  0.  0.6 0.  0.  0.  0.2 0.  0.2 0.  0.\n",
      "  0.  0. ]\n",
      " [0.  0.  0.  0.  0.  0.  0.  0.  0.  0.6 0.  0.  0.  0.2 0.  0.2 0.  0.\n",
      "  0.  0. ]]\n",
      "Primer oznaka: [0 0 0 0 0]\n"
     ]
    }
   ],
   "source": [
    "import numpy as np\n",
    "X_features = np.array([frequency_vector(seq) for seq in X_sekvence])\n",
    "y_binary = np.array([1 if oznake == \"uređena\" else 0 for oznake in y_oznake])\n",
    "\n",
    "print(\"Primer vektora:\", X_features[:5])\n",
    "print(\"Primer oznaka:\", y_binary[:5])"
   ]
  },
  {
   "cell_type": "code",
   "execution_count": 63,
   "id": "53e3c9f7-1332-4eaa-9ce1-7111a1fcb7e2",
   "metadata": {},
   "outputs": [
    {
     "name": "stdout",
     "output_type": "stream",
     "text": [
      "Test Accuracy: 0.9939\n"
     ]
    }
   ],
   "source": [
    "from sklearn.svm import SVC\n",
    "from sklearn.model_selection import train_test_split\n",
    "from sklearn.metrics import accuracy_score\n",
    "\n",
    "X_train, X_test, y_train, y_test = train_test_split(X_features, y_binary, test_size=0.3, random_state=42)\n",
    "\n",
    "svm_model = SVC(kernel=\"rbf\", C=1.0, gamma=\"scale\")\n",
    "svm_model.fit(X_train, y_train)\n",
    "\n",
    "y_pred = svm_model.predict(X_test)\n",
    "accuracy = accuracy_score(y_test, y_pred)\n",
    "\n",
    "print(f\"Test Accuracy: {accuracy:.4f}\")"
   ]
  },
  {
   "cell_type": "code",
   "execution_count": 52,
   "id": "8c920230-bcda-427e-9f43-6d38600135aa",
   "metadata": {},
   "outputs": [],
   "source": [
    "aminokiseline = ['A', 'C', 'D', 'E', 'F', 'G', 'H', 'I', 'K', 'L', 'M', 'N', 'P', 'Q', 'R', 'S', 'T', 'V', 'W', 'Y']\n",
    "nazivi_kolona = [f\"molska_frakcija_za_{aa}\" for aa in aminokiseline] + [\"Klasifikacija\"]\n",
    "\n",
    "\n",
    "trening_podaci = pd.DataFrame(X_train, columns=nazivi_kolona[:-1])\n",
    "trening_podaci[\"Klasifikacija\"] = y_train\n",
    "\n",
    "test_podaci = pd.DataFrame(X_test, columns=nazivi_kolona[:-1])\n",
    "test_podaci[\"Klasifikacija\"] = y_test\n",
    "\n",
    "svi_podaci = pd.concat([trening_podaci, test_podaci], ignore_index=True)\n",
    "\n",
    "trening_podaci.to_csv(\"Izlazni podaci ISUNSTRUCT/trening_podaci_YP_138520.1 ___nucleoprotein.csv\", index=False)\n",
    "test_podaci.to_csv(\"Izlazni podaci ISUNSTRUCT/test_podaci_YP_138520.1 ___nucleoprotein.csV\", index=False)\n",
    "svi_podaci.to_csv(\"Izlazni podaci ISUNSTRUCT/svi_podaci_YP_138520.1 ___nucleoprotein.csv\", index=False)\n",
    "\n",
    "df_sekvence = pd.DataFrame({\n",
    "    \"Duzina\": duzine,\n",
    "    \"Pozicija\": pozicije,\n",
    "    \"Sekvenca\": X_sekvence,\n",
    "    \"Oznaka\": y_oznake\n",
    "})\n",
    "\n",
    "df_sekvence.to_csv(\"Izlazni podaci ISUNSTRUCT/sekvence_oznake_YP_138520.1 ___nucleoprotein.csv\", index=False)"
   ]
  },
  {
   "cell_type": "code",
   "execution_count": 64,
   "id": "be767937-b491-4859-ac96-1fba57d6c0b2",
   "metadata": {},
   "outputs": [
    {
     "name": "stdout",
     "output_type": "stream",
     "text": [
      "Test Accuracy: 0.9968\n"
     ]
    }
   ],
   "source": [
    "from sklearn.neighbors import KNeighborsClassifier\n",
    "from sklearn.model_selection import train_test_split\n",
    "from sklearn.metrics import accuracy_score\n",
    "\n",
    "X_train, X_test, y_train, y_test = train_test_split(X_features, y_binary, test_size=0.3, random_state=42)\n",
    "\n",
    "knn_model = KNeighborsClassifier(n_neighbors=5)  \n",
    "knn_model.fit(X_train, y_train)\n",
    "\n",
    "y_pred = knn_model.predict(X_test)\n",
    "accuracy = accuracy_score(y_test, y_pred)\n",
    "\n",
    "print(f\"Test Accuracy: {accuracy:.4f}\")\n"
   ]
  },
  {
   "cell_type": "code",
   "execution_count": 54,
   "id": "ded68b48-7049-4356-9659-db487b222039",
   "metadata": {},
   "outputs": [],
   "source": [
    "aminokiseline = ['A', 'C', 'D', 'E', 'F', 'G', 'H', 'I', 'K', 'L', 'M', 'N', 'P', 'Q', 'R', 'S', 'T', 'V', 'W', 'Y']\n",
    "nazivi_kolona = [f\"molska_frakcija_za_{aa}\" for aa in aminokiseline] + [\"Klasifikacija\"]\n",
    "\n",
    "trening_podaci = pd.DataFrame(X_train, columns=nazivi_kolona[:-1])\n",
    "trening_podaci[\"Klasifikacija\"] = y_train\n",
    "\n",
    "test_podaci = pd.DataFrame(X_test, columns=nazivi_kolona[:-1])\n",
    "test_podaci[\"Klasifikacija\"] = y_test\n",
    "\n",
    "svi_podaci = pd.concat([trening_podaci, test_podaci], ignore_index=True)\n",
    "\n",
    "# Čuvanje u CSV fajlove\n",
    "trening_podaci.to_csv(\"Izlazni podaci ISUNSTRUCT KNN/trening_podaci_YP_138520.1 ___nucleoprotein.csv\", index=False)\n",
    "test_podaci.to_csv(\"Izlazni podaci ISUNSTRUCT KNN/test_podaci_YP_138520.1 ___nucleoprotein.csV\", index=False)\n",
    "svi_podaci.to_csv(\"Izlazni podaci ISUNSTRUCT KNN/svi_podaci_YP_138520.1 ___nucleoprotein.csv\", index=False)\n",
    "\n",
    "# Sačuvaj sekvence sa oznakama, dužinama i pozicijama\n",
    "df_sekvence = pd.DataFrame({\n",
    "    \"Duzina\": duzine,\n",
    "    \"Pozicija\": pozicije,\n",
    "    \"Sekvenca\": X_sekvence,\n",
    "    \"Oznaka\": y_oznake\n",
    "})\n",
    "\n",
    "df_sekvence.to_csv(\"Izlazni podaci ISUNSTRUCT KNN/sekvence_oznake_KNN_YP_138520.1 ___nucleoprotein.csv\", index=False)\n"
   ]
  },
  {
   "cell_type": "code",
   "execution_count": 65,
   "id": "8bcfe3ce-7c2e-4389-908d-dec78fc25232",
   "metadata": {},
   "outputs": [
    {
     "name": "stdout",
     "output_type": "stream",
     "text": [
      "Test Accuracy: 0.9843\n"
     ]
    }
   ],
   "source": [
    "from sklearn.tree import DecisionTreeClassifier\n",
    "from sklearn.model_selection import train_test_split\n",
    "from sklearn.metrics import accuracy_score\n",
    "\n",
    "X_train, X_test, y_train, y_test = train_test_split(X_features, y_binary, test_size=0.3, random_state=42)\n",
    "\n",
    "dt_model = DecisionTreeClassifier(\n",
    "    criterion='gini',  # Može biti 'entropy' ili 'gini' (default)\n",
    "    max_depth=8, \n",
    "    random_state=42\n",
    ")\n",
    "dt_model.fit(X_train, y_train)\n",
    "\n",
    "# Evaluacija\n",
    "y_pred = dt_model.predict(X_test)\n",
    "accuracy = accuracy_score(y_test, y_pred)\n",
    "\n",
    "print(f\"Test Accuracy: {accuracy:.4f}\")\n"
   ]
  },
  {
   "cell_type": "code",
   "execution_count": 56,
   "id": "834549a1-c34e-4175-bf58-fa88f5d46d50",
   "metadata": {},
   "outputs": [],
   "source": [
    "\n",
    "aminokiseline = ['A', 'C', 'D', 'E', 'F', 'G', 'H', 'I', 'K', 'L', 'M', 'N', 'P', 'Q', 'R', 'S', 'T', 'V', 'W', 'Y']\n",
    "nazivi_kolona = [f\"molska_frakcija_za_{aa}\" for aa in aminokiseline] + [\"Klasifikacija\"]\n",
    "\n",
    "trening_podaci = pd.DataFrame(X_train, columns=nazivi_kolona[:-1])\n",
    "trening_podaci[\"Klasifikacija\"] = y_train\n",
    "\n",
    "test_podaci = pd.DataFrame(X_test, columns=nazivi_kolona[:-1])\n",
    "test_podaci[\"Klasifikacija\"] = y_test\n",
    "\n",
    "\n",
    "svi_podaci = pd.concat([trening_podaci, test_podaci], ignore_index=True)\n",
    "\n",
    "# Čuvanje u CSV fajlove\n",
    "trening_podaci.to_csv(\"Izlazni podaci ISUNSTRUCT CART/trening_podaci_YP_138520.1 ___nucleoprotein.csv\", index=False)\n",
    "test_podaci.to_csv(\"Izlazni podaci ISUNSTRUCT CART/test_podaci_YP_138520.1 ___nucleoprotein.csV\", index=False)\n",
    "svi_podaci.to_csv(\"Izlazni podaci ISUNSTRUCT CART/svi_podaci_YP_138520.1 ___nucleoprotein.csv\", index=False)\n",
    "\n",
    "# Sačuvaj sekvence sa oznakama, dužinama i pozicijama\n",
    "df_sekvence = pd.DataFrame({\n",
    "    \"Duzina\": duzine,\n",
    "    \"Pozicija\": pozicije,\n",
    "    \"Sekvenca\": X_sekvence,\n",
    "    \"Oznaka\": y_oznake\n",
    "})\n",
    "\n",
    "df_sekvence.to_csv(\"Izlazni podaci ISUNSTRUCT CART/sekvence_oznake_CART_YP_138520.1 ___nucleoprotein.csv\", index=False)\n"
   ]
  },
  {
   "cell_type": "code",
   "execution_count": null,
   "id": "2a9371cc-5a5e-412c-8585-9dd7920708c0",
   "metadata": {},
   "outputs": [],
   "source": []
  },
  {
   "cell_type": "code",
   "execution_count": null,
   "id": "b97d2e1a-26ff-4078-90fd-5815736efc65",
   "metadata": {},
   "outputs": [],
   "source": []
  }
 ],
 "metadata": {
  "kernelspec": {
   "display_name": "Python 3 (ipykernel)",
   "language": "python",
   "name": "python3"
  },
  "language_info": {
   "codemirror_mode": {
    "name": "ipython",
    "version": 3
   },
   "file_extension": ".py",
   "mimetype": "text/x-python",
   "name": "python",
   "nbconvert_exporter": "python",
   "pygments_lexer": "ipython3",
   "version": "3.10.12"
  }
 },
 "nbformat": 4,
 "nbformat_minor": 5
}
