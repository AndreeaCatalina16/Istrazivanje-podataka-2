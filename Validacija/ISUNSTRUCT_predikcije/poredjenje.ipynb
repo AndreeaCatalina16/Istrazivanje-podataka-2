{
 "cells": [
  {
   "cell_type": "code",
   "execution_count": 7,
   "id": "b9312906-ef88-4466-bb1a-a80ed3e0114b",
   "metadata": {},
   "outputs": [
    {
     "name": "stdout",
     "output_type": "stream",
     "text": [
      "   Duzina Pozicija Sekvenca KNN Oznaka ISUNSTRUCT oznaka\n",
      "0       5      1-5    MDKRV  neuređena         neuređena\n",
      "1       5      2-6    DKRVR  neuređena         neuređena\n",
      "2       5      3-7    KRVRG  neuređena         neuređena\n",
      "3       5      4-8    RVRGS  neuređena         neuređena\n",
      "4       5      5-9    VRGSW  neuređena         neuređena\n"
     ]
    }
   ],
   "source": [
    "import pandas as pd\n",
    "\n",
    "# Učitajte CSV fajlove\n",
    "df_knn = pd.read_csv(\"/home/user/Desktop/Istrazivanje-podataka-2/Validacija/Izlazni podaci ISUNSTRUCT KNN/sekvence_oznake_KNN_YP_138520.1 ___nucleoprotein.csv\") \n",
    "df_isunstruct = pd.read_csv(\"Klasifikovane_sekvence_ISUNSTRUCT_YP_138520.1_nucleoprotein.csv\") \n",
    "\n",
    "# Pretvori listu sekvenci u SVM tabeli u stringove\n",
    "df_knn['Sekvenca'] = df_knn['Sekvenca'].apply(lambda x: ''.join(eval(x)) if isinstance(x, str) and x.startswith('[') else x)\n",
    "\n",
    "# Spoji tabele po koloni 'Sekvenca', bez duplikata za 'Duzina' i 'Pozicija'\n",
    "finalni_df = pd.merge(df_knn, df_isunstruct, on='Sekvenca', how='inner', suffixes=('', '_ISUNSTRUCT'))\n",
    "\n",
    "# Obriši duplikate kolona 'Duzina' i 'Pozicija' (ako su iste u obe tabele)\n",
    "finalni_df.drop(['Duzina_ISUNSTRUCT', 'Pozicija_ISUNSTRUCT'], axis=1, inplace=True)\n",
    "finalni_df.rename(columns={'Oznaka': 'KNN Oznaka'}, inplace=True)\n",
    "finalni_df.to_csv(\"ISUNSTRUCT_KNN_predikcije_YP_138520.1 ___nucleoprotein.csv\", index=False)\n",
    "\n",
    "# Prikaz rezultata\n",
    "print(finalni_df.head())\n"
   ]
  },
  {
   "cell_type": "code",
   "execution_count": null,
   "id": "b3c94cbf-4d4a-4c12-aa0e-9979b5f1bf0f",
   "metadata": {},
   "outputs": [],
   "source": []
  }
 ],
 "metadata": {
  "kernelspec": {
   "display_name": "Python 3 (ipykernel)",
   "language": "python",
   "name": "python3"
  },
  "language_info": {
   "codemirror_mode": {
    "name": "ipython",
    "version": 3
   },
   "file_extension": ".py",
   "mimetype": "text/x-python",
   "name": "python",
   "nbconvert_exporter": "python",
   "pygments_lexer": "ipython3",
   "version": "3.9.5"
  }
 },
 "nbformat": 4,
 "nbformat_minor": 5
}
