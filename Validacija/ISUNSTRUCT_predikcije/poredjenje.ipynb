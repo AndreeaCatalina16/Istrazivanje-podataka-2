{
 "cells": [
  {
   "cell_type": "code",
   "execution_count": 3,
   "id": "b9312906-ef88-4466-bb1a-a80ed3e0114b",
   "metadata": {},
   "outputs": [
    {
     "name": "stdout",
     "output_type": "stream",
     "text": [
      "   Duzina Pozicija Sekvenca CART Oznaka ISUNSTRUCT oznaka\n",
      "0       5      1-5    MGGLS   neuređena         neuređena\n",
      "1       5      2-6    GGLSL   neuređena         neuređena\n",
      "2       5      3-7    GLSLL   neuređena         neuređena\n",
      "3       5      4-8    LSLLQ   neuređena         neuređena\n",
      "4       5      5-9    SLLQL   neuređena         neuređena\n"
     ]
    }
   ],
   "source": [
    "import pandas as pd\n",
    "\n",
    "# Učitajte CSV fajlove\n",
    "df_svm = pd.read_csv(\"/home/user/Desktop/Istrazivanje-podataka-2/Validacija/Izlazni podaci ISUNSTRUCT CART/sekvence_oznake_CART_YP_138523.1.csv\")  # CSV sa predikcijama iz SVM modela\n",
    "df_isunstruct = pd.read_csv(\"Klasifikovane_sekvence_ISUNSTRUCT.csv\")  # CSV sa predikacijama iz IUPred3\n",
    "\n",
    "# Pretvori listu sekvenci u SVM tabeli u stringove\n",
    "df_svm['Sekvenca'] = df_svm['Sekvenca'].apply(lambda x: ''.join(eval(x)) if isinstance(x, str) and x.startswith('[') else x)\n",
    "\n",
    "# Spoji tabele po koloni 'Sekvenca', bez duplikata za 'Duzina' i 'Pozicija'\n",
    "finalni_df = pd.merge(df_svm, df_isunstruct, on='Sekvenca', how='inner', suffixes=('', '_ISUNSTRUCT'))\n",
    "\n",
    "# Obriši duplikate kolona 'Duzina' i 'Pozicija' (ako su iste u obe tabele)\n",
    "finalni_df.drop(['Duzina_ISUNSTRUCT', 'Pozicija_ISUNSTRUCT'], axis=1, inplace=True)\n",
    "finalni_df.rename(columns={'Oznaka': 'CART Oznaka'}, inplace=True)\n",
    "finalni_df.to_csv(\"ISUNSTRUCT_CART_predikcije_YP_138523.1.csv\", index=False)\n",
    "\n",
    "# Prikaz rezultata\n",
    "print(finalni_df.head())\n"
   ]
  },
  {
   "cell_type": "code",
   "execution_count": null,
   "id": "b3c94cbf-4d4a-4c12-aa0e-9979b5f1bf0f",
   "metadata": {},
   "outputs": [],
   "source": []
  }
 ],
 "metadata": {
  "kernelspec": {
   "display_name": "Python 3 (ipykernel)",
   "language": "python",
   "name": "python3"
  },
  "language_info": {
   "codemirror_mode": {
    "name": "ipython",
    "version": 3
   },
   "file_extension": ".py",
   "mimetype": "text/x-python",
   "name": "python",
   "nbconvert_exporter": "python",
   "pygments_lexer": "ipython3",
   "version": "3.9.5"
  }
 },
 "nbformat": 4,
 "nbformat_minor": 5
}
