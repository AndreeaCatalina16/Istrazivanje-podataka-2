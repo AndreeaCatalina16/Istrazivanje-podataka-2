{
 "cells": [
  {
   "cell_type": "code",
   "execution_count": 5,
   "id": "7b83d580-e276-4cfe-ba59-f521ebf9baf4",
   "metadata": {},
   "outputs": [
    {
     "name": "stdout",
     "output_type": "stream",
     "text": [
      "Izlazni CSV fajl je uspešno kreiran.csv'\n"
     ]
    }
   ],
   "source": [
    "import pandas as pd\n",
    "\n",
    "# Učitaj ulazni CSV fajl\n",
    "df = pd.read_csv(\"ISUNSTRUCT_CART_predikcije_YP_138523.1.csv\")\n",
    "\n",
    "# Broj svih instanci\n",
    "total = len(df)\n",
    "\n",
    "# Broj instanci po kategorijama\n",
    "counts = {\n",
    "    \"uređena uređena\": len(df[(df[\"ISUNSTRUCT oznaka\"] == \"uređena\") & (df[\"CART Oznaka\"] == \"uređena\")]),\n",
    "    \"uređena neuređena\": len(df[(df[\"ISUNSTRUCT oznaka\"] == \"uređena\") & (df[\"CART Oznaka\"] == \"neuređena\")]),\n",
    "    \"neuređena uređena\": len(df[(df[\"ISUNSTRUCT oznaka\"] == \"neuređena\") & (df[\"CART Oznaka\"] == \"uređena\")]),\n",
    "    \"neuređena neuređena\": len(df[(df[\"ISUNSTRUCT oznaka\"] == \"neuređena\") & (df[\"CART Oznaka\"] == \"neuređena\")])\n",
    "}\n",
    "\n",
    "# Izračunaj procente i zaokruži na 4 decimale\n",
    "procenti = {varijanta: round((broj / total) * 100, 4) for varijanta, broj in counts.items()}\n",
    "\n",
    "# Kreiraj izlazni DataFrame\n",
    "df_izlaz = pd.DataFrame({\n",
    "    \"Varijante\": list(procenti.keys()),\n",
    "    \"Procenat\": list(procenti.values())\n",
    "})\n",
    "\n",
    "# Snimi izlazni CSV fajl\n",
    "df_izlaz.to_csv(\"procenti_za_CART.csv\", index=False)\n",
    "\n",
    "print(\"Izlazni CSV fajl je uspešno kreiran.csv'\")\n"
   ]
  },
  {
   "cell_type": "code",
   "execution_count": null,
   "id": "1b0625ed-7949-45e6-a333-f7548fac9bf0",
   "metadata": {},
   "outputs": [],
   "source": []
  }
 ],
 "metadata": {
  "kernelspec": {
   "display_name": "Python 3 (ipykernel)",
   "language": "python",
   "name": "python3"
  },
  "language_info": {
   "codemirror_mode": {
    "name": "ipython",
    "version": 3
   },
   "file_extension": ".py",
   "mimetype": "text/x-python",
   "name": "python",
   "nbconvert_exporter": "python",
   "pygments_lexer": "ipython3",
   "version": "3.9.5"
  }
 },
 "nbformat": 4,
 "nbformat_minor": 5
}
