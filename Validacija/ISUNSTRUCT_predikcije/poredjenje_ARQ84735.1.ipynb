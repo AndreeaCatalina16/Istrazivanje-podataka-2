{
 "cells": [
  {
   "cell_type": "code",
   "execution_count": 2,
   "id": "e253f6f1-f3dd-403f-8cfd-3f02eb52824c",
   "metadata": {},
   "outputs": [
    {
     "name": "stdout",
     "output_type": "stream",
     "text": [
      "Procenat poklapanja između oznaka dobijenih modelom(koriscenjem SVM) i oznaka dobijenih alatom ISUNSTRUCT: 65.55%\n"
     ]
    }
   ],
   "source": [
    "import pandas as pd\n",
    "\n",
    "# Učitaj CSV fajl (prilagodi naziv fajla ako je potrebno)\n",
    "fajl_putanja = \"ISUNSTRUCT_SVM_predikcije_ARQ84735.1.csv\"\n",
    "df = pd.read_csv(fajl_putanja)\n",
    "\n",
    "# Proveri da li potrebne kolone postoje u fajlu\n",
    "if \"SVM Oznaka\" not in df.columns or \"ISUNSTRUCT oznaka\" not in df.columns:\n",
    "    raise ValueError(\"CSV fajl mora sadržati kolone 'SVM Oznaka' i 'ISUNSTRUCT oznaka'\")\n",
    "\n",
    "# Uporedi vrednosti i izračunaj procenat poklapanja\n",
    "df[\"Poklapanje\"] = df[\"SVM Oznaka\"] == df[\"ISUNSTRUCT oznaka\"]\n",
    "procenat_poklapanja = df[\"Poklapanje\"].mean() * 100\n",
    "\n",
    "# Prikaz rezultata\n",
    "print(f\"Procenat poklapanja između oznaka dobijenih modelom(koriscenjem SVM) i oznaka dobijenih alatom ISUNSTRUCT: {procenat_poklapanja:.2f}%\")"
   ]
  },
  {
   "cell_type": "code",
   "execution_count": null,
   "id": "c68bf9a6-a42b-4db7-a6be-fc706ec2d859",
   "metadata": {},
   "outputs": [],
   "source": []
  }
 ],
 "metadata": {
  "kernelspec": {
   "display_name": "Python 3 (ipykernel)",
   "language": "python",
   "name": "python3"
  },
  "language_info": {
   "codemirror_mode": {
    "name": "ipython",
    "version": 3
   },
   "file_extension": ".py",
   "mimetype": "text/x-python",
   "name": "python",
   "nbconvert_exporter": "python",
   "pygments_lexer": "ipython3",
   "version": "3.9.5"
  }
 },
 "nbformat": 4,
 "nbformat_minor": 5
}
