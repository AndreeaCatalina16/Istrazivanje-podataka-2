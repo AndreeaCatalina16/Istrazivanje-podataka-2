{
 "cells": [
  {
   "cell_type": "code",
   "execution_count": 1,
   "id": "fc5f8414-104a-424b-9a34-067345412804",
   "metadata": {},
   "outputs": [
    {
     "name": "stdout",
     "output_type": "stream",
     "text": [
      "Generisan je fajl: frakcijske_razlike_vsl2.csv\n"
     ]
    }
   ],
   "source": [
    "import pandas as pd\n",
    "\n",
    "def extract_fractional_differences(input_csv, output_csv):\n",
    "    # Učitavanje CSV fajla\n",
    "    df = pd.read_csv(input_csv)\n",
    "    \n",
    "    # Selektovanje kolona koje su frakcijske razlike\n",
    "    columns_to_keep = ['Naziv_proteina'] + [col for col in df.columns if 'frakcijska_razlika' in col]\n",
    "    \n",
    "    # Kreiranje novog DataFrame-a\n",
    "    df_filtered = df[columns_to_keep]\n",
    "    \n",
    "    # Čuvanje u novi CSV fajl\n",
    "    df_filtered.to_csv(output_csv, index=False)\n",
    "    print(f'Generisan je fajl: {output_csv}')\n",
    "\n",
    "# Pokretanje funkcije sa primerima fajlova\n",
    "extract_fractional_differences('molske_frakcije_i_razlike_za_sve_aminokiseline_spike_proteina_vsl2.csv', 'frakcijske_razlike_vsl2.csv')\n"
   ]
  },
  {
   "cell_type": "code",
   "execution_count": null,
   "id": "ba6b0b3a-a5ca-4e4b-97ee-824da3b6eee6",
   "metadata": {},
   "outputs": [],
   "source": []
  }
 ],
 "metadata": {
  "kernelspec": {
   "display_name": "Python 3 (ipykernel)",
   "language": "python",
   "name": "python3"
  },
  "language_info": {
   "codemirror_mode": {
    "name": "ipython",
    "version": 3
   },
   "file_extension": ".py",
   "mimetype": "text/x-python",
   "name": "python",
   "nbconvert_exporter": "python",
   "pygments_lexer": "ipython3",
   "version": "3.9.5"
  }
 },
 "nbformat": 4,
 "nbformat_minor": 5
}
