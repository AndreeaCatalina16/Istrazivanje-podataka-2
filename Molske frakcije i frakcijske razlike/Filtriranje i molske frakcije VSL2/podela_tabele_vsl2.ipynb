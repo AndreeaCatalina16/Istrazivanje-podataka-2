{
 "cells": [
  {
   "cell_type": "code",
   "execution_count": 3,
   "id": "dc4c912f-48a6-4058-ad1d-339985b96037",
   "metadata": {},
   "outputs": [
    {
     "name": "stdout",
     "output_type": "stream",
     "text": [
      "Operacija je uspešno završena.\n"
     ]
    }
   ],
   "source": [
    "import pandas as pd\n",
    "\n",
    "input_file = 'molske_frakcije_klasifikacija_nucleoproteina_vsl2.csv'\n",
    "df = pd.read_csv(input_file)\n",
    "\n",
    "# Filtriranje redova koji imaju specifične proteine\n",
    "df_filtered = df[df['Naziv_proteina'].isin(['YP_138520.1 |nucleoprotein'])]\n",
    "\n",
    "# Izbacivanje redova sa specifičnim proteinima iz originalnog DataFrame-a\n",
    "df_remaining = df[~df['Naziv_proteina'].isin(['YP_138520.1 |nucleoprotein'])]\n",
    "\n",
    "df_filtered.to_csv('validacioni_podaci_nucleoprotein_vsl2.csv', index=False)\n",
    "\n",
    "df_remaining.to_csv('ulazni_podaci_nucleoprotein_vsl2.csv', index=False)\n",
    "\n",
    "print(\"Operacija je uspešno završena.\")\n"
   ]
  },
  {
   "cell_type": "code",
   "execution_count": null,
   "id": "8a5fbd9a-a87b-4e95-bbdb-7eb414bb7ce4",
   "metadata": {},
   "outputs": [],
   "source": []
  }
 ],
 "metadata": {
  "kernelspec": {
   "display_name": "Python 3 (ipykernel)",
   "language": "python",
   "name": "python3"
  },
  "language_info": {
   "codemirror_mode": {
    "name": "ipython",
    "version": 3
   },
   "file_extension": ".py",
   "mimetype": "text/x-python",
   "name": "python",
   "nbconvert_exporter": "python",
   "pygments_lexer": "ipython3",
   "version": "3.10.12"
  }
 },
 "nbformat": 4,
 "nbformat_minor": 5
}
