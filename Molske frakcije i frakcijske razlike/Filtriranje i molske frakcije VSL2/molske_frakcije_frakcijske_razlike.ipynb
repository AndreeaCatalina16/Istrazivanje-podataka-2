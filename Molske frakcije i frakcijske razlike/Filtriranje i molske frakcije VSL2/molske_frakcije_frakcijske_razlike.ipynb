{
 "cells": [
  {
   "cell_type": "code",
   "execution_count": 1,
   "id": "0a0b494a-e415-4034-9a05-c04327a61237",
   "metadata": {},
   "outputs": [
    {
     "name": "stdout",
     "output_type": "stream",
     "text": [
      "Matrica sa molskim frakcijama i frakcijskim razlikama uspešno sačuvana.\n"
     ]
    }
   ],
   "source": [
    "import pandas as pd\n",
    "\n",
    "# Učitavanje\n",
    "df = pd.read_csv('proteini_spike_glykoprotein.csv')\n",
    "\n",
    "# Definisanje liste aminokiselina\n",
    "aminokiseline = ['A', 'C', 'D', 'E', 'F', 'G', 'H', 'I', 'K', 'L', 'M', 'N', 'P', 'Q', 'R', 'S', 'T', 'V', 'W', 'Y']\n",
    "\n",
    "# Inicijalizacija rezultujućeg DataFrame-a sa željenim kolonama\n",
    "kolone = ['Naziv_proteina'] + [\n",
    "    f'molska_frakcija_{acid}_uredjen' for acid in aminokiseline\n",
    "] + [\n",
    "    f'molska_frakcija_{acid}_neuredjen' for acid in aminokiseline\n",
    "] + [\n",
    "    f'frakcijska_razlika_{acid}' for acid in aminokiseline\n",
    "]\n",
    "df_result = pd.DataFrame(columns=kolone)\n",
    "\n",
    "# Grupišemo podatke po proteinu\n",
    "grouped = df.groupby('Naziv proteina')\n",
    "\n",
    "# Lista za čuvanje rezultata\n",
    "rezultati = []\n",
    "\n",
    "# Obrada svakog proteina\n",
    "for protein, group in grouped:\n",
    "    total_count = len(group)\n",
    "\n",
    "    # Odvajamo podatke na uređene i neuređene regione\n",
    "    uredjeni_region = group[group['Klasifikacija'] == 'uređena']\n",
    "    neuredjeni_region = group[group['Klasifikacija'] == 'neuređena']\n",
    "\n",
    "    total_uredjen = len(uredjeni_region)\n",
    "    total_neuredjen = len(neuredjeni_region)\n",
    "\n",
    "    result_row = {'Naziv_proteina': protein}\n",
    "\n",
    "    for acid in aminokiseline:\n",
    "        # Broj pojavljivanja aminokiseline u uređenim i neuređenim regionima\n",
    "        count_uredjen = len(uredjeni_region[uredjeni_region['Aminokiselina'] == acid])\n",
    "        count_neuredjen = len(neuredjeni_region[neuredjeni_region['Aminokiselina'] == acid])\n",
    "\n",
    "        # Molske frakcije - normalizujemo prema ukupnom broju u datoj grupi\n",
    "        mf_uredjen = count_uredjen / total_uredjen if total_uredjen > 0 else 0\n",
    "        mf_neuredjen = count_neuredjen / total_neuredjen if total_neuredjen > 0 else 0\n",
    "\n",
    "        # Frakcijska razlika\n",
    "        frakcijska_razlika = (mf_uredjen - mf_neuredjen) / mf_neuredjen if mf_neuredjen > 0 else 0\n",
    "\n",
    "        # Zaokruživanje na 4 decimale\n",
    "        result_row[f'molska_frakcija_{acid}_uredjen'] = round(mf_uredjen, 4)\n",
    "        result_row[f'molska_frakcija_{acid}_neuredjen'] = round(mf_neuredjen, 4)\n",
    "        result_row[f'frakcijska_razlika_{acid}'] = round(frakcijska_razlika, 4)\n",
    "\n",
    "    # Dodajemo red u listu rezultata\n",
    "    rezultati.append(result_row)\n",
    "\n",
    "# Kreiramo DataFrame iz rezultata\n",
    "df_result = pd.DataFrame(rezultati)\n",
    "\n",
    "# Čuvanje rezultata u CSV fajl\n",
    "df_result.to_csv('molske_frakcije_i_razlike_za_sve_aminokiseline_spike_proteina_vsl2.csv', index=False)\n",
    "\n",
    "print(\"Matrica sa molskim frakcijama i frakcijskim razlikama uspešno sačuvana.\")\n"
   ]
  },
  {
   "cell_type": "code",
   "execution_count": null,
   "id": "93069360-3a72-4aa8-81a2-a55dae6662d3",
   "metadata": {},
   "outputs": [],
   "source": []
  }
 ],
 "metadata": {
  "kernelspec": {
   "display_name": "Python 3 (ipykernel)",
   "language": "python",
   "name": "python3"
  },
  "language_info": {
   "codemirror_mode": {
    "name": "ipython",
    "version": 3
   },
   "file_extension": ".py",
   "mimetype": "text/x-python",
   "name": "python",
   "nbconvert_exporter": "python",
   "pygments_lexer": "ipython3",
   "version": "3.9.5"
  }
 },
 "nbformat": 4,
 "nbformat_minor": 5
}
