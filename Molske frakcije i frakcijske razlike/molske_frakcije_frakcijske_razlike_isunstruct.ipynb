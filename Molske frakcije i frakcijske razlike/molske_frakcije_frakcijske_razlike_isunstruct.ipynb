{
 "cells": [
  {
   "cell_type": "code",
   "execution_count": null,
   "id": "19f6601a-3cb0-497d-9def-aa64a4ce77a9",
   "metadata": {},
   "outputs": [],
   "source": [
    "import pandas as pd\n",
    "\n",
    "podaci_df = pd.read_csv('/home/pc/Desktop/Istrazivanje-podataka-2/Konzistentnost/spojeni_rezultati_cisti.csv')\n",
    "\n",
    "# Funkcija za izračunavanje molskih frakcija i frakcijske razlike\n",
    "def izracunaj_molske_frakcije_i_razlike(sekvenca_df):\n",
    "    ukupno_aminokiselina = len(sekvenca_df)  # Ukupan broj aminokiselina u sekvenci\n",
    "    \n",
    "    # Broj svake aminokiseline u sekvenci\n",
    "    broj_aminokiselina = sekvenca_df['Aminokiselina'].value_counts()\n",
    "\n",
    "    # Molske frakcije za svaku aminokiselinu\n",
    "    molska_frakcija = broj_aminokiselina / ukupno_aminokiselina\n",
    "    \n",
    "    # Broj uredjenih i neuredjenih tačaka za ISUNSTRUCT\n",
    "    broj_uredjenih_isunstruct = sekvenca_df['ISUNSTRUCT_Klasifikacija'].sum()\n",
    "    broj_neuredjenih_isunstruct = ukupno_aminokiselina - broj_uredjenih_isunstruct\n",
    "    \n",
    "    # Molska frakcija za uredjeni deo\n",
    "    molska_frakcija_isunstruct_uredjeni = broj_uredjenih_isunstruct / ukupno_aminokiselina\n",
    "    \n",
    "    # Molska frakcija za neuredjeni deo\n",
    "    molska_frakcija_isunstruct_neuredjeni = broj_neuredjenih_isunstruct / ukupno_aminokiselina\n",
    "    \n",
    "    # Frakcijska razlika prema novoj formuli bez uslova\n",
    "    frakcijska_razlika_isunstruct = (molska_frakcija_isunstruct_neuredjeni - molska_frakcija_isunstruct_uredjeni) / molska_frakcija_isunstruct_uredjeni\n",
    "    \n",
    "    # Procenat molske frakcije uredjenog dela\n",
    "    procenat_isunstruct = round(molska_frakcija_isunstruct_uredjeni * 100, 2)\n",
    "    \n",
    "    # Procenat molske frakcije neuredjenog dela\n",
    "    procenat_neuredjeni = round(molska_frakcija_isunstruct_neuredjeni * 100, 2)\n",
    "    \n",
    "    return molske_frakcije, molska_frakcija_isunstruct_uredjeni, molska_frakcija_isunstruct_neuredjeni, frakcijska_razlika_isunstruct, procenat_isunstruct, procenat_neuredjeni\n",
    "\n",
    "# Lista za skladištenje rezultata\n",
    "rezultati = []\n",
    "\n",
    "# Iteriramo kroz sve fajlove u 'Ime_fajla' koloni\n",
    "for naziv_fajla in podaci_df['Ime fajla'].unique():\n",
    "    # Filtriramo podatke za sekvencu iz trenutnog fajla\n",
    "    sekvenca_df = podaci_df[podaci_df['Ime fajla'] == naziv_fajla]\n",
    "    \n",
    "    # Izračunavamo molsku frakciju, procenat i frakcijsku razliku\n",
    "    molske_frakcije, molska_frakcija_uredjeni, molska_frakcija_neuredjeni, frakcijska_razlika, procenat_uredjeni, procenat_neuredjeni = izracunaj_molske_frakcije_i_razlike(sekvenca_df)\n",
    "    \n",
    "    # Dodajemo rezultate u listu\n",
    "    for aminokiselina, molska_frakcija in molske_frakcije.items():\n",
    "        rezultati.append({\n",
    "            'Ime_fajla': naziv_fajla,\n",
    "            'Aminokiselina': aminokiselina,\n",
    "            'Molska Frakcija': molska_frakcija,\n",
    "            'Procenat': f\"{round(molska_frakcija * 100, 2)}%\",  \n",
    "            'Frakcijska Razlika': round(frakcijska_razlika, 4),\n",
    "            'Molska Frakcija Uredjeni': molska_frakcija_uredjeni,\n",
    "            'Molska Frakcija Neuredjeni': molska_frakcija_neuredjeni,\n",
    "            'Procenat_uredjeni': f\"{procenat_uredjeni}%\", \n",
    "            'Procenat_neuredjeni': f\"{procenat_neuredjeni}%\" \n",
    "        })\n",
    "\n",
    "# Kreiramo DataFrame sa rezultatima\n",
    "rezultati_df = pd.DataFrame(rezultati)\n",
    "\n",
    "# Čuvanje novog CSV fajla sa rezultatima\n",
    "rezultati_df.to_csv('rezultati_molske_frakcije_i_frakcijske_razlike.csv', index=False)\n",
    "\n",
    "# Ispis rezultata\n",
    "print(rezultati_df.head())\n"
   ]
  },
  {
   "cell_type": "markdown",
   "id": "06e5d30f-be09-446c-91d6-9e3226adb8a8",
   "metadata": {},
   "source": [
    "Ako je frakcijska razlika negativna, to znači da je molska frakcija aminokiselina u uredjenom delu veća nego u neuredjenom delu sekvence. Ovo može ukazivati na to da su aminokiseline u uredjenim regionima (koji su obično stabilniji) koncentrisanije, dok u neuredjenim regionima (koji su fleksibilniji) aminokiseline mogu biti prisutne u manjoj koncentraciji. Takva situacija može biti indikacija jače strukturne stabilnosti uredjenih regija u odnosu na neuredjene.\n"
   ]
  },
  {
   "cell_type": "code",
   "execution_count": null,
   "id": "81947c8d-a933-4079-a9bb-da710da230bd",
   "metadata": {},
   "outputs": [],
   "source": []
  }
 ],
 "metadata": {
  "kernelspec": {
   "display_name": "Python 3 (ipykernel)",
   "language": "python",
   "name": "python3"
  },
  "language_info": {
   "codemirror_mode": {
    "name": "ipython",
    "version": 3
   },
   "file_extension": ".py",
   "mimetype": "text/x-python",
   "name": "python",
   "nbconvert_exporter": "python",
   "pygments_lexer": "ipython3",
   "version": "3.10.12"
  }
 },
 "nbformat": 4,
 "nbformat_minor": 5
}
