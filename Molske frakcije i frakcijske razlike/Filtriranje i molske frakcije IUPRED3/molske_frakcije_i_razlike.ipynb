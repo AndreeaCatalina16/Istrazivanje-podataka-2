{
 "cells": [
  {
   "cell_type": "code",
   "execution_count": 3,
   "id": "0ad70905-3877-4cb5-9a4f-18786abb3892",
   "metadata": {},
   "outputs": [
    {
     "name": "stdout",
     "output_type": "stream",
     "text": [
      "              Naziv proteina  Molska Frakcija Uredjeni  \\\n",
      "0  ABA87124.1 |nucleoprotein                   0.53957   \n",
      "1  ABE27012.1 |nucleoprotein                   0.55827   \n",
      "2  ABE27019.1 |nucleoprotein                   0.55827   \n",
      "3  ABE27026.1 |nucleoprotein                   0.55827   \n",
      "4  ABE27033.1 |nucleoprotein                   0.55827   \n",
      "\n",
      "   Molska Frakcija Neuredjeni Procenat uredjeni Procenat neuredjeni  \\\n",
      "0                     0.46043            53.96%              46.04%   \n",
      "1                     0.44173            55.83%              44.17%   \n",
      "2                     0.44173            55.83%              44.17%   \n",
      "3                     0.44173            55.83%              44.17%   \n",
      "4                     0.44173            55.83%              44.17%   \n",
      "\n",
      "   Frakcijska Razlika  \n",
      "0             -0.1467  \n",
      "1             -0.2088  \n",
      "2             -0.2088  \n",
      "3             -0.2088  \n",
      "4             -0.2088  \n"
     ]
    }
   ],
   "source": [
    "import pandas as pd\n",
    "\n",
    "# Učitaj podatke iz CSV fajla\n",
    "podaci_df = pd.read_csv('proteini_nucleoprotein.csv')\n",
    "\n",
    "# Funkcija za izračunavanje molskih frakcija i frakcijske razlike\n",
    "def izracunaj_molske_frakcije_i_razlike(sekvenca_df):\n",
    "    ukupno_aminokiselina = len(sekvenca_df)  # Ukupan broj aminokiselina u sekvenci\n",
    "    \n",
    "    # Broj uredjenih i neuredjenih tačaka na osnovu \"Klasifikacija\" kolone\n",
    "    broj_uredjenih = sekvenca_df[sekvenca_df['Klasifikacija'] == 'uređena'].shape[0]\n",
    "    broj_neuredjenih = ukupno_aminokiselina - broj_uredjenih\n",
    "    \n",
    "    # Molska frakcija za uredjeni deo\n",
    "    molska_frakcija_uredjeni = broj_uredjenih / ukupno_aminokiselina\n",
    "    \n",
    "    # Molska frakcija za neuredjeni deo\n",
    "    molska_frakcija_neuredjeni = broj_neuredjenih / ukupno_aminokiselina\n",
    "    \n",
    "    # Frakcijska razlika prema novoj formuli bez uslova\n",
    "    frakcijska_razlika = (molska_frakcija_neuredjeni - molska_frakcija_uredjeni) / molska_frakcija_uredjeni\n",
    "    \n",
    "    # Procenat molske frakcije uredjenog dela\n",
    "    procenat_uredjeni = round(molska_frakcija_uredjeni * 100, 2)\n",
    "    \n",
    "    # Procenat molske frakcije neuredjenog dela\n",
    "    procenat_neuredjeni = round(molska_frakcija_neuredjeni * 100, 2)\n",
    "    \n",
    "    return molska_frakcija_uredjeni, molska_frakcija_neuredjeni, frakcijska_razlika, procenat_uredjeni, procenat_neuredjeni\n",
    "\n",
    "# Lista za skladištenje rezultata\n",
    "rezultati = []\n",
    "\n",
    "# Iteriramo kroz sve proteine u 'Naziv proteina' koloni\n",
    "for naziv_proteina in podaci_df['Naziv proteina'].unique():\n",
    "    # Filtriramo podatke za sekvencu iz trenutnog proteina\n",
    "    sekvenca_df = podaci_df[podaci_df['Naziv proteina'] == naziv_proteina]\n",
    "    \n",
    "    # Izračunavamo molske frakcije i razlike za celokupnu sekvencu\n",
    "    molska_frakcija_uredjeni, molska_frakcija_neuredjeni, frakcijska_razlika, procenat_uredjeni, procenat_neuredjeni = izracunaj_molske_frakcije_i_razlike(sekvenca_df)\n",
    "    \n",
    "    # Dodajemo samo jednu vrednost za svaki protein\n",
    "    rezultati.append({\n",
    "        'Naziv proteina': naziv_proteina,\n",
    "        'Molska Frakcija Uredjeni': round(molska_frakcija_uredjeni, 5),\n",
    "        'Molska Frakcija Neuredjeni': round(molska_frakcija_neuredjeni, 5),\n",
    "        'Procenat uredjeni': f\"{procenat_uredjeni}%\",\n",
    "        'Procenat neuredjeni': f\"{procenat_neuredjeni}%\",\n",
    "        'Frakcijska Razlika': round(frakcijska_razlika, 4)\n",
    "    })\n",
    "\n",
    "# Kreiramo DataFrame sa rezultatima\n",
    "rezultati_df = pd.DataFrame(rezultati)\n",
    "\n",
    "# Čuvanje novog CSV fajla sa rezultatima\n",
    "rezultati_df.to_csv('Molske_frakcije_i_frakcijske_razlike_NUCLEOPROTEIN_PROTEINI.csv', index=False)\n",
    "\n",
    "# Ispis rezultata\n",
    "print(rezultati_df.head())\n"
   ]
  },
  {
   "cell_type": "code",
   "execution_count": null,
   "id": "8fd022bf-2088-4c22-9539-383106c366fc",
   "metadata": {},
   "outputs": [],
   "source": []
  }
 ],
 "metadata": {
  "kernelspec": {
   "display_name": "Python 3 (ipykernel)",
   "language": "python",
   "name": "python3"
  },
  "language_info": {
   "codemirror_mode": {
    "name": "ipython",
    "version": 3
   },
   "file_extension": ".py",
   "mimetype": "text/x-python",
   "name": "python",
   "nbconvert_exporter": "python",
   "pygments_lexer": "ipython3",
   "version": "3.10.12"
  }
 },
 "nbformat": 4,
 "nbformat_minor": 5
}
