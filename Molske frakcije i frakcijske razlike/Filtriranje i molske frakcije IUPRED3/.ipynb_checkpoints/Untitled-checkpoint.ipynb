{
 "cells": [
  {
   "cell_type": "code",
   "execution_count": 29,
   "id": "42aa76b9-a289-42eb-a321-9c19c8ccf004",
   "metadata": {},
   "outputs": [],
   "source": [
    "import pandas as pd"
   ]
  },
  {
   "cell_type": "code",
   "execution_count": 30,
   "id": "0e8d858b-93ed-4936-a12a-d8e42f92f40a",
   "metadata": {},
   "outputs": [],
   "source": [
    "df = pd.read_csv('proteini_spike_glykoprotein.csv')"
   ]
  },
  {
   "cell_type": "code",
   "execution_count": 31,
   "id": "7cf9d197-0bb1-4d6d-9176-8cec78235146",
   "metadata": {},
   "outputs": [],
   "source": [
    "aminokiseline = ['A', 'C', 'D', 'E', 'F', 'G', 'H', 'I', 'K', 'L', 'M', 'N', 'P', 'Q', 'R', 'S', 'T', 'V', 'W', 'Y']\n",
    "\n",
    "# Kreiranje praznog DataFrame-a\n",
    "df_result = pd.DataFrame(columns=[\n",
    "    f'molska_frakcija_{acid}_uredjen' for acid in aminokiseline\n",
    "] + [\n",
    "    f'molska_frakcija_{acid}_neuredjen' for acid in aminokiseline\n",
    "] + [\n",
    "    f'frakcijska_razlika_{acid}' for acid in aminokiseline\n",
    "])\n"
   ]
  },
  {
   "cell_type": "code",
   "execution_count": 32,
   "id": "1a26073c-0adb-44b9-b8c8-ce6d3147517e",
   "metadata": {},
   "outputs": [
    {
     "name": "stderr",
     "output_type": "stream",
     "text": [
      "/tmp/ipykernel_41129/1904182689.py:10: UserWarning: Boolean Series key will be reindexed to match DataFrame index.\n",
      "  count_uredjen = len(group[group['Aminokiselina'] == acid][group['IUPRED3 rezultat'] == 0])\n",
      "/tmp/ipykernel_41129/1904182689.py:11: UserWarning: Boolean Series key will be reindexed to match DataFrame index.\n",
      "  count_neuredjen = len(group[group['Aminokiselina'] == acid][group['IUPRED3 rezultat'] == 1])\n"
     ]
    },
    {
     "ename": "ZeroDivisionError",
     "evalue": "float division by zero",
     "output_type": "error",
     "traceback": [
      "\u001b[0;31m---------------------------------------------------------------------------\u001b[0m",
      "\u001b[0;31mZeroDivisionError\u001b[0m                         Traceback (most recent call last)",
      "Cell \u001b[0;32mIn[32], line 16\u001b[0m\n\u001b[1;32m     13\u001b[0m mf_uredjen \u001b[38;5;241m=\u001b[39m count_uredjen \u001b[38;5;241m/\u001b[39m total_count\n\u001b[1;32m     14\u001b[0m mf_neuredjen \u001b[38;5;241m=\u001b[39m count_neuredjen \u001b[38;5;241m/\u001b[39m total_count\n\u001b[0;32m---> 16\u001b[0m frakcijska_razlika \u001b[38;5;241m=\u001b[39m \u001b[43m(\u001b[49m\u001b[43mmf_uredjen\u001b[49m\u001b[43m \u001b[49m\u001b[38;5;241;43m-\u001b[39;49m\u001b[43m \u001b[49m\u001b[43mmf_neuredjen\u001b[49m\u001b[43m)\u001b[49m\u001b[43m \u001b[49m\u001b[38;5;241;43m/\u001b[39;49m\u001b[43m \u001b[49m\u001b[43mmf_neuredjen\u001b[49m\n\u001b[1;32m     18\u001b[0m df_result\u001b[38;5;241m.\u001b[39mat[protein, \u001b[38;5;124mf\u001b[39m\u001b[38;5;124m'\u001b[39m\u001b[38;5;124mmolska_frakcija_\u001b[39m\u001b[38;5;132;01m{\u001b[39;00macid\u001b[38;5;132;01m}\u001b[39;00m\u001b[38;5;124m_uredjen\u001b[39m\u001b[38;5;124m'\u001b[39m] \u001b[38;5;241m=\u001b[39m mf_uredjen\n\u001b[1;32m     19\u001b[0m df_result\u001b[38;5;241m.\u001b[39mat[protein, \u001b[38;5;124mf\u001b[39m\u001b[38;5;124m'\u001b[39m\u001b[38;5;124mmolska_frakcija_\u001b[39m\u001b[38;5;132;01m{\u001b[39;00macid\u001b[38;5;132;01m}\u001b[39;00m\u001b[38;5;124m_neuredjen\u001b[39m\u001b[38;5;124m'\u001b[39m] \u001b[38;5;241m=\u001b[39m mf_neuredjen\n",
      "\u001b[0;31mZeroDivisionError\u001b[0m: float division by zero"
     ]
    }
   ],
   "source": [
    "# Grupe podataka po proteinima\n",
    "grouped = df.groupby('Naziv proteina')\n",
    "\n",
    "for protein, group in grouped:\n",
    "    total_count = len(group)\n",
    "    if total_count == 0:\n",
    "        continue  # Preskačemo trenutni protein ako je broj elemenata u grupi 0\n",
    "\n",
    "    for acid in aminokiseline:\n",
    "        count_uredjen = len(group[group['Aminokiselina'] == acid][group['IUPRED3 rezultat'] == 0])\n",
    "        count_neuredjen = len(group[group['Aminokiselina'] == acid][group['IUPRED3 rezultat'] == 1])\n",
    "        \n",
    "        if count_uredjen == 0:\n",
    "            mf_uredjen = 0\n",
    "        else:\n",
    "            mf_uredjen = count_uredjen / total_count\n",
    "\n",
    "        if count_neuredjen == 0:\n",
    "            mf_neuredjen = 0\n",
    "        else:\n",
    "            mf_neuredjen = count_neuredjen / total_count\n",
    "\n",
    "        if mf_neuredjen == 0:\n",
    "            frakcijska_razlika = 0\n",
    "        else:\n",
    "            frakcijska_razlika = (mf_uredjen - mf_neuredjen) / mf_neuredjen\n",
    "\n",
    "        df_result.at[protein, f'molska_frakcija_{acid}_uredjen'] = mf_uredjen\n",
    "        df_result.at[protein, f'molska_frakcija_{acid}_neuredjen'] = mf_neuredjen\n",
    "        df_result.at[protein, f'frakcijska_razlika_{acid}'] = frakcijska_razlika\n",
    "\n",
    "# Spasi DataFrame kao novi CSV\n",
    "df_result.to_csv('molske_frakcije_razlike_proteini_spike.csv')\n"
   ]
  },
  {
   "cell_type": "code",
   "execution_count": null,
   "id": "51018b7b-979b-49d0-b0b9-c180f3297b45",
   "metadata": {},
   "outputs": [],
   "source": []
  }
 ],
 "metadata": {
  "kernelspec": {
   "display_name": "Python 3 (ipykernel)",
   "language": "python",
   "name": "python3"
  },
  "language_info": {
   "codemirror_mode": {
    "name": "ipython",
    "version": 3
   },
   "file_extension": ".py",
   "mimetype": "text/x-python",
   "name": "python",
   "nbconvert_exporter": "python",
   "pygments_lexer": "ipython3",
   "version": "3.9.5"
  }
 },
 "nbformat": 4,
 "nbformat_minor": 5
}
