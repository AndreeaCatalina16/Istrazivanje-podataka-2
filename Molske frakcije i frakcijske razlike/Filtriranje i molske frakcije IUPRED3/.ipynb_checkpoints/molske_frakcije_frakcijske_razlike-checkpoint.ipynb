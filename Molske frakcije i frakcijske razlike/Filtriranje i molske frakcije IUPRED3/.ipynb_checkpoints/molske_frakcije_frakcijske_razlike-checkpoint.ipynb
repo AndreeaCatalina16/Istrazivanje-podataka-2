{
 "cells": [
  {
   "cell_type": "code",
   "execution_count": 1,
   "id": "c3b82b23-b20b-4da3-b73b-7fdc5f1ae968",
   "metadata": {},
   "outputs": [
    {
     "name": "stdout",
     "output_type": "stream",
     "text": [
      "Matrica sa molskim frakcijama i frakcijskim razlikama uspešno sačuvana.\n"
     ]
    }
   ],
   "source": [
    "import pandas as pd\n",
    "\n",
    "# Ucitavanje\n",
    "df = pd.read_csv('proteini_matrix_membrane.csv')\n",
    "\n",
    "# Definisemo listu aminokiselina\n",
    "aminokiseline = ['A', 'C', 'D', 'E', 'F', 'G', 'H', 'I', 'K', 'L', 'M', 'N', 'P', 'Q', 'R', 'S', 'T', 'V', 'W', 'Y']\n",
    "\n",
    "# Inicijalizujemo prazan DataFrame za rezultat\n",
    "kolone = ['Naziv_proteina'] + [\n",
    "    f'molska_frakcija_{acid}_uredjen' for acid in aminokiseline\n",
    "] + [\n",
    "    f'molska_frakcija_{acid}_neuredjen' for acid in aminokiseline\n",
    "] + [\n",
    "    f'frakcijska_razlika_{acid}' for acid in aminokiseline\n",
    "]\n",
    "df_result = pd.DataFrame(columns=kolone)\n",
    "\n",
    "# Grupišemo podatke po proteinu\n",
    "grouped = df.groupby('Naziv proteina')\n",
    "\n",
    "# Lista za cuvanje rezultata\n",
    "rezultati = []\n",
    "\n",
    "# Obradjujemo svaki protein\n",
    "for protein, group in grouped:\n",
    "    total_count = len(group)\n",
    "    result_row = {'Naziv_proteina': protein}\n",
    "    \n",
    "    for acid in aminokiseline:\n",
    "        # Broj pojavljivanja aminokiseline u uređenim i neuređenim regionima\n",
    "        count_uredjen = len(group[(group['Aminokiselina'] == acid) & (group['Klasifikacija'] == 'uređena')])\n",
    "        count_neuredjen = len(group[(group['Aminokiselina'] == acid) & (group['Klasifikacija'] == 'neuređena')])\n",
    "        \n",
    "        # Molske frakcije\n",
    "        mf_uredjen = count_uredjen / total_count if total_count > 0 else 0\n",
    "        mf_neuredjen = count_neuredjen / total_count if total_count > 0 else 0\n",
    "        \n",
    "        # Frakcijska razlika\n",
    "        frakcijska_razlika = (mf_uredjen - mf_neuredjen) / mf_neuredjen if mf_neuredjen > 0 else 0\n",
    "\n",
    "        # Zaokruzivanje na 4 decimale\n",
    "        result_row[f'molska_frakcija_{acid}_uredjen'] = round(mf_uredjen, 4)\n",
    "        result_row[f'molska_frakcija_{acid}_neuredjen'] = round(mf_neuredjen, 4)\n",
    "        result_row[f'frakcijska_razlika_{acid}'] = round(frakcijska_razlika, 4)\n",
    "    \n",
    "    # Dodajemo red u listu rezultata\n",
    "    rezultati.append(result_row)\n",
    "\n",
    "# Kreiramo DataFrame iz rezultata\n",
    "df_result = pd.DataFrame(rezultati)\n",
    "\n",
    "# Spremanje rezultata u CSV fajl\n",
    "df_result.to_csv('molske_frakcije_i_razlike_za_sve_aminokiseline_matrix_proteina.csv', index=False)\n",
    "\n",
    "print(\"Matrica sa molskim frakcijama i frakcijskim razlikama uspešno sačuvana.\")\n"
   ]
  },
  {
   "cell_type": "code",
   "execution_count": null,
   "id": "0aebe9b0-7ebd-4d37-ad08-d1ebe74bb4c1",
   "metadata": {},
   "outputs": [],
   "source": []
  }
 ],
 "metadata": {
  "kernelspec": {
   "display_name": "Python 3 (ipykernel)",
   "language": "python",
   "name": "python3"
  },
  "language_info": {
   "codemirror_mode": {
    "name": "ipython",
    "version": 3
   },
   "file_extension": ".py",
   "mimetype": "text/x-python",
   "name": "python",
   "nbconvert_exporter": "python",
   "pygments_lexer": "ipython3",
   "version": "3.9.5"
  }
 },
 "nbformat": 4,
 "nbformat_minor": 5
}
