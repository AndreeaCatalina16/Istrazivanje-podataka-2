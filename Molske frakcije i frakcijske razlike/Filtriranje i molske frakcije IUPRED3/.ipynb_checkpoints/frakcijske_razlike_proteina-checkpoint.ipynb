{
 "cells": [
  {
   "cell_type": "code",
   "execution_count": null,
   "id": "7ea1c0d5-df5a-45d7-9483-3dcbbf8516a1",
   "metadata": {},
   "outputs": [],
   "source": [
    "import pandas as pd\n",
    "\n",
    "def extract_fractional_differences(input_csv, output_csv):\n",
    "    # Učitavanje CSV fajla\n",
    "    df = pd.read_csv(input_csv)\n",
    "    \n",
    "    # Selektovanje kolona koje su frakcijske razlike\n",
    "    columns_to_keep = ['Naziv_proteina'] + [col for col in df.columns if 'frakcijska_razlika' in col]\n",
    "    \n",
    "    # Kreiranje novog DataFrame-a\n",
    "    df_filtered = df[columns_to_keep]\n",
    "    \n",
    "    # Čuvanje u novi CSV fajl\n",
    "    df_filtered.to_csv(output_csv, index=False)\n",
    "    print(f'Generisan je fajl: {output_csv}')\n",
    "\n",
    "# Pokretanje funkcije sa primerima fajlova\n",
    "extract_fractional_differences('molske_frakcije_i_razlike_za_sve_aminokiseline_spike_proteina_.csv', 'frakcijske_razlike.csv')\n"
   ]
  }
 ],
 "metadata": {
  "kernelspec": {
   "display_name": "Python 3 (ipykernel)",
   "language": "python",
   "name": "python3"
  },
  "language_info": {
   "codemirror_mode": {
    "name": "ipython",
    "version": 3
   },
   "file_extension": ".py",
   "mimetype": "text/x-python",
   "name": "python",
   "nbconvert_exporter": "python",
   "pygments_lexer": "ipython3",
   "version": "3.9.5"
  }
 },
 "nbformat": 4,
 "nbformat_minor": 5
}
