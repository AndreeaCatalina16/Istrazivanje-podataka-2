{
 "cells": [
  {
   "cell_type": "code",
   "execution_count": 3,
   "id": "dead274f-3a47-422f-acc8-eec1fc523715",
   "metadata": {},
   "outputs": [
    {
     "name": "stdout",
     "output_type": "stream",
     "text": [
      "Operacija je uspešno završena.\n"
     ]
    }
   ],
   "source": [
    "import pandas as pd\n",
    "\n",
    "# Učitaj ulazni CSV fajl\n",
    "input_file = 'molske_frakcije_klasifikacija_nucleoproteina_iupred3.csv'\n",
    "df = pd.read_csv(input_file)\n",
    "\n",
    "# Filtriraj redove koji imaju specifične proteine\n",
    "df_filtered = df[df['Naziv_proteina'].isin(['YP_138520.1 |nucleoprotein'])]\n",
    "\n",
    "# Izbaci redove sa specifičnim proteinima iz originalnog DataFrame-a\n",
    "df_remaining = df[~df['Naziv_proteina'].isin(['YP_138520.1 |nucleoprotein'])]\n",
    "\n",
    "# Sačuvaj filtrirane redove u poseban CSV fajl\n",
    "df_filtered.to_csv('validacioni_podaci_nucleoprotein_iupred3.csv', index=False)\n",
    "\n",
    "# Sačuvaj preostale redove u novi CSV fajl\n",
    "df_remaining.to_csv('ulazni_podaci_nucleoproteini_iupred3.csv', index=False)\n",
    "\n",
    "print(\"Operacija je uspešno završena.\")\n"
   ]
  },
  {
   "cell_type": "code",
   "execution_count": null,
   "id": "04e7d34c-f148-4679-824f-efd0ca2624e1",
   "metadata": {},
   "outputs": [],
   "source": []
  }
 ],
 "metadata": {
  "kernelspec": {
   "display_name": "Python 3 (ipykernel)",
   "language": "python",
   "name": "python3"
  },
  "language_info": {
   "codemirror_mode": {
    "name": "ipython",
    "version": 3
   },
   "file_extension": ".py",
   "mimetype": "text/x-python",
   "name": "python",
   "nbconvert_exporter": "python",
   "pygments_lexer": "ipython3",
   "version": "3.9.5"
  }
 },
 "nbformat": 4,
 "nbformat_minor": 5
}
