{
 "cells": [
  {
   "cell_type": "code",
   "execution_count": null,
   "id": "2b9f43c1-6b2b-4f93-9873-99d1ba408c5a",
   "metadata": {},
   "outputs": [],
   "source": [
    "import pandas as pd\n",
    "\n",
    "def extract_fractional_differences(input_csv, output_csv):\n",
    "    # Učitavanje CSV fajla\n",
    "    df = pd.read_csv(input_csv)\n",
    "    \n",
    "    # Selektovanje kolona koje su frakcijske razlike\n",
    "    columns_to_keep = ['Naziv_proteina'] + [col for col in df.columns if 'frakcijska_razlika' in col]\n",
    "    \n",
    "    # Kreiranje novog DataFrame-a\n",
    "    df_filtered = df[columns_to_keep]\n",
    "    \n",
    "    # Čuvanje u novi CSV fajl\n",
    "    df_filtered.to_csv(output_csv, index=False)\n",
    "    print(f'Generisan je fajl: {output_csv}')\n",
    "\n",
    "# Pokretanje funkcije sa primerima fajlova\n",
    "extract_fractional_differences('molske_frakcije_i_razlike_za_sve_aminokiseline_spike_proteina_isunstruct.csv', 'frakcijske_razlike_isunstruct.csv')\n"
   ]
  }
 ],
 "metadata": {
  "kernelspec": {
   "display_name": "Python 3 (ipykernel)",
   "language": "python",
   "name": "python3"
  },
  "language_info": {
   "codemirror_mode": {
    "name": "ipython",
    "version": 3
   },
   "file_extension": ".py",
   "mimetype": "text/x-python",
   "name": "python",
   "nbconvert_exporter": "python",
   "pygments_lexer": "ipython3",
   "version": "3.9.5"
  }
 },
 "nbformat": 4,
 "nbformat_minor": 5
}
