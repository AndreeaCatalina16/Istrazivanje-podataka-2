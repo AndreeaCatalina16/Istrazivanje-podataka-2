{
 "cells": [
  {
   "cell_type": "code",
   "execution_count": 3,
   "id": "93cb4f57-75b5-4d03-a288-5cc06594ce48",
   "metadata": {},
   "outputs": [
    {
     "name": "stdout",
     "output_type": "stream",
     "text": [
      "                      Naziv proteina  Molska Frakcija Uredjeni  \\\n",
      "0       AJY53713.1 ___matrix protein                   0.84818   \n",
      "1  AKB09571.1 ___matrix protein VP40                   0.81518   \n",
      "2  AKI84282.1 ___matrix protein VP40                   0.81518   \n",
      "3  ALS54753.1 ___matrix protein VP40                   0.85149   \n",
      "4  QYC62007.1 ___matrix protein VP40                   0.81518   \n",
      "\n",
      "   Molska Frakcija Neuredjeni Procenat uredjeni Procenat neuredjeni  \\\n",
      "0                     0.15182            84.82%              15.18%   \n",
      "1                     0.18482            81.52%              18.48%   \n",
      "2                     0.18482            81.52%              18.48%   \n",
      "3                     0.14851            85.15%              14.85%   \n",
      "4                     0.18482            81.52%              18.48%   \n",
      "\n",
      "   Frakcijska Razlika  \n",
      "0             -0.8210  \n",
      "1             -0.7733  \n",
      "2             -0.7733  \n",
      "3             -0.8256  \n",
      "4             -0.7733  \n"
     ]
    }
   ],
   "source": [
    "import pandas as pd\n",
    "\n",
    "# Učitaj podatke iz CSV fajla\n",
    "podaci_df = pd.read_csv('proteini_matrix_membrane.csv')\n",
    "\n",
    "# Funkcija za izračunavanje molskih frakcija i frakcijske razlike\n",
    "def izracunaj_molske_frakcije_i_razlike(sekvenca_df):\n",
    "    ukupno_aminokiselina = len(sekvenca_df)  # Ukupan broj aminokiselina u sekvenci\n",
    "    \n",
    "    # Broj uredjenih i neuredjenih tačaka na osnovu \"Klasifikacija\" kolone\n",
    "    broj_uredjenih = sekvenca_df[sekvenca_df['Klasifikacija'] == 'uređena'].shape[0]\n",
    "    broj_neuredjenih = ukupno_aminokiselina - broj_uredjenih\n",
    "    \n",
    "    # Molska frakcija za uredjeni deo\n",
    "    molska_frakcija_uredjeni = broj_uredjenih / ukupno_aminokiselina\n",
    "    \n",
    "    # Molska frakcija za neuredjeni deo\n",
    "    molska_frakcija_neuredjeni = broj_neuredjenih / ukupno_aminokiselina\n",
    "    \n",
    "    # Frakcijska razlika prema novoj formuli bez uslova\n",
    "    frakcijska_razlika = (molska_frakcija_neuredjeni - molska_frakcija_uredjeni) / molska_frakcija_uredjeni\n",
    "    \n",
    "    # Procenat molske frakcije uredjenog dela\n",
    "    procenat_uredjeni = round(molska_frakcija_uredjeni * 100, 2)\n",
    "    \n",
    "    # Procenat molske frakcije neuredjenog dela\n",
    "    procenat_neuredjeni = round(molska_frakcija_neuredjeni * 100, 2)\n",
    "    \n",
    "    return molska_frakcija_uredjeni, molska_frakcija_neuredjeni, frakcijska_razlika, procenat_uredjeni, procenat_neuredjeni\n",
    "\n",
    "# Lista za skladištenje rezultata\n",
    "rezultati = []\n",
    "\n",
    "# Iteriramo kroz sve proteine u 'Naziv proteina' koloni\n",
    "for naziv_proteina in podaci_df['Naziv proteina'].unique():\n",
    "    # Filtriramo podatke za sekvencu iz trenutnog proteina\n",
    "    sekvenca_df = podaci_df[podaci_df['Naziv proteina'] == naziv_proteina]\n",
    "    \n",
    "    # Izračunavamo molske frakcije i razlike za celokupnu sekvencu\n",
    "    molska_frakcija_uredjeni, molska_frakcija_neuredjeni, frakcijska_razlika, procenat_uredjeni, procenat_neuredjeni = izracunaj_molske_frakcije_i_razlike(sekvenca_df)\n",
    "    \n",
    "    # Dodajemo samo jednu vrednost za svaki protein\n",
    "    rezultati.append({\n",
    "        'Naziv proteina': naziv_proteina,\n",
    "        'Molska Frakcija Uredjeni': round(molska_frakcija_uredjeni, 5),\n",
    "        'Molska Frakcija Neuredjeni': round(molska_frakcija_neuredjeni, 5),\n",
    "        'Procenat uredjeni': f\"{procenat_uredjeni}%\",\n",
    "        'Procenat neuredjeni': f\"{procenat_neuredjeni}%\",\n",
    "        'Frakcijska Razlika': round(frakcijska_razlika, 4)\n",
    "    })\n",
    "\n",
    "# Kreiramo DataFrame sa rezultatima\n",
    "rezultati_df = pd.DataFrame(rezultati)\n",
    "\n",
    "# Čuvanje novog CSV fajla sa rezultatima\n",
    "rezultati_df.to_csv('Molske_frakcije_i_frakcijske_razlike_MEMBRANSKI_PROTEINI.csv', index=False)\n",
    "\n",
    "# Ispis rezultata\n",
    "print(rezultati_df.head())\n"
   ]
  },
  {
   "cell_type": "code",
   "execution_count": null,
   "id": "827a8859-e197-47da-97d2-4fc87a5e62b5",
   "metadata": {},
   "outputs": [],
   "source": []
  }
 ],
 "metadata": {
  "kernelspec": {
   "display_name": "Python 3 (ipykernel)",
   "language": "python",
   "name": "python3"
  },
  "language_info": {
   "codemirror_mode": {
    "name": "ipython",
    "version": 3
   },
   "file_extension": ".py",
   "mimetype": "text/x-python",
   "name": "python",
   "nbconvert_exporter": "python",
   "pygments_lexer": "ipython3",
   "version": "3.10.12"
  }
 },
 "nbformat": 4,
 "nbformat_minor": 5
}
