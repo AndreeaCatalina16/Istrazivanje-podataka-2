{
 "cells": [
  {
   "cell_type": "code",
   "execution_count": null,
   "id": "ea3060b7-953d-4d75-8ef8-c57bb35a95ec",
   "metadata": {},
   "outputs": [],
   "source": [
    "import pandas as pd\n",
    "\n",
    "# Učitavanje CSV fajla\n",
    "df = pd.read_csv('molske_frakcije_i_razlike_za_sve_aminokiseline_spike_proteina_isunstruct.csv')\n",
    "\n",
    "# Definisanje liste aminokiselina\n",
    "aminokiseline = ['A', 'C', 'D', 'E', 'F', 'G', 'H', 'I', 'K', 'L', 'M', 'N', 'P', 'Q', 'R', 'S', 'T', 'V', 'W', 'Y']\n",
    "\n",
    "# Lista za čuvanje rezultata\n",
    "rezultati = []\n",
    "\n",
    "# Iteracija kroz redove u originalnom fajlu\n",
    "for index, row in df.iterrows():\n",
    "    protein_name = row['Naziv_proteina']\n",
    "\n",
    "    # Kreiranje reda za uređeni region\n",
    "    result_uredjen = {'Naziv_proteina': protein_name}\n",
    "    for acid in aminokiseline:\n",
    "        result_uredjen[f'molska_frakcija_za_{acid}'] = row[f'molska_frakcija_{acid}_uredjen']\n",
    "    result_uredjen['Klasifikacija'] = 'uređen'\n",
    "    rezultati.append(result_uredjen)\n",
    "\n",
    "    # Kreiranje reda za neuređeni region\n",
    "    result_neuredjen = {'Naziv_proteina': protein_name}\n",
    "    for acid in aminokiseline:\n",
    "        result_neuredjen[f'molska_frakcija_za_{acid}'] = row[f'molska_frakcija_{acid}_neuredjen']\n",
    "    result_neuredjen['Klasifikacija'] = 'neuređen'\n",
    "    rezultati.append(result_neuredjen)\n",
    "\n",
    "# Kreiranje DataFrame-a iz liste rezultata\n",
    "df_result = pd.DataFrame(rezultati)\n",
    "\n",
    "# Čuvanje rezultata u novi CSV fajl\n",
    "df_result.to_csv('molske_frakcije_klasifikacija_spike_proteina_isunstruct.csv', index=False)\n",
    "\n",
    "print(\"Tabela sa molskim frakcijama i klasifikacijom uspešno sačuvana.\")\n"
   ]
  }
 ],
 "metadata": {
  "kernelspec": {
   "display_name": "Python 3 (ipykernel)",
   "language": "python",
   "name": "python3"
  },
  "language_info": {
   "codemirror_mode": {
    "name": "ipython",
    "version": 3
   },
   "file_extension": ".py",
   "mimetype": "text/x-python",
   "name": "python",
   "nbconvert_exporter": "python",
   "pygments_lexer": "ipython3",
   "version": "3.9.5"
  }
 },
 "nbformat": 4,
 "nbformat_minor": 5
}
