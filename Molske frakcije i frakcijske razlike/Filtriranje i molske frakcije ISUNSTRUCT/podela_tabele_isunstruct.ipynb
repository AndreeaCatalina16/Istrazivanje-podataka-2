{
 "cells": [
  {
   "cell_type": "code",
   "execution_count": 3,
   "id": "410fcc70-48ca-4e08-bf8b-0cff8028c5aa",
   "metadata": {},
   "outputs": [
    {
     "name": "stdout",
     "output_type": "stream",
     "text": [
      "Operacija je uspešno završena.\n"
     ]
    }
   ],
   "source": [
    "import pandas as pd\n",
    "\n",
    "# Učitaj ulazni CSV fajl\n",
    "input_file = 'molske_frakcije_klasifikacija_nucleoproteina_isunstruct.csv'\n",
    "df = pd.read_csv(input_file)\n",
    "\n",
    "# Filtriraj redove koji imaju specifične proteine\n",
    "df_filtered = df[df['Naziv_proteina'].isin(['YP_138520.1 ___nucleoprotein'])]\n",
    "\n",
    "# Izbaci redove sa specifičnim proteinima iz originalnog DataFrame-a\n",
    "df_remaining = df[~df['Naziv_proteina'].isin(['YP_138520.1 ___nucleoprotein'])]\n",
    "\n",
    "# Sačuvaj filtrirane redove u poseban CSV fajl\n",
    "df_filtered.to_csv('validacioni_podaci_isunstruct_nucleoprotein.csv', index=False)\n",
    "\n",
    "# Sačuvaj preostale redove u novi CSV fajl\n",
    "df_remaining.to_csv('ulazni_podaci_isunstruct_nucleoprotein.csv', index=False)\n",
    "\n",
    "print(\"Operacija je uspešno završena.\")"
   ]
  },
  {
   "cell_type": "code",
   "execution_count": null,
   "id": "620fac7b-e781-4875-9529-fa41bb4e5113",
   "metadata": {},
   "outputs": [],
   "source": []
  }
 ],
 "metadata": {
  "kernelspec": {
   "display_name": "Python 3 (ipykernel)",
   "language": "python",
   "name": "python3"
  },
  "language_info": {
   "codemirror_mode": {
    "name": "ipython",
    "version": 3
   },
   "file_extension": ".py",
   "mimetype": "text/x-python",
   "name": "python",
   "nbconvert_exporter": "python",
   "pygments_lexer": "ipython3",
   "version": "3.9.5"
  }
 },
 "nbformat": 4,
 "nbformat_minor": 5
}
